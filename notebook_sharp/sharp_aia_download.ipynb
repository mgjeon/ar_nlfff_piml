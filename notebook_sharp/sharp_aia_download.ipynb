{
 "cells": [
  {
   "cell_type": "code",
   "execution_count": 1,
   "metadata": {},
   "outputs": [],
   "source": [
    "import datetime\n",
    "\n",
    "import drms\n",
    "import astropy.units as u\n",
    "from sunpy.net import Fido, attrs as a\n",
    "from sunpy.map import Map"
   ]
  },
  {
   "cell_type": "code",
   "execution_count": 2,
   "metadata": {},
   "outputs": [
    {
     "data": {
      "text/plain": [
       "datetime.datetime(2024, 3, 23, 18, 50)"
      ]
     },
     "execution_count": 2,
     "metadata": {},
     "output_type": "execute_result"
    }
   ],
   "source": [
    "start_time = datetime.datetime(2024, 3, 23, 18, 50, 0)\n",
    "start_time"
   ]
  },
  {
   "cell_type": "code",
   "execution_count": 3,
   "metadata": {},
   "outputs": [
    {
     "data": {
      "text/plain": [
       "datetime.timedelta(seconds=10)"
      ]
     },
     "execution_count": 3,
     "metadata": {},
     "output_type": "execute_result"
    }
   ],
   "source": [
    "dt = datetime.timedelta(seconds=10)\n",
    "dt"
   ]
  },
  {
   "cell_type": "code",
   "execution_count": 4,
   "metadata": {},
   "outputs": [],
   "source": [
    "c = drms.Client(email=\"mgjeon@khu.ac.kr\")"
   ]
  },
  {
   "cell_type": "code",
   "execution_count": 5,
   "metadata": {},
   "outputs": [
    {
     "data": {
      "text/html": [
       "<div>\n",
       "<style scoped>\n",
       "    .dataframe tbody tr th:only-of-type {\n",
       "        vertical-align: middle;\n",
       "    }\n",
       "\n",
       "    .dataframe tbody tr th {\n",
       "        vertical-align: top;\n",
       "    }\n",
       "\n",
       "    .dataframe thead th {\n",
       "        text-align: right;\n",
       "    }\n",
       "</style>\n",
       "<table border=\"1\" class=\"dataframe\">\n",
       "  <thead>\n",
       "    <tr style=\"text-align: right;\">\n",
       "      <th></th>\n",
       "      <th>NOAA_AR</th>\n",
       "      <th>HARPNUM</th>\n",
       "    </tr>\n",
       "  </thead>\n",
       "  <tbody>\n",
       "    <tr>\n",
       "      <th>0</th>\n",
       "      <td>13607</td>\n",
       "      <td>10952</td>\n",
       "    </tr>\n",
       "    <tr>\n",
       "      <th>1</th>\n",
       "      <td>0</td>\n",
       "      <td>10957</td>\n",
       "    </tr>\n",
       "    <tr>\n",
       "      <th>2</th>\n",
       "      <td>13611</td>\n",
       "      <td>10959</td>\n",
       "    </tr>\n",
       "    <tr>\n",
       "      <th>3</th>\n",
       "      <td>13614</td>\n",
       "      <td>10973</td>\n",
       "    </tr>\n",
       "    <tr>\n",
       "      <th>4</th>\n",
       "      <td>13608</td>\n",
       "      <td>10975</td>\n",
       "    </tr>\n",
       "    <tr>\n",
       "      <th>5</th>\n",
       "      <td>13615</td>\n",
       "      <td>10976</td>\n",
       "    </tr>\n",
       "    <tr>\n",
       "      <th>6</th>\n",
       "      <td>13617</td>\n",
       "      <td>10987</td>\n",
       "    </tr>\n",
       "    <tr>\n",
       "      <th>7</th>\n",
       "      <td>13619</td>\n",
       "      <td>10990</td>\n",
       "    </tr>\n",
       "    <tr>\n",
       "      <th>8</th>\n",
       "      <td>13621</td>\n",
       "      <td>10991</td>\n",
       "    </tr>\n",
       "    <tr>\n",
       "      <th>9</th>\n",
       "      <td>13620</td>\n",
       "      <td>10995</td>\n",
       "    </tr>\n",
       "    <tr>\n",
       "      <th>10</th>\n",
       "      <td>0</td>\n",
       "      <td>10997</td>\n",
       "    </tr>\n",
       "    <tr>\n",
       "      <th>11</th>\n",
       "      <td>0</td>\n",
       "      <td>10998</td>\n",
       "    </tr>\n",
       "    <tr>\n",
       "      <th>12</th>\n",
       "      <td>13622</td>\n",
       "      <td>10999</td>\n",
       "    </tr>\n",
       "    <tr>\n",
       "      <th>13</th>\n",
       "      <td>0</td>\n",
       "      <td>11002</td>\n",
       "    </tr>\n",
       "    <tr>\n",
       "      <th>14</th>\n",
       "      <td>0</td>\n",
       "      <td>11004</td>\n",
       "    </tr>\n",
       "  </tbody>\n",
       "</table>\n",
       "</div>"
      ],
      "text/plain": [
       "    NOAA_AR  HARPNUM\n",
       "0     13607    10952\n",
       "1         0    10957\n",
       "2     13611    10959\n",
       "3     13614    10973\n",
       "4     13608    10975\n",
       "5     13615    10976\n",
       "6     13617    10987\n",
       "7     13619    10990\n",
       "8     13621    10991\n",
       "9     13620    10995\n",
       "10        0    10997\n",
       "11        0    10998\n",
       "12    13622    10999\n",
       "13        0    11002\n",
       "14        0    11004"
      ]
     },
     "execution_count": 5,
     "metadata": {},
     "output_type": "execute_result"
    }
   ],
   "source": [
    "find_ar = c.query(\"hmi.Mharp_720s[][%sZ]\" % start_time,\n",
    "                   key = [\"NOAA_AR\", \"HARPNUM\"])\n",
    "find_ar"
   ]
  },
  {
   "cell_type": "code",
   "execution_count": 6,
   "metadata": {},
   "outputs": [],
   "source": [
    "hmi_results = Fido.search(\n",
    "    a.Time(start_time - dt, start_time + dt),\n",
    "    a.jsoc.Notify(\"mgjeon@khu.ac.kr\"),\n",
    "    a.jsoc.Series(\"hmi.sharp_cea_720s\"),\n",
    "    a.jsoc.PrimeKey('HARPNUM', '10976'),\n",
    "    a.jsoc.Segment(\"Bp\") & a.jsoc.Segment(\"Bt\") & a.jsoc.Segment(\"Br\"),\n",
    ")"
   ]
  },
  {
   "cell_type": "code",
   "execution_count": 7,
   "metadata": {},
   "outputs": [
    {
     "data": {
      "text/html": [
       "Results from 1 Provider:</br></br>1 Results from the JSOCClient:</br><div><i>JSOCResponse length=1</i>\n",
       "<table id=\"table140387857347440\" class=\"table-striped table-bordered table-condensed\">\n",
       "<thead><tr><th>T_REC</th><th>TELESCOP</th><th>INSTRUME</th><th>WAVELNTH</th><th>CAR_ROT</th></tr></thead>\n",
       "<thead><tr><th>str23</th><th>str7</th><th>str12</th><th>float64</th><th>int64</th></tr></thead>\n",
       "<tr><td>2024.03.23_18:48:00_TAI</td><td>SDO/HMI</td><td>HMI_COMBINED</td><td>6173.0</td><td>2282</td></tr>\n",
       "</table></div></br>"
      ],
      "text/plain": [
       "<sunpy.net.fido_factory.UnifiedResponse object at 0x7fae985e3f40>\n",
       "Results from 1 Provider:\n",
       "\n",
       "1 Results from the JSOCClient:\n",
       "Source: http://jsoc.stanford.edu\n",
       "\n",
       "         T_REC          TELESCOP   INSTRUME   WAVELNTH CAR_ROT\n",
       "----------------------- -------- ------------ -------- -------\n",
       "2024.03.23_18:48:00_TAI  SDO/HMI HMI_COMBINED   6173.0    2282\n"
      ]
     },
     "execution_count": 7,
     "metadata": {},
     "output_type": "execute_result"
    }
   ],
   "source": [
    "hmi_results"
   ]
  },
  {
   "cell_type": "code",
   "execution_count": 8,
   "metadata": {},
   "outputs": [],
   "source": [
    "harpnum = \"10976\""
   ]
  },
  {
   "cell_type": "code",
   "execution_count": 9,
   "metadata": {},
   "outputs": [
    {
     "name": "stdout",
     "output_type": "stream",
     "text": [
      "Export request pending. [id=JSOC_20240430_001502, status=2]\n",
      "Waiting for 0 seconds...\n",
      "3 URLs found for download. Full request totalling 4MB\n"
     ]
    },
    {
     "data": {
      "application/vnd.jupyter.widget-view+json": {
       "model_id": "27fce44052634fc9947fd02bfba99981",
       "version_major": 2,
       "version_minor": 0
      },
      "text/plain": [
       "Files Downloaded:   0%|          | 0/3 [00:00<?, ?file/s]"
      ]
     },
     "metadata": {},
     "output_type": "display_data"
    },
    {
     "data": {
      "application/vnd.jupyter.widget-view+json": {
       "model_id": "6f69f8723cc340c88a4277fd04e0a486",
       "version_major": 2,
       "version_minor": 0
      },
      "text/plain": [
       "hmi.sharp_cea_720s.10976.20240323_184800_TAI.Bp.fits:   0%|          | 0.00/1.49M [00:00<?, ?B/s]"
      ]
     },
     "metadata": {},
     "output_type": "display_data"
    },
    {
     "data": {
      "application/vnd.jupyter.widget-view+json": {
       "model_id": "39ddfeec70d345a8910b40005cfdbc1e",
       "version_major": 2,
       "version_minor": 0
      },
      "text/plain": [
       "hmi.sharp_cea_720s.10976.20240323_184800_TAI.Bt.fits:   0%|          | 0.00/1.49M [00:00<?, ?B/s]"
      ]
     },
     "metadata": {},
     "output_type": "display_data"
    },
    {
     "data": {
      "application/vnd.jupyter.widget-view+json": {
       "model_id": "092d140f30234d07baf014947e2fdb66",
       "version_major": 2,
       "version_minor": 0
      },
      "text/plain": [
       "hmi.sharp_cea_720s.10976.20240323_184800_TAI.Br.fits:   0%|          | 0.00/1.36M [00:00<?, ?B/s]"
      ]
     },
     "metadata": {},
     "output_type": "display_data"
    }
   ],
   "source": [
    "hmi_files = Fido.fetch(hmi_results, path= f\"download/{harpnum}/hmi/\" + \"{file}\", overwrite=False)"
   ]
  },
  {
   "cell_type": "code",
   "execution_count": 10,
   "metadata": {},
   "outputs": [],
   "source": [
    "wavelengths = [94, \n",
    "               131, \n",
    "               171, \n",
    "               193, \n",
    "               211, \n",
    "               304, \n",
    "               335]"
   ]
  },
  {
   "cell_type": "code",
   "execution_count": 11,
   "metadata": {},
   "outputs": [],
   "source": [
    "aia_results = {}\n",
    "\n",
    "for w in wavelengths:\n",
    "    aia_results[str(w)] = Fido.search(\n",
    "        a.Time(start_time - dt, start_time + dt),\n",
    "        a.jsoc.Notify(\"mgjeon@khu.ac.kr\"),\n",
    "        a.jsoc.Series(\"aia.lev1_euv_12s\"),\n",
    "        a.jsoc.Segment(\"image\"),\n",
    "        a.Wavelength(w*u.angstrom))"
   ]
  },
  {
   "cell_type": "code",
   "execution_count": 12,
   "metadata": {},
   "outputs": [
    {
     "name": "stdout",
     "output_type": "stream",
     "text": [
      "94 Results from 1 Provider:\n",
      "\n",
      "3 Results from the JSOCClient:\n",
      "Source: http://jsoc.stanford.edu\n",
      "\n",
      "       T_REC         TELESCOP INSTRUME WAVELNTH CAR_ROT\n",
      "-------------------- -------- -------- -------- -------\n",
      "2024-03-23T18:49:47Z  SDO/AIA    AIA_4       94    2282\n",
      "2024-03-23T18:49:59Z  SDO/AIA    AIA_4       94    2282\n",
      "2024-03-23T18:50:11Z  SDO/AIA    AIA_4       94    2282\n",
      "\n",
      "\n",
      "131 Results from 1 Provider:\n",
      "\n",
      "3 Results from the JSOCClient:\n",
      "Source: http://jsoc.stanford.edu\n",
      "\n",
      "       T_REC         TELESCOP INSTRUME WAVELNTH CAR_ROT\n",
      "-------------------- -------- -------- -------- -------\n",
      "2024-03-23T18:49:47Z  SDO/AIA    AIA_1      131    2282\n",
      "2024-03-23T18:49:59Z  SDO/AIA    AIA_1      131    2282\n",
      "2024-03-23T18:50:11Z  SDO/AIA    AIA_1      131    2282\n",
      "\n",
      "\n",
      "171 Results from 1 Provider:\n",
      "\n",
      "3 Results from the JSOCClient:\n",
      "Source: http://jsoc.stanford.edu\n",
      "\n",
      "       T_REC         TELESCOP INSTRUME WAVELNTH CAR_ROT\n",
      "-------------------- -------- -------- -------- -------\n",
      "2024-03-23T18:49:47Z  SDO/AIA    AIA_3      171    2282\n",
      "2024-03-23T18:49:59Z  SDO/AIA    AIA_3      171    2282\n",
      "2024-03-23T18:50:11Z  SDO/AIA    AIA_3      171    2282\n",
      "\n",
      "\n",
      "193 Results from 1 Provider:\n",
      "\n",
      "3 Results from the JSOCClient:\n",
      "Source: http://jsoc.stanford.edu\n",
      "\n",
      "       T_REC         TELESCOP INSTRUME WAVELNTH CAR_ROT\n",
      "-------------------- -------- -------- -------- -------\n",
      "2024-03-23T18:49:47Z  SDO/AIA    AIA_2      193    2282\n",
      "2024-03-23T18:49:59Z  SDO/AIA    AIA_2      193    2282\n",
      "2024-03-23T18:50:11Z  SDO/AIA    AIA_2      193    2282\n",
      "\n",
      "\n",
      "211 Results from 1 Provider:\n",
      "\n",
      "3 Results from the JSOCClient:\n",
      "Source: http://jsoc.stanford.edu\n",
      "\n",
      "       T_REC         TELESCOP INSTRUME WAVELNTH CAR_ROT\n",
      "-------------------- -------- -------- -------- -------\n",
      "2024-03-23T18:49:47Z  SDO/AIA    AIA_2      211    2282\n",
      "2024-03-23T18:49:59Z  SDO/AIA    AIA_2      211    2282\n",
      "2024-03-23T18:50:11Z  SDO/AIA    AIA_2      211    2282\n",
      "\n",
      "\n",
      "304 Results from 1 Provider:\n",
      "\n",
      "3 Results from the JSOCClient:\n",
      "Source: http://jsoc.stanford.edu\n",
      "\n",
      "       T_REC         TELESCOP INSTRUME WAVELNTH CAR_ROT\n",
      "-------------------- -------- -------- -------- -------\n",
      "2024-03-23T18:49:47Z  SDO/AIA    AIA_4      304    2282\n",
      "2024-03-23T18:49:59Z  SDO/AIA    AIA_4      304    2282\n",
      "2024-03-23T18:50:11Z  SDO/AIA    AIA_4      304    2282\n",
      "\n",
      "\n",
      "335 Results from 1 Provider:\n",
      "\n",
      "3 Results from the JSOCClient:\n",
      "Source: http://jsoc.stanford.edu\n",
      "\n",
      "       T_REC         TELESCOP INSTRUME WAVELNTH CAR_ROT\n",
      "-------------------- -------- -------- -------- -------\n",
      "2024-03-23T18:49:47Z  SDO/AIA    AIA_1      335    2282\n",
      "2024-03-23T18:49:59Z  SDO/AIA    AIA_1      335    2282\n",
      "2024-03-23T18:50:11Z  SDO/AIA    AIA_1      335    2282\n",
      "\n",
      "\n"
     ]
    }
   ],
   "source": [
    "for key, value in aia_results.items():\n",
    "    print(key, value)"
   ]
  },
  {
   "cell_type": "code",
   "execution_count": 13,
   "metadata": {},
   "outputs": [
    {
     "name": "stdout",
     "output_type": "stream",
     "text": [
      "Export request pending. [id=JSOC_20240430_001508, status=2]\n",
      "Waiting for 0 seconds...\n",
      "3 URLs found for download. Full request totalling 31MB\n"
     ]
    },
    {
     "data": {
      "application/vnd.jupyter.widget-view+json": {
       "model_id": "c6bc6a3e3f5247d685925099278860fa",
       "version_major": 2,
       "version_minor": 0
      },
      "text/plain": [
       "Files Downloaded:   0%|          | 0/3 [00:00<?, ?file/s]"
      ]
     },
     "metadata": {},
     "output_type": "display_data"
    },
    {
     "data": {
      "application/vnd.jupyter.widget-view+json": {
       "model_id": "6ca8fcf5296f469cb493dcae8cbb737e",
       "version_major": 2,
       "version_minor": 0
      },
      "text/plain": [
       "aia.lev1_euv_12s.2024-03-23T184949Z.94.image_lev1.fits:   0%|          | 0.00/11.0M [00:00<?, ?B/s]"
      ]
     },
     "metadata": {},
     "output_type": "display_data"
    },
    {
     "data": {
      "application/vnd.jupyter.widget-view+json": {
       "model_id": "4cd8d715b75a4d9aae51c0e6f284a118",
       "version_major": 2,
       "version_minor": 0
      },
      "text/plain": [
       "aia.lev1_euv_12s.2024-03-23T185001Z.94.image_lev1.fits:   0%|          | 0.00/11.0M [00:00<?, ?B/s]"
      ]
     },
     "metadata": {},
     "output_type": "display_data"
    },
    {
     "data": {
      "application/vnd.jupyter.widget-view+json": {
       "model_id": "f8caab6623e84df9b66da38aefdbb2e0",
       "version_major": 2,
       "version_minor": 0
      },
      "text/plain": [
       "aia.lev1_euv_12s.2024-03-23T185013Z.94.image_lev1.fits:   0%|          | 0.00/11.0M [00:00<?, ?B/s]"
      ]
     },
     "metadata": {},
     "output_type": "display_data"
    },
    {
     "name": "stdout",
     "output_type": "stream",
     "text": [
      "Export request pending. [id=JSOC_20240430_001511, status=2]\n",
      "Waiting for 0 seconds...\n",
      "3 URLs found for download. Full request totalling 25MB\n"
     ]
    },
    {
     "data": {
      "application/vnd.jupyter.widget-view+json": {
       "model_id": "a0a0d44f49314bb6921cfaf8f06173b7",
       "version_major": 2,
       "version_minor": 0
      },
      "text/plain": [
       "Files Downloaded:   0%|          | 0/3 [00:00<?, ?file/s]"
      ]
     },
     "metadata": {},
     "output_type": "display_data"
    },
    {
     "data": {
      "application/vnd.jupyter.widget-view+json": {
       "model_id": "49c6a255806d4e1a83cf0d0b424e07ee",
       "version_major": 2,
       "version_minor": 0
      },
      "text/plain": [
       "aia.lev1_euv_12s.2024-03-23T184956Z.131.image_lev1.fits:   0%|          | 0.00/8.57M [00:00<?, ?B/s]"
      ]
     },
     "metadata": {},
     "output_type": "display_data"
    },
    {
     "data": {
      "application/vnd.jupyter.widget-view+json": {
       "model_id": "ca6d14f7d35e4b0991e5b85fcce8c005",
       "version_major": 2,
       "version_minor": 0
      },
      "text/plain": [
       "aia.lev1_euv_12s.2024-03-23T185008Z.131.image_lev1.fits:   0%|          | 0.00/8.57M [00:00<?, ?B/s]"
      ]
     },
     "metadata": {},
     "output_type": "display_data"
    },
    {
     "data": {
      "application/vnd.jupyter.widget-view+json": {
       "model_id": "37cf487c283d49d4bb531ba210a04030",
       "version_major": 2,
       "version_minor": 0
      },
      "text/plain": [
       "aia.lev1_euv_12s.2024-03-23T185020Z.131.image_lev1.fits:   0%|          | 0.00/8.57M [00:00<?, ?B/s]"
      ]
     },
     "metadata": {},
     "output_type": "display_data"
    },
    {
     "name": "stdout",
     "output_type": "stream",
     "text": [
      "Export request pending. [id=JSOC_20240430_001514, status=2]\n",
      "Waiting for 0 seconds...\n"
     ]
    },
    {
     "name": "stderr",
     "output_type": "stream",
     "text": [
      "Exception ignored in: <function BaseEventLoop.__del__ at 0x7faf0a2df3a0>\n",
      "Traceback (most recent call last):\n",
      "  File \"/home/mgjeon/miniforge3/envs/rtmag/lib/python3.9/asyncio/base_events.py\", line 688, in __del__\n",
      "    self.close()\n",
      "  File \"/home/mgjeon/miniforge3/envs/rtmag/lib/python3.9/asyncio/unix_events.py\", line 61, in close\n",
      "    self.remove_signal_handler(sig)\n",
      "  File \"/home/mgjeon/miniforge3/envs/rtmag/lib/python3.9/asyncio/unix_events.py\", line 150, in remove_signal_handler\n",
      "    signal.signal(sig, handler)\n",
      "  File \"/home/mgjeon/miniforge3/envs/rtmag/lib/python3.9/signal.py\", line 56, in signal\n",
      "    handler = _signal.signal(_enum_to_int(signalnum), _enum_to_int(handler))\n",
      "ValueError: signal only works in main thread of the main interpreter\n",
      "Exception ignored in: <function BaseEventLoop.__del__ at 0x7faf0a2df3a0>\n",
      "Traceback (most recent call last):\n",
      "  File \"/home/mgjeon/miniforge3/envs/rtmag/lib/python3.9/asyncio/base_events.py\", line 688, in __del__\n",
      "    self.close()\n",
      "  File \"/home/mgjeon/miniforge3/envs/rtmag/lib/python3.9/asyncio/unix_events.py\", line 61, in close\n",
      "    self.remove_signal_handler(sig)\n",
      "  File \"/home/mgjeon/miniforge3/envs/rtmag/lib/python3.9/asyncio/unix_events.py\", line 150, in remove_signal_handler\n",
      "    signal.signal(sig, handler)\n",
      "  File \"/home/mgjeon/miniforge3/envs/rtmag/lib/python3.9/signal.py\", line 56, in signal\n",
      "    handler = _signal.signal(_enum_to_int(signalnum), _enum_to_int(handler))\n",
      "ValueError: signal only works in main thread of the main interpreter\n"
     ]
    },
    {
     "name": "stdout",
     "output_type": "stream",
     "text": [
      "3 URLs found for download. Full request totalling 35MB\n"
     ]
    },
    {
     "data": {
      "application/vnd.jupyter.widget-view+json": {
       "model_id": "6b54b85031fd4d779d57b603bc3a3dd9",
       "version_major": 2,
       "version_minor": 0
      },
      "text/plain": [
       "Files Downloaded:   0%|          | 0/3 [00:00<?, ?file/s]"
      ]
     },
     "metadata": {},
     "output_type": "display_data"
    },
    {
     "data": {
      "application/vnd.jupyter.widget-view+json": {
       "model_id": "aa0667024cd0497cab994a71fa4c00dc",
       "version_major": 2,
       "version_minor": 0
      },
      "text/plain": [
       "aia.lev1_euv_12s.2024-03-23T184958Z.171.image_lev1.fits:   0%|          | 0.00/12.2M [00:00<?, ?B/s]"
      ]
     },
     "metadata": {},
     "output_type": "display_data"
    },
    {
     "data": {
      "application/vnd.jupyter.widget-view+json": {
       "model_id": "c09486e37bcf4d89986e6ab8e423ca16",
       "version_major": 2,
       "version_minor": 0
      },
      "text/plain": [
       "aia.lev1_euv_12s.2024-03-23T185010Z.171.image_lev1.fits:   0%|          | 0.00/12.2M [00:00<?, ?B/s]"
      ]
     },
     "metadata": {},
     "output_type": "display_data"
    },
    {
     "data": {
      "application/vnd.jupyter.widget-view+json": {
       "model_id": "45b673caa4ab4e628fa9522c23bc0a24",
       "version_major": 2,
       "version_minor": 0
      },
      "text/plain": [
       "aia.lev1_euv_12s.2024-03-23T185022Z.171.image_lev1.fits:   0%|          | 0.00/12.2M [00:00<?, ?B/s]"
      ]
     },
     "metadata": {},
     "output_type": "display_data"
    },
    {
     "name": "stdout",
     "output_type": "stream",
     "text": [
      "Export request pending. [id=JSOC_20240430_001516, status=2]\n",
      "Waiting for 0 seconds...\n",
      "3 URLs found for download. Full request totalling 35MB\n"
     ]
    },
    {
     "data": {
      "application/vnd.jupyter.widget-view+json": {
       "model_id": "14146ee11bf5417d952fe1f23567aa31",
       "version_major": 2,
       "version_minor": 0
      },
      "text/plain": [
       "Files Downloaded:   0%|          | 0/3 [00:00<?, ?file/s]"
      ]
     },
     "metadata": {},
     "output_type": "display_data"
    },
    {
     "data": {
      "application/vnd.jupyter.widget-view+json": {
       "model_id": "2141f1c6412941fd8fb02960b8274ac6",
       "version_major": 2,
       "version_minor": 0
      },
      "text/plain": [
       "aia.lev1_euv_12s.2024-03-23T184954Z.193.image_lev1.fits:   0%|          | 0.00/12.3M [00:00<?, ?B/s]"
      ]
     },
     "metadata": {},
     "output_type": "display_data"
    },
    {
     "data": {
      "application/vnd.jupyter.widget-view+json": {
       "model_id": "fd0d5754e7e1473b88e058dddef28b12",
       "version_major": 2,
       "version_minor": 0
      },
      "text/plain": [
       "aia.lev1_euv_12s.2024-03-23T185006Z.193.image_lev1.fits:   0%|          | 0.00/12.3M [00:00<?, ?B/s]"
      ]
     },
     "metadata": {},
     "output_type": "display_data"
    },
    {
     "data": {
      "application/vnd.jupyter.widget-view+json": {
       "model_id": "9b2016468e3f47f787b9b53cc2335ad1",
       "version_major": 2,
       "version_minor": 0
      },
      "text/plain": [
       "aia.lev1_euv_12s.2024-03-23T185018Z.193.image_lev1.fits:   0%|          | 0.00/12.3M [00:00<?, ?B/s]"
      ]
     },
     "metadata": {},
     "output_type": "display_data"
    },
    {
     "name": "stdout",
     "output_type": "stream",
     "text": [
      "Export request pending. [id=JSOC_20240430_001519, status=2]\n",
      "Waiting for 0 seconds...\n",
      "3 URLs found for download. Full request totalling 32MB\n"
     ]
    },
    {
     "data": {
      "application/vnd.jupyter.widget-view+json": {
       "model_id": "71a674a9c79c440ea019ce7086f1e5f9",
       "version_major": 2,
       "version_minor": 0
      },
      "text/plain": [
       "Files Downloaded:   0%|          | 0/3 [00:00<?, ?file/s]"
      ]
     },
     "metadata": {},
     "output_type": "display_data"
    },
    {
     "data": {
      "application/vnd.jupyter.widget-view+json": {
       "model_id": "0e30a00478444b09bee2bdaa290d320d",
       "version_major": 2,
       "version_minor": 0
      },
      "text/plain": [
       "aia.lev1_euv_12s.2024-03-23T184947Z.211.image_lev1.fits:   0%|          | 0.00/11.1M [00:00<?, ?B/s]"
      ]
     },
     "metadata": {},
     "output_type": "display_data"
    },
    {
     "data": {
      "application/vnd.jupyter.widget-view+json": {
       "model_id": "c73ec827081245189b0d21a41dacff8f",
       "version_major": 2,
       "version_minor": 0
      },
      "text/plain": [
       "aia.lev1_euv_12s.2024-03-23T184959Z.211.image_lev1.fits:   0%|          | 0.00/11.1M [00:00<?, ?B/s]"
      ]
     },
     "metadata": {},
     "output_type": "display_data"
    },
    {
     "data": {
      "application/vnd.jupyter.widget-view+json": {
       "model_id": "73ad7216a0c341e3aacb5d51fa0d5797",
       "version_major": 2,
       "version_minor": 0
      },
      "text/plain": [
       "aia.lev1_euv_12s.2024-03-23T185011Z.211.image_lev1.fits:   0%|          | 0.00/11.1M [00:00<?, ?B/s]"
      ]
     },
     "metadata": {},
     "output_type": "display_data"
    },
    {
     "name": "stdout",
     "output_type": "stream",
     "text": [
      "Export request pending. [id=JSOC_20240430_001522, status=2]\n",
      "Waiting for 0 seconds...\n",
      "3 URLs found for download. Full request totalling 22MB\n"
     ]
    },
    {
     "data": {
      "application/vnd.jupyter.widget-view+json": {
       "model_id": "9dd5e328c3504540ab2539aa258f30bb",
       "version_major": 2,
       "version_minor": 0
      },
      "text/plain": [
       "Files Downloaded:   0%|          | 0/3 [00:00<?, ?file/s]"
      ]
     },
     "metadata": {},
     "output_type": "display_data"
    },
    {
     "data": {
      "application/vnd.jupyter.widget-view+json": {
       "model_id": "c2f5c6cac49241fa88532cd9f88f1da8",
       "version_major": 2,
       "version_minor": 0
      },
      "text/plain": [
       "aia.lev1_euv_12s.2024-03-23T184955Z.304.image_lev1.fits:   0%|          | 0.00/7.57M [00:00<?, ?B/s]"
      ]
     },
     "metadata": {},
     "output_type": "display_data"
    },
    {
     "data": {
      "application/vnd.jupyter.widget-view+json": {
       "model_id": "edc7f327b0f64f6b90cf7aca0e8c2578",
       "version_major": 2,
       "version_minor": 0
      },
      "text/plain": [
       "aia.lev1_euv_12s.2024-03-23T185007Z.304.image_lev1.fits:   0%|          | 0.00/7.57M [00:00<?, ?B/s]"
      ]
     },
     "metadata": {},
     "output_type": "display_data"
    },
    {
     "data": {
      "application/vnd.jupyter.widget-view+json": {
       "model_id": "12af135e195c477fb6bb99212c4c1527",
       "version_major": 2,
       "version_minor": 0
      },
      "text/plain": [
       "aia.lev1_euv_12s.2024-03-23T185019Z.304.image_lev1.fits:   0%|          | 0.00/7.57M [00:00<?, ?B/s]"
      ]
     },
     "metadata": {},
     "output_type": "display_data"
    },
    {
     "name": "stdout",
     "output_type": "stream",
     "text": [
      "Export request pending. [id=JSOC_20240430_001525, status=2]\n",
      "Waiting for 0 seconds...\n",
      "3 URLs found for download. Full request totalling 21MB\n"
     ]
    },
    {
     "data": {
      "application/vnd.jupyter.widget-view+json": {
       "model_id": "935b596d69d145ca9961c38f20a3b1fc",
       "version_major": 2,
       "version_minor": 0
      },
      "text/plain": [
       "Files Downloaded:   0%|          | 0/3 [00:00<?, ?file/s]"
      ]
     },
     "metadata": {},
     "output_type": "display_data"
    },
    {
     "data": {
      "application/vnd.jupyter.widget-view+json": {
       "model_id": "eaf3ff310c4a4da2a282ae42328708df",
       "version_major": 2,
       "version_minor": 0
      },
      "text/plain": [
       "aia.lev1_euv_12s.2024-03-23T184950Z.335.image_lev1.fits:   0%|          | 0.00/7.35M [00:00<?, ?B/s]"
      ]
     },
     "metadata": {},
     "output_type": "display_data"
    },
    {
     "data": {
      "application/vnd.jupyter.widget-view+json": {
       "model_id": "906c2ce99e6240e2976ebce08d38ad27",
       "version_major": 2,
       "version_minor": 0
      },
      "text/plain": [
       "aia.lev1_euv_12s.2024-03-23T185002Z.335.image_lev1.fits:   0%|          | 0.00/7.35M [00:00<?, ?B/s]"
      ]
     },
     "metadata": {},
     "output_type": "display_data"
    },
    {
     "data": {
      "application/vnd.jupyter.widget-view+json": {
       "model_id": "ffcb2e51e88e48a89d50ac28a7871ad3",
       "version_major": 2,
       "version_minor": 0
      },
      "text/plain": [
       "aia.lev1_euv_12s.2024-03-23T185014Z.335.image_lev1.fits:   0%|          | 0.00/7.35M [00:00<?, ?B/s]"
      ]
     },
     "metadata": {},
     "output_type": "display_data"
    }
   ],
   "source": [
    "for wavelnth, result in aia_results.items():\n",
    "    Fido.fetch(result, path=f\"download/{harpnum}/aia/{wavelnth}/\" + \"{file}\", overwrite=False)"
   ]
  },
  {
   "cell_type": "code",
   "execution_count": null,
   "metadata": {},
   "outputs": [],
   "source": []
  }
 ],
 "metadata": {
  "kernelspec": {
   "display_name": "Python 3",
   "language": "python",
   "name": "python3"
  },
  "language_info": {
   "codemirror_mode": {
    "name": "ipython",
    "version": 3
   },
   "file_extension": ".py",
   "mimetype": "text/x-python",
   "name": "python",
   "nbconvert_exporter": "python",
   "pygments_lexer": "ipython3",
   "version": "3.9.18"
  }
 },
 "nbformat": 4,
 "nbformat_minor": 2
}
