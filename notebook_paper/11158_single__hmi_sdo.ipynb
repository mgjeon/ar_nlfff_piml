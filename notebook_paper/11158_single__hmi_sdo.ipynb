{
 "cells": [
  {
   "cell_type": "code",
   "execution_count": 1,
   "metadata": {},
   "outputs": [],
   "source": [
    "import datetime\n",
    "\n",
    "import drms\n",
    "import astropy.units as u\n",
    "from sunpy.net import Fido, attrs as a\n",
    "from sunpy.map import Map"
   ]
  },
  {
   "cell_type": "code",
   "execution_count": 2,
   "metadata": {},
   "outputs": [
    {
     "data": {
      "text/plain": [
       "datetime.datetime(2011, 2, 14, 0, 0)"
      ]
     },
     "execution_count": 2,
     "metadata": {},
     "output_type": "execute_result"
    }
   ],
   "source": [
    "start_time = datetime.datetime(2011, 2, 14, 0, 0, 0)\n",
    "start_time"
   ]
  },
  {
   "cell_type": "code",
   "execution_count": 3,
   "metadata": {},
   "outputs": [
    {
     "data": {
      "text/plain": [
       "datetime.timedelta(seconds=10)"
      ]
     },
     "execution_count": 3,
     "metadata": {},
     "output_type": "execute_result"
    }
   ],
   "source": [
    "dt = datetime.timedelta(seconds=10)\n",
    "dt"
   ]
  },
  {
   "cell_type": "code",
   "execution_count": 6,
   "metadata": {},
   "outputs": [],
   "source": [
    "c = drms.Client(email=\"mgjeon@khu.ac.kr\")"
   ]
  },
  {
   "cell_type": "markdown",
   "metadata": {},
   "source": [
    "# SHARP"
   ]
  },
  {
   "cell_type": "code",
   "execution_count": 5,
   "metadata": {},
   "outputs": [
    {
     "data": {
      "text/html": [
       "<div>\n",
       "<style scoped>\n",
       "    .dataframe tbody tr th:only-of-type {\n",
       "        vertical-align: middle;\n",
       "    }\n",
       "\n",
       "    .dataframe tbody tr th {\n",
       "        vertical-align: top;\n",
       "    }\n",
       "\n",
       "    .dataframe thead th {\n",
       "        text-align: right;\n",
       "    }\n",
       "</style>\n",
       "<table border=\"1\" class=\"dataframe\">\n",
       "  <thead>\n",
       "    <tr style=\"text-align: right;\">\n",
       "      <th></th>\n",
       "      <th>type</th>\n",
       "      <th>units</th>\n",
       "      <th>protocol</th>\n",
       "      <th>dims</th>\n",
       "      <th>note</th>\n",
       "    </tr>\n",
       "    <tr>\n",
       "      <th>name</th>\n",
       "      <th></th>\n",
       "      <th></th>\n",
       "      <th></th>\n",
       "      <th></th>\n",
       "      <th></th>\n",
       "    </tr>\n",
       "  </thead>\n",
       "  <tbody>\n",
       "    <tr>\n",
       "      <th>magnetogram</th>\n",
       "      <td>int</td>\n",
       "      <td>Gauss</td>\n",
       "      <td>fits</td>\n",
       "      <td>VARxVAR</td>\n",
       "      <td>Line-of-sight magnetogram in CEA projection</td>\n",
       "    </tr>\n",
       "    <tr>\n",
       "      <th>bitmap</th>\n",
       "      <td>char</td>\n",
       "      <td>Enumerated</td>\n",
       "      <td>fits</td>\n",
       "      <td>VARxVAR</td>\n",
       "      <td>Mask for the patch in CEA coordinates</td>\n",
       "    </tr>\n",
       "    <tr>\n",
       "      <th>Dopplergram</th>\n",
       "      <td>int</td>\n",
       "      <td>m/s</td>\n",
       "      <td>fits</td>\n",
       "      <td>VARxVAR</td>\n",
       "      <td>Dopplergram in CEA projection</td>\n",
       "    </tr>\n",
       "    <tr>\n",
       "      <th>continuum</th>\n",
       "      <td>int</td>\n",
       "      <td>DN/s</td>\n",
       "      <td>fits</td>\n",
       "      <td>VARxVAR</td>\n",
       "      <td>Intensitygram in CEA projection</td>\n",
       "    </tr>\n",
       "    <tr>\n",
       "      <th>Bp</th>\n",
       "      <td>int</td>\n",
       "      <td>Gauss</td>\n",
       "      <td>fits</td>\n",
       "      <td>VARxVAR</td>\n",
       "      <td>B_phi, positive westward</td>\n",
       "    </tr>\n",
       "    <tr>\n",
       "      <th>Bt</th>\n",
       "      <td>int</td>\n",
       "      <td>Gauss</td>\n",
       "      <td>fits</td>\n",
       "      <td>VARxVAR</td>\n",
       "      <td>B_theta, positive southward</td>\n",
       "    </tr>\n",
       "    <tr>\n",
       "      <th>Br</th>\n",
       "      <td>int</td>\n",
       "      <td>Gauss</td>\n",
       "      <td>fits</td>\n",
       "      <td>VARxVAR</td>\n",
       "      <td>B_r, positive up</td>\n",
       "    </tr>\n",
       "    <tr>\n",
       "      <th>Bp_err</th>\n",
       "      <td>int</td>\n",
       "      <td>Gauss</td>\n",
       "      <td>fits</td>\n",
       "      <td>VARxVAR</td>\n",
       "      <td>Standard deviation of B_phi</td>\n",
       "    </tr>\n",
       "    <tr>\n",
       "      <th>Bt_err</th>\n",
       "      <td>int</td>\n",
       "      <td>Gauss</td>\n",
       "      <td>fits</td>\n",
       "      <td>VARxVAR</td>\n",
       "      <td>Standard deviation of B_theta</td>\n",
       "    </tr>\n",
       "    <tr>\n",
       "      <th>Br_err</th>\n",
       "      <td>int</td>\n",
       "      <td>Gauss</td>\n",
       "      <td>fits</td>\n",
       "      <td>VARxVAR</td>\n",
       "      <td>Standard deviation of B_r</td>\n",
       "    </tr>\n",
       "    <tr>\n",
       "      <th>conf_disambig</th>\n",
       "      <td>char</td>\n",
       "      <td>none</td>\n",
       "      <td>fits</td>\n",
       "      <td>VARxVAR</td>\n",
       "      <td>confidence of disambiguation result</td>\n",
       "    </tr>\n",
       "  </tbody>\n",
       "</table>\n",
       "</div>"
      ],
      "text/plain": [
       "               type       units protocol     dims  \\\n",
       "name                                                \n",
       "magnetogram     int       Gauss     fits  VARxVAR   \n",
       "bitmap         char  Enumerated     fits  VARxVAR   \n",
       "Dopplergram     int         m/s     fits  VARxVAR   \n",
       "continuum       int        DN/s     fits  VARxVAR   \n",
       "Bp              int       Gauss     fits  VARxVAR   \n",
       "Bt              int       Gauss     fits  VARxVAR   \n",
       "Br              int       Gauss     fits  VARxVAR   \n",
       "Bp_err          int       Gauss     fits  VARxVAR   \n",
       "Bt_err          int       Gauss     fits  VARxVAR   \n",
       "Br_err          int       Gauss     fits  VARxVAR   \n",
       "conf_disambig  char        none     fits  VARxVAR   \n",
       "\n",
       "                                                      note  \n",
       "name                                                        \n",
       "magnetogram    Line-of-sight magnetogram in CEA projection  \n",
       "bitmap               Mask for the patch in CEA coordinates  \n",
       "Dopplergram                  Dopplergram in CEA projection  \n",
       "continuum                  Intensitygram in CEA projection  \n",
       "Bp                                B_phi, positive westward  \n",
       "Bt                             B_theta, positive southward  \n",
       "Br                                        B_r, positive up  \n",
       "Bp_err                         Standard deviation of B_phi  \n",
       "Bt_err                       Standard deviation of B_theta  \n",
       "Br_err                           Standard deviation of B_r  \n",
       "conf_disambig          confidence of disambiguation result  "
      ]
     },
     "execution_count": 5,
     "metadata": {},
     "output_type": "execute_result"
    }
   ],
   "source": [
    "c.info(\"hmi.sharp_cea_720s\").segments"
   ]
  },
  {
   "cell_type": "code",
   "execution_count": 6,
   "metadata": {},
   "outputs": [
    {
     "data": {
      "text/plain": [
       "['HARPNUM', 'T_REC']"
      ]
     },
     "execution_count": 6,
     "metadata": {},
     "output_type": "execute_result"
    }
   ],
   "source": [
    "c.pkeys(\"hmi.sharp_cea_720s\")"
   ]
  },
  {
   "cell_type": "code",
   "execution_count": 7,
   "metadata": {},
   "outputs": [
    {
     "data": {
      "text/html": [
       "<div>\n",
       "<style scoped>\n",
       "    .dataframe tbody tr th:only-of-type {\n",
       "        vertical-align: middle;\n",
       "    }\n",
       "\n",
       "    .dataframe tbody tr th {\n",
       "        vertical-align: top;\n",
       "    }\n",
       "\n",
       "    .dataframe thead th {\n",
       "        text-align: right;\n",
       "    }\n",
       "</style>\n",
       "<table border=\"1\" class=\"dataframe\">\n",
       "  <thead>\n",
       "    <tr style=\"text-align: right;\">\n",
       "      <th></th>\n",
       "      <th>NOAA_AR</th>\n",
       "      <th>HARPNUM</th>\n",
       "    </tr>\n",
       "  </thead>\n",
       "  <tbody>\n",
       "    <tr>\n",
       "      <th>0</th>\n",
       "      <td>11157</td>\n",
       "      <td>364</td>\n",
       "    </tr>\n",
       "    <tr>\n",
       "      <th>1</th>\n",
       "      <td>11156</td>\n",
       "      <td>367</td>\n",
       "    </tr>\n",
       "    <tr>\n",
       "      <th>2</th>\n",
       "      <td>0</td>\n",
       "      <td>369</td>\n",
       "    </tr>\n",
       "    <tr>\n",
       "      <th>3</th>\n",
       "      <td>11159</td>\n",
       "      <td>371</td>\n",
       "    </tr>\n",
       "    <tr>\n",
       "      <th>4</th>\n",
       "      <td>0</td>\n",
       "      <td>372</td>\n",
       "    </tr>\n",
       "    <tr>\n",
       "      <th>5</th>\n",
       "      <td>11158</td>\n",
       "      <td>377</td>\n",
       "    </tr>\n",
       "    <tr>\n",
       "      <th>6</th>\n",
       "      <td>0</td>\n",
       "      <td>378</td>\n",
       "    </tr>\n",
       "    <tr>\n",
       "      <th>7</th>\n",
       "      <td>0</td>\n",
       "      <td>380</td>\n",
       "    </tr>\n",
       "    <tr>\n",
       "      <th>8</th>\n",
       "      <td>0</td>\n",
       "      <td>381</td>\n",
       "    </tr>\n",
       "    <tr>\n",
       "      <th>9</th>\n",
       "      <td>11160</td>\n",
       "      <td>384</td>\n",
       "    </tr>\n",
       "    <tr>\n",
       "      <th>10</th>\n",
       "      <td>0</td>\n",
       "      <td>388</td>\n",
       "    </tr>\n",
       "  </tbody>\n",
       "</table>\n",
       "</div>"
      ],
      "text/plain": [
       "    NOAA_AR  HARPNUM\n",
       "0     11157      364\n",
       "1     11156      367\n",
       "2         0      369\n",
       "3     11159      371\n",
       "4         0      372\n",
       "5     11158      377\n",
       "6         0      378\n",
       "7         0      380\n",
       "8         0      381\n",
       "9     11160      384\n",
       "10        0      388"
      ]
     },
     "execution_count": 7,
     "metadata": {},
     "output_type": "execute_result"
    }
   ],
   "source": [
    "find_ar = c.query(\"hmi.Mharp_720s[][%sZ]\" % start_time,\n",
    "                   key = [\"NOAA_AR\", \"HARPNUM\"])\n",
    "find_ar"
   ]
  },
  {
   "cell_type": "code",
   "execution_count": 8,
   "metadata": {},
   "outputs": [],
   "source": [
    "hmi_results = Fido.search(\n",
    "    a.Time(start_time - dt, start_time + dt),\n",
    "    a.jsoc.Notify(\"mgjeon@khu.ac.kr\"),\n",
    "    a.jsoc.Series(\"hmi.sharp_cea_720s\"),\n",
    "    a.jsoc.PrimeKey('HARPNUM', '377'),\n",
    "    a.jsoc.Segment(\"Bp\") & a.jsoc.Segment(\"Bt\") & a.jsoc.Segment(\"Br\"),\n",
    ")"
   ]
  },
  {
   "cell_type": "code",
   "execution_count": 9,
   "metadata": {},
   "outputs": [
    {
     "data": {
      "text/html": [
       "Results from 1 Provider:</br></br>1 Results from the JSOCClient:</br><div><i>JSOCResponse length=1</i>\n",
       "<table id=\"table140423033361456\" class=\"table-striped table-bordered table-condensed\">\n",
       "<thead><tr><th>T_REC</th><th>TELESCOP</th><th>INSTRUME</th><th>WAVELNTH</th><th>CAR_ROT</th></tr></thead>\n",
       "<thead><tr><th>str23</th><th>str7</th><th>str9</th><th>float64</th><th>int64</th></tr></thead>\n",
       "<tr><td>2011.02.14_00:00:00_TAI</td><td>SDO/HMI</td><td>HMI_SIDE1</td><td>6173.0</td><td>2106</td></tr>\n",
       "</table></div></br>"
      ],
      "text/plain": [
       "<sunpy.net.fido_factory.UnifiedResponse object at 0x7fb6c9059f10>\n",
       "Results from 1 Provider:\n",
       "\n",
       "1 Results from the JSOCClient:\n",
       "Source: http://jsoc.stanford.edu\n",
       "\n",
       "         T_REC          TELESCOP  INSTRUME WAVELNTH CAR_ROT\n",
       "----------------------- -------- --------- -------- -------\n",
       "2011.02.14_00:00:00_TAI  SDO/HMI HMI_SIDE1   6173.0    2106\n"
      ]
     },
     "execution_count": 9,
     "metadata": {},
     "output_type": "execute_result"
    }
   ],
   "source": [
    "hmi_results"
   ]
  },
  {
   "cell_type": "code",
   "execution_count": null,
   "metadata": {},
   "outputs": [],
   "source": [
    "hmi_files = Fido.fetch(hmi_results, path=\"download/11158_single/hmi/{file}\")"
   ]
  },
  {
   "cell_type": "markdown",
   "metadata": {},
   "source": [
    "# AIA"
   ]
  },
  {
   "cell_type": "code",
   "execution_count": 7,
   "metadata": {},
   "outputs": [
    {
     "data": {
      "text/html": [
       "<div>\n",
       "<style scoped>\n",
       "    .dataframe tbody tr th:only-of-type {\n",
       "        vertical-align: middle;\n",
       "    }\n",
       "\n",
       "    .dataframe tbody tr th {\n",
       "        vertical-align: top;\n",
       "    }\n",
       "\n",
       "    .dataframe thead th {\n",
       "        text-align: right;\n",
       "    }\n",
       "</style>\n",
       "<table border=\"1\" class=\"dataframe\">\n",
       "  <thead>\n",
       "    <tr style=\"text-align: right;\">\n",
       "      <th></th>\n",
       "      <th>type</th>\n",
       "      <th>units</th>\n",
       "      <th>protocol</th>\n",
       "      <th>dims</th>\n",
       "      <th>note</th>\n",
       "    </tr>\n",
       "    <tr>\n",
       "      <th>name</th>\n",
       "      <th></th>\n",
       "      <th></th>\n",
       "      <th></th>\n",
       "      <th></th>\n",
       "      <th></th>\n",
       "    </tr>\n",
       "  </thead>\n",
       "  <tbody>\n",
       "    <tr>\n",
       "      <th>image</th>\n",
       "      <td>int</td>\n",
       "      <td>None</td>\n",
       "      <td>link via lev1</td>\n",
       "      <td>None</td>\n",
       "      <td>AIA level 1 image</td>\n",
       "    </tr>\n",
       "    <tr>\n",
       "      <th>spikes</th>\n",
       "      <td>int</td>\n",
       "      <td>None</td>\n",
       "      <td>link via lev1</td>\n",
       "      <td>None</td>\n",
       "      <td>Cosmic ray information</td>\n",
       "    </tr>\n",
       "  </tbody>\n",
       "</table>\n",
       "</div>"
      ],
      "text/plain": [
       "       type units       protocol  dims                    note\n",
       "name                                                          \n",
       "image   int  None  link via lev1  None       AIA level 1 image\n",
       "spikes  int  None  link via lev1  None  Cosmic ray information"
      ]
     },
     "execution_count": 7,
     "metadata": {},
     "output_type": "execute_result"
    }
   ],
   "source": [
    "c.info(\"aia.lev1_euv_12s\").segments"
   ]
  },
  {
   "cell_type": "code",
   "execution_count": 8,
   "metadata": {},
   "outputs": [
    {
     "data": {
      "text/plain": [
       "['T_REC', 'WAVELNTH']"
      ]
     },
     "execution_count": 8,
     "metadata": {},
     "output_type": "execute_result"
    }
   ],
   "source": [
    "c.pkeys(\"aia.lev1_euv_12s\")"
   ]
  },
  {
   "cell_type": "code",
   "execution_count": 9,
   "metadata": {},
   "outputs": [],
   "source": [
    "wavelengths = [94, \n",
    "               131, \n",
    "               171, \n",
    "               193, \n",
    "               211, \n",
    "               304, \n",
    "               335]"
   ]
  },
  {
   "cell_type": "code",
   "execution_count": 10,
   "metadata": {},
   "outputs": [],
   "source": [
    "aia_results = {}\n",
    "\n",
    "for w in wavelengths:\n",
    "    aia_results[str(w)] = Fido.search(\n",
    "        a.Time(start_time - dt, start_time + dt),\n",
    "        a.jsoc.Notify(\"mgjeon@khu.ac.kr\"),\n",
    "        a.jsoc.Series(\"aia.lev1_euv_12s\"),\n",
    "        a.jsoc.Segment(\"image\"),\n",
    "        a.Wavelength(w*u.angstrom))"
   ]
  },
  {
   "cell_type": "code",
   "execution_count": 11,
   "metadata": {},
   "outputs": [
    {
     "name": "stdout",
     "output_type": "stream",
     "text": [
      "94 Results from 1 Provider:\n",
      "\n",
      "2 Results from the JSOCClient:\n",
      "Source: http://jsoc.stanford.edu\n",
      "\n",
      "       T_REC         TELESCOP INSTRUME WAVELNTH CAR_ROT\n",
      "-------------------- -------- -------- -------- -------\n",
      "2011-02-13T23:59:50Z  SDO/AIA    AIA_4       94    2106\n",
      "2011-02-14T00:00:02Z  SDO/AIA    AIA_4       94    2106\n",
      "\n",
      "\n",
      "131 Results from 1 Provider:\n",
      "\n",
      "2 Results from the JSOCClient:\n",
      "Source: http://jsoc.stanford.edu\n",
      "\n",
      "       T_REC         TELESCOP INSTRUME WAVELNTH CAR_ROT\n",
      "-------------------- -------- -------- -------- -------\n",
      "2011-02-13T23:59:50Z  SDO/AIA    AIA_1      131    2106\n",
      "2011-02-14T00:00:02Z  SDO/AIA    AIA_1      131    2106\n",
      "\n",
      "\n",
      "171 Results from 1 Provider:\n",
      "\n",
      "2 Results from the JSOCClient:\n",
      "Source: http://jsoc.stanford.edu\n",
      "\n",
      "       T_REC         TELESCOP INSTRUME WAVELNTH CAR_ROT\n",
      "-------------------- -------- -------- -------- -------\n",
      "2011-02-13T23:59:50Z  SDO/AIA    AIA_3      171    2106\n",
      "2011-02-14T00:00:02Z  SDO/AIA    AIA_3      171    2106\n",
      "\n",
      "\n",
      "193 Results from 1 Provider:\n",
      "\n",
      "2 Results from the JSOCClient:\n",
      "Source: http://jsoc.stanford.edu\n",
      "\n",
      "       T_REC         TELESCOP INSTRUME WAVELNTH CAR_ROT\n",
      "-------------------- -------- -------- -------- -------\n",
      "2011-02-13T23:59:50Z  SDO/AIA    AIA_2      193    2106\n",
      "2011-02-14T00:00:02Z  SDO/AIA    AIA_2      193    2106\n",
      "\n",
      "\n",
      "211 Results from 1 Provider:\n",
      "\n",
      "2 Results from the JSOCClient:\n",
      "Source: http://jsoc.stanford.edu\n",
      "\n",
      "       T_REC         TELESCOP INSTRUME WAVELNTH CAR_ROT\n",
      "-------------------- -------- -------- -------- -------\n",
      "2011-02-13T23:59:50Z  SDO/AIA    AIA_2      211    2106\n",
      "2011-02-14T00:00:02Z  SDO/AIA    AIA_2      211    2106\n",
      "\n",
      "\n",
      "304 Results from 1 Provider:\n",
      "\n",
      "2 Results from the JSOCClient:\n",
      "Source: http://jsoc.stanford.edu\n",
      "\n",
      "       T_REC         TELESCOP INSTRUME WAVELNTH CAR_ROT\n",
      "-------------------- -------- -------- -------- -------\n",
      "2011-02-13T23:59:50Z  SDO/AIA    AIA_4      304    2106\n",
      "2011-02-14T00:00:02Z  SDO/AIA    AIA_4      304    2106\n",
      "\n",
      "\n",
      "335 Results from 1 Provider:\n",
      "\n",
      "2 Results from the JSOCClient:\n",
      "Source: http://jsoc.stanford.edu\n",
      "\n",
      "       T_REC         TELESCOP INSTRUME WAVELNTH CAR_ROT\n",
      "-------------------- -------- -------- -------- -------\n",
      "2011-02-13T23:59:50Z  SDO/AIA    AIA_1      335    2106\n",
      "2011-02-14T00:00:02Z  SDO/AIA    AIA_1      335    2106\n",
      "\n",
      "\n"
     ]
    }
   ],
   "source": [
    "for key, value in aia_results.items():\n",
    "    print(key, value)"
   ]
  },
  {
   "cell_type": "code",
   "execution_count": 12,
   "metadata": {},
   "outputs": [
    {
     "name": "stdout",
     "output_type": "stream",
     "text": [
      "Export request pending. [id=JSOC_20240411_000717, status=2]\n",
      "Waiting for 0 seconds...\n",
      "2 URLs found for download. Full request totalling 14MB\n"
     ]
    },
    {
     "data": {
      "application/vnd.jupyter.widget-view+json": {
       "model_id": "44779bc6c1f24510991c66f7b1c1bc0a",
       "version_major": 2,
       "version_minor": 0
      },
      "text/plain": [
       "Files Downloaded:   0%|          | 0/2 [00:00<?, ?file/s]"
      ]
     },
     "metadata": {},
     "output_type": "display_data"
    },
    {
     "data": {
      "application/vnd.jupyter.widget-view+json": {
       "model_id": "1fd0ccf741bd45d3811ed0fa681df964",
       "version_major": 2,
       "version_minor": 0
      },
      "text/plain": [
       "aia.lev1_euv_12s.2011-02-13T235952Z.94.image_lev1.fits:   0%|          | 0.00/7.50M [00:00<?, ?B/s]"
      ]
     },
     "metadata": {},
     "output_type": "display_data"
    },
    {
     "data": {
      "application/vnd.jupyter.widget-view+json": {
       "model_id": "0e054bcb02694029acc3779514b053a5",
       "version_major": 2,
       "version_minor": 0
      },
      "text/plain": [
       "aia.lev1_euv_12s.2011-02-14T000004Z.94.image_lev1.fits:   0%|          | 0.00/7.50M [00:00<?, ?B/s]"
      ]
     },
     "metadata": {},
     "output_type": "display_data"
    },
    {
     "name": "stdout",
     "output_type": "stream",
     "text": [
      "Export request pending. [id=JSOC_20240411_000719, status=2]\n",
      "Waiting for 0 seconds...\n",
      "2 URLs found for download. Full request totalling 17MB\n"
     ]
    },
    {
     "data": {
      "application/vnd.jupyter.widget-view+json": {
       "model_id": "7198b24ceeac4a1d840144fb70b902b4",
       "version_major": 2,
       "version_minor": 0
      },
      "text/plain": [
       "Files Downloaded:   0%|          | 0/2 [00:00<?, ?file/s]"
      ]
     },
     "metadata": {},
     "output_type": "display_data"
    },
    {
     "data": {
      "application/vnd.jupyter.widget-view+json": {
       "model_id": "8fa4d349b04b4073be0e188c209205a5",
       "version_major": 2,
       "version_minor": 0
      },
      "text/plain": [
       "aia.lev1_euv_12s.2011-02-13T235959Z.131.image_lev1.fits:   0%|          | 0.00/8.69M [00:00<?, ?B/s]"
      ]
     },
     "metadata": {},
     "output_type": "display_data"
    },
    {
     "data": {
      "application/vnd.jupyter.widget-view+json": {
       "model_id": "ce37830b1c7549f0af011fe016020587",
       "version_major": 2,
       "version_minor": 0
      },
      "text/plain": [
       "aia.lev1_euv_12s.2011-02-14T000011Z.131.image_lev1.fits:   0%|          | 0.00/8.69M [00:00<?, ?B/s]"
      ]
     },
     "metadata": {},
     "output_type": "display_data"
    },
    {
     "name": "stdout",
     "output_type": "stream",
     "text": [
      "Export request pending. [id=JSOC_20240411_000721, status=2]\n",
      "Waiting for 0 seconds...\n",
      "2 URLs found for download. Full request totalling 24MB\n"
     ]
    },
    {
     "data": {
      "application/vnd.jupyter.widget-view+json": {
       "model_id": "a62492a8caad4443877a0afa3581eba3",
       "version_major": 2,
       "version_minor": 0
      },
      "text/plain": [
       "Files Downloaded:   0%|          | 0/2 [00:00<?, ?file/s]"
      ]
     },
     "metadata": {},
     "output_type": "display_data"
    },
    {
     "data": {
      "application/vnd.jupyter.widget-view+json": {
       "model_id": "f40bf77be2f84a62a015913a5e8aa465",
       "version_major": 2,
       "version_minor": 0
      },
      "text/plain": [
       "aia.lev1_euv_12s.2011-02-14T000001Z.171.image_lev1.fits:   0%|          | 0.00/12.4M [00:00<?, ?B/s]"
      ]
     },
     "metadata": {},
     "output_type": "display_data"
    },
    {
     "data": {
      "application/vnd.jupyter.widget-view+json": {
       "model_id": "fcbad26113e248aca60e9d12d9067d95",
       "version_major": 2,
       "version_minor": 0
      },
      "text/plain": [
       "aia.lev1_euv_12s.2011-02-14T000013Z.171.image_lev1.fits:   0%|          | 0.00/12.4M [00:00<?, ?B/s]"
      ]
     },
     "metadata": {},
     "output_type": "display_data"
    },
    {
     "name": "stdout",
     "output_type": "stream",
     "text": [
      "Export request pending. [id=JSOC_20240411_000724, status=2]\n",
      "Waiting for 0 seconds...\n",
      "2 URLs found for download. Full request totalling 23MB\n"
     ]
    },
    {
     "data": {
      "application/vnd.jupyter.widget-view+json": {
       "model_id": "6195a3ab9db942b99d53114e3f5fe66d",
       "version_major": 2,
       "version_minor": 0
      },
      "text/plain": [
       "Files Downloaded:   0%|          | 0/2 [00:00<?, ?file/s]"
      ]
     },
     "metadata": {},
     "output_type": "display_data"
    },
    {
     "data": {
      "application/vnd.jupyter.widget-view+json": {
       "model_id": "9ae81b3d97424d7c98216d43223d7c0e",
       "version_major": 2,
       "version_minor": 0
      },
      "text/plain": [
       "aia.lev1_euv_12s.2011-02-13T235957Z.193.image_lev1.fits:   0%|          | 0.00/12.2M [00:00<?, ?B/s]"
      ]
     },
     "metadata": {},
     "output_type": "display_data"
    },
    {
     "data": {
      "application/vnd.jupyter.widget-view+json": {
       "model_id": "3643aa16036e4bd28c7de8513f067c38",
       "version_major": 2,
       "version_minor": 0
      },
      "text/plain": [
       "aia.lev1_euv_12s.2011-02-14T000009Z.193.image_lev1.fits:   0%|          | 0.00/12.2M [00:00<?, ?B/s]"
      ]
     },
     "metadata": {},
     "output_type": "display_data"
    },
    {
     "name": "stdout",
     "output_type": "stream",
     "text": [
      "Export request pending. [id=JSOC_20240411_000731, status=2]\n",
      "Waiting for 0 seconds...\n",
      "2 URLs found for download. Full request totalling 21MB\n"
     ]
    },
    {
     "data": {
      "application/vnd.jupyter.widget-view+json": {
       "model_id": "482f816ffd81447ab335464aea877481",
       "version_major": 2,
       "version_minor": 0
      },
      "text/plain": [
       "Files Downloaded:   0%|          | 0/2 [00:00<?, ?file/s]"
      ]
     },
     "metadata": {},
     "output_type": "display_data"
    },
    {
     "data": {
      "application/vnd.jupyter.widget-view+json": {
       "model_id": "7152a460ddd7451382789c3e2241fa86",
       "version_major": 2,
       "version_minor": 0
      },
      "text/plain": [
       "aia.lev1_euv_12s.2011-02-13T235950Z.211.image_lev1.fits:   0%|          | 0.00/10.9M [00:00<?, ?B/s]"
      ]
     },
     "metadata": {},
     "output_type": "display_data"
    },
    {
     "data": {
      "application/vnd.jupyter.widget-view+json": {
       "model_id": "be78b43b54244c1ebe7e30d16a6c28a7",
       "version_major": 2,
       "version_minor": 0
      },
      "text/plain": [
       "aia.lev1_euv_12s.2011-02-14T000002Z.211.image_lev1.fits:   0%|          | 0.00/10.9M [00:00<?, ?B/s]"
      ]
     },
     "metadata": {},
     "output_type": "display_data"
    },
    {
     "name": "stderr",
     "output_type": "stream",
     "text": [
      "Exception ignored in: <function BaseEventLoop.__del__ at 0x7f5993f6e3a0>\n",
      "Traceback (most recent call last):\n",
      "  File \"/home/mgjeon/miniforge3/envs/rtmag/lib/python3.9/asyncio/base_events.py\", line 688, in __del__\n",
      "    self.close()\n",
      "  File \"/home/mgjeon/miniforge3/envs/rtmag/lib/python3.9/asyncio/unix_events.py\", line 61, in close\n",
      "    self.remove_signal_handler(sig)\n",
      "  File \"/home/mgjeon/miniforge3/envs/rtmag/lib/python3.9/asyncio/unix_events.py\", line 150, in remove_signal_handler\n",
      "    signal.signal(sig, handler)\n",
      "  File \"/home/mgjeon/miniforge3/envs/rtmag/lib/python3.9/signal.py\", line 56, in signal\n",
      "    handler = _signal.signal(_enum_to_int(signalnum), _enum_to_int(handler))\n",
      "ValueError: signal only works in main thread of the main interpreter\n",
      "Exception ignored in: <function BaseEventLoop.__del__ at 0x7f5993f6e3a0>\n",
      "Traceback (most recent call last):\n",
      "  File \"/home/mgjeon/miniforge3/envs/rtmag/lib/python3.9/asyncio/base_events.py\", line 688, in __del__\n",
      "    self.close()\n",
      "  File \"/home/mgjeon/miniforge3/envs/rtmag/lib/python3.9/asyncio/unix_events.py\", line 61, in close\n",
      "    self.remove_signal_handler(sig)\n",
      "  File \"/home/mgjeon/miniforge3/envs/rtmag/lib/python3.9/asyncio/unix_events.py\", line 150, in remove_signal_handler\n",
      "    signal.signal(sig, handler)\n",
      "  File \"/home/mgjeon/miniforge3/envs/rtmag/lib/python3.9/signal.py\", line 56, in signal\n",
      "    handler = _signal.signal(_enum_to_int(signalnum), _enum_to_int(handler))\n",
      "ValueError: signal only works in main thread of the main interpreter\n",
      "Exception ignored in: <function BaseEventLoop.__del__ at 0x7f5993f6e3a0>\n",
      "Traceback (most recent call last):\n",
      "  File \"/home/mgjeon/miniforge3/envs/rtmag/lib/python3.9/asyncio/base_events.py\", line 688, in __del__\n",
      "    self.close()\n",
      "  File \"/home/mgjeon/miniforge3/envs/rtmag/lib/python3.9/asyncio/unix_events.py\", line 61, in close\n",
      "    self.remove_signal_handler(sig)\n",
      "  File \"/home/mgjeon/miniforge3/envs/rtmag/lib/python3.9/asyncio/unix_events.py\", line 150, in remove_signal_handler\n",
      "    signal.signal(sig, handler)\n",
      "  File \"/home/mgjeon/miniforge3/envs/rtmag/lib/python3.9/signal.py\", line 56, in signal\n",
      "    handler = _signal.signal(_enum_to_int(signalnum), _enum_to_int(handler))\n",
      "ValueError: signal only works in main thread of the main interpreter\n",
      "Exception ignored in: <function BaseEventLoop.__del__ at 0x7f5993f6e3a0>\n",
      "Traceback (most recent call last):\n",
      "  File \"/home/mgjeon/miniforge3/envs/rtmag/lib/python3.9/asyncio/base_events.py\", line 688, in __del__\n",
      "    self.close()\n",
      "  File \"/home/mgjeon/miniforge3/envs/rtmag/lib/python3.9/asyncio/unix_events.py\", line 61, in close\n",
      "    self.remove_signal_handler(sig)\n",
      "  File \"/home/mgjeon/miniforge3/envs/rtmag/lib/python3.9/asyncio/unix_events.py\", line 150, in remove_signal_handler\n",
      "    signal.signal(sig, handler)\n",
      "  File \"/home/mgjeon/miniforge3/envs/rtmag/lib/python3.9/signal.py\", line 56, in signal\n",
      "    handler = _signal.signal(_enum_to_int(signalnum), _enum_to_int(handler))\n",
      "ValueError: signal only works in main thread of the main interpreter\n"
     ]
    },
    {
     "name": "stdout",
     "output_type": "stream",
     "text": [
      "Export request pending. [id=JSOC_20240411_000735, status=2]\n",
      "Waiting for 0 seconds...\n",
      "2 URLs found for download. Full request totalling 19MB\n"
     ]
    },
    {
     "data": {
      "application/vnd.jupyter.widget-view+json": {
       "model_id": "6e4bac17545f443086774b5f95ebc19b",
       "version_major": 2,
       "version_minor": 0
      },
      "text/plain": [
       "Files Downloaded:   0%|          | 0/2 [00:00<?, ?file/s]"
      ]
     },
     "metadata": {},
     "output_type": "display_data"
    },
    {
     "data": {
      "application/vnd.jupyter.widget-view+json": {
       "model_id": "e2998486141f4174aa8f3def5bc3e94a",
       "version_major": 2,
       "version_minor": 0
      },
      "text/plain": [
       "aia.lev1_euv_12s.2011-02-13T235958Z.304.image_lev1.fits:   0%|          | 0.00/9.95M [00:00<?, ?B/s]"
      ]
     },
     "metadata": {},
     "output_type": "display_data"
    },
    {
     "data": {
      "application/vnd.jupyter.widget-view+json": {
       "model_id": "8d8a55a6c8034a58b5dc147c9c26f795",
       "version_major": 2,
       "version_minor": 0
      },
      "text/plain": [
       "aia.lev1_euv_12s.2011-02-14T000010Z.304.image_lev1.fits:   0%|          | 0.00/9.95M [00:00<?, ?B/s]"
      ]
     },
     "metadata": {},
     "output_type": "display_data"
    },
    {
     "name": "stdout",
     "output_type": "stream",
     "text": [
      "Export request pending. [id=JSOC_20240411_000742, status=2]\n",
      "Waiting for 0 seconds...\n",
      "2 URLs found for download. Full request totalling 15MB\n"
     ]
    },
    {
     "data": {
      "application/vnd.jupyter.widget-view+json": {
       "model_id": "45348e3cbd6f4f2da5bc32507b095118",
       "version_major": 2,
       "version_minor": 0
      },
      "text/plain": [
       "Files Downloaded:   0%|          | 0/2 [00:00<?, ?file/s]"
      ]
     },
     "metadata": {},
     "output_type": "display_data"
    },
    {
     "data": {
      "application/vnd.jupyter.widget-view+json": {
       "model_id": "5bb589ea6cfc49c0ae395d25abc0bccc",
       "version_major": 2,
       "version_minor": 0
      },
      "text/plain": [
       "aia.lev1_euv_12s.2011-02-13T235953Z.335.image_lev1.fits:   0%|          | 0.00/7.63M [00:00<?, ?B/s]"
      ]
     },
     "metadata": {},
     "output_type": "display_data"
    },
    {
     "data": {
      "application/vnd.jupyter.widget-view+json": {
       "model_id": "886f4152b3274f6db4cb5c7312f99f3a",
       "version_major": 2,
       "version_minor": 0
      },
      "text/plain": [
       "aia.lev1_euv_12s.2011-02-14T000005Z.335.image_lev1.fits:   0%|          | 0.00/7.63M [00:00<?, ?B/s]"
      ]
     },
     "metadata": {},
     "output_type": "display_data"
    }
   ],
   "source": [
    "for wavelnth, result in aia_results.items():\n",
    "    Fido.fetch(result, path=f\"download/11158_single/aia/{wavelnth}/\" + \"{file}\")"
   ]
  },
  {
   "cell_type": "code",
   "execution_count": null,
   "metadata": {},
   "outputs": [],
   "source": []
  }
 ],
 "metadata": {
  "kernelspec": {
   "display_name": "rtmag",
   "language": "python",
   "name": "python3"
  },
  "language_info": {
   "codemirror_mode": {
    "name": "ipython",
    "version": 3
   },
   "file_extension": ".py",
   "mimetype": "text/x-python",
   "name": "python",
   "nbconvert_exporter": "python",
   "pygments_lexer": "ipython3",
   "version": "3.9.18"
  }
 },
 "nbformat": 4,
 "nbformat_minor": 2
}
