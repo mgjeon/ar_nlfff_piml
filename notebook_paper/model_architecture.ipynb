{
 "cells": [
  {
   "cell_type": "code",
   "execution_count": 1,
   "metadata": {},
   "outputs": [],
   "source": [
    "import torch\n",
    "from torchinfo import summary\n",
    "from neuralop.models import UNO\n",
    "from rtmag.train.model import UNO as un"
   ]
  },
  {
   "cell_type": "code",
   "execution_count": 2,
   "metadata": {},
   "outputs": [],
   "source": [
    "device = torch.device('cuda' if torch.cuda.is_available() else 'cpu')"
   ]
  },
  {
   "cell_type": "code",
   "execution_count": 3,
   "metadata": {},
   "outputs": [],
   "source": [
    "model = un(\n",
    "            in_channels = 3,\n",
    "            out_channels = [256, 256, 256],\n",
    "            \n",
    "            # lifting\n",
    "            hidden_channels = 256,\n",
    "\n",
    "            # mlp hidden layer neurons\n",
    "            lifting_channels = 256,\n",
    "            projection_channels = 256,\n",
    "\n",
    "            # number of layers\n",
    "            n_layers = 8,\n",
    "\n",
    "            uno_out_channels = [128,\n",
    "                                64,\n",
    "                                32,\n",
    "                                16,\n",
    "                                16,\n",
    "                                32,\n",
    "                                64,\n",
    "                                128],\n",
    "                                \n",
    "            uno_scalings = [[0.5,0.5],\n",
    "                            [0.5,0.5],\n",
    "                            [0.5,0.5],\n",
    "                            [0.5,0.5],\n",
    "                            [2.0,2.0],\n",
    "                            [2.0,2.0],\n",
    "                            [2.0,2.0],\n",
    "                            [2.0,2.0]],\n",
    "\n",
    "            uno_n_modes = [[ 8, 8],\n",
    "                           [ 8, 8],\n",
    "                           [ 8, 8],\n",
    "                           [ 8, 8],\n",
    "                           [ 8, 8],\n",
    "                           [ 8, 8],\n",
    "                           [ 8, 8],\n",
    "                           [ 8, 8]],\n",
    "            \n",
    "        ).to(device)"
   ]
  },
  {
   "cell_type": "code",
   "execution_count": 4,
   "metadata": {},
   "outputs": [
    {
     "data": {
      "text/plain": [
       "==========================================================================================\n",
       "Layer (type:depth-idx)                   Output Shape              Param #\n",
       "==========================================================================================\n",
       "UNO                                      [1, 256, 256, 512, 3]     --\n",
       "├─MLP: 1-1                               [1, 256, 256, 512]        --\n",
       "│    └─ModuleList: 2-1                   --                        --\n",
       "│    │    └─Conv2d: 3-1                  [1, 256, 256, 512]        1,024\n",
       "│    │    └─Conv2d: 3-2                  [1, 256, 256, 512]        65,792\n",
       "├─ModuleList: 1-10                       --                        (recursive)\n",
       "│    └─FNOBlocks: 2-2                    [1, 128, 128, 256]        --\n",
       "│    │    └─ModuleList: 3-3              --                        32,768\n",
       "│    │    └─SpectralConv: 3-4            [1, 128, 128, 256]        2,621,568\n",
       "├─ModuleDict: 1-9                        --                        (recursive)\n",
       "│    └─Conv2d: 2-3                       [1, 128, 128, 256]        16,384\n",
       "├─ModuleList: 1-10                       --                        (recursive)\n",
       "│    └─FNOBlocks: 2-4                    [1, 64, 64, 128]          --\n",
       "│    │    └─ModuleList: 3-5              --                        8,192\n",
       "│    │    └─SpectralConv: 3-6            [1, 64, 64, 128]          655,424\n",
       "├─ModuleDict: 1-9                        --                        (recursive)\n",
       "│    └─Conv2d: 2-5                       [1, 64, 64, 128]          4,096\n",
       "├─ModuleList: 1-10                       --                        (recursive)\n",
       "│    └─FNOBlocks: 2-6                    [1, 32, 32, 64]           --\n",
       "│    │    └─ModuleList: 3-7              --                        2,048\n",
       "│    │    └─SpectralConv: 3-8            [1, 32, 32, 64]           163,872\n",
       "├─ModuleDict: 1-9                        --                        (recursive)\n",
       "│    └─Conv2d: 2-7                       [1, 32, 32, 64]           1,024\n",
       "├─ModuleList: 1-10                       --                        (recursive)\n",
       "│    └─FNOBlocks: 2-8                    [1, 16, 16, 32]           --\n",
       "│    │    └─ModuleList: 3-9              --                        512\n",
       "│    │    └─SpectralConv: 3-10           [1, 16, 16, 32]           40,976\n",
       "├─ModuleDict: 1-9                        --                        (recursive)\n",
       "│    └─Conv2d: 2-9                       [1, 16, 16, 32]           256\n",
       "├─ModuleList: 1-10                       --                        (recursive)\n",
       "│    └─FNOBlocks: 2-10                   [1, 16, 32, 64]           --\n",
       "│    │    └─ModuleList: 3-11             --                        512\n",
       "│    │    └─SpectralConv: 3-12           [1, 16, 32, 64]           40,976\n",
       "│    └─FNOBlocks: 2-11                   [1, 32, 64, 128]          --\n",
       "│    │    └─ModuleList: 3-13             --                        1,536\n",
       "│    │    └─SpectralConv: 3-14           [1, 32, 64, 128]          122,912\n",
       "│    └─FNOBlocks: 2-12                   [1, 64, 128, 256]         --\n",
       "│    │    └─ModuleList: 3-15             --                        6,144\n",
       "│    │    └─SpectralConv: 3-16           [1, 64, 128, 256]         491,584\n",
       "│    └─FNOBlocks: 2-13                   [1, 128, 256, 512]        --\n",
       "│    │    └─ModuleList: 3-17             --                        24,576\n",
       "│    │    └─SpectralConv: 3-18           [1, 128, 256, 512]        1,966,208\n",
       "├─MLP: 1-11                              [1, 256, 256, 512]        --\n",
       "│    └─ModuleList: 2-14                  --                        --\n",
       "│    │    └─Conv2d: 3-19                 [1, 256, 256, 512]        33,024\n",
       "│    │    └─Conv2d: 3-20                 [1, 256, 256, 512]        65,792\n",
       "├─MLP: 1-12                              [1, 256, 256, 512]        --\n",
       "│    └─ModuleList: 2-15                  --                        --\n",
       "│    │    └─Conv2d: 3-21                 [1, 256, 256, 512]        33,024\n",
       "│    │    └─Conv2d: 3-22                 [1, 256, 256, 512]        65,792\n",
       "├─MLP: 1-13                              [1, 256, 256, 512]        --\n",
       "│    └─ModuleList: 2-16                  --                        --\n",
       "│    │    └─Conv2d: 3-23                 [1, 256, 256, 512]        33,024\n",
       "│    │    └─Conv2d: 3-24                 [1, 256, 256, 512]        65,792\n",
       "==========================================================================================\n",
       "Total params: 6,564,832\n",
       "Trainable params: 6,564,832\n",
       "Non-trainable params: 0\n",
       "Total mult-adds (G): 53.63\n",
       "==========================================================================================\n",
       "Input size (MB): 1.57\n",
       "Forward/backward pass size (MB): 2377.52\n",
       "Params size (MB): 1.85\n",
       "Estimated Total Size (MB): 2380.93\n",
       "=========================================================================================="
      ]
     },
     "execution_count": 4,
     "metadata": {},
     "output_type": "execute_result"
    }
   ],
   "source": [
    "bs = 1\n",
    "summary(model, input_size=(bs, 3, 256, 512))"
   ]
  },
  {
   "cell_type": "code",
   "execution_count": 5,
   "metadata": {},
   "outputs": [],
   "source": [
    "x = torch.randn(1, 3, 256, 512).to(device)\n",
    "y = model(x)"
   ]
  },
  {
   "cell_type": "code",
   "execution_count": 6,
   "metadata": {},
   "outputs": [
    {
     "data": {
      "text/plain": [
       "torch.Size([1, 256, 256, 512, 3])"
      ]
     },
     "execution_count": 6,
     "metadata": {},
     "output_type": "execute_result"
    }
   ],
   "source": [
    "y.shape"
   ]
  },
  {
   "cell_type": "code",
   "execution_count": 4,
   "metadata": {},
   "outputs": [],
   "source": [
    "model = UNO(\n",
    "            in_channels = 1,\n",
    "            out_channels = 256,\n",
    "\n",
    "            hidden_channels = 64,\n",
    "            lifting_channels = 256,\n",
    "            projection_channels = 256,\n",
    "            n_layers = 6,\n",
    "\n",
    "            uno_n_modes = [[8,8, 8],\n",
    "                            [ 8, 8,  8],\n",
    "                            [ 8, 8,  8],\n",
    "                            [ 8, 8,  8],\n",
    "                            [ 8, 8,  8],\n",
    "                            [8,8, 8]],\n",
    "            uno_out_channels = [64,\n",
    "                                128,\n",
    "                                256,\n",
    "                                256,\n",
    "                                128,\n",
    "                                64],\n",
    "        uno_scalings =  [[0.5,0.5,2.0],\n",
    "                         [0.5,0.5,2.0],\n",
    "                         [0.5,0.5,2.0],\n",
    "                         [2.0,2.0,0.5],\n",
    "                         [2.0,2.0,0.5],\n",
    "                         [2.0,2.0,0.5]]\n",
    "        ).to(device)"
   ]
  },
  {
   "cell_type": "code",
   "execution_count": 20,
   "metadata": {},
   "outputs": [],
   "source": [
    "model = UNO(\n",
    "            in_channels = 1,\n",
    "            out_channels = 256,\n",
    "\n",
    "            hidden_channels = 64,\n",
    "            lifting_channels = 256,\n",
    "            projection_channels = 256,\n",
    "            n_layers = 6,\n",
    "\n",
    "            uno_n_modes = [[8,8, 8],\n",
    "                            [ 8, 8,  8],\n",
    "                            [ 8, 8,  8],\n",
    "                            [ 8, 8,  8],\n",
    "                            [ 8, 8,  8],\n",
    "                            [8,8, 8]],\n",
    "            uno_out_channels = [64,\n",
    "                                64,\n",
    "                                128,\n",
    "                                128,\n",
    "                                64,\n",
    "                                64],\n",
    "        uno_scalings =  [[0.5,0.5,2.0],\n",
    "                         [0.5,0.5,2.0],\n",
    "                         [0.5,0.5,2.0],\n",
    "                         [2.0,2.0,0.5],\n",
    "                         [2.0,2.0,0.5],\n",
    "                         [2.0,2.0,0.5]]\n",
    "        ).to(device)"
   ]
  },
  {
   "cell_type": "code",
   "execution_count": 21,
   "metadata": {},
   "outputs": [
    {
     "data": {
      "text/plain": [
       "==========================================================================================\n",
       "Layer (type:depth-idx)                   Output Shape              Param #\n",
       "==========================================================================================\n",
       "UNO                                      [1, 256, 256, 512, 3]     --\n",
       "├─MLP: 1-1                               [1, 64, 256, 512, 3]      --\n",
       "│    └─ModuleList: 2-1                   --                        --\n",
       "│    │    └─Conv3d: 3-1                  [1, 256, 256, 512, 3]     512\n",
       "│    │    └─Conv3d: 3-2                  [1, 64, 256, 512, 3]      16,448\n",
       "├─ModuleList: 1-8                        --                        (recursive)\n",
       "│    └─FNOBlocks: 2-2                    [1, 64, 128, 256, 6]      --\n",
       "│    │    └─ModuleList: 3-3              --                        4,096\n",
       "│    │    └─SpectralConv: 3-4            [1, 64, 128, 256, 6]      2,621,504\n",
       "├─ModuleDict: 1-7                        --                        (recursive)\n",
       "│    └─Conv3d: 2-3                       [1, 64, 128, 256, 6]      4,096\n",
       "├─ModuleList: 1-8                        --                        (recursive)\n",
       "│    └─FNOBlocks: 2-4                    [1, 64, 64, 128, 12]      --\n",
       "│    │    └─ModuleList: 3-5              --                        4,096\n",
       "│    │    └─SpectralConv: 3-6            [1, 64, 64, 128, 12]      2,621,504\n",
       "├─ModuleDict: 1-7                        --                        (recursive)\n",
       "│    └─Conv3d: 2-5                       [1, 64, 64, 128, 12]      4,096\n",
       "├─ModuleList: 1-8                        --                        (recursive)\n",
       "│    └─FNOBlocks: 2-6                    [1, 128, 32, 64, 24]      --\n",
       "│    │    └─ModuleList: 3-7              --                        8,192\n",
       "│    │    └─SpectralConv: 3-8            [1, 128, 32, 64, 24]      5,243,008\n",
       "├─ModuleDict: 1-7                        --                        (recursive)\n",
       "│    └─Conv3d: 2-7                       [1, 128, 32, 64, 24]      16,384\n",
       "├─ModuleList: 1-8                        --                        (recursive)\n",
       "│    └─FNOBlocks: 2-8                    [1, 128, 64, 128, 12]     --\n",
       "│    │    └─ModuleList: 3-9              --                        32,768\n",
       "│    │    └─SpectralConv: 3-10           [1, 128, 64, 128, 12]     20,971,648\n",
       "│    └─FNOBlocks: 2-9                    [1, 64, 128, 256, 6]      --\n",
       "│    │    └─ModuleList: 3-11             --                        12,288\n",
       "│    │    └─SpectralConv: 3-12           [1, 64, 128, 256, 6]      7,864,384\n",
       "│    └─FNOBlocks: 2-10                   [1, 64, 256, 512, 3]      --\n",
       "│    │    └─ModuleList: 3-13             --                        8,192\n",
       "│    │    └─SpectralConv: 3-14           [1, 64, 256, 512, 3]      5,242,944\n",
       "├─MLP: 1-9                               [1, 256, 256, 512, 3]     --\n",
       "│    └─ModuleList: 2-11                  --                        --\n",
       "│    │    └─Conv3d: 3-15                 [1, 256, 256, 512, 3]     16,640\n",
       "│    │    └─Conv3d: 3-16                 [1, 256, 256, 512, 3]     65,792\n",
       "==========================================================================================\n",
       "Total params: 44,758,592\n",
       "Trainable params: 44,758,592\n",
       "Non-trainable params: 0\n",
       "Total mult-adds (G): 48.75\n",
       "==========================================================================================\n",
       "Input size (MB): 1.57\n",
       "Forward/backward pass size (MB): 3422.55\n",
       "Params size (MB): 0.77\n",
       "Estimated Total Size (MB): 3424.90\n",
       "=========================================================================================="
      ]
     },
     "execution_count": 21,
     "metadata": {},
     "output_type": "execute_result"
    },
    {
     "ename": "",
     "evalue": "",
     "output_type": "error",
     "traceback": [
      "\u001b[1;31mThe Kernel crashed while executing code in the current cell or a previous cell. \n",
      "\u001b[1;31mPlease review the code in the cell(s) to identify a possible cause of the failure. \n",
      "\u001b[1;31mClick <a href='https://aka.ms/vscodeJupyterKernelCrash'>here</a> for more info. \n",
      "\u001b[1;31mView Jupyter <a href='command:jupyter.viewOutput'>log</a> for further details."
     ]
    }
   ],
   "source": [
    "bs = 1\n",
    "summary(model, input_size=(bs, 1, 256, 512, 3))"
   ]
  },
  {
   "cell_type": "code",
   "execution_count": 8,
   "metadata": {},
   "outputs": [],
   "source": [
    "model = UNO(\n",
    "            in_channels = 1,\n",
    "            out_channels = 256,\n",
    "\n",
    "            hidden_channels = 32,\n",
    "            lifting_channels = 256,\n",
    "            projection_channels = 256,\n",
    "            n_layers = 6,\n",
    "\n",
    "            uno_n_modes = [[16,16, 16],\n",
    "                            [ 8, 8,  8],\n",
    "                            [ 8, 8,  8],\n",
    "                            [ 8, 8,  8],\n",
    "                            [ 8, 8,  8],\n",
    "                            [16,16, 16]],\n",
    "            uno_out_channels = [32,\n",
    "                              64,\n",
    "                              128,\n",
    "                              128,\n",
    "                              64,\n",
    "                             32],\n",
    "        uno_scalings =  [[0.5,0.5,1.0],\n",
    "                         [0.5,0.5,1.0],\n",
    "                         [0.5,0.5,1.0],\n",
    "                         [2.0,2.0,1.0],\n",
    "                         [2.0,2.0,1.0],\n",
    "                         [2.0,2.0,1.0]]\n",
    "        ).to(device)"
   ]
  },
  {
   "cell_type": "code",
   "execution_count": 9,
   "metadata": {},
   "outputs": [
    {
     "data": {
      "text/plain": [
       "==========================================================================================\n",
       "Layer (type:depth-idx)                   Output Shape              Param #\n",
       "==========================================================================================\n",
       "UNO                                      [1, 256, 256, 512, 3]     --\n",
       "├─MLP: 1-1                               [1, 32, 256, 512, 3]      --\n",
       "│    └─ModuleList: 2-1                   --                        --\n",
       "│    │    └─Conv3d: 3-1                  [1, 256, 256, 512, 3]     512\n",
       "│    │    └─Conv3d: 3-2                  [1, 32, 256, 512, 3]      8,224\n",
       "├─ModuleList: 1-8                        --                        (recursive)\n",
       "│    └─FNOBlocks: 2-2                    [1, 128, 128, 256, 3]     --\n",
       "│    │    └─ModuleList: 3-3              --                        4,096\n",
       "│    │    └─SpectralConv: 3-4            [1, 128, 128, 256, 3]     18,874,496\n",
       "├─ModuleDict: 1-7                        --                        (recursive)\n",
       "│    └─Conv3d: 2-3                       [1, 128, 128, 256, 3]     16,384\n",
       "├─ModuleList: 1-8                        --                        (recursive)\n",
       "│    └─FNOBlocks: 2-4                    [1, 64, 64, 128, 3]       --\n",
       "│    │    └─ModuleList: 3-5              --                        8,192\n",
       "│    │    └─SpectralConv: 3-6            [1, 64, 64, 128, 3]       5,242,944\n",
       "├─ModuleDict: 1-7                        --                        (recursive)\n",
       "│    └─Conv3d: 2-5                       [1, 64, 64, 128, 3]       4,096\n",
       "├─ModuleList: 1-8                        --                        (recursive)\n",
       "│    └─FNOBlocks: 2-6                    [1, 32, 32, 64, 3]        --\n",
       "│    │    └─ModuleList: 3-7              --                        2,048\n",
       "│    │    └─SpectralConv: 3-8            [1, 32, 32, 64, 3]        1,310,752\n",
       "├─ModuleDict: 1-7                        --                        (recursive)\n",
       "│    └─Conv3d: 2-7                       [1, 32, 32, 64, 3]        1,024\n",
       "├─ModuleList: 1-8                        --                        (recursive)\n",
       "│    └─FNOBlocks: 2-8                    [1, 32, 64, 128, 3]       --\n",
       "│    │    └─ModuleList: 3-9              --                        2,048\n",
       "│    │    └─SpectralConv: 3-10           [1, 32, 64, 128, 3]       1,310,752\n",
       "│    └─FNOBlocks: 2-9                    [1, 64, 128, 256, 3]      --\n",
       "│    │    └─ModuleList: 3-11             --                        6,144\n",
       "│    │    └─SpectralConv: 3-12           [1, 64, 128, 256, 3]      3,932,224\n",
       "│    └─FNOBlocks: 2-10                   [1, 128, 256, 512, 3]     --\n",
       "│    │    └─ModuleList: 3-13             --                        24,576\n",
       "│    │    └─SpectralConv: 3-14           [1, 128, 256, 512, 3]     113,246,336\n",
       "├─MLP: 1-9                               [1, 256, 256, 512, 3]     --\n",
       "│    └─ModuleList: 2-11                  --                        --\n",
       "│    │    └─Conv3d: 3-15                 [1, 256, 256, 512, 3]     33,024\n",
       "│    │    └─Conv3d: 3-16                 [1, 256, 256, 512, 3]     65,792\n",
       "==========================================================================================\n",
       "Total params: 144,093,664\n",
       "Trainable params: 144,093,664\n",
       "Non-trainable params: 0\n",
       "Total mult-adds (G): 49.05\n",
       "==========================================================================================\n",
       "Input size (MB): 1.57\n",
       "Forward/backward pass size (MB): 3205.50\n",
       "Params size (MB): 0.70\n",
       "Estimated Total Size (MB): 3207.77\n",
       "=========================================================================================="
      ]
     },
     "execution_count": 9,
     "metadata": {},
     "output_type": "execute_result"
    }
   ],
   "source": [
    "bs = 1\n",
    "summary(model, input_size=(bs, 1, 256, 512, 3))"
   ]
  },
  {
   "cell_type": "code",
   "execution_count": 3,
   "metadata": {},
   "outputs": [],
   "source": [
    "model = UNO(\n",
    "            hidden_channels = 32,\n",
    "            in_channels = 1,\n",
    "            out_channels = 256,\n",
    "            lifting_channels = 256,\n",
    "            projection_channels = 256,\n",
    "            n_layers = 6,\n",
    "\n",
    "            uno_n_modes = [[16,16, 16],\n",
    "                            [ 8, 8,  8],\n",
    "                            [ 8, 8,  8],\n",
    "                            [ 8, 8,  8],\n",
    "                            [ 8, 8,  8],\n",
    "                            [16,16, 16]],\n",
    "            uno_out_channels = [32,\n",
    "                                64,\n",
    "                                64,\n",
    "                                64,\n",
    "                                64,\n",
    "                                32],\n",
    "            uno_scalings = [[1.0,1.0,1.0],\n",
    "                            [0.5,0.5,0.5],\n",
    "                            [1.0,1.0,1.0],\n",
    "                            [1.0,1.0,1.0],\n",
    "                            [2.0,2.0,2.0],\n",
    "                            [1.0,1.0,1.0]],\n",
    "        ).to(device)"
   ]
  },
  {
   "cell_type": "code",
   "execution_count": 5,
   "metadata": {},
   "outputs": [
    {
     "data": {
      "text/plain": [
       "==========================================================================================\n",
       "Layer (type:depth-idx)                   Output Shape              Param #\n",
       "==========================================================================================\n",
       "UNO                                      [1, 256, 256, 512, 3]     --\n",
       "├─MLP: 1-1                               [1, 32, 256, 512, 3]      --\n",
       "│    └─ModuleList: 2-1                   --                        --\n",
       "│    │    └─Conv3d: 3-1                  [1, 256, 256, 512, 3]     512\n",
       "│    │    └─Conv3d: 3-2                  [1, 32, 256, 512, 3]      8,224\n",
       "├─ModuleList: 1-8                        --                        (recursive)\n",
       "│    └─FNOBlocks: 2-2                    [1, 32, 256, 512, 3]      --\n",
       "│    │    └─ModuleList: 3-3              --                        1,024\n",
       "│    │    └─SpectralConv: 3-4            [1, 32, 256, 512, 3]      4,718,624\n",
       "├─ModuleDict: 1-7                        --                        (recursive)\n",
       "│    └─Conv3d: 2-3                       [1, 32, 256, 512, 3]      1,024\n",
       "├─ModuleList: 1-8                        --                        (recursive)\n",
       "│    └─FNOBlocks: 2-4                    [1, 64, 128, 256, 2]      --\n",
       "│    │    └─ModuleList: 3-5              --                        2,048\n",
       "│    │    └─SpectralConv: 3-6            [1, 64, 128, 256, 2]      1,310,784\n",
       "├─ModuleDict: 1-7                        --                        (recursive)\n",
       "│    └─Conv3d: 2-5                       [1, 64, 128, 256, 2]      4,096\n",
       "├─ModuleList: 1-8                        --                        (recursive)\n",
       "│    └─FNOBlocks: 2-6                    [1, 64, 128, 256, 2]      --\n",
       "│    │    └─ModuleList: 3-7              --                        4,096\n",
       "│    │    └─SpectralConv: 3-8            [1, 64, 128, 256, 2]      2,621,504\n",
       "├─ModuleDict: 1-7                        --                        (recursive)\n",
       "│    └─Conv3d: 2-7                       [1, 64, 128, 256, 2]      4,096\n",
       "├─ModuleList: 1-8                        --                        (recursive)\n",
       "│    └─FNOBlocks: 2-8                    [1, 64, 128, 256, 2]      --\n",
       "│    │    └─ModuleList: 3-9              --                        8,192\n",
       "│    │    └─SpectralConv: 3-10           [1, 64, 128, 256, 2]      5,242,944\n",
       "│    └─FNOBlocks: 2-9                    [1, 64, 256, 512, 4]      --\n",
       "│    │    └─ModuleList: 3-11             --                        8,192\n",
       "│    │    └─SpectralConv: 3-12           [1, 64, 256, 512, 4]      5,242,944\n",
       "│    └─FNOBlocks: 2-10                   [1, 32, 256, 512, 3]      --\n",
       "│    │    └─ModuleList: 3-13             --                        3,072\n",
       "│    │    └─SpectralConv: 3-14           [1, 32, 256, 512, 3]      14,155,808\n",
       "├─MLP: 1-9                               [1, 256, 256, 512, 3]     --\n",
       "│    └─ModuleList: 2-11                  --                        --\n",
       "│    │    └─Conv3d: 3-15                 [1, 256, 256, 512, 3]     8,448\n",
       "│    │    └─Conv3d: 3-16                 [1, 256, 256, 512, 3]     65,792\n",
       "==========================================================================================\n",
       "Total params: 33,411,424\n",
       "Trainable params: 33,411,424\n",
       "Non-trainable params: 0\n",
       "Total mult-adds (G): 37.73\n",
       "==========================================================================================\n",
       "Input size (MB): 1.57\n",
       "Forward/backward pass size (MB): 3221.23\n",
       "Params size (MB): 0.48\n",
       "Estimated Total Size (MB): 3223.27\n",
       "=========================================================================================="
      ]
     },
     "execution_count": 5,
     "metadata": {},
     "output_type": "execute_result"
    }
   ],
   "source": [
    "bs = 1\n",
    "summary(model, input_size=(bs, 1, 256, 512, 3))"
   ]
  },
  {
   "cell_type": "code",
   "execution_count": 21,
   "metadata": {},
   "outputs": [
    {
     "data": {
      "text/plain": [
       "768"
      ]
     },
     "execution_count": 21,
     "metadata": {},
     "output_type": "execute_result"
    }
   ],
   "source": [
    "256*3"
   ]
  },
  {
   "cell_type": "code",
   "execution_count": 10,
   "metadata": {},
   "outputs": [],
   "source": [
    "model = UNO(\n",
    "            in_channels = 3,\n",
    "            out_channels = 256*3,\n",
    "            \n",
    "            # lifting\n",
    "            hidden_channels = 256,\n",
    "\n",
    "            # mlp hidden layer neurons\n",
    "            lifting_channels = 256,\n",
    "            projection_channels = 256,\n",
    "\n",
    "            # number of layers\n",
    "            n_layers = 8,\n",
    "\n",
    "            uno_out_channels = [128,\n",
    "                                64,\n",
    "                                32,\n",
    "                                16,\n",
    "                                16,\n",
    "                                32,\n",
    "                                64,\n",
    "                                128],\n",
    "                                \n",
    "            uno_scalings = [[0.5,0.5],\n",
    "                            [0.5,0.5],\n",
    "                            [0.5,0.5],\n",
    "                            [0.5,0.5],\n",
    "                            [2.0,2.0],\n",
    "                            [2.0,2.0],\n",
    "                            [2.0,2.0],\n",
    "                            [2.0,2.0]],\n",
    "\n",
    "            uno_n_modes = [[ 8, 8],\n",
    "                           [ 8, 8],\n",
    "                           [ 8, 8],\n",
    "                           [ 8, 8],\n",
    "                           [ 8, 8],\n",
    "                           [ 8, 8],\n",
    "                           [ 8, 8],\n",
    "                           [ 8, 8]],\n",
    "            \n",
    "        ).to(device)"
   ]
  },
  {
   "cell_type": "code",
   "execution_count": 11,
   "metadata": {},
   "outputs": [
    {
     "data": {
      "text/plain": [
       "==========================================================================================\n",
       "Layer (type:depth-idx)                   Output Shape              Param #\n",
       "==========================================================================================\n",
       "UNO                                      [1, 768, 256, 512]        --\n",
       "├─MLP: 1-1                               [1, 256, 256, 512]        --\n",
       "│    └─ModuleList: 2-1                   --                        --\n",
       "│    │    └─Conv2d: 3-1                  [1, 256, 256, 512]        1,024\n",
       "│    │    └─Conv2d: 3-2                  [1, 256, 256, 512]        65,792\n",
       "├─ModuleList: 1-10                       --                        (recursive)\n",
       "│    └─FNOBlocks: 2-2                    [1, 128, 128, 256]        --\n",
       "│    │    └─ModuleList: 3-3              --                        32,768\n",
       "│    │    └─SpectralConv: 3-4            [1, 128, 128, 256]        2,621,568\n",
       "├─ModuleDict: 1-9                        --                        (recursive)\n",
       "│    └─Conv2d: 2-3                       [1, 128, 128, 256]        16,384\n",
       "├─ModuleList: 1-10                       --                        (recursive)\n",
       "│    └─FNOBlocks: 2-4                    [1, 64, 64, 128]          --\n",
       "│    │    └─ModuleList: 3-5              --                        8,192\n",
       "│    │    └─SpectralConv: 3-6            [1, 64, 64, 128]          655,424\n",
       "├─ModuleDict: 1-9                        --                        (recursive)\n",
       "│    └─Conv2d: 2-5                       [1, 64, 64, 128]          4,096\n",
       "├─ModuleList: 1-10                       --                        (recursive)\n",
       "│    └─FNOBlocks: 2-6                    [1, 32, 32, 64]           --\n",
       "│    │    └─ModuleList: 3-7              --                        2,048\n",
       "│    │    └─SpectralConv: 3-8            [1, 32, 32, 64]           163,872\n",
       "├─ModuleDict: 1-9                        --                        (recursive)\n",
       "│    └─Conv2d: 2-7                       [1, 32, 32, 64]           1,024\n",
       "├─ModuleList: 1-10                       --                        (recursive)\n",
       "│    └─FNOBlocks: 2-8                    [1, 16, 16, 32]           --\n",
       "│    │    └─ModuleList: 3-9              --                        512\n",
       "│    │    └─SpectralConv: 3-10           [1, 16, 16, 32]           40,976\n",
       "├─ModuleDict: 1-9                        --                        (recursive)\n",
       "│    └─Conv2d: 2-9                       [1, 16, 16, 32]           256\n",
       "├─ModuleList: 1-10                       --                        (recursive)\n",
       "│    └─FNOBlocks: 2-10                   [1, 16, 32, 64]           --\n",
       "│    │    └─ModuleList: 3-11             --                        512\n",
       "│    │    └─SpectralConv: 3-12           [1, 16, 32, 64]           40,976\n",
       "│    └─FNOBlocks: 2-11                   [1, 32, 64, 128]          --\n",
       "│    │    └─ModuleList: 3-13             --                        1,536\n",
       "│    │    └─SpectralConv: 3-14           [1, 32, 64, 128]          122,912\n",
       "│    └─FNOBlocks: 2-12                   [1, 64, 128, 256]         --\n",
       "│    │    └─ModuleList: 3-15             --                        6,144\n",
       "│    │    └─SpectralConv: 3-16           [1, 64, 128, 256]         491,584\n",
       "│    └─FNOBlocks: 2-13                   [1, 128, 256, 512]        --\n",
       "│    │    └─ModuleList: 3-17             --                        24,576\n",
       "│    │    └─SpectralConv: 3-18           [1, 128, 256, 512]        1,966,208\n",
       "├─MLP: 1-11                              [1, 768, 256, 512]        --\n",
       "│    └─ModuleList: 2-14                  --                        --\n",
       "│    │    └─Conv2d: 3-19                 [1, 256, 256, 512]        33,024\n",
       "│    │    └─Conv2d: 3-20                 [1, 768, 256, 512]        197,376\n",
       "==========================================================================================\n",
       "Total params: 6,498,784\n",
       "Trainable params: 6,498,784\n",
       "Non-trainable params: 0\n",
       "Total mult-adds (G): 44.97\n",
       "==========================================================================================\n",
       "Input size (MB): 1.57\n",
       "Forward/backward pass size (MB): 1840.64\n",
       "Params size (MB): 1.58\n",
       "Estimated Total Size (MB): 1843.80\n",
       "=========================================================================================="
      ]
     },
     "execution_count": 11,
     "metadata": {},
     "output_type": "execute_result"
    }
   ],
   "source": [
    "bs = 1\n",
    "summary(model, input_size=(bs, 3, 256, 512))"
   ]
  },
  {
   "cell_type": "code",
   "execution_count": 12,
   "metadata": {},
   "outputs": [],
   "source": [
    "x = torch.rand((bs, 3, 256, 512)).to(device)"
   ]
  },
  {
   "cell_type": "code",
   "execution_count": 13,
   "metadata": {},
   "outputs": [],
   "source": [
    "y = model(x)"
   ]
  },
  {
   "cell_type": "code",
   "execution_count": 14,
   "metadata": {},
   "outputs": [
    {
     "data": {
      "text/plain": [
       "torch.Size([1, 768, 256, 512])"
      ]
     },
     "execution_count": 14,
     "metadata": {},
     "output_type": "execute_result"
    }
   ],
   "source": [
    "y.shape"
   ]
  },
  {
   "cell_type": "code",
   "execution_count": 15,
   "metadata": {},
   "outputs": [
    {
     "data": {
      "text/plain": [
       "torch.Size([1, 256, 256, 512])"
      ]
     },
     "execution_count": 15,
     "metadata": {},
     "output_type": "execute_result"
    }
   ],
   "source": [
    "y[:, 0:256].shape"
   ]
  },
  {
   "cell_type": "code",
   "execution_count": 20,
   "metadata": {},
   "outputs": [
    {
     "data": {
      "text/plain": [
       "torch.Size([1, 256, 256, 512, 3])"
      ]
     },
     "execution_count": 20,
     "metadata": {},
     "output_type": "execute_result"
    }
   ],
   "source": [
    "cc = torch.stack([y[:, 0:256], y[:, 256:512], y[:, 512:768]], dim=-1)\n",
    "cc.shape"
   ]
  },
  {
   "cell_type": "code",
   "execution_count": null,
   "metadata": {},
   "outputs": [],
   "source": []
  }
 ],
 "metadata": {
  "kernelspec": {
   "display_name": "rtmag",
   "language": "python",
   "name": "python3"
  },
  "language_info": {
   "codemirror_mode": {
    "name": "ipython",
    "version": 3
   },
   "file_extension": ".py",
   "mimetype": "text/x-python",
   "name": "python",
   "nbconvert_exporter": "python",
   "pygments_lexer": "ipython3",
   "version": "3.9.18"
  }
 },
 "nbformat": 4,
 "nbformat_minor": 2
}
