{
 "cells": [
  {
   "cell_type": "code",
   "execution_count": 1,
   "id": "93585add",
   "metadata": {},
   "outputs": [],
   "source": [
    "from rtmag.paper.load import load_input_label, MyModel"
   ]
  },
  {
   "cell_type": "code",
   "execution_count": 2,
   "id": "5eb636ff",
   "metadata": {},
   "outputs": [
    {
     "name": "stdout",
     "output_type": "stream",
     "text": [
      "Model loaded from epoch 75\n"
     ]
    }
   ],
   "source": [
    "mm = MyModel(\"/home/mgjeon/space/workspace/base_important/uno_pi_cc_hnorm_unit_aug/model_75.pt\")"
   ]
  },
  {
   "cell_type": "code",
   "execution_count": 3,
   "id": "a000c0da",
   "metadata": {},
   "outputs": [
    {
     "data": {
      "text/plain": [
       "(66, 66)"
      ]
     },
     "execution_count": 3,
     "metadata": {},
     "output_type": "execute_result"
    }
   ],
   "source": [
    "input_files, label_files = load_input_label(\"/mnt/f/isee_dataset/11158\")\n",
    "len(input_files), len(label_files)"
   ]
  },
  {
   "cell_type": "code",
   "execution_count": 4,
   "id": "8c6a5181",
   "metadata": {},
   "outputs": [
    {
     "data": {
      "text/plain": [
       "PosixPath('/mnt/f/isee_dataset/11158/input/input_11158_20110214_000000.npz')"
      ]
     },
     "execution_count": 4,
     "metadata": {},
     "output_type": "execute_result"
    }
   ],
   "source": [
    "idx = 13\n",
    "input_files[idx]"
   ]
  },
  {
   "cell_type": "code",
   "execution_count": 5,
   "id": "f0bd2522",
   "metadata": {},
   "outputs": [],
   "source": [
    "from time import time\n",
    "import numpy as np"
   ]
  },
  {
   "cell_type": "code",
   "execution_count": 6,
   "id": "c54d10c9",
   "metadata": {},
   "outputs": [
    {
     "data": {
      "text/plain": [
       "(512, 256, 256, 3)"
      ]
     },
     "execution_count": 6,
     "metadata": {},
     "output_type": "execute_result"
    }
   ],
   "source": [
    "filepath = \"/home/mgjeon/space/magnetic_modelling/Wiegelmann/_output/11158_20110214_000000/Bout.bin\"\n",
    "b = np.fromfile(filepath, dtype=np.float64)\n",
    "b = b.reshape((3, 512, 256, 256)).transpose(1, 2, 3, 0).astype(np.float32)\n",
    "b.shape"
   ]
  },
  {
   "cell_type": "code",
   "execution_count": 7,
   "id": "19607441",
   "metadata": {},
   "outputs": [
    {
     "data": {
      "text/plain": [
       "(512, 256, 256, 3)"
      ]
     },
     "execution_count": 7,
     "metadata": {},
     "output_type": "execute_result"
    }
   ],
   "source": [
    "b.shape"
   ]
  },
  {
   "cell_type": "code",
   "execution_count": 8,
   "id": "ada0c343",
   "metadata": {},
   "outputs": [],
   "source": [
    "# start_time = time()\n",
    "# # b = mm.get_pred(input_files[idx])\n",
    "# print(f\"{time() - start_time} seconds\")"
   ]
  },
  {
   "cell_type": "code",
   "execution_count": 9,
   "id": "4cf3a915",
   "metadata": {},
   "outputs": [
    {
     "name": "stdout",
     "output_type": "stream",
     "text": [
      "1.2726588249206543 seconds\n"
     ]
    }
   ],
   "source": [
    "start_time = time()\n",
    "B = mm.get_label(label_files[idx])\n",
    "dx, dy, dz, dV = mm.get_dV(input_files[idx])\n",
    "print(f\"{time() - start_time} seconds\")"
   ]
  },
  {
   "cell_type": "code",
   "execution_count": 10,
   "id": "d20e6031",
   "metadata": {},
   "outputs": [
    {
     "data": {
      "text/plain": [
       "((512, 256, 256, 3), (512, 256, 256, 3))"
      ]
     },
     "execution_count": 10,
     "metadata": {},
     "output_type": "execute_result"
    }
   ],
   "source": [
    "b.shape, B.shape"
   ]
  },
  {
   "cell_type": "code",
   "execution_count": 11,
   "id": "4959e162",
   "metadata": {},
   "outputs": [],
   "source": [
    "import numpy as np"
   ]
  },
  {
   "cell_type": "code",
   "execution_count": 12,
   "id": "ecc4d4d6",
   "metadata": {},
   "outputs": [],
   "source": [
    "Lx = b.shape[0]\n",
    "Ly = b.shape[1]\n",
    "\n",
    "numbers = 20\n",
    "\n",
    "# xmin, xmax, ymin, ymax\n",
    "xyranges = [\n",
    "    [0.30, 0.35, 0.50, 0.55],\n",
    "    [0.45, 0.50, 0.60, 0.65],\n",
    "    [0.65, 0.70, 0.70, 0.80],\n",
    "    [0.35, 0.40, 0.30, 0.35],\n",
    "    [0.35, 0.40, 0.40, 0.45],\n",
    "    [0.30, 0.35, 0.30, 0.35],\n",
    "    [0.70, 0.75, 0.70, 0.75],\n",
    "    [0.32, 0.35, 0.40, 0.45],\n",
    "]\n",
    "\n",
    "seeds_xs = []\n",
    "\n",
    "for xyrange in xyranges:\n",
    "\n",
    "    xrange = np.array(xyrange[:2]) * Lx\n",
    "    yrange = np.array(xyrange[2:]) * Ly\n",
    "\n",
    "    np.random.seed(0)\n",
    "    seeds = np.random.rand(numbers, 3) * [1, 1, 0]\n",
    "    # seeds = np.stack([np.linspace(0, 1, numbers), np.linspace(0, 1, numbers), np.linspace(0, 1, numbers)], axis=-1) * [1, 1, 0]\n",
    "    seeds[:, 0] = seeds[:, 0] * (xrange[1] - xrange[0]) + xrange[0]\n",
    "    seeds[:, 1] = seeds[:, 1] * (yrange[1] - yrange[0]) + yrange[0]\n",
    "    seeds_xs.append(seeds)\n",
    "\n",
    "seeds_xs = np.vstack(seeds_xs)"
   ]
  },
  {
   "cell_type": "code",
   "execution_count": 13,
   "id": "7c53a0e6",
   "metadata": {},
   "outputs": [
    {
     "data": {
      "text/plain": [
       "(160, 3)"
      ]
     },
     "execution_count": 13,
     "metadata": {},
     "output_type": "execute_result"
    }
   ],
   "source": [
    "seeds_xs.shape"
   ]
  },
  {
   "cell_type": "code",
   "execution_count": 14,
   "id": "81197e24",
   "metadata": {},
   "outputs": [],
   "source": [
    "import pyvista as pv\n",
    "\n",
    "from rtmag.paper.metric import current_density, curl"
   ]
  },
  {
   "cell_type": "code",
   "execution_count": 15,
   "id": "ba55f676",
   "metadata": {},
   "outputs": [],
   "source": [
    "def create_coordinates(bounds):\n",
    "    xbounds = (bounds[0], bounds[1])\n",
    "    ybounds = (bounds[2], bounds[3])\n",
    "    zbounds = (bounds[4], bounds[5])\n",
    "    meshgrid = np.mgrid[xbounds[0]:xbounds[1]+1, ybounds[0]:ybounds[1]+1, zbounds[0]:zbounds[1]+1]\n",
    "    return np.stack(meshgrid, axis=-1).astype(np.float32)\n",
    "\n",
    "def create_mesh(b):\n",
    "    bx, by, bz = b[..., 0], b[..., 1], b[..., 2]\n",
    "    bx, by, bz = map(np.array, (bx, by, bz))\n",
    "    Nx, Ny, Nz = bx.shape\n",
    "    co_bounds = (0, Nx-1, 0, Ny-1, 0, Nz-1)\n",
    "    co_coords = create_coordinates(co_bounds).reshape(-1, 3)\n",
    "    co_coord = co_coords.reshape(Nx, Ny, Nz, 3)\n",
    "    x = co_coord[..., 0]\n",
    "    y = co_coord[..., 1]\n",
    "    z = co_coord[..., 2]\n",
    "    mesh = pv.StructuredGrid(x, y, z)\n",
    "    vectors = np.stack([bx, by, bz], axis=-1).transpose(2, 1, 0, 3).reshape(-1, 3)\n",
    "    mesh['vector'] = vectors\n",
    "    mesh.active_vectors_name = 'vector'\n",
    "    magnitude = np.linalg.norm(vectors, axis=-1)\n",
    "    mesh['magnitude'] = magnitude\n",
    "    mesh.active_scalars_name = 'magnitude'\n",
    "\n",
    "    j = curl(b)\n",
    "    j_vec = np.stack([j[..., 0], j[..., 1], j[..., 2]], axis=-1).transpose(2, 1, 0, 3).reshape(-1, 3)\n",
    "    mesh['current'] = j_vec\n",
    "    j_mag = np.linalg.norm(j_vec, axis=-1)\n",
    "    mesh['current_magnitude'] = j_mag\n",
    "\n",
    "    j = current_density(b, dx, dy, dz)\n",
    "    j_vec = np.stack([j[..., 0], j[..., 1], j[..., 2]], axis=-1).transpose(2, 1, 0, 3).reshape(-1, 3)\n",
    "    mesh['current_density'] = j_vec\n",
    "    j_mag = np.linalg.norm(j_vec, axis=-1)\n",
    "    mesh['current_density_magnitude'] = j_mag\n",
    "\n",
    "    return mesh"
   ]
  },
  {
   "cell_type": "code",
   "execution_count": 16,
   "id": "9968f2c0",
   "metadata": {},
   "outputs": [],
   "source": [
    "mesh = create_mesh(b)"
   ]
  },
  {
   "cell_type": "code",
   "execution_count": 17,
   "id": "aff12de2",
   "metadata": {},
   "outputs": [],
   "source": [
    "mesh_c = create_mesh(b[128:256, 64:256, 128:256])"
   ]
  },
  {
   "cell_type": "code",
   "execution_count": 18,
   "id": "a63b9126",
   "metadata": {},
   "outputs": [
    {
     "data": {
      "application/vnd.jupyter.widget-view+json": {
       "model_id": "4c30d2bbbbff4a84b86c05d23bb1dafb",
       "version_major": 2,
       "version_minor": 0
      },
      "text/plain": [
       "Widget(value='<iframe src=\"http://localhost:34779/index.html?ui=P_0x7f612e40dca0_0&reconnect=auto\" class=\"pyvi…"
      ]
     },
     "metadata": {},
     "output_type": "display_data"
    }
   ],
   "source": [
    "p = pv.Plotter(window_size=(1000, 600))\n",
    "p.add_mesh(mesh.outline())\n",
    "seed = pv.PolyData(seeds_xs)\n",
    "# p.add_mesh(seed, color='blue', point_size=3)\n",
    "strl = mesh.streamlines_from_source(seed,\n",
    "                                    vectors='vector',\n",
    "                                    max_time=10000,\n",
    "                                    initial_step_length=0.1,\n",
    "                                    integration_direction='both')\n",
    "x_ind_min, y_ind_min, z_ind_min = 0, 0, 0\n",
    "Nx, Ny, Nz = mesh.dimensions\n",
    "x_ind_max, y_ind_max, z_ind_max = Nx-1, Ny-1, Nz-1\n",
    "bottom_subset = (x_ind_min, x_ind_max, y_ind_min, y_ind_max, 0, 0)\n",
    "vmin, vmax = -2500, 2500\n",
    "dargs_B = dict(\n",
    "        scalars='vector', \n",
    "        component=2, \n",
    "        clim=(vmin, vmax), \n",
    "        scalar_bar_args=dict(\n",
    "            title='Bz [G]',\n",
    "            title_font_size=15,\n",
    "            height=0.25,\n",
    "            width=0.05,\n",
    "            vertical=True,\n",
    "            position_x = 0.05,\n",
    "            position_y = 0.05,\n",
    "        ),\n",
    "        show_scalar_bar=False, \n",
    "        lighting=False\n",
    "    )\n",
    "bottom = mesh.extract_subset(bottom_subset).extract_surface()\n",
    "p.add_mesh(strl.tube(radius=1), \n",
    "           cmap=pv.LookupTable(cmap='jet', scalar_range=(1, 5), log_scale=True), \n",
    "           scalars='current_density_magnitude',\n",
    "           scalar_bar_args=dict(title=\"Current Density [mA/m^2]\"))\n",
    "p.add_mesh(bottom, cmap='gray', **dargs_B)\n",
    "p.camera_position = \"xy\"\n",
    "p.camera.zoom(1.3)\n",
    "p.show(jupyter_backend=\"trame\")"
   ]
  },
  {
   "cell_type": "code",
   "execution_count": 19,
   "id": "d1378a78",
   "metadata": {},
   "outputs": [],
   "source": [
    "Mesh = create_mesh(B)"
   ]
  },
  {
   "cell_type": "code",
   "execution_count": 20,
   "id": "188483d0",
   "metadata": {},
   "outputs": [
    {
     "data": {
      "application/vnd.jupyter.widget-view+json": {
       "model_id": "a5502d5e30f74df9b10a4990669a5de3",
       "version_major": 2,
       "version_minor": 0
      },
      "text/plain": [
       "Widget(value='<iframe src=\"http://localhost:34779/index.html?ui=P_0x7f612daafe20_1&reconnect=auto\" class=\"pyvi…"
      ]
     },
     "metadata": {},
     "output_type": "display_data"
    }
   ],
   "source": [
    "p = pv.Plotter(window_size=(1000, 600))\n",
    "p.add_mesh(Mesh.outline())\n",
    "seed = pv.PolyData(seeds_xs)\n",
    "strl = Mesh.streamlines_from_source(seed,\n",
    "                                    vectors='vector',\n",
    "                                    max_time=10000,\n",
    "                                    initial_step_length=0.1,\n",
    "                                    integration_direction='both')\n",
    "x_ind_min, y_ind_min, z_ind_min = 0, 0, 0\n",
    "Nx, Ny, Nz = Mesh.dimensions\n",
    "x_ind_max, y_ind_max, z_ind_max = Nx-1, Ny-1, Nz-1\n",
    "bottom_subset = (x_ind_min, x_ind_max, y_ind_min, y_ind_max, 0, 0)\n",
    "vmin, vmax = -2500, 2500\n",
    "dargs_B = dict(\n",
    "        scalars='vector', \n",
    "        component=2, \n",
    "        clim=(vmin, vmax), \n",
    "        scalar_bar_args=dict(\n",
    "            title='Bz [G]',\n",
    "            title_font_size=15,\n",
    "            height=0.25,\n",
    "            width=0.05,\n",
    "            vertical=True,\n",
    "            position_x = 0.05,\n",
    "            position_y = 0.05,\n",
    "        ), \n",
    "        show_scalar_bar=False, \n",
    "        lighting=False\n",
    "    )\n",
    "bottom = Mesh.extract_subset(bottom_subset).extract_surface()\n",
    "p.add_mesh(strl.tube(radius=1), \n",
    "           cmap=pv.LookupTable(cmap='jet', scalar_range=(1, 5), log_scale=True), \n",
    "           scalars='current_density_magnitude',\n",
    "           scalar_bar_args=dict(title=\"Current Density [mA/m^2]\"))\n",
    "p.add_mesh(bottom, cmap='gray', **dargs_B)\n",
    "p.camera_position = \"xy\"\n",
    "p.camera.zoom(1.3)\n",
    "p.show(jupyter_backend=\"trame\")"
   ]
  },
  {
   "cell_type": "code",
   "execution_count": null,
   "id": "eefae33b",
   "metadata": {},
   "outputs": [],
   "source": []
  }
 ],
 "metadata": {
  "kernelspec": {
   "display_name": "rtmag",
   "language": "python",
   "name": "python3"
  },
  "language_info": {
   "codemirror_mode": {
    "name": "ipython",
    "version": 3
   },
   "file_extension": ".py",
   "mimetype": "text/x-python",
   "name": "python",
   "nbconvert_exporter": "python",
   "pygments_lexer": "ipython3",
   "version": "3.9.18"
  }
 },
 "nbformat": 4,
 "nbformat_minor": 5
}
