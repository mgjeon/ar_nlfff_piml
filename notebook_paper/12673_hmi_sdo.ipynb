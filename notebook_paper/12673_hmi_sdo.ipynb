{
 "cells": [
  {
   "cell_type": "code",
   "execution_count": 1,
   "metadata": {},
   "outputs": [],
   "source": [
    "import datetime\n",
    "\n",
    "import drms\n",
    "import astropy.units as u\n",
    "from sunpy.net import Fido, attrs as a\n",
    "from sunpy.map import Map"
   ]
  },
  {
   "cell_type": "code",
   "execution_count": 2,
   "metadata": {},
   "outputs": [],
   "source": [
    "tr = a.Time(\"2017-09-04 00:00:00.000\", \"2017-09-08 00:00:00.000\")\n",
    "result = Fido.search(tr,\n",
    "                      a.hek.FL,\n",
    "                      a.hek.FL.GOESCls > \"X1.0\",\n",
    "                      a.hek.OBS.Observatory == \"GOES\")"
   ]
  },
  {
   "cell_type": "code",
   "execution_count": 3,
   "metadata": {},
   "outputs": [
    {
     "data": {
      "text/html": [
       "<div><i>HEKTable length=3</i>\n",
       "<table id=\"table140423801394032\" class=\"table-striped table-bordered table-condensed\">\n",
       "<thead><tr><th>event_starttime</th><th>event_peaktime</th><th>event_endtime</th><th>fl_goescls</th><th>ar_noaanum</th></tr></thead>\n",
       "<thead><tr><th>Time</th><th>Time</th><th>Time</th><th>str4</th><th>int64</th></tr></thead>\n",
       "<tr><td>2017-09-06 08:57:00.000</td><td>2017-09-06 09:10:00.000</td><td>2017-09-06 09:17:00.000</td><td>X2.2</td><td>12673</td></tr>\n",
       "<tr><td>2017-09-06 11:53:00.000</td><td>2017-09-06 12:02:00.000</td><td>2017-09-06 12:10:00.000</td><td>X9.3</td><td>12673</td></tr>\n",
       "<tr><td>2017-09-07 14:20:00.000</td><td>2017-09-07 14:36:00.000</td><td>2017-09-07 14:55:00.000</td><td>X1.3</td><td>12673</td></tr>\n",
       "</table></div>"
      ],
      "text/plain": [
       "<sunpy.net.hek.hek.HEKTable object at 0x7fb76413f550>\n",
       "    event_starttime          event_peaktime     ... fl_goescls ar_noaanum\n",
       "----------------------- ----------------------- ... ---------- ----------\n",
       "2017-09-06 08:57:00.000 2017-09-06 09:10:00.000 ...       X2.2      12673\n",
       "2017-09-06 11:53:00.000 2017-09-06 12:02:00.000 ...       X9.3      12673\n",
       "2017-09-07 14:20:00.000 2017-09-07 14:36:00.000 ...       X1.3      12673"
      ]
     },
     "execution_count": 3,
     "metadata": {},
     "output_type": "execute_result"
    }
   ],
   "source": [
    "hek_results = result[\"hek\"][\"event_starttime\", \"event_peaktime\",\n",
    "                             \"event_endtime\", \"fl_goescls\", \"ar_noaanum\"]\n",
    "hek_results"
   ]
  },
  {
   "cell_type": "code",
   "execution_count": 4,
   "metadata": {},
   "outputs": [
    {
     "data": {
      "text/plain": [
       "<Time object: scale='utc' format='iso' value=['2017-09-06 09:10:00.000' '2017-09-06 12:02:00.000'\n",
       " '2017-09-07 14:36:00.000']>"
      ]
     },
     "execution_count": 4,
     "metadata": {},
     "output_type": "execute_result"
    }
   ],
   "source": [
    "peaktime= hek_results[\"event_peaktime\"]\n",
    "peaktime"
   ]
  },
  {
   "cell_type": "code",
   "execution_count": 5,
   "metadata": {},
   "outputs": [],
   "source": [
    "times = []\n",
    "\n",
    "time_interval = datetime.timedelta(minutes=30)\n",
    "\n",
    "for pt in peaktime:\n",
    "    times.append(a.Time(pt - time_interval, pt + time_interval))"
   ]
  },
  {
   "cell_type": "code",
   "execution_count": 6,
   "metadata": {},
   "outputs": [
    {
     "data": {
      "text/plain": [
       "[<sunpy.net.attrs.Time(2017-09-06 08:40:00.000, 2017-09-06 09:40:00.000)>,\n",
       " <sunpy.net.attrs.Time(2017-09-06 11:32:00.000, 2017-09-06 12:32:00.000)>,\n",
       " <sunpy.net.attrs.Time(2017-09-07 14:06:00.000, 2017-09-07 15:06:00.000)>]"
      ]
     },
     "execution_count": 6,
     "metadata": {},
     "output_type": "execute_result"
    }
   ],
   "source": [
    "times"
   ]
  },
  {
   "cell_type": "markdown",
   "metadata": {},
   "source": [
    "# SHARP"
   ]
  },
  {
   "cell_type": "code",
   "execution_count": 7,
   "metadata": {},
   "outputs": [],
   "source": [
    "c = drms.Client(email=\"mgjeon@khu.ac.kr\")"
   ]
  },
  {
   "cell_type": "code",
   "execution_count": 8,
   "metadata": {},
   "outputs": [
    {
     "data": {
      "text/html": [
       "<div>\n",
       "<style scoped>\n",
       "    .dataframe tbody tr th:only-of-type {\n",
       "        vertical-align: middle;\n",
       "    }\n",
       "\n",
       "    .dataframe tbody tr th {\n",
       "        vertical-align: top;\n",
       "    }\n",
       "\n",
       "    .dataframe thead th {\n",
       "        text-align: right;\n",
       "    }\n",
       "</style>\n",
       "<table border=\"1\" class=\"dataframe\">\n",
       "  <thead>\n",
       "    <tr style=\"text-align: right;\">\n",
       "      <th></th>\n",
       "      <th>type</th>\n",
       "      <th>units</th>\n",
       "      <th>protocol</th>\n",
       "      <th>dims</th>\n",
       "      <th>note</th>\n",
       "    </tr>\n",
       "    <tr>\n",
       "      <th>name</th>\n",
       "      <th></th>\n",
       "      <th></th>\n",
       "      <th></th>\n",
       "      <th></th>\n",
       "      <th></th>\n",
       "    </tr>\n",
       "  </thead>\n",
       "  <tbody>\n",
       "    <tr>\n",
       "      <th>magnetogram</th>\n",
       "      <td>int</td>\n",
       "      <td>Gauss</td>\n",
       "      <td>fits</td>\n",
       "      <td>VARxVAR</td>\n",
       "      <td>Line-of-sight magnetogram in CEA projection</td>\n",
       "    </tr>\n",
       "    <tr>\n",
       "      <th>bitmap</th>\n",
       "      <td>char</td>\n",
       "      <td>Enumerated</td>\n",
       "      <td>fits</td>\n",
       "      <td>VARxVAR</td>\n",
       "      <td>Mask for the patch in CEA coordinates</td>\n",
       "    </tr>\n",
       "    <tr>\n",
       "      <th>Dopplergram</th>\n",
       "      <td>int</td>\n",
       "      <td>m/s</td>\n",
       "      <td>fits</td>\n",
       "      <td>VARxVAR</td>\n",
       "      <td>Dopplergram in CEA projection</td>\n",
       "    </tr>\n",
       "    <tr>\n",
       "      <th>continuum</th>\n",
       "      <td>int</td>\n",
       "      <td>DN/s</td>\n",
       "      <td>fits</td>\n",
       "      <td>VARxVAR</td>\n",
       "      <td>Intensitygram in CEA projection</td>\n",
       "    </tr>\n",
       "    <tr>\n",
       "      <th>Bp</th>\n",
       "      <td>int</td>\n",
       "      <td>Gauss</td>\n",
       "      <td>fits</td>\n",
       "      <td>VARxVAR</td>\n",
       "      <td>B_phi, positive westward</td>\n",
       "    </tr>\n",
       "    <tr>\n",
       "      <th>Bt</th>\n",
       "      <td>int</td>\n",
       "      <td>Gauss</td>\n",
       "      <td>fits</td>\n",
       "      <td>VARxVAR</td>\n",
       "      <td>B_theta, positive southward</td>\n",
       "    </tr>\n",
       "    <tr>\n",
       "      <th>Br</th>\n",
       "      <td>int</td>\n",
       "      <td>Gauss</td>\n",
       "      <td>fits</td>\n",
       "      <td>VARxVAR</td>\n",
       "      <td>B_r, positive up</td>\n",
       "    </tr>\n",
       "    <tr>\n",
       "      <th>Bp_err</th>\n",
       "      <td>int</td>\n",
       "      <td>Gauss</td>\n",
       "      <td>fits</td>\n",
       "      <td>VARxVAR</td>\n",
       "      <td>Standard deviation of B_phi</td>\n",
       "    </tr>\n",
       "    <tr>\n",
       "      <th>Bt_err</th>\n",
       "      <td>int</td>\n",
       "      <td>Gauss</td>\n",
       "      <td>fits</td>\n",
       "      <td>VARxVAR</td>\n",
       "      <td>Standard deviation of B_theta</td>\n",
       "    </tr>\n",
       "    <tr>\n",
       "      <th>Br_err</th>\n",
       "      <td>int</td>\n",
       "      <td>Gauss</td>\n",
       "      <td>fits</td>\n",
       "      <td>VARxVAR</td>\n",
       "      <td>Standard deviation of B_r</td>\n",
       "    </tr>\n",
       "    <tr>\n",
       "      <th>conf_disambig</th>\n",
       "      <td>char</td>\n",
       "      <td>none</td>\n",
       "      <td>fits</td>\n",
       "      <td>VARxVAR</td>\n",
       "      <td>confidence of disambiguation result</td>\n",
       "    </tr>\n",
       "  </tbody>\n",
       "</table>\n",
       "</div>"
      ],
      "text/plain": [
       "               type       units protocol     dims  \\\n",
       "name                                                \n",
       "magnetogram     int       Gauss     fits  VARxVAR   \n",
       "bitmap         char  Enumerated     fits  VARxVAR   \n",
       "Dopplergram     int         m/s     fits  VARxVAR   \n",
       "continuum       int        DN/s     fits  VARxVAR   \n",
       "Bp              int       Gauss     fits  VARxVAR   \n",
       "Bt              int       Gauss     fits  VARxVAR   \n",
       "Br              int       Gauss     fits  VARxVAR   \n",
       "Bp_err          int       Gauss     fits  VARxVAR   \n",
       "Bt_err          int       Gauss     fits  VARxVAR   \n",
       "Br_err          int       Gauss     fits  VARxVAR   \n",
       "conf_disambig  char        none     fits  VARxVAR   \n",
       "\n",
       "                                                      note  \n",
       "name                                                        \n",
       "magnetogram    Line-of-sight magnetogram in CEA projection  \n",
       "bitmap               Mask for the patch in CEA coordinates  \n",
       "Dopplergram                  Dopplergram in CEA projection  \n",
       "continuum                  Intensitygram in CEA projection  \n",
       "Bp                                B_phi, positive westward  \n",
       "Bt                             B_theta, positive southward  \n",
       "Br                                        B_r, positive up  \n",
       "Bp_err                         Standard deviation of B_phi  \n",
       "Bt_err                       Standard deviation of B_theta  \n",
       "Br_err                           Standard deviation of B_r  \n",
       "conf_disambig          confidence of disambiguation result  "
      ]
     },
     "execution_count": 8,
     "metadata": {},
     "output_type": "execute_result"
    }
   ],
   "source": [
    "c.info(\"hmi.sharp_cea_720s\").segments"
   ]
  },
  {
   "cell_type": "code",
   "execution_count": 9,
   "metadata": {},
   "outputs": [
    {
     "data": {
      "text/plain": [
       "['HARPNUM', 'T_REC']"
      ]
     },
     "execution_count": 9,
     "metadata": {},
     "output_type": "execute_result"
    }
   ],
   "source": [
    "c.pkeys(\"hmi.sharp_cea_720s\")"
   ]
  },
  {
   "cell_type": "code",
   "execution_count": 10,
   "metadata": {},
   "outputs": [
    {
     "data": {
      "text/html": [
       "<div>\n",
       "<style scoped>\n",
       "    .dataframe tbody tr th:only-of-type {\n",
       "        vertical-align: middle;\n",
       "    }\n",
       "\n",
       "    .dataframe tbody tr th {\n",
       "        vertical-align: top;\n",
       "    }\n",
       "\n",
       "    .dataframe thead th {\n",
       "        text-align: right;\n",
       "    }\n",
       "</style>\n",
       "<table border=\"1\" class=\"dataframe\">\n",
       "  <thead>\n",
       "    <tr style=\"text-align: right;\">\n",
       "      <th></th>\n",
       "      <th>NOAA_AR</th>\n",
       "      <th>HARPNUM</th>\n",
       "    </tr>\n",
       "  </thead>\n",
       "  <tbody>\n",
       "    <tr>\n",
       "      <th>0</th>\n",
       "      <td>12673</td>\n",
       "      <td>7115</td>\n",
       "    </tr>\n",
       "    <tr>\n",
       "      <th>1</th>\n",
       "      <td>12674</td>\n",
       "      <td>7117</td>\n",
       "    </tr>\n",
       "    <tr>\n",
       "      <th>2</th>\n",
       "      <td>0</td>\n",
       "      <td>7118</td>\n",
       "    </tr>\n",
       "    <tr>\n",
       "      <th>3</th>\n",
       "      <td>12677</td>\n",
       "      <td>7122</td>\n",
       "    </tr>\n",
       "    <tr>\n",
       "      <th>4</th>\n",
       "      <td>12675</td>\n",
       "      <td>7123</td>\n",
       "    </tr>\n",
       "    <tr>\n",
       "      <th>5</th>\n",
       "      <td>0</td>\n",
       "      <td>7125</td>\n",
       "    </tr>\n",
       "    <tr>\n",
       "      <th>6</th>\n",
       "      <td>12678</td>\n",
       "      <td>7127</td>\n",
       "    </tr>\n",
       "    <tr>\n",
       "      <th>7</th>\n",
       "      <td>0</td>\n",
       "      <td>7128</td>\n",
       "    </tr>\n",
       "    <tr>\n",
       "      <th>8</th>\n",
       "      <td>0</td>\n",
       "      <td>7129</td>\n",
       "    </tr>\n",
       "  </tbody>\n",
       "</table>\n",
       "</div>"
      ],
      "text/plain": [
       "   NOAA_AR  HARPNUM\n",
       "0    12673     7115\n",
       "1    12674     7117\n",
       "2        0     7118\n",
       "3    12677     7122\n",
       "4    12675     7123\n",
       "5        0     7125\n",
       "6    12678     7127\n",
       "7        0     7128\n",
       "8        0     7129"
      ]
     },
     "execution_count": 10,
     "metadata": {},
     "output_type": "execute_result"
    }
   ],
   "source": [
    "find_ar = c.query(\"hmi.Mharp_720s[][%sZ]\" % peaktime[0],\n",
    "                   key = [\"NOAA_AR\", \"HARPNUM\"])\n",
    "find_ar"
   ]
  },
  {
   "cell_type": "code",
   "execution_count": 12,
   "metadata": {},
   "outputs": [],
   "source": [
    "hmi_results = Fido.search(\n",
    "    tr,\n",
    "    a.jsoc.Notify(\"mgjeon@khu.ac.kr\"),\n",
    "    a.jsoc.Series(\"hmi.sharp_cea_720s\"),\n",
    "    a.jsoc.PrimeKey('HARPNUM', '7115'),\n",
    "    a.jsoc.Segment(\"Bp\") & a.jsoc.Segment(\"Bt\") & a.jsoc.Segment(\"Br\"),\n",
    ")"
   ]
  },
  {
   "cell_type": "code",
   "execution_count": 14,
   "metadata": {},
   "outputs": [
    {
     "name": "stdout",
     "output_type": "stream",
     "text": [
      "Export request pending. [id=JSOC_20240405_000216, status=2]\n",
      "Waiting for 0 seconds...\n",
      "Export request pending. [id=JSOC_20240405_000216, status=1]\n",
      "Waiting for 5 seconds...\n",
      "Export request pending. [id=JSOC_20240405_000216, status=1]\n",
      "Waiting for 5 seconds...\n"
     ]
    }
   ],
   "source": [
    "hmi_files = Fido.fetch(hmi_results, path=\"download/12673/hmi/{file}\")"
   ]
  },
  {
   "cell_type": "markdown",
   "metadata": {},
   "source": [
    "# AIA"
   ]
  },
  {
   "cell_type": "code",
   "execution_count": 19,
   "metadata": {},
   "outputs": [
    {
     "data": {
      "text/html": [
       "<div>\n",
       "<style scoped>\n",
       "    .dataframe tbody tr th:only-of-type {\n",
       "        vertical-align: middle;\n",
       "    }\n",
       "\n",
       "    .dataframe tbody tr th {\n",
       "        vertical-align: top;\n",
       "    }\n",
       "\n",
       "    .dataframe thead th {\n",
       "        text-align: right;\n",
       "    }\n",
       "</style>\n",
       "<table border=\"1\" class=\"dataframe\">\n",
       "  <thead>\n",
       "    <tr style=\"text-align: right;\">\n",
       "      <th></th>\n",
       "      <th>type</th>\n",
       "      <th>units</th>\n",
       "      <th>protocol</th>\n",
       "      <th>dims</th>\n",
       "      <th>note</th>\n",
       "    </tr>\n",
       "    <tr>\n",
       "      <th>name</th>\n",
       "      <th></th>\n",
       "      <th></th>\n",
       "      <th></th>\n",
       "      <th></th>\n",
       "      <th></th>\n",
       "    </tr>\n",
       "  </thead>\n",
       "  <tbody>\n",
       "    <tr>\n",
       "      <th>image</th>\n",
       "      <td>int</td>\n",
       "      <td>None</td>\n",
       "      <td>link via lev1</td>\n",
       "      <td>None</td>\n",
       "      <td>AIA level 1 image</td>\n",
       "    </tr>\n",
       "    <tr>\n",
       "      <th>spikes</th>\n",
       "      <td>int</td>\n",
       "      <td>None</td>\n",
       "      <td>link via lev1</td>\n",
       "      <td>None</td>\n",
       "      <td>Cosmic ray information</td>\n",
       "    </tr>\n",
       "  </tbody>\n",
       "</table>\n",
       "</div>"
      ],
      "text/plain": [
       "       type units       protocol  dims                    note\n",
       "name                                                          \n",
       "image   int  None  link via lev1  None       AIA level 1 image\n",
       "spikes  int  None  link via lev1  None  Cosmic ray information"
      ]
     },
     "execution_count": 19,
     "metadata": {},
     "output_type": "execute_result"
    }
   ],
   "source": [
    "c.info(\"aia.lev1_euv_12s\").segments"
   ]
  },
  {
   "cell_type": "code",
   "execution_count": 20,
   "metadata": {},
   "outputs": [
    {
     "data": {
      "text/plain": [
       "['T_REC', 'WAVELNTH']"
      ]
     },
     "execution_count": 20,
     "metadata": {},
     "output_type": "execute_result"
    }
   ],
   "source": [
    "c.pkeys(\"aia.lev1_euv_12s\")"
   ]
  },
  {
   "cell_type": "code",
   "execution_count": 51,
   "metadata": {},
   "outputs": [],
   "source": [
    "wavelengths = [94, \n",
    "               131, \n",
    "               171, \n",
    "               193, \n",
    "               211, \n",
    "               304, \n",
    "               335]"
   ]
  },
  {
   "cell_type": "code",
   "execution_count": 53,
   "metadata": {},
   "outputs": [],
   "source": [
    "aia_results = {}\n",
    "\n",
    "for w in wavelengths:\n",
    "    aia_results[str(w)] = Fido.search(\n",
    "        times[0] | times[1] | times[2],\n",
    "        a.jsoc.Notify(\"mgjeon@khu.ac.kr\"),\n",
    "        a.jsoc.Series(\"aia.lev1_euv_12s\"),\n",
    "        a.jsoc.Segment(\"image\"),\n",
    "        a.Wavelength(w*u.angstrom))"
   ]
  },
  {
   "cell_type": "code",
   "execution_count": 54,
   "metadata": {},
   "outputs": [
    {
     "name": "stdout",
     "output_type": "stream",
     "text": [
      "94 3\n",
      "131 3\n",
      "171 3\n",
      "193 3\n",
      "211 3\n",
      "304 3\n",
      "335 3\n"
     ]
    }
   ],
   "source": [
    "for key, value in aia_results.items():\n",
    "    print(key, len(value))"
   ]
  },
  {
   "cell_type": "code",
   "execution_count": null,
   "metadata": {},
   "outputs": [],
   "source": [
    "for wavelnth, result in aia_results.items():\n",
    "    Fido.fetch(result, path=f\"download/12673/aia/{wavelnth}/\" + \"{file}\")"
   ]
  },
  {
   "cell_type": "code",
   "execution_count": null,
   "metadata": {},
   "outputs": [],
   "source": []
  }
 ],
 "metadata": {
  "kernelspec": {
   "display_name": "rtmag",
   "language": "python",
   "name": "python3"
  },
  "language_info": {
   "codemirror_mode": {
    "name": "ipython",
    "version": 3
   },
   "file_extension": ".py",
   "mimetype": "text/x-python",
   "name": "python",
   "nbconvert_exporter": "python",
   "pygments_lexer": "ipython3",
   "version": "3.9.18"
  }
 },
 "nbformat": 4,
 "nbformat_minor": 2
}
