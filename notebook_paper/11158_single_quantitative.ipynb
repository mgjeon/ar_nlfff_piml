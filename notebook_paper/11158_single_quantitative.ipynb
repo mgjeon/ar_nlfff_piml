{
 "cells": [
  {
   "cell_type": "markdown",
   "id": "763da9fa",
   "metadata": {},
   "source": [
    "# Input & Label"
   ]
  },
  {
   "cell_type": "code",
   "execution_count": 1,
   "id": "767716aa",
   "metadata": {},
   "outputs": [],
   "source": [
    "from rtmag.paper.load import load_input_label, MyModel"
   ]
  },
  {
   "cell_type": "code",
   "execution_count": 2,
   "id": "ca4c1431",
   "metadata": {},
   "outputs": [
    {
     "data": {
      "text/plain": [
       "(66, 66)"
      ]
     },
     "execution_count": 2,
     "metadata": {},
     "output_type": "execute_result"
    }
   ],
   "source": [
    "input_files, label_files = load_input_label(\"/mnt/f/isee_dataset/11158\")\n",
    "len(input_files), len(label_files)"
   ]
  },
  {
   "cell_type": "code",
   "execution_count": 3,
   "id": "53a7210b",
   "metadata": {},
   "outputs": [
    {
     "data": {
      "text/plain": [
       "PosixPath('/mnt/f/isee_dataset/11158/input/input_11158_20110214_000000.npz')"
      ]
     },
     "execution_count": 3,
     "metadata": {},
     "output_type": "execute_result"
    }
   ],
   "source": [
    "idx = 13\n",
    "input_files[idx]"
   ]
  },
  {
   "cell_type": "markdown",
   "id": "51bc8d4e",
   "metadata": {},
   "source": [
    "# Model prediction & Label (NLFFF, Potential)"
   ]
  },
  {
   "cell_type": "code",
   "execution_count": 4,
   "id": "f6d97a61",
   "metadata": {},
   "outputs": [],
   "source": [
    "from time import time"
   ]
  },
  {
   "cell_type": "code",
   "execution_count": 5,
   "id": "932ae7d4",
   "metadata": {},
   "outputs": [
    {
     "name": "stdout",
     "output_type": "stream",
     "text": [
      "Model loaded from epoch 40\n"
     ]
    }
   ],
   "source": [
    "# mm = MyModel(\"/home/mgjeon/space/workspace/base/pino_CC_Hnorm_Unit_2/best_model.pt\")\n",
    "mm = MyModel(\"/home/mgjeon/space/workspace/base/uno_pi_cc_hnorm_unit_aug/best_model.pt\")\n",
    "# mm2 = MyModel(\"/home/mgjeon/space/workspace/base/uno_pi_cc_hnorm_unit_aug/model_60.pt\", clip=6000)"
   ]
  },
  {
   "cell_type": "code",
   "execution_count": 6,
   "id": "da554573",
   "metadata": {},
   "outputs": [
    {
     "name": "stdout",
     "output_type": "stream",
     "text": [
      "0.7069485187530518 seconds\n"
     ]
    }
   ],
   "source": [
    "start_time = time()\n",
    "b = mm.get_pred(input_files[idx])\n",
    "print(f\"{time() - start_time} seconds\")"
   ]
  },
  {
   "cell_type": "code",
   "execution_count": 7,
   "id": "b9148831",
   "metadata": {},
   "outputs": [
    {
     "name": "stdout",
     "output_type": "stream",
     "text": [
      "1.3676214218139648 seconds\n"
     ]
    }
   ],
   "source": [
    "start_time = time()\n",
    "B = mm.get_label(label_files[idx])\n",
    "print(f\"{time() - start_time} seconds\")"
   ]
  },
  {
   "cell_type": "code",
   "execution_count": 8,
   "id": "f5959a75",
   "metadata": {},
   "outputs": [
    {
     "name": "stdout",
     "output_type": "stream",
     "text": [
      "1.3119933605194092 seconds\n"
     ]
    }
   ],
   "source": [
    "start_time = time()\n",
    "Bp = mm.get_pot(label_files[idx])\n",
    "print(f\"{time() - start_time} seconds\")"
   ]
  },
  {
   "cell_type": "code",
   "execution_count": 9,
   "id": "29643d52",
   "metadata": {},
   "outputs": [
    {
     "name": "stdout",
     "output_type": "stream",
     "text": [
      "0.004036664962768555 seconds\n"
     ]
    }
   ],
   "source": [
    "start_time = time()\n",
    "dx, dy, dz, dV = mm.get_dV(input_files[idx])\n",
    "print(f\"{time() - start_time} seconds\")"
   ]
  },
  {
   "cell_type": "markdown",
   "id": "2b73e32d",
   "metadata": {},
   "source": [
    "# Quantitative Evaluation"
   ]
  },
  {
   "cell_type": "code",
   "execution_count": 10,
   "id": "aac3af03",
   "metadata": {},
   "outputs": [],
   "source": [
    "import rtmag.paper.metric as m"
   ]
  },
  {
   "cell_type": "code",
   "execution_count": 11,
   "id": "5ba11260",
   "metadata": {},
   "outputs": [
    {
     "name": "stdout",
     "output_type": "stream",
     "text": [
      "C_vec     : 0.96\n",
      "C_cs      : 0.94\n",
      "E_n'      : 0.70\n",
      "E_m'      : 0.55\n",
      "eps       : 0.91\n",
      "1.2879064083099365 seconds\n"
     ]
    }
   ],
   "source": [
    "start_time = time()\n",
    "res = m.evaluate(b, B)\n",
    "print(f\"{time() - start_time} seconds\")"
   ]
  },
  {
   "cell_type": "code",
   "execution_count": 12,
   "id": "220584eb",
   "metadata": {},
   "outputs": [
    {
     "name": "stdout",
     "output_type": "stream",
     "text": [
      "pred_E_1e33: 0.78\n",
      "ref_E_1e33: 0.85\n",
      "pot_E_1e33: 0.71\n",
      "dV_1e23   : 1.53\n",
      "pred_E_unit: 127841767447.58\n",
      "ref_E_unit: 139871515001.88\n",
      "pot_E_unit: 116420454927.01\n",
      "C_vec     : 0.96\n",
      "C_cs      : 0.94\n",
      "E_n_prime : 0.70\n",
      "E_m_prime : 0.55\n",
      "eps       : 0.91\n",
      "rel_l2_err: 0.28\n",
      "2.154616117477417 seconds\n"
     ]
    }
   ],
   "source": [
    "start_time = time()\n",
    "res = m.evaluate_energy(b, B, Bp, dV, isprint=True)\n",
    "print(f\"{time() - start_time} seconds\")"
   ]
  },
  {
   "cell_type": "code",
   "execution_count": 14,
   "id": "5dde9790",
   "metadata": {},
   "outputs": [
    {
     "name": "stdout",
     "output_type": "stream",
     "text": [
      "pred_E_1e33: 0.77\n",
      "ref_E_1e33: 0.84\n",
      "pot_E_1e33: 0.70\n",
      "dV_1e23   : 1.53\n",
      "pred_E_unit: 126722599735.84\n",
      "ref_E_unit: 139057338988.71\n",
      "pot_E_unit: 115651620541.42\n",
      "C_vec     : 0.96\n",
      "C_cs      : 0.93\n",
      "E_n_prime : 0.70\n",
      "E_m_prime : 0.62\n",
      "eps       : 0.91\n",
      "rel_l2_err: 0.28\n",
      "1.119044303894043 seconds\n"
     ]
    }
   ],
   "source": [
    "start_time = time()\n",
    "res = m.evaluate_energy(b[:, :, :128, :], B[:, :, :128, :], Bp[:, :, :128, :], dV, isprint=True)\n",
    "print(f\"{time() - start_time} seconds\")"
   ]
  },
  {
   "cell_type": "code",
   "execution_count": 15,
   "id": "a57c4db0",
   "metadata": {},
   "outputs": [
    {
     "name": "stdout",
     "output_type": "stream",
     "text": [
      "pred_E_1e33: 0.74\n",
      "ref_E_1e33: 0.82\n",
      "pot_E_1e33: 0.68\n",
      "dV_1e23   : 1.53\n",
      "pred_E_unit: 122278106122.15\n",
      "ref_E_unit: 135255310580.55\n",
      "pot_E_unit: 112190644904.81\n",
      "C_vec     : 0.96\n",
      "C_cs      : 0.88\n",
      "E_n_prime : 0.68\n",
      "E_m_prime : 0.46\n",
      "eps       : 0.90\n",
      "rel_l2_err: 0.28\n",
      "0.5737972259521484 seconds\n"
     ]
    }
   ],
   "source": [
    "start_time = time()\n",
    "res = m.evaluate_energy(b[:, :, :64, :], B[:, :, :64, :], Bp[:, :, :64, :], dV, isprint=True)\n",
    "print(f\"{time() - start_time} seconds\")"
   ]
  },
  {
   "cell_type": "code",
   "execution_count": 18,
   "id": "0097c342",
   "metadata": {},
   "outputs": [
    {
     "data": {
      "text/plain": [
       "34.3470344543457"
      ]
     },
     "execution_count": 18,
     "metadata": {},
     "output_type": "execute_result"
    }
   ],
   "source": [
    "(dz/1e8) * 64"
   ]
  },
  {
   "cell_type": "code",
   "execution_count": 14,
   "id": "e8c25906",
   "metadata": {},
   "outputs": [
    {
     "name": "stdout",
     "output_type": "stream",
     "text": [
      "C_vec     : 0.96\n",
      "C_cs      : 0.88\n",
      "E_n'      : 0.68\n",
      "E_m'      : 0.46\n",
      "eps       : 0.90\n",
      "0.27683591842651367 seconds\n"
     ]
    }
   ],
   "source": [
    "start_time = time()\n",
    "res = m.evaluate(b[:, :, :64, :], B[:, :, :64, :])\n",
    "print(f\"{time() - start_time} seconds\")"
   ]
  },
  {
   "cell_type": "code",
   "execution_count": 15,
   "id": "68dad344",
   "metadata": {},
   "outputs": [
    {
     "name": "stdout",
     "output_type": "stream",
     "text": [
      "C_vec     : 0.97\n",
      "C_cs      : 0.96\n",
      "E_n'      : 0.75\n",
      "E_m'      : 0.71\n",
      "eps       : 0.89\n",
      "0.16946101188659668 seconds\n"
     ]
    }
   ],
   "source": [
    "start_time = time()\n",
    "res = m.evaluate(b[128:-128, 64:-64, :128, :], B[128:-128, 64:-64, :128, :])\n",
    "print(f\"{time() - start_time} seconds\")"
   ]
  },
  {
   "cell_type": "code",
   "execution_count": 16,
   "id": "865b1637",
   "metadata": {},
   "outputs": [
    {
     "data": {
      "text/plain": [
       "(0.798784094055181, 80.43580965604433, 38.13338596568818)"
      ]
     },
     "execution_count": 16,
     "metadata": {},
     "output_type": "execute_result"
    }
   ],
   "source": [
    "m.metrics_j(b)"
   ]
  },
  {
   "cell_type": "code",
   "execution_count": 17,
   "id": "4fd89b87",
   "metadata": {},
   "outputs": [
    {
     "data": {
      "text/plain": [
       "(0.685718401941427, 72.86644558109357, 12.196899046200091)"
      ]
     },
     "execution_count": 17,
     "metadata": {},
     "output_type": "execute_result"
    }
   ],
   "source": [
    "m.metrics_j(B)"
   ]
  },
  {
   "cell_type": "code",
   "execution_count": 18,
   "metadata": {},
   "outputs": [
    {
     "data": {
      "text/plain": [
       "(0.8039919919220176, 1.502768025184216, 1.5461015324053273)"
      ]
     },
     "execution_count": 18,
     "metadata": {},
     "output_type": "execute_result"
    }
   ],
   "source": [
    "m.metrics_j(Bp)"
   ]
  },
  {
   "cell_type": "code",
   "execution_count": 19,
   "id": "8b5ce240",
   "metadata": {},
   "outputs": [
    {
     "name": "stdout",
     "output_type": "stream",
     "text": [
      "0\n",
      "1\n",
      "2\n",
      "3\n",
      "4\n",
      "5\n",
      "6\n",
      "7\n",
      "8\n",
      "9\n",
      "8.491246938705444 seconds\n"
     ]
    }
   ],
   "source": [
    "start_time = time()\n",
    "bf = mm.fine_tuning(dx=dx/1e8, dy=dy/1e8, dz=dz/1e8, \n",
    "                    w_reg=0.01, w_bc=10, w_ff=1, w_div=1,\n",
    "                    lr=1e-5, n_epoch=10)\n",
    "print(f\"{time() - start_time} seconds\")"
   ]
  },
  {
   "cell_type": "code",
   "execution_count": 20,
   "id": "28a8ba30",
   "metadata": {},
   "outputs": [
    {
     "data": {
      "text/plain": [
       "(0.8021734432552533, 76.15129386857882, 37.754993212530664)"
      ]
     },
     "execution_count": 20,
     "metadata": {},
     "output_type": "execute_result"
    }
   ],
   "source": [
    "m.metrics_j(bf)"
   ]
  },
  {
   "cell_type": "code",
   "execution_count": 21,
   "id": "81d79d28",
   "metadata": {},
   "outputs": [
    {
     "name": "stdout",
     "output_type": "stream",
     "text": [
      "C_vec     : 0.96\n",
      "C_cs      : 0.94\n",
      "E_n'      : 0.69\n",
      "E_m'      : 0.52\n",
      "eps       : 0.90\n",
      "1.1230638027191162 seconds\n"
     ]
    }
   ],
   "source": [
    "start_time = time()\n",
    "res = m.evaluate(bf, B)\n",
    "print(f\"{time() - start_time} seconds\")"
   ]
  },
  {
   "cell_type": "code",
   "execution_count": null,
   "id": "708d270d",
   "metadata": {},
   "outputs": [],
   "source": []
  }
 ],
 "metadata": {
  "kernelspec": {
   "display_name": "rtmag",
   "language": "python",
   "name": "python3"
  },
  "language_info": {
   "codemirror_mode": {
    "name": "ipython",
    "version": 3
   },
   "file_extension": ".py",
   "mimetype": "text/x-python",
   "name": "python",
   "nbconvert_exporter": "python",
   "pygments_lexer": "ipython3",
   "version": "3.9.18"
  }
 },
 "nbformat": 4,
 "nbformat_minor": 5
}
