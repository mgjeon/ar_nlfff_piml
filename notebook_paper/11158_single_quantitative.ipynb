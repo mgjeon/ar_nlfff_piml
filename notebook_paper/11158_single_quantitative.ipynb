{
 "cells": [
  {
   "cell_type": "code",
   "execution_count": 1,
   "metadata": {},
   "outputs": [],
   "source": [
    "from rtmag.paper.load import load_input_label, MyModel"
   ]
  },
  {
   "cell_type": "markdown",
   "id": "763da9fa",
   "metadata": {},
   "source": [
    "# Input & Label"
   ]
  },
  {
   "cell_type": "code",
   "execution_count": 2,
   "id": "ca4c1431",
   "metadata": {},
   "outputs": [
    {
     "data": {
      "text/plain": [
       "(66, 66)"
      ]
     },
     "execution_count": 2,
     "metadata": {},
     "output_type": "execute_result"
    }
   ],
   "source": [
    "input_files, label_files = load_input_label(\"/mnt/f/isee_dataset/11158\")\n",
    "len(input_files), len(label_files)"
   ]
  },
  {
   "cell_type": "code",
   "execution_count": 3,
   "id": "53a7210b",
   "metadata": {},
   "outputs": [
    {
     "data": {
      "text/plain": [
       "PosixPath('/mnt/f/isee_dataset/11158/input/input_11158_20110214_000000.npz')"
      ]
     },
     "execution_count": 3,
     "metadata": {},
     "output_type": "execute_result"
    }
   ],
   "source": [
    "idx = 13\n",
    "input_files[idx]"
   ]
  },
  {
   "cell_type": "markdown",
   "id": "51bc8d4e",
   "metadata": {},
   "source": [
    "# Model prediction & Label (NLFFF, Potential)"
   ]
  },
  {
   "cell_type": "code",
   "execution_count": 4,
   "id": "f6d97a61",
   "metadata": {},
   "outputs": [],
   "source": [
    "from time import time"
   ]
  },
  {
   "cell_type": "code",
   "execution_count": 5,
   "id": "932ae7d4",
   "metadata": {},
   "outputs": [],
   "source": [
    "mm = MyModel(\"/home/mgjeon/space/workspace/base/pino_CC_Hnorm_Unit_2\")\n",
    "# mm = MyModel(\"/home/mgjeon/space/workspace/base/uno_pi_cc_hnorm_unit_aug\")"
   ]
  },
  {
   "cell_type": "code",
   "execution_count": 6,
   "id": "da554573",
   "metadata": {},
   "outputs": [
    {
     "name": "stdout",
     "output_type": "stream",
     "text": [
      "Model loaded from epoch 64\n",
      "1.0260164737701416 seconds\n"
     ]
    }
   ],
   "source": [
    "start_time = time()\n",
    "b = mm.get_pred(input_files[idx])\n",
    "print(f\"{time() - start_time} seconds\")"
   ]
  },
  {
   "cell_type": "code",
   "execution_count": 7,
   "id": "b9148831",
   "metadata": {},
   "outputs": [
    {
     "name": "stdout",
     "output_type": "stream",
     "text": [
      "1.5190987586975098 seconds\n"
     ]
    }
   ],
   "source": [
    "start_time = time()\n",
    "B = mm.get_label(label_files[idx])\n",
    "print(f\"{time() - start_time} seconds\")"
   ]
  },
  {
   "cell_type": "code",
   "execution_count": 8,
   "id": "f5959a75",
   "metadata": {},
   "outputs": [
    {
     "name": "stdout",
     "output_type": "stream",
     "text": [
      "1.5529377460479736 seconds\n"
     ]
    }
   ],
   "source": [
    "start_time = time()\n",
    "Bp = mm.get_pot(label_files[idx])\n",
    "print(f\"{time() - start_time} seconds\")"
   ]
  },
  {
   "cell_type": "code",
   "execution_count": 9,
   "id": "29643d52",
   "metadata": {},
   "outputs": [
    {
     "name": "stdout",
     "output_type": "stream",
     "text": [
      "0.003928661346435547 seconds\n"
     ]
    }
   ],
   "source": [
    "start_time = time()\n",
    "dx, dy, dz, dV = mm.get_dV(input_files[idx])\n",
    "print(f\"{time() - start_time} seconds\")"
   ]
  },
  {
   "cell_type": "markdown",
   "id": "2b73e32d",
   "metadata": {},
   "source": [
    "# Quantitative Evaluation"
   ]
  },
  {
   "cell_type": "code",
   "execution_count": 10,
   "id": "cc470873",
   "metadata": {},
   "outputs": [],
   "source": [
    "import numpy as np\n",
    "from rtmag.paper.metric import evaluate, evaluate_exclude, C_vec, C_cs, En_prime, Em_prime, eps"
   ]
  },
  {
   "cell_type": "code",
   "execution_count": 11,
   "id": "3f987a68",
   "metadata": {},
   "outputs": [
    {
     "name": "stdout",
     "output_type": "stream",
     "text": [
      "C_vec     : 0.96\n",
      "C_cs      : 0.96\n",
      "E_n'      : 0.70\n",
      "E_m'      : 0.63\n",
      "eps       : 0.90\n",
      "1.3429358005523682 seconds\n"
     ]
    }
   ],
   "source": [
    "start_time = time()\n",
    "res = evaluate(b, B)\n",
    "print(f\"{time() - start_time} seconds\")"
   ]
  },
  {
   "cell_type": "code",
   "execution_count": 12,
   "id": "87935580",
   "metadata": {},
   "outputs": [
    {
     "name": "stdout",
     "output_type": "stream",
     "text": [
      "C_vec     : 0.96\n",
      "C_cs      : 0.96\n",
      "E_n'      : 0.70\n",
      "E_m'      : 0.63\n",
      "eps       : 0.90\n",
      "1.076655626296997 seconds\n"
     ]
    }
   ],
   "source": [
    "start_time = time()\n",
    "res = evaluate_exclude(b, B)\n",
    "print(f\"{time() - start_time} seconds\")"
   ]
  },
  {
   "cell_type": "code",
   "execution_count": 13,
   "id": "5f60a259",
   "metadata": {},
   "outputs": [
    {
     "name": "stdout",
     "output_type": "stream",
     "text": [
      "C_vec: 0.9594611736703486\n",
      "0.26796793937683105 seconds\n"
     ]
    }
   ],
   "source": [
    "start_time = time()\n",
    "print(\"C_vec:\", C_vec(b, B))\n",
    "print(f\"{time() - start_time} seconds\")"
   ]
  },
  {
   "cell_type": "code",
   "execution_count": 14,
   "id": "ad20f687",
   "metadata": {},
   "outputs": [
    {
     "name": "stdout",
     "output_type": "stream",
     "text": [
      "C_cs: 0.9551851103063023\n",
      "0.31583333015441895 seconds\n"
     ]
    }
   ],
   "source": [
    "start_time = time()\n",
    "print(\"C_cs:\", C_cs(b, B))\n",
    "print(f\"{time() - start_time} seconds\")"
   ]
  },
  {
   "cell_type": "code",
   "execution_count": 15,
   "id": "638629f0",
   "metadata": {},
   "outputs": [
    {
     "name": "stdout",
     "output_type": "stream",
     "text": [
      "En_prime: 0.6996860355186005\n",
      "0.18912863731384277 seconds\n"
     ]
    }
   ],
   "source": [
    "start_time = time()\n",
    "print(\"En_prime:\", En_prime(b, B))\n",
    "print(f\"{time() - start_time} seconds\")"
   ]
  },
  {
   "cell_type": "code",
   "execution_count": 16,
   "id": "de7c9782",
   "metadata": {},
   "outputs": [
    {
     "name": "stdout",
     "output_type": "stream",
     "text": [
      "Em_prime: 0.6333934732390859\n",
      "0.2042231559753418 seconds\n"
     ]
    }
   ],
   "source": [
    "start_time = time()\n",
    "print(\"Em_prime:\", Em_prime(b, B))\n",
    "print(f\"{time() - start_time} seconds\")"
   ]
  },
  {
   "cell_type": "code",
   "execution_count": 17,
   "id": "8ce79987",
   "metadata": {},
   "outputs": [
    {
     "name": "stdout",
     "output_type": "stream",
     "text": [
      "eps: 0.9036728622055842\n",
      "0.157853364944458 seconds\n"
     ]
    }
   ],
   "source": [
    "start_time = time()\n",
    "print(\"eps:\", eps(b, B))\n",
    "print(f\"{time() - start_time} seconds\")"
   ]
  },
  {
   "cell_type": "code",
   "execution_count": null,
   "id": "b44591d5",
   "metadata": {},
   "outputs": [],
   "source": []
  }
 ],
 "metadata": {
  "kernelspec": {
   "display_name": "rtmag",
   "language": "python",
   "name": "python3"
  },
  "language_info": {
   "codemirror_mode": {
    "name": "ipython",
    "version": 3
   },
   "file_extension": ".py",
   "mimetype": "text/x-python",
   "name": "python",
   "nbconvert_exporter": "python",
   "pygments_lexer": "ipython3",
   "version": "3.9.18"
  }
 },
 "nbformat": 4,
 "nbformat_minor": 5
}
