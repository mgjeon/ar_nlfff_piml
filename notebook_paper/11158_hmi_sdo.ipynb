{
 "cells": [
  {
   "cell_type": "code",
   "execution_count": 21,
   "metadata": {},
   "outputs": [],
   "source": [
    "import datetime\n",
    "\n",
    "import drms\n",
    "import astropy.units as u\n",
    "from sunpy.net import Fido, attrs as a\n",
    "from sunpy.map import Map"
   ]
  },
  {
   "cell_type": "code",
   "execution_count": 2,
   "metadata": {},
   "outputs": [],
   "source": [
    "tr = a.Time(\"2011-02-13 00:00:00.000\", \"2011-02-16 00:00:00.000\")\n",
    "result = Fido.search(tr,\n",
    "                      a.hek.FL,\n",
    "                      a.hek.FL.GOESCls > \"M1.0\",\n",
    "                      a.hek.OBS.Observatory == \"GOES\")"
   ]
  },
  {
   "cell_type": "code",
   "execution_count": 3,
   "metadata": {},
   "outputs": [
    {
     "data": {
      "text/html": [
       "<div><i>HEKTable length=3</i>\n",
       "<table id=\"table140443557578784\" class=\"table-striped table-bordered table-condensed\">\n",
       "<thead><tr><th>event_starttime</th><th>event_peaktime</th><th>event_endtime</th><th>fl_goescls</th><th>ar_noaanum</th></tr></thead>\n",
       "<thead><tr><th>Time</th><th>Time</th><th>Time</th><th>str4</th><th>int64</th></tr></thead>\n",
       "<tr><td>2011-02-13 17:28:00.000</td><td>2011-02-13 17:38:00.000</td><td>2011-02-13 17:47:00.000</td><td>M6.6</td><td>11158</td></tr>\n",
       "<tr><td>2011-02-14 17:20:00.000</td><td>2011-02-14 17:26:00.000</td><td>2011-02-14 17:32:00.000</td><td>M2.2</td><td>11158</td></tr>\n",
       "<tr><td>2011-02-15 01:44:00.000</td><td>2011-02-15 01:56:00.000</td><td>2011-02-15 02:06:00.000</td><td>X2.2</td><td>11158</td></tr>\n",
       "</table></div>"
      ],
      "text/plain": [
       "<sunpy.net.hek.hek.HEKTable object at 0x7fbb23188f70>\n",
       "    event_starttime          event_peaktime     ... fl_goescls ar_noaanum\n",
       "----------------------- ----------------------- ... ---------- ----------\n",
       "2011-02-13 17:28:00.000 2011-02-13 17:38:00.000 ...       M6.6      11158\n",
       "2011-02-14 17:20:00.000 2011-02-14 17:26:00.000 ...       M2.2      11158\n",
       "2011-02-15 01:44:00.000 2011-02-15 01:56:00.000 ...       X2.2      11158"
      ]
     },
     "execution_count": 3,
     "metadata": {},
     "output_type": "execute_result"
    }
   ],
   "source": [
    "hek_results = result[\"hek\"][\"event_starttime\", \"event_peaktime\",\n",
    "                             \"event_endtime\", \"fl_goescls\", \"ar_noaanum\"]\n",
    "hek_results"
   ]
  },
  {
   "cell_type": "code",
   "execution_count": 4,
   "metadata": {},
   "outputs": [
    {
     "data": {
      "text/plain": [
       "<Time object: scale='utc' format='iso' value=['2011-02-13 17:38:00.000' '2011-02-14 17:26:00.000'\n",
       " '2011-02-15 01:56:00.000']>"
      ]
     },
     "execution_count": 4,
     "metadata": {},
     "output_type": "execute_result"
    }
   ],
   "source": [
    "peaktime= hek_results[\"event_peaktime\"]\n",
    "peaktime"
   ]
  },
  {
   "cell_type": "code",
   "execution_count": 5,
   "metadata": {},
   "outputs": [],
   "source": [
    "times = []\n",
    "\n",
    "time_interval = datetime.timedelta(minutes=30)\n",
    "\n",
    "for pt in peaktime:\n",
    "    times.append(a.Time(pt - time_interval, pt + time_interval))"
   ]
  },
  {
   "cell_type": "code",
   "execution_count": 6,
   "metadata": {},
   "outputs": [
    {
     "data": {
      "text/plain": [
       "[<sunpy.net.attrs.Time(2011-02-13 17:08:00.000, 2011-02-13 18:08:00.000)>,\n",
       " <sunpy.net.attrs.Time(2011-02-14 16:56:00.000, 2011-02-14 17:56:00.000)>,\n",
       " <sunpy.net.attrs.Time(2011-02-15 01:26:00.000, 2011-02-15 02:26:00.000)>]"
      ]
     },
     "execution_count": 6,
     "metadata": {},
     "output_type": "execute_result"
    }
   ],
   "source": [
    "times"
   ]
  },
  {
   "cell_type": "markdown",
   "metadata": {},
   "source": [
    "# SHARP"
   ]
  },
  {
   "cell_type": "code",
   "execution_count": 7,
   "metadata": {},
   "outputs": [],
   "source": [
    "c = drms.Client(email=\"mgjeon@khu.ac.kr\")"
   ]
  },
  {
   "cell_type": "code",
   "execution_count": 8,
   "metadata": {},
   "outputs": [
    {
     "data": {
      "text/html": [
       "<div>\n",
       "<style scoped>\n",
       "    .dataframe tbody tr th:only-of-type {\n",
       "        vertical-align: middle;\n",
       "    }\n",
       "\n",
       "    .dataframe tbody tr th {\n",
       "        vertical-align: top;\n",
       "    }\n",
       "\n",
       "    .dataframe thead th {\n",
       "        text-align: right;\n",
       "    }\n",
       "</style>\n",
       "<table border=\"1\" class=\"dataframe\">\n",
       "  <thead>\n",
       "    <tr style=\"text-align: right;\">\n",
       "      <th></th>\n",
       "      <th>type</th>\n",
       "      <th>units</th>\n",
       "      <th>protocol</th>\n",
       "      <th>dims</th>\n",
       "      <th>note</th>\n",
       "    </tr>\n",
       "    <tr>\n",
       "      <th>name</th>\n",
       "      <th></th>\n",
       "      <th></th>\n",
       "      <th></th>\n",
       "      <th></th>\n",
       "      <th></th>\n",
       "    </tr>\n",
       "  </thead>\n",
       "  <tbody>\n",
       "    <tr>\n",
       "      <th>magnetogram</th>\n",
       "      <td>int</td>\n",
       "      <td>Gauss</td>\n",
       "      <td>fits</td>\n",
       "      <td>VARxVAR</td>\n",
       "      <td>Line-of-sight magnetogram in CEA projection</td>\n",
       "    </tr>\n",
       "    <tr>\n",
       "      <th>bitmap</th>\n",
       "      <td>char</td>\n",
       "      <td>Enumerated</td>\n",
       "      <td>fits</td>\n",
       "      <td>VARxVAR</td>\n",
       "      <td>Mask for the patch in CEA coordinates</td>\n",
       "    </tr>\n",
       "    <tr>\n",
       "      <th>Dopplergram</th>\n",
       "      <td>int</td>\n",
       "      <td>m/s</td>\n",
       "      <td>fits</td>\n",
       "      <td>VARxVAR</td>\n",
       "      <td>Dopplergram in CEA projection</td>\n",
       "    </tr>\n",
       "    <tr>\n",
       "      <th>continuum</th>\n",
       "      <td>int</td>\n",
       "      <td>DN/s</td>\n",
       "      <td>fits</td>\n",
       "      <td>VARxVAR</td>\n",
       "      <td>Intensitygram in CEA projection</td>\n",
       "    </tr>\n",
       "    <tr>\n",
       "      <th>Bp</th>\n",
       "      <td>int</td>\n",
       "      <td>Gauss</td>\n",
       "      <td>fits</td>\n",
       "      <td>VARxVAR</td>\n",
       "      <td>B_phi, positive westward</td>\n",
       "    </tr>\n",
       "    <tr>\n",
       "      <th>Bt</th>\n",
       "      <td>int</td>\n",
       "      <td>Gauss</td>\n",
       "      <td>fits</td>\n",
       "      <td>VARxVAR</td>\n",
       "      <td>B_theta, positive southward</td>\n",
       "    </tr>\n",
       "    <tr>\n",
       "      <th>Br</th>\n",
       "      <td>int</td>\n",
       "      <td>Gauss</td>\n",
       "      <td>fits</td>\n",
       "      <td>VARxVAR</td>\n",
       "      <td>B_r, positive up</td>\n",
       "    </tr>\n",
       "    <tr>\n",
       "      <th>Bp_err</th>\n",
       "      <td>int</td>\n",
       "      <td>Gauss</td>\n",
       "      <td>fits</td>\n",
       "      <td>VARxVAR</td>\n",
       "      <td>Standard deviation of B_phi</td>\n",
       "    </tr>\n",
       "    <tr>\n",
       "      <th>Bt_err</th>\n",
       "      <td>int</td>\n",
       "      <td>Gauss</td>\n",
       "      <td>fits</td>\n",
       "      <td>VARxVAR</td>\n",
       "      <td>Standard deviation of B_theta</td>\n",
       "    </tr>\n",
       "    <tr>\n",
       "      <th>Br_err</th>\n",
       "      <td>int</td>\n",
       "      <td>Gauss</td>\n",
       "      <td>fits</td>\n",
       "      <td>VARxVAR</td>\n",
       "      <td>Standard deviation of B_r</td>\n",
       "    </tr>\n",
       "    <tr>\n",
       "      <th>conf_disambig</th>\n",
       "      <td>char</td>\n",
       "      <td>none</td>\n",
       "      <td>fits</td>\n",
       "      <td>VARxVAR</td>\n",
       "      <td>confidence of disambiguation result</td>\n",
       "    </tr>\n",
       "  </tbody>\n",
       "</table>\n",
       "</div>"
      ],
      "text/plain": [
       "               type       units protocol     dims  \\\n",
       "name                                                \n",
       "magnetogram     int       Gauss     fits  VARxVAR   \n",
       "bitmap         char  Enumerated     fits  VARxVAR   \n",
       "Dopplergram     int         m/s     fits  VARxVAR   \n",
       "continuum       int        DN/s     fits  VARxVAR   \n",
       "Bp              int       Gauss     fits  VARxVAR   \n",
       "Bt              int       Gauss     fits  VARxVAR   \n",
       "Br              int       Gauss     fits  VARxVAR   \n",
       "Bp_err          int       Gauss     fits  VARxVAR   \n",
       "Bt_err          int       Gauss     fits  VARxVAR   \n",
       "Br_err          int       Gauss     fits  VARxVAR   \n",
       "conf_disambig  char        none     fits  VARxVAR   \n",
       "\n",
       "                                                      note  \n",
       "name                                                        \n",
       "magnetogram    Line-of-sight magnetogram in CEA projection  \n",
       "bitmap               Mask for the patch in CEA coordinates  \n",
       "Dopplergram                  Dopplergram in CEA projection  \n",
       "continuum                  Intensitygram in CEA projection  \n",
       "Bp                                B_phi, positive westward  \n",
       "Bt                             B_theta, positive southward  \n",
       "Br                                        B_r, positive up  \n",
       "Bp_err                         Standard deviation of B_phi  \n",
       "Bt_err                       Standard deviation of B_theta  \n",
       "Br_err                           Standard deviation of B_r  \n",
       "conf_disambig          confidence of disambiguation result  "
      ]
     },
     "execution_count": 8,
     "metadata": {},
     "output_type": "execute_result"
    }
   ],
   "source": [
    "c.info(\"hmi.sharp_cea_720s\").segments"
   ]
  },
  {
   "cell_type": "code",
   "execution_count": 14,
   "metadata": {},
   "outputs": [
    {
     "data": {
      "text/plain": [
       "['HARPNUM', 'T_REC']"
      ]
     },
     "execution_count": 14,
     "metadata": {},
     "output_type": "execute_result"
    }
   ],
   "source": [
    "c.pkeys(\"hmi.sharp_cea_720s\")"
   ]
  },
  {
   "cell_type": "code",
   "execution_count": 15,
   "metadata": {},
   "outputs": [
    {
     "data": {
      "text/html": [
       "<div>\n",
       "<style scoped>\n",
       "    .dataframe tbody tr th:only-of-type {\n",
       "        vertical-align: middle;\n",
       "    }\n",
       "\n",
       "    .dataframe tbody tr th {\n",
       "        vertical-align: top;\n",
       "    }\n",
       "\n",
       "    .dataframe thead th {\n",
       "        text-align: right;\n",
       "    }\n",
       "</style>\n",
       "<table border=\"1\" class=\"dataframe\">\n",
       "  <thead>\n",
       "    <tr style=\"text-align: right;\">\n",
       "      <th></th>\n",
       "      <th>NOAA_AR</th>\n",
       "      <th>HARPNUM</th>\n",
       "    </tr>\n",
       "  </thead>\n",
       "  <tbody>\n",
       "    <tr>\n",
       "      <th>0</th>\n",
       "      <td>11157</td>\n",
       "      <td>364</td>\n",
       "    </tr>\n",
       "    <tr>\n",
       "      <th>1</th>\n",
       "      <td>11156</td>\n",
       "      <td>367</td>\n",
       "    </tr>\n",
       "    <tr>\n",
       "      <th>2</th>\n",
       "      <td>0</td>\n",
       "      <td>369</td>\n",
       "    </tr>\n",
       "    <tr>\n",
       "      <th>3</th>\n",
       "      <td>11159</td>\n",
       "      <td>371</td>\n",
       "    </tr>\n",
       "    <tr>\n",
       "      <th>4</th>\n",
       "      <td>0</td>\n",
       "      <td>372</td>\n",
       "    </tr>\n",
       "    <tr>\n",
       "      <th>5</th>\n",
       "      <td>11158</td>\n",
       "      <td>377</td>\n",
       "    </tr>\n",
       "    <tr>\n",
       "      <th>6</th>\n",
       "      <td>0</td>\n",
       "      <td>378</td>\n",
       "    </tr>\n",
       "    <tr>\n",
       "      <th>7</th>\n",
       "      <td>0</td>\n",
       "      <td>380</td>\n",
       "    </tr>\n",
       "    <tr>\n",
       "      <th>8</th>\n",
       "      <td>0</td>\n",
       "      <td>381</td>\n",
       "    </tr>\n",
       "    <tr>\n",
       "      <th>9</th>\n",
       "      <td>11160</td>\n",
       "      <td>384</td>\n",
       "    </tr>\n",
       "    <tr>\n",
       "      <th>10</th>\n",
       "      <td>0</td>\n",
       "      <td>388</td>\n",
       "    </tr>\n",
       "  </tbody>\n",
       "</table>\n",
       "</div>"
      ],
      "text/plain": [
       "    NOAA_AR  HARPNUM\n",
       "0     11157      364\n",
       "1     11156      367\n",
       "2         0      369\n",
       "3     11159      371\n",
       "4         0      372\n",
       "5     11158      377\n",
       "6         0      378\n",
       "7         0      380\n",
       "8         0      381\n",
       "9     11160      384\n",
       "10        0      388"
      ]
     },
     "execution_count": 15,
     "metadata": {},
     "output_type": "execute_result"
    }
   ],
   "source": [
    "find_ar = c.query(\"hmi.Mharp_720s[][%sZ]\" % peaktime[0],\n",
    "                   key = [\"NOAA_AR\", \"HARPNUM\"])\n",
    "find_ar"
   ]
  },
  {
   "cell_type": "code",
   "execution_count": 56,
   "metadata": {},
   "outputs": [],
   "source": [
    "hmi_results = Fido.search(\n",
    "    tr,\n",
    "    a.jsoc.Notify(\"mgjeon@khu.ac.kr\"),\n",
    "    a.jsoc.Series(\"hmi.sharp_cea_720s\"),\n",
    "    a.jsoc.PrimeKey('HARPNUM', '377'),\n",
    "    a.jsoc.Segment(\"Bp\") & a.jsoc.Segment(\"Bt\") & a.jsoc.Segment(\"Br\"),\n",
    ")"
   ]
  },
  {
   "cell_type": "code",
   "execution_count": null,
   "metadata": {},
   "outputs": [],
   "source": [
    "hmi_files = Fido.fetch(hmi_results, path=\"download/11158/hmi/{file}\")"
   ]
  },
  {
   "cell_type": "markdown",
   "metadata": {},
   "source": [
    "# AIA"
   ]
  },
  {
   "cell_type": "code",
   "execution_count": 19,
   "metadata": {},
   "outputs": [
    {
     "data": {
      "text/html": [
       "<div>\n",
       "<style scoped>\n",
       "    .dataframe tbody tr th:only-of-type {\n",
       "        vertical-align: middle;\n",
       "    }\n",
       "\n",
       "    .dataframe tbody tr th {\n",
       "        vertical-align: top;\n",
       "    }\n",
       "\n",
       "    .dataframe thead th {\n",
       "        text-align: right;\n",
       "    }\n",
       "</style>\n",
       "<table border=\"1\" class=\"dataframe\">\n",
       "  <thead>\n",
       "    <tr style=\"text-align: right;\">\n",
       "      <th></th>\n",
       "      <th>type</th>\n",
       "      <th>units</th>\n",
       "      <th>protocol</th>\n",
       "      <th>dims</th>\n",
       "      <th>note</th>\n",
       "    </tr>\n",
       "    <tr>\n",
       "      <th>name</th>\n",
       "      <th></th>\n",
       "      <th></th>\n",
       "      <th></th>\n",
       "      <th></th>\n",
       "      <th></th>\n",
       "    </tr>\n",
       "  </thead>\n",
       "  <tbody>\n",
       "    <tr>\n",
       "      <th>image</th>\n",
       "      <td>int</td>\n",
       "      <td>None</td>\n",
       "      <td>link via lev1</td>\n",
       "      <td>None</td>\n",
       "      <td>AIA level 1 image</td>\n",
       "    </tr>\n",
       "    <tr>\n",
       "      <th>spikes</th>\n",
       "      <td>int</td>\n",
       "      <td>None</td>\n",
       "      <td>link via lev1</td>\n",
       "      <td>None</td>\n",
       "      <td>Cosmic ray information</td>\n",
       "    </tr>\n",
       "  </tbody>\n",
       "</table>\n",
       "</div>"
      ],
      "text/plain": [
       "       type units       protocol  dims                    note\n",
       "name                                                          \n",
       "image   int  None  link via lev1  None       AIA level 1 image\n",
       "spikes  int  None  link via lev1  None  Cosmic ray information"
      ]
     },
     "execution_count": 19,
     "metadata": {},
     "output_type": "execute_result"
    }
   ],
   "source": [
    "c.info(\"aia.lev1_euv_12s\").segments"
   ]
  },
  {
   "cell_type": "code",
   "execution_count": 20,
   "metadata": {},
   "outputs": [
    {
     "data": {
      "text/plain": [
       "['T_REC', 'WAVELNTH']"
      ]
     },
     "execution_count": 20,
     "metadata": {},
     "output_type": "execute_result"
    }
   ],
   "source": [
    "c.pkeys(\"aia.lev1_euv_12s\")"
   ]
  },
  {
   "cell_type": "code",
   "execution_count": 51,
   "metadata": {},
   "outputs": [],
   "source": [
    "wavelengths = [94, \n",
    "               131, \n",
    "               171, \n",
    "               193, \n",
    "               211, \n",
    "               304, \n",
    "               335]"
   ]
  },
  {
   "cell_type": "code",
   "execution_count": 53,
   "metadata": {},
   "outputs": [],
   "source": [
    "aia_results = {}\n",
    "\n",
    "for w in wavelengths:\n",
    "    aia_results[str(w)] = Fido.search(\n",
    "        times[0] | times[1] | times[2],\n",
    "        a.jsoc.Notify(\"mgjeon@khu.ac.kr\"),\n",
    "        a.jsoc.Series(\"aia.lev1_euv_12s\"),\n",
    "        a.jsoc.Segment(\"image\"),\n",
    "        a.Wavelength(w*u.angstrom))"
   ]
  },
  {
   "cell_type": "code",
   "execution_count": 54,
   "metadata": {},
   "outputs": [
    {
     "name": "stdout",
     "output_type": "stream",
     "text": [
      "94 3\n",
      "131 3\n",
      "171 3\n",
      "193 3\n",
      "211 3\n",
      "304 3\n",
      "335 3\n"
     ]
    }
   ],
   "source": [
    "for key, value in aia_results.items():\n",
    "    print(key, len(value))"
   ]
  },
  {
   "cell_type": "code",
   "execution_count": null,
   "metadata": {},
   "outputs": [],
   "source": [
    "for wavelnth, result in aia_results.items():\n",
    "    Fido.fetch(result, path=f\"download/11158/aia/{wavelnth}/\" + \"{file}\")"
   ]
  },
  {
   "cell_type": "code",
   "execution_count": null,
   "metadata": {},
   "outputs": [],
   "source": []
  }
 ],
 "metadata": {
  "kernelspec": {
   "display_name": "rtmag",
   "language": "python",
   "name": "python3"
  },
  "language_info": {
   "codemirror_mode": {
    "name": "ipython",
    "version": 3
   },
   "file_extension": ".py",
   "mimetype": "text/x-python",
   "name": "python",
   "nbconvert_exporter": "python",
   "pygments_lexer": "ipython3",
   "version": "3.9.18"
  }
 },
 "nbformat": 4,
 "nbformat_minor": 2
}
