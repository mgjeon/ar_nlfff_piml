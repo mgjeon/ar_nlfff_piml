{
 "cells": [
  {
   "cell_type": "markdown",
   "metadata": {},
   "source": [
    "# Numpy"
   ]
  },
  {
   "cell_type": "code",
   "execution_count": 1,
   "metadata": {},
   "outputs": [],
   "source": [
    "import numpy as np\n",
    "\n",
    "#-----------------------------------------------------------------------------------------\n",
    "\n",
    "def Dx(f, h):\n",
    "    Dx_f = np.zeros_like(f)\n",
    "    Dx_f[1:-1, :, :] = (f[2:, :, :] - f[:-2, :, :]) / (2 * h)\n",
    "    Dx_f[0, :, :] = (-3 * f[0, :, :] + 4 * f[1, :, :] - f[2, :, :]) / (2 * h)\n",
    "    Dx_f[-1, :, :] = (3 * f[-1, :, :] - 4 * f[-2, :, :] + f[-3, :, :]) / (2 * h)\n",
    "    return Dx_f\n",
    "\n",
    "\n",
    "def Dy(f, h):\n",
    "    Dy_f = np.zeros_like(f)\n",
    "    Dy_f[:, 1:-1, :] = (f[:, 2:, :] - f[:, :-2, :]) / (2 * h)\n",
    "    Dy_f[:, 0, :] = (-3 * f[:, 0, :] + 4 * f[:, 1, :] - f[:, 2, :]) / (2 * h)\n",
    "    Dy_f[:, -1, :] = (3 * f[:, -1, :] - 4 * f[:, -2, :] + f[:, -3, :]) / (2 * h)\n",
    "    return Dy_f\n",
    "\n",
    "\n",
    "def Dz(f, h):\n",
    "    Dz_f = np.zeros_like(f)\n",
    "    Dz_f[:, :, 1:-1] = (f[:, :, 2:] - f[:, :, :-2]) / (2 * h)\n",
    "    Dz_f[:, :, 0] = (-3 * f[:, :, 0] + 4 * f[:, :, 1] - f[:, :, 2]) / (2 * h)\n",
    "    Dz_f[:, :, -1] = (3 * f[:, :, -1] - 4 * f[:, :, -2] + f[:, :, -3]) / (2 * h)\n",
    "    return Dz_f\n",
    "\n",
    "\n",
    "def DDx(f, h):\n",
    "    DDx_f = np.zeros_like(f)\n",
    "    DDx_f[1:-1, :, :] = (f[2:, :, :] - 2 * f[1:-1, :, :] + f[:-2, :, :]) / (h**2)\n",
    "    DDx_f[0, :, :] = (2 * f[0, :, :] - 5 * f[1, :, :] + 4 * f[2, :, :] - f[3, :, :]) / (\n",
    "        h**2\n",
    "    )\n",
    "    DDx_f[-1, :, :] = (\n",
    "        2 * f[-1, :, :] - 5 * f[-2, :, :] + 4 * f[-3, :, :] - f[-4, :, :]\n",
    "    ) / (h**2)\n",
    "    return DDx_f\n",
    "\n",
    "\n",
    "def DDy(f, h):\n",
    "    DDy_f = np.zeros_like(f)\n",
    "    DDy_f[:, 1:-1, :] = (f[:, 2:, :] - 2 * f[:, 1:-1, :] + f[:, :-2, :]) / (h**2)\n",
    "    DDy_f[:, 0, :] = (2 * f[:, 0, :] - 5 * f[:, 1, :] + 4 * f[:, 2, :] - f[:, 3, :]) / (\n",
    "        h**2\n",
    "    )\n",
    "    DDy_f[:, -1, :] = (\n",
    "        2 * f[:, -1, :] - 5 * f[:, -2, :] + 4 * f[:, -3, :] - f[:, -4, :]\n",
    "    ) / (h**2)\n",
    "    return DDy_f\n",
    "\n",
    "\n",
    "def DDz(f, h):\n",
    "    DDz_f = np.zeros_like(f)\n",
    "    DDz_f[:, :, 1:-1] = (f[:, :, 2:] - 2 * f[:, :, 1:-1] + f[:, :, :-2]) / (h**2)\n",
    "    DDz_f[:, :, 0] = (2 * f[:, :, 0] - 5 * f[:, :, 1] + 4 * f[:, :, 2] - f[:, :, 3]) / (\n",
    "        h**2\n",
    "    )\n",
    "    DDz_f[:, :, -1] = (\n",
    "        2 * f[:, :, -1] - 5 * f[:, :, -2] + 4 * f[:, :, -3] - f[:, :, -4]\n",
    "    ) / (h**2)\n",
    "    return DDz_f\n",
    "\n",
    "#-----------------------------------------------------------------------------------------\n",
    "\n",
    "def laplacian(f, dx, dy, dz):\n",
    "    return DDx(f, dx) + DDy(f, dy) + DDz(f, dz)\n",
    "\n",
    "#-----------------------------------------------------------------------------------------\n",
    "\n",
    "def gradient(f, dx, dy, dz):\n",
    "    gradient_xcomp = Dx(f, dx)\n",
    "    gradient_ycomp = Dy(f, dy)\n",
    "    gradient_zcomp = Dz(f, dz)\n",
    "\n",
    "    gradients = np.stack([gradient_xcomp, gradient_ycomp, gradient_zcomp], axis=-1)\n",
    "    return gradients\n",
    "\n",
    "\n",
    "def gradient_np(f, dx, dy, dz):\n",
    "    gradient_xcomp, gradient_ycomp, gradient_zcomp = np.gradient(f, dx, dy, dz, axis=(0, 1, 2), edge_order=2)\n",
    "    \n",
    "    gradients = np.stack([gradient_xcomp, gradient_ycomp, gradient_zcomp], axis=-1)\n",
    "    return gradients\n",
    "\n",
    "#-----------------------------------------------------------------------------------------\n",
    "\n",
    "def curl(F, dx, dy, dz):\n",
    "    \"\"\"\n",
    "    F : [Nx, Ny, Nz, 3]\n",
    "    \"\"\"\n",
    "\n",
    "    Fx = F[..., 0]\n",
    "    Fy = F[..., 1]\n",
    "    Fz = F[..., 2]\n",
    "\n",
    "    curl_xcomp = Dy(Fz, dy) - Dz(Fy, dz)\n",
    "    curl_ycomp = Dz(Fx, dz) - Dx(Fz, dx)\n",
    "    curl_zcomp = Dx(Fy, dx) - Dy(Fx, dy)\n",
    "\n",
    "    curls = np.stack([curl_xcomp, curl_ycomp, curl_zcomp], axis=-1)\n",
    "    return curls\n",
    "\n",
    "\n",
    "def curl_np(F, dx, dy, dz):\n",
    "    \"\"\"\n",
    "    F : [Nx, Ny, Nz, 3]\n",
    "    \"\"\"\n",
    "\n",
    "    Fx = F[..., 0]\n",
    "    Fy = F[..., 1]\n",
    "    Fz = F[..., 2]\n",
    "\n",
    "    Dx_Fx, Dy_Fx, Dz_Fx = np.gradient(Fx, dx, dy, dz, axis=(0, 1, 2), edge_order=2)\n",
    "    Dx_Fy, Dy_Fy, Dz_Fy = np.gradient(Fy, dx, dy, dz, axis=(0, 1, 2), edge_order=2)\n",
    "    Dx_Fz, Dy_Fz, Dz_Fz = np.gradient(Fz, dx, dy, dz, axis=(0, 1, 2), edge_order=2)\n",
    "\n",
    "    curl_xcomp = Dy_Fz - Dz_Fy\n",
    "    curl_ycomp = Dz_Fx - Dx_Fz\n",
    "    curl_zcomp = Dx_Fy - Dy_Fx\n",
    "\n",
    "    curls = np.stack([curl_xcomp, curl_ycomp, curl_zcomp], axis=-1)\n",
    "    return curls\n",
    "\n",
    "\n",
    "def curl_np2(F):\n",
    "    \"\"\"\n",
    "    F : [Nx, Ny, Nz, 3]\n",
    "    \"\"\"\n",
    "\n",
    "    Fx = F[..., 0]\n",
    "    Fy = F[..., 1]\n",
    "    Fz = F[..., 2]\n",
    "\n",
    "    Dx_Fx, Dy_Fx, Dz_Fx = np.gradient(Fx, axis=(0, 1, 2), edge_order=2)\n",
    "    Dx_Fy, Dy_Fy, Dz_Fy = np.gradient(Fy, axis=(0, 1, 2), edge_order=2)\n",
    "    Dx_Fz, Dy_Fz, Dz_Fz = np.gradient(Fz, axis=(0, 1, 2), edge_order=2)\n",
    "\n",
    "    curl_xcomp = Dy_Fz - Dz_Fy\n",
    "    curl_ycomp = Dz_Fx - Dx_Fz\n",
    "    curl_zcomp = Dx_Fy - Dy_Fx\n",
    "\n",
    "    curls = np.stack([curl_xcomp, curl_ycomp, curl_zcomp], axis=-1)\n",
    "    return curls\n",
    "\n",
    "#-----------------------------------------------------------------------------------------\n",
    "\n",
    "def divergence(F, dx, dy, dz):\n",
    "    \"\"\"\n",
    "    F : [Nx, Ny, Nz, 3]\n",
    "    \"\"\"\n",
    "\n",
    "    Fx = F[..., 0]\n",
    "    Fy = F[..., 1]\n",
    "    Fz = F[..., 2]\n",
    "\n",
    "    return Dx(Fx, dx) + Dy(Fy, dy) + Dz(Fz, dz)\n",
    "\n",
    "\n",
    "def divergence_np(F, dx, dy, dz):\n",
    "    \"\"\"\n",
    "    F : [Nx, Ny, Nz, 3]\n",
    "    \"\"\"\n",
    "\n",
    "    Fx = F[..., 0]\n",
    "    Fy = F[..., 1]\n",
    "    Fz = F[..., 2]\n",
    "\n",
    "    Dx_Fx, Dy_Fx, Dz_Fx = np.gradient(Fx, dx, dy, dz, axis=(0, 1, 2), edge_order=2)\n",
    "    Dx_Fy, Dy_Fy, Dz_Fy = np.gradient(Fy, dx, dy, dz, axis=(0, 1, 2), edge_order=2)\n",
    "    Dx_Fz, Dy_Fz, Dz_Fz = np.gradient(Fz, dx, dy, dz, axis=(0, 1, 2), edge_order=2)\n",
    "\n",
    "    return Dx_Fx + Dy_Fy + Dz_Fz\n",
    "\n",
    "\n",
    "def divergence_np2(F):\n",
    "    \"\"\"\n",
    "    F : [Nx, Ny, Nz, 3]\n",
    "    \"\"\"\n",
    "\n",
    "    Fx = F[..., 0]\n",
    "    Fy = F[..., 1]\n",
    "    Fz = F[..., 2]\n",
    "\n",
    "    Dx_Fx, Dy_Fx, Dz_Fx = np.gradient(Fx, axis=(0, 1, 2), edge_order=2)\n",
    "    Dx_Fy, Dy_Fy, Dz_Fy = np.gradient(Fy, axis=(0, 1, 2), edge_order=2)\n",
    "    Dx_Fz, Dy_Fz, Dz_Fz = np.gradient(Fz, axis=(0, 1, 2), edge_order=2)\n",
    "\n",
    "    return Dx_Fx + Dy_Fy + Dz_Fz\n",
    "\n",
    "#-----------------------------------------------------------------------------------------"
   ]
  },
  {
   "cell_type": "code",
   "execution_count": 5,
   "metadata": {},
   "outputs": [],
   "source": [
    "a = np.random.rand(100, 100, 100)\n",
    "b = np.random.rand(100, 100, 100, 3)"
   ]
  },
  {
   "cell_type": "code",
   "execution_count": 7,
   "metadata": {},
   "outputs": [
    {
     "data": {
      "text/plain": [
       "True"
      ]
     },
     "execution_count": 7,
     "metadata": {},
     "output_type": "execute_result"
    }
   ],
   "source": [
    "np.allclose(gradient(a, 1, 1, 1), gradient_np(a, 1, 1, 1))"
   ]
  },
  {
   "cell_type": "code",
   "execution_count": 12,
   "metadata": {},
   "outputs": [
    {
     "name": "stdout",
     "output_type": "stream",
     "text": [
      "13.4 ms ± 275 µs per loop (mean ± std. dev. of 7 runs, 100 loops each)\n"
     ]
    }
   ],
   "source": [
    "%%timeit\n",
    "gradient(a, 1, 1, 1)"
   ]
  },
  {
   "cell_type": "code",
   "execution_count": 13,
   "metadata": {},
   "outputs": [
    {
     "name": "stdout",
     "output_type": "stream",
     "text": [
      "13.1 ms ± 208 µs per loop (mean ± std. dev. of 7 runs, 100 loops each)\n"
     ]
    }
   ],
   "source": [
    "%%timeit\n",
    "gradient_np(a, 1, 1, 1)"
   ]
  },
  {
   "cell_type": "code",
   "execution_count": 8,
   "metadata": {},
   "outputs": [
    {
     "data": {
      "text/plain": [
       "True"
      ]
     },
     "execution_count": 8,
     "metadata": {},
     "output_type": "execute_result"
    }
   ],
   "source": [
    "np.allclose(curl(b, 1, 1, 1), curl_np(b, 1, 1, 1))"
   ]
  },
  {
   "cell_type": "code",
   "execution_count": 9,
   "metadata": {},
   "outputs": [
    {
     "data": {
      "text/plain": [
       "True"
      ]
     },
     "execution_count": 9,
     "metadata": {},
     "output_type": "execute_result"
    }
   ],
   "source": [
    "np.allclose(curl(b, 1, 1, 1), curl_np2(b))"
   ]
  },
  {
   "cell_type": "code",
   "execution_count": 14,
   "metadata": {},
   "outputs": [
    {
     "name": "stdout",
     "output_type": "stream",
     "text": [
      "28.1 ms ± 392 µs per loop (mean ± std. dev. of 7 runs, 10 loops each)\n"
     ]
    }
   ],
   "source": [
    "%%timeit\n",
    "curl(b, 1, 1, 1)"
   ]
  },
  {
   "cell_type": "code",
   "execution_count": 15,
   "metadata": {},
   "outputs": [
    {
     "name": "stdout",
     "output_type": "stream",
     "text": [
      "41 ms ± 782 µs per loop (mean ± std. dev. of 7 runs, 10 loops each)\n"
     ]
    }
   ],
   "source": [
    "%%timeit\n",
    "curl_np(b, 1, 1, 1)"
   ]
  },
  {
   "cell_type": "code",
   "execution_count": 17,
   "metadata": {},
   "outputs": [
    {
     "name": "stdout",
     "output_type": "stream",
     "text": [
      "39.1 ms ± 502 µs per loop (mean ± std. dev. of 7 runs, 10 loops each)\n"
     ]
    }
   ],
   "source": [
    "%%timeit\n",
    "curl_np2(b)"
   ]
  },
  {
   "cell_type": "code",
   "execution_count": 10,
   "metadata": {},
   "outputs": [
    {
     "data": {
      "text/plain": [
       "True"
      ]
     },
     "execution_count": 10,
     "metadata": {},
     "output_type": "execute_result"
    }
   ],
   "source": [
    "np.allclose(divergence(b, 1, 1, 1), divergence_np(b, 1, 1, 1))"
   ]
  },
  {
   "cell_type": "code",
   "execution_count": 11,
   "metadata": {},
   "outputs": [
    {
     "data": {
      "text/plain": [
       "True"
      ]
     },
     "execution_count": 11,
     "metadata": {},
     "output_type": "execute_result"
    }
   ],
   "source": [
    "np.allclose(divergence(b, 1, 1, 1), divergence_np2(b))"
   ]
  },
  {
   "cell_type": "code",
   "execution_count": 18,
   "metadata": {},
   "outputs": [
    {
     "name": "stdout",
     "output_type": "stream",
     "text": [
      "9.6 ms ± 124 µs per loop (mean ± std. dev. of 7 runs, 100 loops each)\n"
     ]
    }
   ],
   "source": [
    "%%timeit\n",
    "divergence(b, 1, 1, 1)"
   ]
  },
  {
   "cell_type": "code",
   "execution_count": 19,
   "metadata": {},
   "outputs": [
    {
     "name": "stdout",
     "output_type": "stream",
     "text": [
      "30.6 ms ± 417 µs per loop (mean ± std. dev. of 7 runs, 10 loops each)\n"
     ]
    }
   ],
   "source": [
    "%%timeit\n",
    "divergence_np(b, 1, 1, 1)"
   ]
  },
  {
   "cell_type": "code",
   "execution_count": 21,
   "metadata": {},
   "outputs": [
    {
     "name": "stdout",
     "output_type": "stream",
     "text": [
      "30.5 ms ± 238 µs per loop (mean ± std. dev. of 7 runs, 10 loops each)\n"
     ]
    }
   ],
   "source": [
    "%%timeit\n",
    "divergence_np2(b)"
   ]
  },
  {
   "cell_type": "code",
   "execution_count": null,
   "metadata": {},
   "outputs": [],
   "source": []
  }
 ],
 "metadata": {
  "kernelspec": {
   "display_name": "Python 3 (ipykernel)",
   "language": "python",
   "name": "python3"
  },
  "language_info": {
   "codemirror_mode": {
    "name": "ipython",
    "version": 3
   },
   "file_extension": ".py",
   "mimetype": "text/x-python",
   "name": "python",
   "nbconvert_exporter": "python",
   "pygments_lexer": "ipython3",
   "version": "3.9.18"
  }
 },
 "nbformat": 4,
 "nbformat_minor": 4
}
