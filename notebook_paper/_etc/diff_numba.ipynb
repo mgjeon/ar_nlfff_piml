{
 "cells": [
  {
   "cell_type": "markdown",
   "metadata": {},
   "source": [
    "# Numba"
   ]
  },
  {
   "cell_type": "code",
   "execution_count": 49,
   "metadata": {},
   "outputs": [],
   "source": [
    "import numpy as np\n",
    "from numba import prange, njit\n",
    "\n",
    "@njit(parallel=True)\n",
    "def Dx(f, h=1.0):\n",
    "    \"\"\"\n",
    "    Input:\n",
    "        f : [Nx, Ny, Nz]\n",
    "        h : float\n",
    "    \n",
    "    Output:\n",
    "        Dx_f : [Nx, Ny, Nz]\n",
    "    \"\"\"\n",
    "    nx, ny, nz = f.shape\n",
    "    Dx_f = np.zeros((nx, ny, nz))\n",
    "    \n",
    "    for i in prange(1, nx-1):\n",
    "        for j in prange(ny):\n",
    "            for k in prange(nz):\n",
    "                    Dx_f[i, j, k] = (f[i+1, j, k] - f[i-1, j, k]) / (2*h)\n",
    "    \n",
    "    for j in prange(ny):\n",
    "        for k in prange(nz):\n",
    "            Dx_f[0, j, k] = (-3*f[0, j, k] + 4*f[1, j, k] - f[2, j, k]) / (2*h)\n",
    "\n",
    "    for j in prange(ny):\n",
    "        for k in prange(nz):\n",
    "            Dx_f[-1, j, k] = (3*f[-1, j, k] - 4*f[-2, j, k] + f[-3, j, k]) / (2*h)\n",
    "\n",
    "    return Dx_f\n",
    "\n",
    "\n",
    "@njit(parallel=True)\n",
    "def Dy(f, h=1.0):\n",
    "    \"\"\"\n",
    "    Input:\n",
    "        f : [Nx, Ny, Nz]\n",
    "        h : float\n",
    "    \n",
    "    Output:\n",
    "        Dy_f : [Nx, Ny, Nz]\n",
    "    \"\"\"\n",
    "    nx, ny, nz = f.shape\n",
    "    Dy_f = np.zeros((nx, ny, nz))\n",
    "    \n",
    "    for i in prange(nx):\n",
    "        for j in prange(1, ny-1):\n",
    "            for k in prange(nz):\n",
    "                    Dy_f[i, j, k] = (f[i, j+1, k] - f[i, j-1, k]) / (2*h)\n",
    "    \n",
    "    for i in prange(nx):\n",
    "        for k in prange(nz):\n",
    "            Dy_f[i, 0, k] = (-3*f[i, 0, k] + 4*f[i, 1, k] - f[i, 2, k]) / (2*h)\n",
    "\n",
    "    for i in prange(nx):\n",
    "        for k in prange(nz):\n",
    "            Dy_f[i, -1, k] = (3*f[i, -1, k] - 4*f[i, -2, k] + f[i, -3, k]) / (2*h)\n",
    "\n",
    "    return Dy_f\n",
    "\n",
    "\n",
    "@njit(parallel=True)\n",
    "def Dz(f, h=1.0):\n",
    "    \"\"\"\n",
    "    Input:\n",
    "        f : [Nx, Ny, Nz]\n",
    "        h : float\n",
    "    \n",
    "    Output:\n",
    "        Dz_f : [Nx, Ny, Nz]\n",
    "    \"\"\"\n",
    "    nx, ny, nz = f.shape\n",
    "    Dz_f = np.zeros((nx, ny, nz))\n",
    "    \n",
    "    for i in prange(nx):\n",
    "        for j in prange(ny):\n",
    "            for k in prange(1, nz-1):\n",
    "                    Dz_f[i, j, k] = (f[i, j, k+1] - f[i, j, k-1]) / (2*h)\n",
    "    \n",
    "    for i in prange(nx):\n",
    "        for j in prange(ny):\n",
    "            Dz_f[i, j, 0] = (-3*f[i, j, 0] + 4*f[i, j, 1] - f[i, j, 2]) / (2*h)\n",
    "\n",
    "    for i in prange(nx):\n",
    "        for j in prange(ny):\n",
    "            Dz_f[i, j, -1] = (3*f[i, j, -1] - 4*f[i, j, -2] + f[i, j, -3]) / (2*h)\n",
    "\n",
    "    return Dz_f\n",
    "\n",
    "\n",
    "@njit(parallel=True)\n",
    "def DDx(f, h=1.0):\n",
    "    \"\"\"\n",
    "    Input:\n",
    "        f : [Nx, Ny, Nz]\n",
    "        h : float\n",
    "    \n",
    "    Output:\n",
    "        DDx_f : [Nx, Ny, Nz]\n",
    "    \"\"\"\n",
    "    nx, ny, nz = f.shape\n",
    "    DDx_f = np.zeros((nx, ny, nz))\n",
    "    \n",
    "    for i in prange(1, nx-1):\n",
    "        for j in prange(ny):\n",
    "            for k in prange(nz):\n",
    "                    DDx_f[i, j, k] = (f[i+1, j, k] - 2*f[i, j, k] + f[i-1, j, k]) / (h**2)\n",
    "    \n",
    "    for j in prange(ny):\n",
    "        for k in prange(nz):\n",
    "            DDx_f[0, j, k] = (2*f[0, j, k] - 5*f[1, j, k] + 4*f[2, j, k] - f[3, j, k]) / (h**2)\n",
    "    \n",
    "    for j in prange(ny):\n",
    "        for k in prange(nz):\n",
    "            DDx_f[-1, j, k] = (2*f[-1, j, k] - 5*f[-2, j, k] + 4*f[-3, j, k] - f[-4, j, k]) / (h**2)\n",
    "    \n",
    "    return DDx_f\n",
    "\n",
    "\n",
    "@njit(parallel=True)\n",
    "def DDy(f, h=1.0):\n",
    "    \"\"\"\n",
    "    Input:\n",
    "        f : [Nx, Ny, Nz]\n",
    "        h : float\n",
    "    \n",
    "    Output:\n",
    "        DDy_f : [Nx, Ny, Nz]\n",
    "    \"\"\"\n",
    "    nx, ny, nz = f.shape\n",
    "    DDy_f = np.zeros((nx, ny, nz))\n",
    "    \n",
    "    for i in prange(nx):\n",
    "        for j in prange(1, ny-1):\n",
    "            for k in prange(nz):\n",
    "                    DDy_f[i, j, k] = (f[i, j+1, k] - 2*f[i, j, k] + f[i, j-1, k]) / (h**2)\n",
    "    \n",
    "    for i in prange(nx):\n",
    "        for k in prange(nz):\n",
    "            DDy_f[i, 0, k] = (2*f[i, 0, k] - 5*f[i, 1, k] + 4*f[i, 2, k] - f[i, 3, k]) / (h**2)\n",
    "    \n",
    "    for i in prange(nx):\n",
    "        for k in prange(nz):\n",
    "            DDy_f[i, -1, k] = (2*f[i, -1, k] - 5*f[i, -2, k] + 4*f[i, -3, k] - f[i, -4, k]) / (h**2)\n",
    "    \n",
    "    return DDy_f\n",
    "\n",
    "\n",
    "@njit(parallel=True)\n",
    "def DDz(f, h=1.0):\n",
    "    \"\"\"\n",
    "    Input:\n",
    "        f : [Nx, Ny, Nz]\n",
    "        h : float\n",
    "    \n",
    "    Output:\n",
    "        DDz_f : [Nx, Ny, Nz]\n",
    "    \"\"\"\n",
    "    nx, ny, nz = f.shape\n",
    "    DDz_f = np.zeros((nx, ny, nz))\n",
    "    \n",
    "    for i in prange(nx):\n",
    "        for j in prange(ny):\n",
    "            for k in prange(1, nz-1):\n",
    "                    DDz_f[i, j, k] = (f[i, j, k+1] - 2*f[i, j, k] + f[i, j, k-1]) / (h**2)\n",
    "    \n",
    "    for i in prange(nx):\n",
    "        for j in prange(ny):\n",
    "            DDz_f[i, j, 0] = (2*f[i, j, 0] - 5*f[i, j, 1] + 4*f[i, j, 2] - f[i, j, 3]) / (h**2)\n",
    "    \n",
    "    for i in prange(nx):\n",
    "        for j in prange(ny):\n",
    "            DDz_f[i, j, -1] = (2*f[i, j, -1] - 5*f[i, j, -2] + 4*f[i, j, -3] - f[i, j, -4]) / (h**2)\n",
    "    \n",
    "    return DDz_f\n",
    "\n",
    "\n",
    "@njit(parallel=True)\n",
    "def laplacian(f, dx=1.0, dy=1.0, dz=1.0):\n",
    "    \"\"\"\n",
    "    Input:\n",
    "        f : [Nx, Ny, Nz]\n",
    "        dx : float\n",
    "        dy : float\n",
    "        dz : float\n",
    "\n",
    "    Output:\n",
    "        laplacian_f : [Nx, Ny, Nz]\n",
    "    \"\"\"\n",
    "    laplacian_f = np.zeros(f.shape)\n",
    "    laplacian_f = DDx(f, dx) + DDy(f, dy) + DDz(f, dz)\n",
    "    return laplacian_f\n",
    "\n",
    "\n",
    "@njit(parallel=True)\n",
    "def gradient(f, dx=1.0, dy=1.0, dz=1.0):\n",
    "    \"\"\"\n",
    "    Input:\n",
    "        f : [Nx, Ny, Nz]\n",
    "        dx : float\n",
    "        dy : float\n",
    "        dz : float\n",
    "\n",
    "    Output:\n",
    "        gradient_f : [Nx, Ny, Nz, 3]\n",
    "    \"\"\"\n",
    "\n",
    "    gradient_f = np.zeros((f.shape[0], f.shape[1], f.shape[2], 3))\n",
    "\n",
    "    gradient_f[..., 0] = Dx(f, dx)\n",
    "    gradient_f[..., 1] = Dy(f, dy)\n",
    "    gradient_f[..., 2] = Dz(f, dz)\n",
    "    return gradient_f\n",
    "\n",
    "\n",
    "@njit(parallel=True)\n",
    "def curl(F, dx=1.0, dy=1.0, dz=1.0):\n",
    "    \"\"\"\n",
    "    Input:\n",
    "        F : [Nx, Ny, Nz, 3]\n",
    "        dx : float\n",
    "        dy : float\n",
    "        dz : float\n",
    "\n",
    "    Output:\n",
    "        curl_F : [Nx, Ny, Nz, 3]\n",
    "    \"\"\"\n",
    "\n",
    "    Fx = F[..., 0]\n",
    "    Fy = F[..., 1]\n",
    "    Fz = F[..., 2]\n",
    "\n",
    "    curl_F = np.zeros(F.shape)\n",
    "\n",
    "    curl_F[..., 0] = Dy(Fz, dy) - Dz(Fy, dz)\n",
    "    curl_F[..., 1] = Dz(Fx, dz) - Dx(Fz, dx)\n",
    "    curl_F[..., 2] = Dx(Fy, dx) - Dy(Fx, dy)    \n",
    "    return curl_F\n",
    "\n",
    "\n",
    "@njit(parallel=True)\n",
    "def divergence(F, dx=1.0, dy=1.0, dz=1.0):\n",
    "    \"\"\"\n",
    "    Input:\n",
    "        F : [Nx, Ny, Nz, 3]\n",
    "        dx : float\n",
    "        dy : float\n",
    "        dz : float\n",
    "\n",
    "    Output:\n",
    "        divergence_F : [Nx, Ny, Nz]\n",
    "    \"\"\"\n",
    "\n",
    "    Fx = F[..., 0]\n",
    "    Fy = F[..., 1]\n",
    "    Fz = F[..., 2]\n",
    "\n",
    "    divergence_F = np.zeros(F.shape[:-1])\n",
    "\n",
    "    divergence_F = Dx(Fx, dx) + Dy(Fy, dy) + Dz(Fz, dz)\n",
    "    return divergence_F"
   ]
  },
  {
   "cell_type": "code",
   "execution_count": 25,
   "metadata": {},
   "outputs": [],
   "source": [
    "import rtmag.test.diff as diff\n",
    "from findiff import FinDiff"
   ]
  },
  {
   "cell_type": "code",
   "execution_count": 26,
   "metadata": {},
   "outputs": [],
   "source": [
    "d_dx = FinDiff(0, 1, 1)"
   ]
  },
  {
   "cell_type": "code",
   "execution_count": 27,
   "metadata": {},
   "outputs": [],
   "source": [
    "a = np.random.rand(512, 256, 256)"
   ]
  },
  {
   "cell_type": "code",
   "execution_count": 28,
   "metadata": {},
   "outputs": [
    {
     "data": {
      "text/plain": [
       "True"
      ]
     },
     "execution_count": 28,
     "metadata": {},
     "output_type": "execute_result"
    }
   ],
   "source": [
    "np.allclose(Dx(a, 1), diff.Dx(a, 1))"
   ]
  },
  {
   "cell_type": "code",
   "execution_count": 29,
   "metadata": {},
   "outputs": [
    {
     "data": {
      "text/plain": [
       "True"
      ]
     },
     "execution_count": 29,
     "metadata": {},
     "output_type": "execute_result"
    }
   ],
   "source": [
    "np.allclose(Dx(a, 1), d_dx(a))"
   ]
  },
  {
   "cell_type": "code",
   "execution_count": 30,
   "metadata": {},
   "outputs": [
    {
     "name": "stdout",
     "output_type": "stream",
     "text": [
      "25.9 ms ± 485 µs per loop (mean ± std. dev. of 7 runs, 10 loops each)\n"
     ]
    }
   ],
   "source": [
    "%%timeit\n",
    "Dx(a, 1)"
   ]
  },
  {
   "cell_type": "code",
   "execution_count": 31,
   "metadata": {},
   "outputs": [
    {
     "name": "stdout",
     "output_type": "stream",
     "text": [
      "94.5 ms ± 4.85 ms per loop (mean ± std. dev. of 7 runs, 10 loops each)\n"
     ]
    }
   ],
   "source": [
    "%%timeit\n",
    "diff.Dx(a, 1)"
   ]
  },
  {
   "cell_type": "code",
   "execution_count": 32,
   "metadata": {},
   "outputs": [
    {
     "name": "stdout",
     "output_type": "stream",
     "text": [
      "235 ms ± 9.36 ms per loop (mean ± std. dev. of 7 runs, 1 loop each)\n"
     ]
    }
   ],
   "source": [
    "%%timeit\n",
    "d_dx(a, 1)"
   ]
  },
  {
   "cell_type": "code",
   "execution_count": 33,
   "metadata": {},
   "outputs": [
    {
     "data": {
      "text/plain": [
       "True"
      ]
     },
     "execution_count": 33,
     "metadata": {},
     "output_type": "execute_result"
    }
   ],
   "source": [
    "np.allclose(Dy(a, 1), diff.Dy(a, 1))"
   ]
  },
  {
   "cell_type": "code",
   "execution_count": 34,
   "metadata": {},
   "outputs": [
    {
     "data": {
      "text/plain": [
       "True"
      ]
     },
     "execution_count": 34,
     "metadata": {},
     "output_type": "execute_result"
    }
   ],
   "source": [
    "np.allclose(Dz(a, 1), diff.Dz(a, 1))"
   ]
  },
  {
   "cell_type": "code",
   "execution_count": 35,
   "metadata": {},
   "outputs": [
    {
     "data": {
      "text/plain": [
       "True"
      ]
     },
     "execution_count": 35,
     "metadata": {},
     "output_type": "execute_result"
    }
   ],
   "source": [
    "np.allclose(DDx(a, 1), diff.DDx(a, 1))"
   ]
  },
  {
   "cell_type": "code",
   "execution_count": 36,
   "metadata": {},
   "outputs": [
    {
     "data": {
      "text/plain": [
       "True"
      ]
     },
     "execution_count": 36,
     "metadata": {},
     "output_type": "execute_result"
    }
   ],
   "source": [
    "np.allclose(DDy(a, 1), diff.DDy(a, 1))"
   ]
  },
  {
   "cell_type": "code",
   "execution_count": 37,
   "metadata": {},
   "outputs": [
    {
     "data": {
      "text/plain": [
       "True"
      ]
     },
     "execution_count": 37,
     "metadata": {},
     "output_type": "execute_result"
    }
   ],
   "source": [
    "np.allclose(DDz(a, 1), diff.DDz(a, 1))"
   ]
  },
  {
   "cell_type": "code",
   "execution_count": 44,
   "metadata": {},
   "outputs": [
    {
     "data": {
      "text/plain": [
       "True"
      ]
     },
     "execution_count": 44,
     "metadata": {},
     "output_type": "execute_result"
    }
   ],
   "source": [
    "np.allclose(laplacian(a, 1, 1, 1), diff.laplacian(a, 1, 1, 1))"
   ]
  },
  {
   "cell_type": "code",
   "execution_count": 45,
   "metadata": {},
   "outputs": [
    {
     "name": "stdout",
     "output_type": "stream",
     "text": [
      "97.3 ms ± 1.05 ms per loop (mean ± std. dev. of 7 runs, 10 loops each)\n"
     ]
    }
   ],
   "source": [
    "%%timeit\n",
    "laplacian(a, 1, 1, 1)"
   ]
  },
  {
   "cell_type": "code",
   "execution_count": 40,
   "metadata": {},
   "outputs": [
    {
     "name": "stdout",
     "output_type": "stream",
     "text": [
      "564 ms ± 23.6 ms per loop (mean ± std. dev. of 7 runs, 1 loop each)\n"
     ]
    }
   ],
   "source": [
    "%%timeit\n",
    "diff.laplacian(a, 1, 1, 1)"
   ]
  },
  {
   "cell_type": "code",
   "execution_count": 46,
   "metadata": {},
   "outputs": [
    {
     "data": {
      "text/plain": [
       "True"
      ]
     },
     "execution_count": 46,
     "metadata": {},
     "output_type": "execute_result"
    }
   ],
   "source": [
    "np.allclose(gradient(a, 1, 1, 1), diff.gradient(a, 1, 1, 1))"
   ]
  },
  {
   "cell_type": "code",
   "execution_count": 47,
   "metadata": {},
   "outputs": [
    {
     "name": "stdout",
     "output_type": "stream",
     "text": [
      "262 ms ± 4.05 ms per loop (mean ± std. dev. of 7 runs, 1 loop each)\n"
     ]
    }
   ],
   "source": [
    "%%timeit\n",
    "gradient(a, 1, 1, 1)"
   ]
  },
  {
   "cell_type": "code",
   "execution_count": 48,
   "metadata": {},
   "outputs": [
    {
     "name": "stdout",
     "output_type": "stream",
     "text": [
      "533 ms ± 47.2 ms per loop (mean ± std. dev. of 7 runs, 1 loop each)\n"
     ]
    }
   ],
   "source": [
    "%%timeit\n",
    "diff.gradient(a, 1, 1, 1)"
   ]
  },
  {
   "cell_type": "code",
   "execution_count": 50,
   "metadata": {},
   "outputs": [],
   "source": [
    "b = np.random.rand(512, 256, 256, 3)"
   ]
  },
  {
   "cell_type": "code",
   "execution_count": 51,
   "metadata": {},
   "outputs": [
    {
     "data": {
      "text/plain": [
       "True"
      ]
     },
     "execution_count": 51,
     "metadata": {},
     "output_type": "execute_result"
    }
   ],
   "source": [
    "np.allclose(curl(b, 1, 1, 1), diff.curl(b, 1, 1, 1))"
   ]
  },
  {
   "cell_type": "code",
   "execution_count": 52,
   "metadata": {},
   "outputs": [
    {
     "name": "stdout",
     "output_type": "stream",
     "text": [
      "469 ms ± 3.46 ms per loop (mean ± std. dev. of 7 runs, 1 loop each)\n"
     ]
    }
   ],
   "source": [
    "%%timeit\n",
    "curl(b, 1, 1, 1)"
   ]
  },
  {
   "cell_type": "code",
   "execution_count": 53,
   "metadata": {},
   "outputs": [
    {
     "name": "stdout",
     "output_type": "stream",
     "text": [
      "1.16 s ± 68.9 ms per loop (mean ± std. dev. of 7 runs, 1 loop each)\n"
     ]
    }
   ],
   "source": [
    "%%timeit\n",
    "diff.curl(b, 1, 1, 1)"
   ]
  },
  {
   "cell_type": "code",
   "execution_count": 54,
   "metadata": {},
   "outputs": [
    {
     "data": {
      "text/plain": [
       "True"
      ]
     },
     "execution_count": 54,
     "metadata": {},
     "output_type": "execute_result"
    }
   ],
   "source": [
    "np.allclose(divergence(b, 1, 1, 1), diff.divergence(b, 1, 1, 1))"
   ]
  },
  {
   "cell_type": "code",
   "execution_count": 55,
   "metadata": {},
   "outputs": [
    {
     "name": "stdout",
     "output_type": "stream",
     "text": [
      "133 ms ± 3.66 ms per loop (mean ± std. dev. of 7 runs, 10 loops each)\n"
     ]
    }
   ],
   "source": [
    "%%timeit\n",
    "divergence(b, 1, 1, 1)"
   ]
  },
  {
   "cell_type": "code",
   "execution_count": 56,
   "metadata": {},
   "outputs": [
    {
     "name": "stdout",
     "output_type": "stream",
     "text": [
      "453 ms ± 18.4 ms per loop (mean ± std. dev. of 7 runs, 1 loop each)\n"
     ]
    }
   ],
   "source": [
    "%%timeit\n",
    "diff.divergence(b, 1, 1, 1)"
   ]
  },
  {
   "cell_type": "code",
   "execution_count": null,
   "metadata": {},
   "outputs": [],
   "source": []
  }
 ],
 "metadata": {
  "kernelspec": {
   "display_name": "Python 3 (ipykernel)",
   "language": "python",
   "name": "python3"
  },
  "language_info": {
   "codemirror_mode": {
    "name": "ipython",
    "version": 3
   },
   "file_extension": ".py",
   "mimetype": "text/x-python",
   "name": "python",
   "nbconvert_exporter": "python",
   "pygments_lexer": "ipython3",
   "version": "3.9.18"
  }
 },
 "nbformat": 4,
 "nbformat_minor": 4
}
