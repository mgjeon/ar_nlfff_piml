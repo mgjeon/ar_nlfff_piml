{
 "cells": [
  {
   "cell_type": "code",
   "execution_count": 1,
   "id": "cf230591-096b-4dcd-aba3-341f63521c14",
   "metadata": {},
   "outputs": [],
   "source": [
    "import numpy as np\n",
    "from numba import njit, prange\n",
    "from rtmag.test.eval import C_vec, C_cs, En_prime, Em_prime, eps"
   ]
  },
  {
   "cell_type": "code",
   "execution_count": 2,
   "id": "a3600de8-4d38-46c2-bcb6-854594a16f7c",
   "metadata": {},
   "outputs": [],
   "source": [
    "a1 = np.random.rand(512, 256, 256, 3).astype(np.float32)\n",
    "a2 = np.random.rand(512, 256, 256, 3).astype(np.float32)\n",
    "a2[:, :, 50] = 0"
   ]
  },
  {
   "cell_type": "code",
   "execution_count": 3,
   "id": "c1e49571-967c-413a-a887-c11632cc835f",
   "metadata": {},
   "outputs": [
    {
     "name": "stdout",
     "output_type": "stream",
     "text": [
      "0.7485102\n",
      "0.797496182310815\n",
      "0.3072035312652588\n",
      "0.20669543696384807\n",
      "1.0037494\n",
      "CPU times: user 4.48 s, sys: 566 ms, total: 5.05 s\n",
      "Wall time: 5.04 s\n"
     ]
    }
   ],
   "source": [
    "%%time\n",
    "print(C_vec(a1, a2))\n",
    "print(C_cs(a1, a2))\n",
    "print(En_prime(a1, a2))\n",
    "print(Em_prime(a1, a2))\n",
    "print(eps(a1, a2))"
   ]
  },
  {
   "cell_type": "code",
   "execution_count": 4,
   "id": "9c2d8583-3d8c-4aa0-9588-f9b5ad0aa224",
   "metadata": {},
   "outputs": [],
   "source": [
    "import numpy as np\n",
    "from numba import prange, njit\n",
    "\n",
    "@njit(parallel=True)\n",
    "def dot_product(a, b):\n",
    "    \"\"\"\n",
    "    a : [Nx, Ny, Nz, 3]\n",
    "    b : [Nx, Ny, Nz, 3]\n",
    "    \"\"\"\n",
    "    c = np.zeros(a.shape[:-1])\n",
    "    I, J, K, L = a.shape\n",
    "    for i in prange(I):\n",
    "        for j in prange(J):\n",
    "            for k in prange(K):\n",
    "                for l in prange(L):\n",
    "                    c[i, j, k] += a[i, j, k, l]*b[i, j, k, l]\n",
    "    \n",
    "    return c\n",
    "\n",
    "def vector_norm(a):\n",
    "    \"\"\"\n",
    "    a : [Nx, Ny, Nz, 3]\n",
    "    \"\"\"\n",
    "    return np.sqrt(dot_product(a, a))\n",
    "\n",
    "\n",
    "def C_vec(b, B):\n",
    "    return dot_product(B, b).sum() / np.sqrt((vector_norm(B)**2).sum() * (vector_norm(b)**2).sum())\n",
    "\n",
    "\n",
    "def C_cs(b, B):\n",
    "    nu = dot_product(B, b)\n",
    "    de = vector_norm(B) * vector_norm(b)\n",
    "    M = np.sum([de!=0.])\n",
    "    return (1 / M) * np.divide(nu, de, where=de!=0.).sum()\n",
    "\n",
    "\n",
    "def En_prime(b, B):\n",
    "    return 1 - (vector_norm(b - B).sum() / vector_norm(B).sum())\n",
    "\n",
    "\n",
    "def Em_prime(b, B):\n",
    "    nu = vector_norm(b - B)\n",
    "    de = vector_norm(B)\n",
    "    M = np.sum([de!=0.])\n",
    "    return 1 - ((1 / M) * np.sum(np.divide(nu, de, where=de!=0.)))\n",
    "\n",
    "\n",
    "def eps(b, B):\n",
    "    return (vector_norm(b) ** 2).sum() / (vector_norm(B) ** 2).sum()"
   ]
  },
  {
   "cell_type": "code",
   "execution_count": 5,
   "id": "53371f9a-972d-449b-8373-9abeacf34753",
   "metadata": {},
   "outputs": [
    {
     "name": "stdout",
     "output_type": "stream",
     "text": [
      "0.7485081428288567\n",
      "0.7974952024552032\n",
      "0.3072030710673135\n",
      "0.20669489899321525\n",
      "1.0037486246532838\n",
      "CPU times: user 4.9 s, sys: 1.7 s, total: 6.61 s\n",
      "Wall time: 1.89 s\n"
     ]
    }
   ],
   "source": [
    "%%time\n",
    "print(C_vec(a1, a2))\n",
    "print(C_cs(a1, a2))\n",
    "print(En_prime(a1, a2))\n",
    "print(Em_prime(a1, a2))\n",
    "print(eps(a1, a2))"
   ]
  },
  {
   "cell_type": "code",
   "execution_count": 6,
   "id": "e6f30799-12fe-4887-a635-bf97fa5b0186",
   "metadata": {},
   "outputs": [],
   "source": [
    "class Evaluator:\n",
    "\n",
    "    def __init__(self, b, B):\n",
    "        self.b = b\n",
    "        self.B = B\n",
    "\n",
    "    def compare(self):\n",
    "        b = self.b\n",
    "        B = self.B\n",
    "\n",
    "        dot_product_b_B = dot_product(b, B)\n",
    "        vector_norm_b = vector_norm(b)\n",
    "        vector_norm_B = vector_norm(B)\n",
    "        vector_norm_b_B = vector_norm(b-B)\n",
    "        cs_de = vector_norm_b * vector_norm_B\n",
    "        vector_norm_b_square_sum = (vector_norm(b)**2).sum()\n",
    "        vecotr_norm_B_square_sum = (vector_norm(B)**2).sum()\n",
    "\n",
    "        c_vec = dot_product_b_B.sum() / np.sqrt( vector_norm_b_square_sum * vecotr_norm_B_square_sum )\n",
    "        c_cs  = (1 / np.sum([cs_de!=0.])) * np.divide(dot_product_b_B, cs_de, where=cs_de!=0.).sum()\n",
    "        en_prime = 1 - (vector_norm_b_B.sum() / vector_norm_B.sum())\n",
    "        em_prime = 1 - ((1 / np.sum([vector_norm_B!=0.])) * np.sum(np.divide(vector_norm_b_B, vector_norm_B, where=vector_norm_B!=0.)))\n",
    "        eps = vector_norm_b_square_sum / vecotr_norm_B_square_sum\n",
    "\n",
    "        print(c_vec)\n",
    "        print(c_cs)\n",
    "        print(en_prime)\n",
    "        print(em_prime)\n",
    "        print(eps)"
   ]
  },
  {
   "cell_type": "code",
   "execution_count": 7,
   "id": "0e7241c5-9ab4-4d83-8afc-921d7957a237",
   "metadata": {},
   "outputs": [],
   "source": [
    "evals = Evaluator(a1, a2)"
   ]
  },
  {
   "cell_type": "code",
   "execution_count": 8,
   "id": "c317bc20-e41b-46da-a417-5f1ff1052b0e",
   "metadata": {},
   "outputs": [
    {
     "name": "stdout",
     "output_type": "stream",
     "text": [
      "0.7485081428288567\n",
      "0.7974952024552032\n",
      "0.3072030710673135\n",
      "0.20669489899321525\n",
      "1.0037486246532838\n",
      "CPU times: user 2.58 s, sys: 2.57 s, total: 5.14 s\n",
      "Wall time: 959 ms\n"
     ]
    }
   ],
   "source": [
    "%%time\n",
    "evals.compare()"
   ]
  },
  {
   "cell_type": "code",
   "execution_count": 16,
   "id": "d41b5fea-8aad-475f-8047-ef2d55df3538",
   "metadata": {},
   "outputs": [],
   "source": [
    "import numpy as np\n",
    "from numba import prange, njit\n",
    "\n",
    "@njit(parallel=True)\n",
    "def dot_product(a, b):\n",
    "    \"\"\"\n",
    "    a : [Nx, Ny, Nz, 3]\n",
    "    b : [Nx, Ny, Nz, 3]\n",
    "    \"\"\"\n",
    "    c = np.zeros(a.shape[:-1])\n",
    "    I, J, K, L = a.shape\n",
    "    for i in prange(I):\n",
    "        for j in prange(J):\n",
    "            for k in prange(K):\n",
    "                for l in prange(L):\n",
    "                    c[i, j, k] += a[i, j, k, l]*b[i, j, k, l]\n",
    "    \n",
    "    return c\n",
    "\n",
    "@njit(parallel=True)\n",
    "def vector_norm(a):\n",
    "    \"\"\"\n",
    "    a : [Nx, Ny, Nz, 3]\n",
    "    \"\"\"\n",
    "    return np.sqrt(dot_product(a, a))\n",
    "\n",
    "# @njit(parallel=True)\n",
    "def compare(b, B):\n",
    "    dot_product_b_B = dot_product(b, B)\n",
    "    vector_norm_b = vector_norm(b)\n",
    "    vector_norm_B = vector_norm(B)\n",
    "    nonzero_vector_norm_B = (vector_norm_B!=0.)\n",
    "    vector_norm_b_B = vector_norm(b-B)\n",
    "    cs_de = (vector_norm_b * vector_norm_B)\n",
    "    nonzero_cs_de = (cs_de!=0.)\n",
    "    vector_norm_b_square_sum = (vector_norm(b)**2).sum()\n",
    "    vecotr_norm_B_square_sum = (vector_norm(B)**2).sum()\n",
    "\n",
    "    c_vec = dot_product_b_B.sum() / np.sqrt( vector_norm_b_square_sum * vecotr_norm_B_square_sum )\n",
    "    c_cs  = (1 / nonzero_cs_de.sum()) * np.sum(dot_product_b_B[nonzero_cs_de]cs_de[nonzero_cs_de])\n",
    "    en_prime = 1 - (vector_norm_b_B.sum() / vector_norm_B.sum())\n",
    "    em_prime = 1 - ((1 / nonzero_vector_norm_B.sum()) * np.sum(vector_norm_b_B[nonzero_vector_norm_B], vector_norm_B[nonzero_vector_norm_B]))\n",
    "    eps = vector_norm_b_square_sum / vecotr_norm_B_square_sum\n",
    "\n",
    "    print(c_vec)\n",
    "    print(c_cs)\n",
    "    print(en_prime)\n",
    "    print(em_prime)\n",
    "    print(eps)"
   ]
  },
  {
   "cell_type": "code",
   "execution_count": 17,
   "id": "fedadcdf-92f4-44b6-9101-29e09fdbe2d4",
   "metadata": {},
   "outputs": [
    {
     "ename": "MemoryError",
     "evalue": "Allocation failed (probably too large).",
     "output_type": "error",
     "traceback": [
      "\u001b[0;31m---------------------------------------------------------------------------\u001b[0m",
      "\u001b[0;31mMemoryError\u001b[0m                               Traceback (most recent call last)",
      "Cell \u001b[0;32mIn[17], line 1\u001b[0m\n\u001b[0;32m----> 1\u001b[0m \u001b[43mcompare\u001b[49m\u001b[43m(\u001b[49m\u001b[43ma1\u001b[49m\u001b[43m,\u001b[49m\u001b[43m \u001b[49m\u001b[43ma2\u001b[49m\u001b[43m)\u001b[49m\n",
      "\u001b[0;31mMemoryError\u001b[0m: Allocation failed (probably too large)."
     ]
    }
   ],
   "source": [
    "compare(a1, a2)"
   ]
  },
  {
   "cell_type": "code",
   "execution_count": 50,
   "id": "d50082ea-e3fb-4989-a038-d62588f79138",
   "metadata": {},
   "outputs": [
    {
     "ename": "MemoryError",
     "evalue": "Allocation failed (probably too large).",
     "output_type": "error",
     "traceback": [
      "\u001b[0;31m---------------------------------------------------------------------------\u001b[0m",
      "\u001b[0;31mMemoryError\u001b[0m                               Traceback (most recent call last)",
      "File \u001b[0;32m<timed eval>:1\u001b[0m\n",
      "\u001b[0;31mMemoryError\u001b[0m: Allocation failed (probably too large)."
     ]
    }
   ],
   "source": [
    "%%time\n",
    "compare(a1, a2)"
   ]
  },
  {
   "cell_type": "code",
   "execution_count": null,
   "id": "5656fd16-dfa2-4a22-96e3-e7476eca20ee",
   "metadata": {},
   "outputs": [],
   "source": []
  },
  {
   "cell_type": "code",
   "execution_count": null,
   "id": "2eeb1882-2400-46dc-bf39-6ccc1f1785e7",
   "metadata": {},
   "outputs": [],
   "source": []
  }
 ],
 "metadata": {
  "kernelspec": {
   "display_name": "Python 3 (ipykernel)",
   "language": "python",
   "name": "python3"
  },
  "language_info": {
   "codemirror_mode": {
    "name": "ipython",
    "version": 3
   },
   "file_extension": ".py",
   "mimetype": "text/x-python",
   "name": "python",
   "nbconvert_exporter": "python",
   "pygments_lexer": "ipython3",
   "version": "3.9.18"
  }
 },
 "nbformat": 4,
 "nbformat_minor": 5
}
