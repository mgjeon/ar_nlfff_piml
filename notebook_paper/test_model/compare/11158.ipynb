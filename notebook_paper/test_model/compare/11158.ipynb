{
 "cells": [
  {
   "cell_type": "code",
   "execution_count": 1,
   "metadata": {},
   "outputs": [],
   "source": [
    "from rtmag.paper.load import load_input_label, MyModel"
   ]
  },
  {
   "cell_type": "code",
   "execution_count": 2,
   "metadata": {},
   "outputs": [
    {
     "name": "stdout",
     "output_type": "stream",
     "text": [
      "Model loaded from epoch 75\n"
     ]
    }
   ],
   "source": [
    "mm = MyModel(\"/home/mgjeon/space/workspace/base_important/uno_pi_cc_hnorm_unit_aug/model_75.pt\")"
   ]
  },
  {
   "cell_type": "code",
   "execution_count": 3,
   "metadata": {},
   "outputs": [
    {
     "data": {
      "text/plain": [
       "(66, 66)"
      ]
     },
     "execution_count": 3,
     "metadata": {},
     "output_type": "execute_result"
    }
   ],
   "source": [
    "input_files, label_files = load_input_label(\"/mnt/f/isee_dataset/11158\")\n",
    "len(input_files), len(label_files)"
   ]
  },
  {
   "cell_type": "code",
   "execution_count": 4,
   "metadata": {},
   "outputs": [
    {
     "data": {
      "text/plain": [
       "PosixPath('/mnt/f/isee_dataset/11158/input/input_11158_20110214_000000.npz')"
      ]
     },
     "execution_count": 4,
     "metadata": {},
     "output_type": "execute_result"
    }
   ],
   "source": [
    "idx = 13\n",
    "input_files[idx]"
   ]
  },
  {
   "cell_type": "code",
   "execution_count": 5,
   "metadata": {},
   "outputs": [],
   "source": [
    "b = mm.get_pred(input_files[idx])"
   ]
  },
  {
   "cell_type": "code",
   "execution_count": 6,
   "metadata": {},
   "outputs": [],
   "source": [
    "B = mm.get_label(label_files[idx])\n",
    "Bp = mm.get_pot(label_files[idx])\n",
    "dx, dy, dz, dV = mm.get_dV(input_files[idx])"
   ]
  },
  {
   "cell_type": "code",
   "execution_count": 7,
   "metadata": {},
   "outputs": [],
   "source": [
    "import numpy as np"
   ]
  },
  {
   "cell_type": "code",
   "execution_count": 8,
   "metadata": {},
   "outputs": [],
   "source": [
    "Btest = \"/home/mgjeon/space/workspace/ar_nlfff_piml/notebook_paper/test_model/Wiegelmann/Bout_11158_20110214_000000.dat\"\n",
    "\n",
    "f = open(Btest, \"r+\")\n",
    "\n",
    "#________________________________________________________________________\n",
    "nx = int(512)\n",
    "ny = int(256)\n",
    "nz = int(256)\n",
    "\n",
    "array_sz = (nz-1,ny-1,nx-1)\n",
    "\n",
    "Bx = np.zeros(array_sz)\n",
    "By = np.zeros(array_sz)\n",
    "Bz = np.zeros(array_sz)\n",
    "\n",
    "#_______________________________________________________________________\n",
    "\n",
    "for iz in range (0, nz-1):\n",
    "    for iy in range(0, ny-1):\n",
    "        for ix in range(0, nx-1):\n",
    "            for ivec in range(0,3):\n",
    "                value = f.readline()\n",
    "                \n",
    "                try:\n",
    "                    Bin = float(value)\n",
    "                    if ivec == 0:\n",
    "                        Bx[iz, iy, ix] = Bin\n",
    "                    elif ivec == 1:\n",
    "                        By[iz, iy, ix] = Bin\n",
    "                    else:\n",
    "                        Bz[iz, iy, ix] = Bin\n",
    "            \n",
    "                except:\n",
    "                    Bin = 0\n",
    "                    if ivec == 0:\n",
    "                        Bx[iz, iy, ix] = Bin\n",
    "                    elif ivec == 1:\n",
    "                        By[iz, iy, ix] = Bin\n",
    "                    else:\n",
    "                        Bz[iz, iy, ix] = Bin\n",
    "\n",
    "outBx = Bx.transpose(2,1,0)\n",
    "outBy = By.transpose(2,1,0)\n",
    "outBz = Bz.transpose(2,1,0)"
   ]
  },
  {
   "cell_type": "code",
   "execution_count": 9,
   "metadata": {},
   "outputs": [
    {
     "data": {
      "text/plain": [
       "(512, 256, 256, 3)"
      ]
     },
     "execution_count": 9,
     "metadata": {},
     "output_type": "execute_result"
    }
   ],
   "source": [
    "b_W = np.stack((outBx, outBy, outBz), axis=-1)\n",
    "b_W = np.pad(b_W, ((0, 1), (0, 1), (0, 1), (0, 0)), mode='constant')\n",
    "b_W.shape"
   ]
  },
  {
   "cell_type": "code",
   "execution_count": 10,
   "metadata": {},
   "outputs": [],
   "source": [
    "import rtmag.paper.metric as m"
   ]
  },
  {
   "cell_type": "code",
   "execution_count": 11,
   "metadata": {},
   "outputs": [
    {
     "name": "stdout",
     "output_type": "stream",
     "text": [
      "C_vec     : 0.96\n",
      "C_cs      : 0.96\n",
      "E_n'      : 0.69\n",
      "E_m'      : 0.60\n",
      "eps       : 0.94\n"
     ]
    }
   ],
   "source": [
    "# PINO\n",
    "res = m.evaluate(b, B)"
   ]
  },
  {
   "cell_type": "code",
   "execution_count": 12,
   "metadata": {},
   "outputs": [
    {
     "name": "stdout",
     "output_type": "stream",
     "text": [
      "C_vec     : 0.95\n",
      "C_cs      : 0.77\n",
      "E_n'      : 0.59\n",
      "E_m'      : 0.36\n",
      "eps       : 0.83\n"
     ]
    }
   ],
   "source": [
    "# Wiegelmann\n",
    "res = m.evaluate(b_W, B)"
   ]
  },
  {
   "cell_type": "code",
   "execution_count": 13,
   "metadata": {},
   "outputs": [],
   "source": [
    "import matplotlib.pyplot as plt\n",
    "from mpl_toolkits.axes_grid1 import make_axes_locatable\n",
    "import numpy as np"
   ]
  },
  {
   "cell_type": "code",
   "execution_count": null,
   "metadata": {},
   "outputs": [],
   "source": [
    "left_title = \"Ground Truth\"\n",
    "right_title = \"Prediction\"\n",
    "title_y = 1.10\n",
    "\n",
    "title_fontsize = 25\n",
    "bar_title_fontsize = 15\n",
    "bar_ticks_fontsize = 10\n",
    "\n",
    "label_fontsize = 12\n",
    "tick_fontsize = 10"
   ]
  }
 ],
 "metadata": {
  "kernelspec": {
   "display_name": "rtmag",
   "language": "python",
   "name": "python3"
  },
  "language_info": {
   "codemirror_mode": {
    "name": "ipython",
    "version": 3
   },
   "file_extension": ".py",
   "mimetype": "text/x-python",
   "name": "python",
   "nbconvert_exporter": "python",
   "pygments_lexer": "ipython3",
   "version": "3.9.18"
  }
 },
 "nbformat": 4,
 "nbformat_minor": 2
}
