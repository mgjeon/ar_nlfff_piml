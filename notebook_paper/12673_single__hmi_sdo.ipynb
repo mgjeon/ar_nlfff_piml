{
 "cells": [
  {
   "cell_type": "code",
   "execution_count": 9,
   "metadata": {},
   "outputs": [],
   "source": [
    "import datetime\n",
    "\n",
    "import drms\n",
    "import astropy.units as u\n",
    "from sunpy.net import Fido, attrs as a\n",
    "from sunpy.map import Map"
   ]
  },
  {
   "cell_type": "code",
   "execution_count": 10,
   "metadata": {},
   "outputs": [
    {
     "data": {
      "text/plain": [
       "datetime.datetime(2017, 9, 5, 0, 0)"
      ]
     },
     "execution_count": 10,
     "metadata": {},
     "output_type": "execute_result"
    }
   ],
   "source": [
    "start_time = datetime.datetime(2017, 9, 5, 0, 0, 0)\n",
    "start_time"
   ]
  },
  {
   "cell_type": "code",
   "execution_count": 11,
   "metadata": {},
   "outputs": [
    {
     "data": {
      "text/plain": [
       "datetime.timedelta(seconds=10)"
      ]
     },
     "execution_count": 11,
     "metadata": {},
     "output_type": "execute_result"
    }
   ],
   "source": [
    "dt = datetime.timedelta(seconds=10)\n",
    "dt"
   ]
  },
  {
   "cell_type": "code",
   "execution_count": 12,
   "metadata": {},
   "outputs": [],
   "source": [
    "c = drms.Client(email=\"mgjeon@khu.ac.kr\")"
   ]
  },
  {
   "cell_type": "markdown",
   "metadata": {},
   "source": [
    "# SHARP"
   ]
  },
  {
   "cell_type": "code",
   "execution_count": 5,
   "metadata": {},
   "outputs": [
    {
     "data": {
      "text/html": [
       "<div>\n",
       "<style scoped>\n",
       "    .dataframe tbody tr th:only-of-type {\n",
       "        vertical-align: middle;\n",
       "    }\n",
       "\n",
       "    .dataframe tbody tr th {\n",
       "        vertical-align: top;\n",
       "    }\n",
       "\n",
       "    .dataframe thead th {\n",
       "        text-align: right;\n",
       "    }\n",
       "</style>\n",
       "<table border=\"1\" class=\"dataframe\">\n",
       "  <thead>\n",
       "    <tr style=\"text-align: right;\">\n",
       "      <th></th>\n",
       "      <th>type</th>\n",
       "      <th>units</th>\n",
       "      <th>protocol</th>\n",
       "      <th>dims</th>\n",
       "      <th>note</th>\n",
       "    </tr>\n",
       "    <tr>\n",
       "      <th>name</th>\n",
       "      <th></th>\n",
       "      <th></th>\n",
       "      <th></th>\n",
       "      <th></th>\n",
       "      <th></th>\n",
       "    </tr>\n",
       "  </thead>\n",
       "  <tbody>\n",
       "    <tr>\n",
       "      <th>magnetogram</th>\n",
       "      <td>int</td>\n",
       "      <td>Gauss</td>\n",
       "      <td>fits</td>\n",
       "      <td>VARxVAR</td>\n",
       "      <td>Line-of-sight magnetogram in CEA projection</td>\n",
       "    </tr>\n",
       "    <tr>\n",
       "      <th>bitmap</th>\n",
       "      <td>char</td>\n",
       "      <td>Enumerated</td>\n",
       "      <td>fits</td>\n",
       "      <td>VARxVAR</td>\n",
       "      <td>Mask for the patch in CEA coordinates</td>\n",
       "    </tr>\n",
       "    <tr>\n",
       "      <th>Dopplergram</th>\n",
       "      <td>int</td>\n",
       "      <td>m/s</td>\n",
       "      <td>fits</td>\n",
       "      <td>VARxVAR</td>\n",
       "      <td>Dopplergram in CEA projection</td>\n",
       "    </tr>\n",
       "    <tr>\n",
       "      <th>continuum</th>\n",
       "      <td>int</td>\n",
       "      <td>DN/s</td>\n",
       "      <td>fits</td>\n",
       "      <td>VARxVAR</td>\n",
       "      <td>Intensitygram in CEA projection</td>\n",
       "    </tr>\n",
       "    <tr>\n",
       "      <th>Bp</th>\n",
       "      <td>int</td>\n",
       "      <td>Gauss</td>\n",
       "      <td>fits</td>\n",
       "      <td>VARxVAR</td>\n",
       "      <td>B_phi, positive westward</td>\n",
       "    </tr>\n",
       "    <tr>\n",
       "      <th>Bt</th>\n",
       "      <td>int</td>\n",
       "      <td>Gauss</td>\n",
       "      <td>fits</td>\n",
       "      <td>VARxVAR</td>\n",
       "      <td>B_theta, positive southward</td>\n",
       "    </tr>\n",
       "    <tr>\n",
       "      <th>Br</th>\n",
       "      <td>int</td>\n",
       "      <td>Gauss</td>\n",
       "      <td>fits</td>\n",
       "      <td>VARxVAR</td>\n",
       "      <td>B_r, positive up</td>\n",
       "    </tr>\n",
       "    <tr>\n",
       "      <th>Bp_err</th>\n",
       "      <td>int</td>\n",
       "      <td>Gauss</td>\n",
       "      <td>fits</td>\n",
       "      <td>VARxVAR</td>\n",
       "      <td>Standard deviation of B_phi</td>\n",
       "    </tr>\n",
       "    <tr>\n",
       "      <th>Bt_err</th>\n",
       "      <td>int</td>\n",
       "      <td>Gauss</td>\n",
       "      <td>fits</td>\n",
       "      <td>VARxVAR</td>\n",
       "      <td>Standard deviation of B_theta</td>\n",
       "    </tr>\n",
       "    <tr>\n",
       "      <th>Br_err</th>\n",
       "      <td>int</td>\n",
       "      <td>Gauss</td>\n",
       "      <td>fits</td>\n",
       "      <td>VARxVAR</td>\n",
       "      <td>Standard deviation of B_r</td>\n",
       "    </tr>\n",
       "    <tr>\n",
       "      <th>conf_disambig</th>\n",
       "      <td>char</td>\n",
       "      <td>none</td>\n",
       "      <td>fits</td>\n",
       "      <td>VARxVAR</td>\n",
       "      <td>confidence of disambiguation result</td>\n",
       "    </tr>\n",
       "  </tbody>\n",
       "</table>\n",
       "</div>"
      ],
      "text/plain": [
       "               type       units protocol     dims  \\\n",
       "name                                                \n",
       "magnetogram     int       Gauss     fits  VARxVAR   \n",
       "bitmap         char  Enumerated     fits  VARxVAR   \n",
       "Dopplergram     int         m/s     fits  VARxVAR   \n",
       "continuum       int        DN/s     fits  VARxVAR   \n",
       "Bp              int       Gauss     fits  VARxVAR   \n",
       "Bt              int       Gauss     fits  VARxVAR   \n",
       "Br              int       Gauss     fits  VARxVAR   \n",
       "Bp_err          int       Gauss     fits  VARxVAR   \n",
       "Bt_err          int       Gauss     fits  VARxVAR   \n",
       "Br_err          int       Gauss     fits  VARxVAR   \n",
       "conf_disambig  char        none     fits  VARxVAR   \n",
       "\n",
       "                                                      note  \n",
       "name                                                        \n",
       "magnetogram    Line-of-sight magnetogram in CEA projection  \n",
       "bitmap               Mask for the patch in CEA coordinates  \n",
       "Dopplergram                  Dopplergram in CEA projection  \n",
       "continuum                  Intensitygram in CEA projection  \n",
       "Bp                                B_phi, positive westward  \n",
       "Bt                             B_theta, positive southward  \n",
       "Br                                        B_r, positive up  \n",
       "Bp_err                         Standard deviation of B_phi  \n",
       "Bt_err                       Standard deviation of B_theta  \n",
       "Br_err                           Standard deviation of B_r  \n",
       "conf_disambig          confidence of disambiguation result  "
      ]
     },
     "execution_count": 5,
     "metadata": {},
     "output_type": "execute_result"
    }
   ],
   "source": [
    "c.info(\"hmi.sharp_cea_720s\").segments"
   ]
  },
  {
   "cell_type": "code",
   "execution_count": 6,
   "metadata": {},
   "outputs": [
    {
     "data": {
      "text/plain": [
       "['HARPNUM', 'T_REC']"
      ]
     },
     "execution_count": 6,
     "metadata": {},
     "output_type": "execute_result"
    }
   ],
   "source": [
    "c.pkeys(\"hmi.sharp_cea_720s\")"
   ]
  },
  {
   "cell_type": "code",
   "execution_count": 7,
   "metadata": {},
   "outputs": [
    {
     "data": {
      "text/html": [
       "<div>\n",
       "<style scoped>\n",
       "    .dataframe tbody tr th:only-of-type {\n",
       "        vertical-align: middle;\n",
       "    }\n",
       "\n",
       "    .dataframe tbody tr th {\n",
       "        vertical-align: top;\n",
       "    }\n",
       "\n",
       "    .dataframe thead th {\n",
       "        text-align: right;\n",
       "    }\n",
       "</style>\n",
       "<table border=\"1\" class=\"dataframe\">\n",
       "  <thead>\n",
       "    <tr style=\"text-align: right;\">\n",
       "      <th></th>\n",
       "      <th>NOAA_AR</th>\n",
       "      <th>HARPNUM</th>\n",
       "    </tr>\n",
       "  </thead>\n",
       "  <tbody>\n",
       "    <tr>\n",
       "      <th>0</th>\n",
       "      <td>12673</td>\n",
       "      <td>7115</td>\n",
       "    </tr>\n",
       "    <tr>\n",
       "      <th>1</th>\n",
       "      <td>12674</td>\n",
       "      <td>7117</td>\n",
       "    </tr>\n",
       "    <tr>\n",
       "      <th>2</th>\n",
       "      <td>0</td>\n",
       "      <td>7118</td>\n",
       "    </tr>\n",
       "    <tr>\n",
       "      <th>3</th>\n",
       "      <td>12675</td>\n",
       "      <td>7120</td>\n",
       "    </tr>\n",
       "    <tr>\n",
       "      <th>4</th>\n",
       "      <td>0</td>\n",
       "      <td>7121</td>\n",
       "    </tr>\n",
       "    <tr>\n",
       "      <th>5</th>\n",
       "      <td>12677</td>\n",
       "      <td>7122</td>\n",
       "    </tr>\n",
       "    <tr>\n",
       "      <th>6</th>\n",
       "      <td>12675</td>\n",
       "      <td>7123</td>\n",
       "    </tr>\n",
       "    <tr>\n",
       "      <th>7</th>\n",
       "      <td>0</td>\n",
       "      <td>7124</td>\n",
       "    </tr>\n",
       "    <tr>\n",
       "      <th>8</th>\n",
       "      <td>0</td>\n",
       "      <td>7125</td>\n",
       "    </tr>\n",
       "    <tr>\n",
       "      <th>9</th>\n",
       "      <td>12678</td>\n",
       "      <td>7127</td>\n",
       "    </tr>\n",
       "  </tbody>\n",
       "</table>\n",
       "</div>"
      ],
      "text/plain": [
       "   NOAA_AR  HARPNUM\n",
       "0    12673     7115\n",
       "1    12674     7117\n",
       "2        0     7118\n",
       "3    12675     7120\n",
       "4        0     7121\n",
       "5    12677     7122\n",
       "6    12675     7123\n",
       "7        0     7124\n",
       "8        0     7125\n",
       "9    12678     7127"
      ]
     },
     "execution_count": 7,
     "metadata": {},
     "output_type": "execute_result"
    }
   ],
   "source": [
    "find_ar = c.query(\"hmi.Mharp_720s[][%sZ]\" % start_time,\n",
    "                   key = [\"NOAA_AR\", \"HARPNUM\"])\n",
    "find_ar"
   ]
  },
  {
   "cell_type": "code",
   "execution_count": 8,
   "metadata": {},
   "outputs": [],
   "source": [
    "hmi_results = Fido.search(\n",
    "    a.Time(start_time - dt, start_time + dt),\n",
    "    a.jsoc.Notify(\"mgjeon@khu.ac.kr\"),\n",
    "    a.jsoc.Series(\"hmi.sharp_cea_720s\"),\n",
    "    a.jsoc.PrimeKey('HARPNUM', '7115'),\n",
    "    a.jsoc.Segment(\"Bp\") & a.jsoc.Segment(\"Bt\") & a.jsoc.Segment(\"Br\"),\n",
    ")"
   ]
  },
  {
   "cell_type": "code",
   "execution_count": 9,
   "metadata": {},
   "outputs": [
    {
     "data": {
      "text/html": [
       "Results from 1 Provider:</br></br>1 Results from the JSOCClient:</br><div><i>JSOCResponse length=1</i>\n",
       "<table id=\"table139965581354224\" class=\"table-striped table-bordered table-condensed\">\n",
       "<thead><tr><th>T_REC</th><th>TELESCOP</th><th>INSTRUME</th><th>WAVELNTH</th><th>CAR_ROT</th></tr></thead>\n",
       "<thead><tr><th>str23</th><th>str7</th><th>str12</th><th>float64</th><th>int64</th></tr></thead>\n",
       "<tr><td>2017.09.05_00:00:00_TAI</td><td>SDO/HMI</td><td>HMI_COMBINED</td><td>6173.0</td><td>2194</td></tr>\n",
       "</table></div></br>"
      ],
      "text/plain": [
       "<sunpy.net.fido_factory.UnifiedResponse object at 0x7f4c46c1e910>\n",
       "Results from 1 Provider:\n",
       "\n",
       "1 Results from the JSOCClient:\n",
       "Source: http://jsoc.stanford.edu\n",
       "\n",
       "         T_REC          TELESCOP   INSTRUME   WAVELNTH CAR_ROT\n",
       "----------------------- -------- ------------ -------- -------\n",
       "2017.09.05_00:00:00_TAI  SDO/HMI HMI_COMBINED   6173.0    2194\n"
      ]
     },
     "execution_count": 9,
     "metadata": {},
     "output_type": "execute_result"
    }
   ],
   "source": [
    "hmi_results"
   ]
  },
  {
   "cell_type": "code",
   "execution_count": 10,
   "metadata": {},
   "outputs": [
    {
     "name": "stdout",
     "output_type": "stream",
     "text": [
      "Export request pending. [id=JSOC_20240411_000773, status=2]\n",
      "Waiting for 0 seconds...\n",
      "Export request pending. [id=JSOC_20240411_000773, status=1]\n",
      "Waiting for 5 seconds...\n",
      "3 URLs found for download. Full request totalling 2MB\n"
     ]
    },
    {
     "data": {
      "application/vnd.jupyter.widget-view+json": {
       "model_id": "03b7bf861c32419ab28e2f5f46587374",
       "version_major": 2,
       "version_minor": 0
      },
      "text/plain": [
       "Files Downloaded:   0%|          | 0/3 [00:00<?, ?file/s]"
      ]
     },
     "metadata": {},
     "output_type": "display_data"
    },
    {
     "data": {
      "application/vnd.jupyter.widget-view+json": {
       "model_id": "730e7eb715f94d51b4b7ea8e52155a27",
       "version_major": 2,
       "version_minor": 0
      },
      "text/plain": [
       "hmi.sharp_cea_720s.7115.20170905_000000_TAI.Bp.fits:   0%|          | 0.00/588k [00:00<?, ?B/s]"
      ]
     },
     "metadata": {},
     "output_type": "display_data"
    },
    {
     "data": {
      "application/vnd.jupyter.widget-view+json": {
       "model_id": "0e46873ecf784e78b9be3edd3b1d9f41",
       "version_major": 2,
       "version_minor": 0
      },
      "text/plain": [
       "hmi.sharp_cea_720s.7115.20170905_000000_TAI.Bt.fits:   0%|          | 0.00/588k [00:00<?, ?B/s]"
      ]
     },
     "metadata": {},
     "output_type": "display_data"
    },
    {
     "data": {
      "application/vnd.jupyter.widget-view+json": {
       "model_id": "f1a1ffccd59147deb44f96c796d5bb81",
       "version_major": 2,
       "version_minor": 0
      },
      "text/plain": [
       "hmi.sharp_cea_720s.7115.20170905_000000_TAI.Br.fits:   0%|          | 0.00/556k [00:00<?, ?B/s]"
      ]
     },
     "metadata": {},
     "output_type": "display_data"
    }
   ],
   "source": [
    "hmi_files = Fido.fetch(hmi_results, path=\"download/12673_single/hmi/{file}\")"
   ]
  },
  {
   "cell_type": "markdown",
   "metadata": {},
   "source": [
    "# AIA"
   ]
  },
  {
   "cell_type": "code",
   "execution_count": 13,
   "metadata": {},
   "outputs": [
    {
     "data": {
      "text/html": [
       "<div>\n",
       "<style scoped>\n",
       "    .dataframe tbody tr th:only-of-type {\n",
       "        vertical-align: middle;\n",
       "    }\n",
       "\n",
       "    .dataframe tbody tr th {\n",
       "        vertical-align: top;\n",
       "    }\n",
       "\n",
       "    .dataframe thead th {\n",
       "        text-align: right;\n",
       "    }\n",
       "</style>\n",
       "<table border=\"1\" class=\"dataframe\">\n",
       "  <thead>\n",
       "    <tr style=\"text-align: right;\">\n",
       "      <th></th>\n",
       "      <th>type</th>\n",
       "      <th>units</th>\n",
       "      <th>protocol</th>\n",
       "      <th>dims</th>\n",
       "      <th>note</th>\n",
       "    </tr>\n",
       "    <tr>\n",
       "      <th>name</th>\n",
       "      <th></th>\n",
       "      <th></th>\n",
       "      <th></th>\n",
       "      <th></th>\n",
       "      <th></th>\n",
       "    </tr>\n",
       "  </thead>\n",
       "  <tbody>\n",
       "    <tr>\n",
       "      <th>image</th>\n",
       "      <td>int</td>\n",
       "      <td>None</td>\n",
       "      <td>link via lev1</td>\n",
       "      <td>None</td>\n",
       "      <td>AIA level 1 image</td>\n",
       "    </tr>\n",
       "    <tr>\n",
       "      <th>spikes</th>\n",
       "      <td>int</td>\n",
       "      <td>None</td>\n",
       "      <td>link via lev1</td>\n",
       "      <td>None</td>\n",
       "      <td>Cosmic ray information</td>\n",
       "    </tr>\n",
       "  </tbody>\n",
       "</table>\n",
       "</div>"
      ],
      "text/plain": [
       "       type units       protocol  dims                    note\n",
       "name                                                          \n",
       "image   int  None  link via lev1  None       AIA level 1 image\n",
       "spikes  int  None  link via lev1  None  Cosmic ray information"
      ]
     },
     "execution_count": 13,
     "metadata": {},
     "output_type": "execute_result"
    }
   ],
   "source": [
    "c.info(\"aia.lev1_euv_12s\").segments"
   ]
  },
  {
   "cell_type": "code",
   "execution_count": 14,
   "metadata": {},
   "outputs": [
    {
     "data": {
      "text/plain": [
       "['T_REC', 'WAVELNTH']"
      ]
     },
     "execution_count": 14,
     "metadata": {},
     "output_type": "execute_result"
    }
   ],
   "source": [
    "c.pkeys(\"aia.lev1_euv_12s\")"
   ]
  },
  {
   "cell_type": "code",
   "execution_count": 15,
   "metadata": {},
   "outputs": [],
   "source": [
    "wavelengths = [94, \n",
    "               131, \n",
    "               171, \n",
    "               193, \n",
    "               211, \n",
    "               304, \n",
    "               335]"
   ]
  },
  {
   "cell_type": "code",
   "execution_count": 16,
   "metadata": {},
   "outputs": [],
   "source": [
    "aia_results = {}\n",
    "\n",
    "for w in wavelengths:\n",
    "    aia_results[str(w)] = Fido.search(\n",
    "        a.Time(start_time - dt, start_time + dt),\n",
    "        a.jsoc.Notify(\"mgjeon@khu.ac.kr\"),\n",
    "        a.jsoc.Series(\"aia.lev1_euv_12s\"),\n",
    "        a.jsoc.Segment(\"image\"),\n",
    "        a.Wavelength(w*u.angstrom))"
   ]
  },
  {
   "cell_type": "code",
   "execution_count": 17,
   "metadata": {},
   "outputs": [
    {
     "name": "stdout",
     "output_type": "stream",
     "text": [
      "94 Results from 1 Provider:\n",
      "\n",
      "3 Results from the JSOCClient:\n",
      "Source: http://jsoc.stanford.edu\n",
      "\n",
      "       T_REC         TELESCOP INSTRUME WAVELNTH CAR_ROT\n",
      "-------------------- -------- -------- -------- -------\n",
      "2017-09-04T23:59:47Z  SDO/AIA    AIA_4       94    2194\n",
      "2017-09-04T23:59:59Z  SDO/AIA    AIA_4       94    2194\n",
      "2017-09-05T00:00:11Z  SDO/AIA    AIA_4       94    2194\n",
      "\n",
      "\n",
      "131 Results from 1 Provider:\n",
      "\n",
      "3 Results from the JSOCClient:\n",
      "Source: http://jsoc.stanford.edu\n",
      "\n",
      "       T_REC         TELESCOP INSTRUME WAVELNTH CAR_ROT\n",
      "-------------------- -------- -------- -------- -------\n",
      "2017-09-04T23:59:47Z  SDO/AIA    AIA_1      131    2194\n",
      "2017-09-04T23:59:59Z  SDO/AIA    AIA_1      131    2194\n",
      "2017-09-05T00:00:11Z  SDO/AIA    AIA_1      131    2194\n",
      "\n",
      "\n",
      "171 Results from 1 Provider:\n",
      "\n",
      "3 Results from the JSOCClient:\n",
      "Source: http://jsoc.stanford.edu\n",
      "\n",
      "       T_REC         TELESCOP INSTRUME WAVELNTH CAR_ROT\n",
      "-------------------- -------- -------- -------- -------\n",
      "2017-09-04T23:59:47Z  SDO/AIA    AIA_3      171    2194\n",
      "2017-09-04T23:59:59Z  SDO/AIA    AIA_3      171    2194\n",
      "2017-09-05T00:00:11Z  SDO/AIA    AIA_3      171    2194\n",
      "\n",
      "\n",
      "193 Results from 1 Provider:\n",
      "\n",
      "3 Results from the JSOCClient:\n",
      "Source: http://jsoc.stanford.edu\n",
      "\n",
      "       T_REC         TELESCOP INSTRUME WAVELNTH CAR_ROT\n",
      "-------------------- -------- -------- -------- -------\n",
      "2017-09-04T23:59:47Z  SDO/AIA    AIA_2      193    2194\n",
      "2017-09-04T23:59:59Z  SDO/AIA    AIA_2      193    2194\n",
      "2017-09-05T00:00:11Z  SDO/AIA    AIA_2      193    2194\n",
      "\n",
      "\n",
      "211 Results from 1 Provider:\n",
      "\n",
      "3 Results from the JSOCClient:\n",
      "Source: http://jsoc.stanford.edu\n",
      "\n",
      "       T_REC         TELESCOP INSTRUME WAVELNTH CAR_ROT\n",
      "-------------------- -------- -------- -------- -------\n",
      "2017-09-04T23:59:47Z  SDO/AIA    AIA_2      211    2194\n",
      "2017-09-04T23:59:59Z  SDO/AIA    AIA_2      211    2194\n",
      "2017-09-05T00:00:11Z  SDO/AIA    AIA_2      211    2194\n",
      "\n",
      "\n",
      "304 Results from 1 Provider:\n",
      "\n",
      "3 Results from the JSOCClient:\n",
      "Source: http://jsoc.stanford.edu\n",
      "\n",
      "       T_REC         TELESCOP INSTRUME WAVELNTH CAR_ROT\n",
      "-------------------- -------- -------- -------- -------\n",
      "2017-09-04T23:59:47Z  SDO/AIA    AIA_4      304    2194\n",
      "2017-09-04T23:59:59Z  SDO/AIA    AIA_4      304    2194\n",
      "2017-09-05T00:00:11Z  SDO/AIA    AIA_4      304    2194\n",
      "\n",
      "\n",
      "335 Results from 1 Provider:\n",
      "\n",
      "3 Results from the JSOCClient:\n",
      "Source: http://jsoc.stanford.edu\n",
      "\n",
      "       T_REC         TELESCOP INSTRUME WAVELNTH CAR_ROT\n",
      "-------------------- -------- -------- -------- -------\n",
      "2017-09-04T23:59:47Z  SDO/AIA    AIA_1      335    2194\n",
      "2017-09-04T23:59:59Z  SDO/AIA    AIA_1      335    2194\n",
      "2017-09-05T00:00:11Z  SDO/AIA    AIA_1      335    2194\n",
      "\n",
      "\n"
     ]
    }
   ],
   "source": [
    "for key, value in aia_results.items():\n",
    "    print(key, value)"
   ]
  },
  {
   "cell_type": "code",
   "execution_count": 18,
   "metadata": {},
   "outputs": [
    {
     "name": "stdout",
     "output_type": "stream",
     "text": [
      "Export request pending. [id=JSOC_20240411_000777, status=2]\n",
      "Waiting for 0 seconds...\n",
      "3 URLs found for download. Full request totalling 19MB\n"
     ]
    },
    {
     "data": {
      "application/vnd.jupyter.widget-view+json": {
       "model_id": "08c548b37c764e7dab3761f848dcb22f",
       "version_major": 2,
       "version_minor": 0
      },
      "text/plain": [
       "Files Downloaded:   0%|          | 0/3 [00:00<?, ?file/s]"
      ]
     },
     "metadata": {},
     "output_type": "display_data"
    },
    {
     "data": {
      "application/vnd.jupyter.widget-view+json": {
       "model_id": "3af53663e5b7425aa533fdbd48629957",
       "version_major": 2,
       "version_minor": 0
      },
      "text/plain": [
       "aia.lev1_euv_12s.2017-09-04T235949Z.94.image_lev1.fits:   0%|          | 0.00/6.79M [00:00<?, ?B/s]"
      ]
     },
     "metadata": {},
     "output_type": "display_data"
    },
    {
     "data": {
      "application/vnd.jupyter.widget-view+json": {
       "model_id": "09d3473e4444499c93e23aa19e51a002",
       "version_major": 2,
       "version_minor": 0
      },
      "text/plain": [
       "aia.lev1_euv_12s.2017-09-05T000001Z.94.image_lev1.fits:   0%|          | 0.00/6.80M [00:00<?, ?B/s]"
      ]
     },
     "metadata": {},
     "output_type": "display_data"
    },
    {
     "data": {
      "application/vnd.jupyter.widget-view+json": {
       "model_id": "6cecbf9ca9c94ee58fc2577dc1d25cc4",
       "version_major": 2,
       "version_minor": 0
      },
      "text/plain": [
       "aia.lev1_euv_12s.2017-09-05T000013Z.94.image_lev1.fits:   0%|          | 0.00/6.80M [00:00<?, ?B/s]"
      ]
     },
     "metadata": {},
     "output_type": "display_data"
    },
    {
     "name": "stdout",
     "output_type": "stream",
     "text": [
      "Export request pending. [id=JSOC_20240411_000801, status=2]\n",
      "Waiting for 0 seconds...\n",
      "Export request pending. [id=JSOC_20240411_000801, status=1]\n",
      "Waiting for 5 seconds...\n",
      "Export request pending. [id=JSOC_20240411_000801, status=1]\n",
      "Waiting for 5 seconds...\n"
     ]
    },
    {
     "name": "stderr",
     "output_type": "stream",
     "text": [
      "Exception ignored in: <function BaseEventLoop.__del__ at 0x7f9c2fdaa3a0>\n",
      "Traceback (most recent call last):\n",
      "  File \"/home/mgjeon/miniforge3/envs/rtmag/lib/python3.9/asyncio/base_events.py\", line 688, in __del__\n",
      "    self.close()\n",
      "  File \"/home/mgjeon/miniforge3/envs/rtmag/lib/python3.9/asyncio/unix_events.py\", line 61, in close\n",
      "    self.remove_signal_handler(sig)\n",
      "  File \"/home/mgjeon/miniforge3/envs/rtmag/lib/python3.9/asyncio/unix_events.py\", line 150, in remove_signal_handler\n",
      "    signal.signal(sig, handler)\n",
      "  File \"/home/mgjeon/miniforge3/envs/rtmag/lib/python3.9/signal.py\", line 56, in signal\n",
      "    handler = _signal.signal(_enum_to_int(signalnum), _enum_to_int(handler))\n",
      "ValueError: signal only works in main thread of the main interpreter\n"
     ]
    },
    {
     "name": "stdout",
     "output_type": "stream",
     "text": [
      "3 URLs found for download. Full request totalling 24MB\n"
     ]
    },
    {
     "data": {
      "application/vnd.jupyter.widget-view+json": {
       "model_id": "4b7e8f1a8d9e47419363242d1e2b3f43",
       "version_major": 2,
       "version_minor": 0
      },
      "text/plain": [
       "Files Downloaded:   0%|          | 0/3 [00:00<?, ?file/s]"
      ]
     },
     "metadata": {},
     "output_type": "display_data"
    },
    {
     "data": {
      "application/vnd.jupyter.widget-view+json": {
       "model_id": "f0575c8c5d0e4163967374f4cc64ca1a",
       "version_major": 2,
       "version_minor": 0
      },
      "text/plain": [
       "aia.lev1_euv_12s.2017-09-04T235956Z.131.image_lev1.fits:   0%|          | 0.00/8.25M [00:00<?, ?B/s]"
      ]
     },
     "metadata": {},
     "output_type": "display_data"
    },
    {
     "data": {
      "application/vnd.jupyter.widget-view+json": {
       "model_id": "448deed07d9b440495501629c28dc9dc",
       "version_major": 2,
       "version_minor": 0
      },
      "text/plain": [
       "aia.lev1_euv_12s.2017-09-05T000008Z.131.image_lev1.fits:   0%|          | 0.00/8.25M [00:00<?, ?B/s]"
      ]
     },
     "metadata": {},
     "output_type": "display_data"
    },
    {
     "data": {
      "application/vnd.jupyter.widget-view+json": {
       "model_id": "35e49dd1a1b64b6d8685dd6c44d69898",
       "version_major": 2,
       "version_minor": 0
      },
      "text/plain": [
       "aia.lev1_euv_12s.2017-09-05T000020Z.131.image_lev1.fits:   0%|          | 0.00/8.25M [00:00<?, ?B/s]"
      ]
     },
     "metadata": {},
     "output_type": "display_data"
    },
    {
     "name": "stdout",
     "output_type": "stream",
     "text": [
      "Export request pending. [id=JSOC_20240411_000804, status=2]\n",
      "Waiting for 0 seconds...\n",
      "Export request pending. [id=JSOC_20240411_000804, status=1]\n",
      "Waiting for 5 seconds...\n",
      "3 URLs found for download. Full request totalling 33MB\n"
     ]
    },
    {
     "data": {
      "application/vnd.jupyter.widget-view+json": {
       "model_id": "92935a2c863f4da58c3ed47091cd7c0a",
       "version_major": 2,
       "version_minor": 0
      },
      "text/plain": [
       "Files Downloaded:   0%|          | 0/3 [00:00<?, ?file/s]"
      ]
     },
     "metadata": {},
     "output_type": "display_data"
    },
    {
     "data": {
      "application/vnd.jupyter.widget-view+json": {
       "model_id": "7d07fe7cc5954495a57e59dfb53f524f",
       "version_major": 2,
       "version_minor": 0
      },
      "text/plain": [
       "aia.lev1_euv_12s.2017-09-04T235958Z.171.image_lev1.fits:   0%|          | 0.00/11.6M [00:00<?, ?B/s]"
      ]
     },
     "metadata": {},
     "output_type": "display_data"
    },
    {
     "data": {
      "application/vnd.jupyter.widget-view+json": {
       "model_id": "7c8b1a832bc4444b9d20f010a451cf3a",
       "version_major": 2,
       "version_minor": 0
      },
      "text/plain": [
       "aia.lev1_euv_12s.2017-09-05T000010Z.171.image_lev1.fits:   0%|          | 0.00/11.6M [00:00<?, ?B/s]"
      ]
     },
     "metadata": {},
     "output_type": "display_data"
    },
    {
     "data": {
      "application/vnd.jupyter.widget-view+json": {
       "model_id": "e8b28fd1c143470381d378a4e7c4c8ec",
       "version_major": 2,
       "version_minor": 0
      },
      "text/plain": [
       "aia.lev1_euv_12s.2017-09-05T000022Z.171.image_lev1.fits:   0%|          | 0.00/11.6M [00:00<?, ?B/s]"
      ]
     },
     "metadata": {},
     "output_type": "display_data"
    },
    {
     "name": "stdout",
     "output_type": "stream",
     "text": [
      "Export request pending. [id=JSOC_20240411_000808, status=2]\n",
      "Waiting for 0 seconds...\n",
      "Export request pending. [id=JSOC_20240411_000808, status=1]\n",
      "Waiting for 5 seconds...\n",
      "3 URLs found for download. Full request totalling 32MB\n"
     ]
    },
    {
     "data": {
      "application/vnd.jupyter.widget-view+json": {
       "model_id": "ef87483caa034681a27af5ed079a9c03",
       "version_major": 2,
       "version_minor": 0
      },
      "text/plain": [
       "Files Downloaded:   0%|          | 0/3 [00:00<?, ?file/s]"
      ]
     },
     "metadata": {},
     "output_type": "display_data"
    },
    {
     "data": {
      "application/vnd.jupyter.widget-view+json": {
       "model_id": "1494dca8607e403c8e3931376d349ca2",
       "version_major": 2,
       "version_minor": 0
      },
      "text/plain": [
       "aia.lev1_euv_12s.2017-09-04T235954Z.193.image_lev1.fits:   0%|          | 0.00/11.3M [00:00<?, ?B/s]"
      ]
     },
     "metadata": {},
     "output_type": "display_data"
    },
    {
     "data": {
      "application/vnd.jupyter.widget-view+json": {
       "model_id": "73307389105d45fb88c342b5f7a66226",
       "version_major": 2,
       "version_minor": 0
      },
      "text/plain": [
       "aia.lev1_euv_12s.2017-09-05T000006Z.193.image_lev1.fits:   0%|          | 0.00/11.1M [00:00<?, ?B/s]"
      ]
     },
     "metadata": {},
     "output_type": "display_data"
    },
    {
     "data": {
      "application/vnd.jupyter.widget-view+json": {
       "model_id": "e71833bcbea34b4e9ca812e09ff077ef",
       "version_major": 2,
       "version_minor": 0
      },
      "text/plain": [
       "aia.lev1_euv_12s.2017-09-05T000018Z.193.image_lev1.fits:   0%|          | 0.00/11.3M [00:00<?, ?B/s]"
      ]
     },
     "metadata": {},
     "output_type": "display_data"
    },
    {
     "name": "stdout",
     "output_type": "stream",
     "text": [
      "Export request pending. [id=JSOC_20240411_000812, status=2]\n",
      "Waiting for 0 seconds...\n",
      "Export request pending. [id=JSOC_20240411_000812, status=1]\n",
      "Waiting for 5 seconds...\n",
      "3 URLs found for download. Full request totalling 28MB\n"
     ]
    },
    {
     "data": {
      "application/vnd.jupyter.widget-view+json": {
       "model_id": "67ac6dc6f8c14ccfa6b47ae6f3fc84b9",
       "version_major": 2,
       "version_minor": 0
      },
      "text/plain": [
       "Files Downloaded:   0%|          | 0/3 [00:00<?, ?file/s]"
      ]
     },
     "metadata": {},
     "output_type": "display_data"
    },
    {
     "data": {
      "application/vnd.jupyter.widget-view+json": {
       "model_id": "f90becdc05ff42de8df586e7569e2e64",
       "version_major": 2,
       "version_minor": 0
      },
      "text/plain": [
       "aia.lev1_euv_12s.2017-09-04T235947Z.211.image_lev1.fits:   0%|          | 0.00/9.94M [00:00<?, ?B/s]"
      ]
     },
     "metadata": {},
     "output_type": "display_data"
    },
    {
     "data": {
      "application/vnd.jupyter.widget-view+json": {
       "model_id": "ad76376784124758989e2048c39cd14b",
       "version_major": 2,
       "version_minor": 0
      },
      "text/plain": [
       "aia.lev1_euv_12s.2017-09-04T235959Z.211.image_lev1.fits:   0%|          | 0.00/9.94M [00:00<?, ?B/s]"
      ]
     },
     "metadata": {},
     "output_type": "display_data"
    },
    {
     "data": {
      "application/vnd.jupyter.widget-view+json": {
       "model_id": "0969d2a41a7a41bfa7ed38f0e2c3df53",
       "version_major": 2,
       "version_minor": 0
      },
      "text/plain": [
       "aia.lev1_euv_12s.2017-09-05T000011Z.211.image_lev1.fits:   0%|          | 0.00/9.95M [00:00<?, ?B/s]"
      ]
     },
     "metadata": {},
     "output_type": "display_data"
    },
    {
     "name": "stdout",
     "output_type": "stream",
     "text": [
      "Export request pending. [id=JSOC_20240411_000815, status=2]\n",
      "Waiting for 0 seconds...\n",
      "Export request pending. [id=JSOC_20240411_000815, status=1]\n",
      "Waiting for 5 seconds...\n",
      "3 URLs found for download. Full request totalling 21MB\n"
     ]
    },
    {
     "data": {
      "application/vnd.jupyter.widget-view+json": {
       "model_id": "71f5113ab84e41eda6e68094de8ebef4",
       "version_major": 2,
       "version_minor": 0
      },
      "text/plain": [
       "Files Downloaded:   0%|          | 0/3 [00:00<?, ?file/s]"
      ]
     },
     "metadata": {},
     "output_type": "display_data"
    },
    {
     "data": {
      "application/vnd.jupyter.widget-view+json": {
       "model_id": "a2247d67fe174614a2011124fcb8338e",
       "version_major": 2,
       "version_minor": 0
      },
      "text/plain": [
       "aia.lev1_euv_12s.2017-09-04T235955Z.304.image_lev1.fits:   0%|          | 0.00/7.28M [00:00<?, ?B/s]"
      ]
     },
     "metadata": {},
     "output_type": "display_data"
    },
    {
     "data": {
      "application/vnd.jupyter.widget-view+json": {
       "model_id": "c661a391c53d41338e684d796b2d249c",
       "version_major": 2,
       "version_minor": 0
      },
      "text/plain": [
       "aia.lev1_euv_12s.2017-09-05T000007Z.304.image_lev1.fits:   0%|          | 0.00/7.28M [00:00<?, ?B/s]"
      ]
     },
     "metadata": {},
     "output_type": "display_data"
    },
    {
     "data": {
      "application/vnd.jupyter.widget-view+json": {
       "model_id": "86c6a6c9a808433caa4a09ef433b4b1e",
       "version_major": 2,
       "version_minor": 0
      },
      "text/plain": [
       "aia.lev1_euv_12s.2017-09-05T000019Z.304.image_lev1.fits:   0%|          | 0.00/7.28M [00:00<?, ?B/s]"
      ]
     },
     "metadata": {},
     "output_type": "display_data"
    },
    {
     "name": "stdout",
     "output_type": "stream",
     "text": [
      "Export request pending. [id=JSOC_20240411_000818, status=2]\n",
      "Waiting for 0 seconds...\n",
      "Export request pending. [id=JSOC_20240411_000818, status=1]\n",
      "Waiting for 5 seconds...\n",
      "3 URLs found for download. Full request totalling 21MB\n"
     ]
    },
    {
     "data": {
      "application/vnd.jupyter.widget-view+json": {
       "model_id": "39a270699b5d4be59af2bf0f916d3d64",
       "version_major": 2,
       "version_minor": 0
      },
      "text/plain": [
       "Files Downloaded:   0%|          | 0/3 [00:00<?, ?file/s]"
      ]
     },
     "metadata": {},
     "output_type": "display_data"
    },
    {
     "data": {
      "application/vnd.jupyter.widget-view+json": {
       "model_id": "f6be9b859cfb45a1932628c3d648a798",
       "version_major": 2,
       "version_minor": 0
      },
      "text/plain": [
       "aia.lev1_euv_12s.2017-09-04T235950Z.335.image_lev1.fits:   0%|          | 0.00/7.17M [00:00<?, ?B/s]"
      ]
     },
     "metadata": {},
     "output_type": "display_data"
    },
    {
     "data": {
      "application/vnd.jupyter.widget-view+json": {
       "model_id": "813c5a1f2a3e4220ab6e213d667a2053",
       "version_major": 2,
       "version_minor": 0
      },
      "text/plain": [
       "aia.lev1_euv_12s.2017-09-05T000002Z.335.image_lev1.fits:   0%|          | 0.00/7.17M [00:00<?, ?B/s]"
      ]
     },
     "metadata": {},
     "output_type": "display_data"
    },
    {
     "data": {
      "application/vnd.jupyter.widget-view+json": {
       "model_id": "2fd1813bfb9544549e0cb70d14adb806",
       "version_major": 2,
       "version_minor": 0
      },
      "text/plain": [
       "aia.lev1_euv_12s.2017-09-05T000014Z.335.image_lev1.fits:   0%|          | 0.00/7.17M [00:00<?, ?B/s]"
      ]
     },
     "metadata": {},
     "output_type": "display_data"
    }
   ],
   "source": [
    "for wavelnth, result in aia_results.items():\n",
    "    Fido.fetch(result, path=f\"download/12673_single/aia/{wavelnth}/\" + \"{file}\")"
   ]
  },
  {
   "cell_type": "code",
   "execution_count": null,
   "metadata": {},
   "outputs": [],
   "source": []
  }
 ],
 "metadata": {
  "kernelspec": {
   "display_name": "rtmag",
   "language": "python",
   "name": "python3"
  },
  "language_info": {
   "codemirror_mode": {
    "name": "ipython",
    "version": 3
   },
   "file_extension": ".py",
   "mimetype": "text/x-python",
   "name": "python",
   "nbconvert_exporter": "python",
   "pygments_lexer": "ipython3",
   "version": "3.9.18"
  }
 },
 "nbformat": 4,
 "nbformat_minor": 2
}
