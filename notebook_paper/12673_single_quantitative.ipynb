{
 "cells": [
  {
   "cell_type": "markdown",
   "id": "763da9fa",
   "metadata": {},
   "source": [
    "# Input & Label"
   ]
  },
  {
   "cell_type": "code",
   "execution_count": 1,
   "id": "2cb405fc",
   "metadata": {},
   "outputs": [],
   "source": [
    "from rtmag.paper.load import load_input_label, MyModel"
   ]
  },
  {
   "cell_type": "code",
   "execution_count": 2,
   "id": "ca4c1431",
   "metadata": {},
   "outputs": [
    {
     "data": {
      "text/plain": [
       "(389, 389)"
      ]
     },
     "execution_count": 2,
     "metadata": {},
     "output_type": "execute_result"
    }
   ],
   "source": [
    "input_files, label_files = load_input_label(\"/mnt/f/isee_dataset/12673\")\n",
    "len(input_files), len(label_files)"
   ]
  },
  {
   "cell_type": "code",
   "execution_count": 3,
   "id": "53a7210b",
   "metadata": {},
   "outputs": [
    {
     "data": {
      "text/plain": [
       "PosixPath('/mnt/f/isee_dataset/12673/input/input_12673_20170906_084800.npz')"
      ]
     },
     "execution_count": 3,
     "metadata": {},
     "output_type": "execute_result"
    }
   ],
   "source": [
    "idx = 240\n",
    "input_files[idx]"
   ]
  },
  {
   "cell_type": "markdown",
   "id": "51bc8d4e",
   "metadata": {},
   "source": [
    "# Model prediction & Label (NLFFF, Potential)"
   ]
  },
  {
   "cell_type": "code",
   "execution_count": 4,
   "id": "f6d97a61",
   "metadata": {},
   "outputs": [],
   "source": [
    "from time import time"
   ]
  },
  {
   "cell_type": "code",
   "execution_count": 5,
   "id": "932ae7d4",
   "metadata": {},
   "outputs": [
    {
     "name": "stdout",
     "output_type": "stream",
     "text": [
      "Model loaded from epoch 40\n"
     ]
    }
   ],
   "source": [
    "# mm = MyModel(\"/home/mgjeon/space/workspace/base/pino_CC_Hnorm_Unit_2/best_model.pt\")\n",
    "mm = MyModel(\"/home/mgjeon/space/workspace/base/uno_pi_cc_hnorm_unit_aug/best_model.pt\")\n",
    "# mm2 = MyModel(\"/home/mgjeon/space/workspace/base/uno_pi_cc_hnorm_unit_aug/model_60.pt\", clip=100000)\n",
    "# mm3 = MyModel(\"/home/mgjeon/space/workspace/base/uno_pi_cc_hnorm_1_unit_aug_ccc_square/model_50.pt\", clip=100000)"
   ]
  },
  {
   "cell_type": "code",
   "execution_count": 7,
   "id": "e7df72d9",
   "metadata": {},
   "outputs": [
    {
     "name": "stdout",
     "output_type": "stream",
     "text": [
      "0.47913527488708496 seconds\n"
     ]
    }
   ],
   "source": [
    "start_time = time()\n",
    "b_prev = mm.get_pred(input_files[idx-1])\n",
    "print(f\"{time() - start_time} seconds\")"
   ]
  },
  {
   "cell_type": "code",
   "execution_count": 8,
   "id": "da554573",
   "metadata": {},
   "outputs": [
    {
     "name": "stdout",
     "output_type": "stream",
     "text": [
      "0.5142924785614014 seconds\n"
     ]
    }
   ],
   "source": [
    "start_time = time()\n",
    "b = mm.get_pred(input_files[idx])\n",
    "print(f\"{time() - start_time} seconds\")"
   ]
  },
  {
   "cell_type": "code",
   "execution_count": 9,
   "id": "bff05c26",
   "metadata": {},
   "outputs": [
    {
     "name": "stdout",
     "output_type": "stream",
     "text": [
      "1.7844133377075195 seconds\n"
     ]
    }
   ],
   "source": [
    "start_time = time()\n",
    "B_prev = mm.get_label(label_files[idx-1])\n",
    "print(f\"{time() - start_time} seconds\")"
   ]
  },
  {
   "cell_type": "code",
   "execution_count": 10,
   "id": "b9148831",
   "metadata": {},
   "outputs": [
    {
     "name": "stdout",
     "output_type": "stream",
     "text": [
      "1.7700204849243164 seconds\n"
     ]
    }
   ],
   "source": [
    "start_time = time()\n",
    "B = mm.get_label(label_files[idx])\n",
    "print(f\"{time() - start_time} seconds\")"
   ]
  },
  {
   "cell_type": "code",
   "execution_count": 11,
   "id": "8c970e5b",
   "metadata": {},
   "outputs": [
    {
     "name": "stdout",
     "output_type": "stream",
     "text": [
      "1.8032095432281494 seconds\n"
     ]
    }
   ],
   "source": [
    "start_time = time()\n",
    "Bp_prev = mm.get_pot(label_files[idx-1])\n",
    "print(f\"{time() - start_time} seconds\")"
   ]
  },
  {
   "cell_type": "code",
   "execution_count": 12,
   "id": "f5959a75",
   "metadata": {},
   "outputs": [
    {
     "name": "stdout",
     "output_type": "stream",
     "text": [
      "1.7851359844207764 seconds\n"
     ]
    }
   ],
   "source": [
    "start_time = time()\n",
    "Bp = mm.get_pot(label_files[idx])\n",
    "print(f\"{time() - start_time} seconds\")"
   ]
  },
  {
   "cell_type": "code",
   "execution_count": 17,
   "id": "542c51b0",
   "metadata": {},
   "outputs": [
    {
     "name": "stdout",
     "output_type": "stream",
     "text": [
      "0.003612041473388672 seconds\n"
     ]
    }
   ],
   "source": [
    "start_time = time()\n",
    "dx_prev, dy_prev, dz_prev, dV_prev = mm.get_dV(input_files[idx-1])\n",
    "print(f\"{time() - start_time} seconds\")"
   ]
  },
  {
   "cell_type": "code",
   "execution_count": 18,
   "id": "29643d52",
   "metadata": {},
   "outputs": [
    {
     "name": "stdout",
     "output_type": "stream",
     "text": [
      "0.0058193206787109375 seconds\n"
     ]
    }
   ],
   "source": [
    "start_time = time()\n",
    "dx, dy, dz, dV = mm.get_dV(input_files[idx])\n",
    "print(f\"{time() - start_time} seconds\")"
   ]
  },
  {
   "cell_type": "code",
   "execution_count": 19,
   "id": "b30f2068",
   "metadata": {},
   "outputs": [
    {
     "data": {
      "text/plain": [
       "(1.991674e+23, 1.6434918e+23)"
      ]
     },
     "execution_count": 19,
     "metadata": {},
     "output_type": "execute_result"
    }
   ],
   "source": [
    "dV_prev, dV"
   ]
  },
  {
   "cell_type": "markdown",
   "id": "a94da913",
   "metadata": {},
   "source": [
    "# Energy"
   ]
  },
  {
   "cell_type": "code",
   "execution_count": 22,
   "id": "816d4c1b",
   "metadata": {},
   "outputs": [],
   "source": [
    "from rtmag.paper.metric import energy, energy_unit"
   ]
  },
  {
   "cell_type": "code",
   "execution_count": 24,
   "id": "a3e33df8",
   "metadata": {},
   "outputs": [
    {
     "name": "stdout",
     "output_type": "stream",
     "text": [
      "energy (pred): 324055252800.74994\n",
      "0.11580133438110352 seconds\n"
     ]
    }
   ],
   "source": [
    "start_time = time()\n",
    "print(\"energy (pred):\", energy_unit(b_prev))\n",
    "print(f\"{time() - start_time} seconds\")"
   ]
  },
  {
   "cell_type": "code",
   "execution_count": 25,
   "id": "bbf5a6de",
   "metadata": {},
   "outputs": [
    {
     "name": "stdout",
     "output_type": "stream",
     "text": [
      "energy (pred): 424282459483.84955\n",
      "0.21135354042053223 seconds\n"
     ]
    }
   ],
   "source": [
    "start_time = time()\n",
    "print(\"energy (pred):\", energy_unit(b))\n",
    "print(f\"{time() - start_time} seconds\")"
   ]
  },
  {
   "cell_type": "code",
   "execution_count": 21,
   "id": "9345258c",
   "metadata": {},
   "outputs": [
    {
     "name": "stdout",
     "output_type": "stream",
     "text": [
      "energy (pred): 2.5680145092007276\n",
      "0.28102779388427734 seconds\n"
     ]
    }
   ],
   "source": [
    "start_time = time()\n",
    "print(\"energy (pred):\", energy(b_prev, dV_prev)/1e33)\n",
    "print(f\"{time() - start_time} seconds\")"
   ]
  },
  {
   "cell_type": "code",
   "execution_count": 162,
   "id": "1b87b8b1",
   "metadata": {},
   "outputs": [
    {
     "name": "stdout",
     "output_type": "stream",
     "text": [
      "energy (pred): 2.5999752259158146\n",
      "0.1361064910888672 seconds\n"
     ]
    }
   ],
   "source": [
    "start_time = time()\n",
    "print(\"energy (pred):\", energy(b, dV)/1e33)\n",
    "print(f\"{time() - start_time} seconds\")"
   ]
  },
  {
   "cell_type": "code",
   "execution_count": 141,
   "id": "3fea598f",
   "metadata": {},
   "outputs": [
    {
     "name": "stdout",
     "output_type": "stream",
     "text": [
      "energy (pred): 3.3622769652304605\n",
      "0.11423397064208984 seconds\n"
     ]
    }
   ],
   "source": [
    "start_time = time()\n",
    "print(\"energy (pred):\", energy(b_prev, dV)/1e33)\n",
    "print(f\"{time() - start_time} seconds\")"
   ]
  },
  {
   "cell_type": "code",
   "execution_count": 142,
   "id": "b44591d5",
   "metadata": {},
   "outputs": [
    {
     "name": "stdout",
     "output_type": "stream",
     "text": [
      "energy (pred): 2.592123464746674\n",
      "0.10830807685852051 seconds\n"
     ]
    }
   ],
   "source": [
    "start_time = time()\n",
    "print(\"energy (pred):\", energy(b, dV)/1e33)\n",
    "print(f\"{time() - start_time} seconds\")"
   ]
  },
  {
   "cell_type": "code",
   "execution_count": 143,
   "id": "fcf84884",
   "metadata": {},
   "outputs": [
    {
     "name": "stdout",
     "output_type": "stream",
     "text": [
      "energy (pred): 3.4040884274641026\n",
      "0.10586237907409668 seconds\n"
     ]
    }
   ],
   "source": [
    "start_time = time()\n",
    "print(\"energy (pred):\", energy(b2_prev, dV)/1e33)\n",
    "print(f\"{time() - start_time} seconds\")"
   ]
  },
  {
   "cell_type": "code",
   "execution_count": 144,
   "id": "bd7d81f7",
   "metadata": {},
   "outputs": [
    {
     "name": "stdout",
     "output_type": "stream",
     "text": [
      "energy (pred): 2.6406863053305845\n",
      "0.14602160453796387 seconds\n"
     ]
    }
   ],
   "source": [
    "start_time = time()\n",
    "print(\"energy (pred):\", energy(b2, dV)/1e33)\n",
    "print(f\"{time() - start_time} seconds\")"
   ]
  },
  {
   "cell_type": "code",
   "execution_count": 145,
   "id": "52dc697a",
   "metadata": {},
   "outputs": [
    {
     "name": "stdout",
     "output_type": "stream",
     "text": [
      "energy (pred): 3.3055285875642633\n",
      "0.11481738090515137 seconds\n"
     ]
    }
   ],
   "source": [
    "start_time = time()\n",
    "print(\"energy (pred):\", energy(b3_prev, dV)/1e33)\n",
    "print(f\"{time() - start_time} seconds\")"
   ]
  },
  {
   "cell_type": "code",
   "execution_count": 146,
   "id": "169061d2",
   "metadata": {},
   "outputs": [
    {
     "name": "stdout",
     "output_type": "stream",
     "text": [
      "energy (pred): 2.3594974946808387\n",
      "0.11844348907470703 seconds\n"
     ]
    }
   ],
   "source": [
    "start_time = time()\n",
    "print(\"energy (pred):\", energy(b3, dV)/1e33)\n",
    "print(f\"{time() - start_time} seconds\")"
   ]
  },
  {
   "cell_type": "code",
   "execution_count": 147,
   "id": "f1237186",
   "metadata": {},
   "outputs": [
    {
     "name": "stdout",
     "output_type": "stream",
     "text": [
      "energy (true): 3.0000347446223325\n",
      "0.052926063537597656 seconds\n"
     ]
    }
   ],
   "source": [
    "start_time = time()\n",
    "print(\"energy (true):\", energy(B_prev, dV)/1e33)\n",
    "print(f\"{time() - start_time} seconds\")"
   ]
  },
  {
   "cell_type": "code",
   "execution_count": 148,
   "id": "a4b0d8e1",
   "metadata": {},
   "outputs": [
    {
     "name": "stdout",
     "output_type": "stream",
     "text": [
      "energy (true): 2.3702460967001286\n",
      "0.05226755142211914 seconds\n"
     ]
    }
   ],
   "source": [
    "start_time = time()\n",
    "print(\"energy (true):\", energy(B, dV)/1e33)\n",
    "print(f\"{time() - start_time} seconds\")"
   ]
  },
  {
   "cell_type": "code",
   "execution_count": 149,
   "id": "bbf3e238",
   "metadata": {},
   "outputs": [
    {
     "name": "stdout",
     "output_type": "stream",
     "text": [
      "energy (true): 2.2195474587663084\n",
      "0.0522768497467041 seconds\n"
     ]
    }
   ],
   "source": [
    "start_time = time()\n",
    "print(\"energy (true):\", energy(Bp_prev, dV)/1e33)\n",
    "print(f\"{time() - start_time} seconds\")"
   ]
  },
  {
   "cell_type": "code",
   "execution_count": 150,
   "id": "c0603ed8",
   "metadata": {},
   "outputs": [
    {
     "name": "stdout",
     "output_type": "stream",
     "text": [
      "energy (true): 1.833690940560429\n",
      "0.052191734313964844 seconds\n"
     ]
    }
   ],
   "source": [
    "start_time = time()\n",
    "print(\"energy (true):\", energy(Bp, dV)/1e33)\n",
    "print(f\"{time() - start_time} seconds\")"
   ]
  },
  {
   "cell_type": "markdown",
   "id": "2b73e32d",
   "metadata": {},
   "source": [
    "# Quantitative Evaluation"
   ]
  },
  {
   "cell_type": "code",
   "execution_count": 19,
   "id": "cc470873",
   "metadata": {},
   "outputs": [],
   "source": [
    "import numpy as np\n",
    "from rtmag.paper.metric import evaluate, evaluate_exclude, C_vec, C_cs, En_prime, Em_prime, eps"
   ]
  },
  {
   "cell_type": "code",
   "execution_count": 20,
   "id": "3f987a68",
   "metadata": {},
   "outputs": [
    {
     "name": "stdout",
     "output_type": "stream",
     "text": [
      "C_vec     : 0.94\n",
      "C_cs      : 0.70\n",
      "E_n'      : 0.42\n",
      "E_m'      : -0.53\n",
      "eps       : 1.12\n",
      "1.042083501815796 seconds\n"
     ]
    }
   ],
   "source": [
    "start_time = time()\n",
    "res = evaluate(b, B)\n",
    "print(f\"{time() - start_time} seconds\")"
   ]
  },
  {
   "cell_type": "code",
   "execution_count": 21,
   "id": "b913f089",
   "metadata": {},
   "outputs": [
    {
     "name": "stdout",
     "output_type": "stream",
     "text": [
      "C_vec     : 0.94\n",
      "C_cs      : 0.64\n",
      "E_n'      : 0.38\n",
      "E_m'      : -0.78\n",
      "eps       : 1.13\n",
      "1.0333340167999268 seconds\n"
     ]
    }
   ],
   "source": [
    "start_time = time()\n",
    "res = evaluate(b2, B)\n",
    "print(f\"{time() - start_time} seconds\")"
   ]
  },
  {
   "cell_type": "code",
   "execution_count": 22,
   "id": "795b92ba",
   "metadata": {},
   "outputs": [
    {
     "name": "stdout",
     "output_type": "stream",
     "text": [
      "C_vec     : 0.95\n",
      "C_cs      : 0.74\n",
      "E_n'      : 0.47\n",
      "E_m'      : -0.37\n",
      "eps       : 1.10\n",
      "1.0917751789093018 seconds\n"
     ]
    }
   ],
   "source": [
    "start_time = time()\n",
    "res = evaluate(b3, B)\n",
    "print(f\"{time() - start_time} seconds\")"
   ]
  },
  {
   "cell_type": "code",
   "execution_count": 23,
   "id": "39053bd9",
   "metadata": {},
   "outputs": [
    {
     "name": "stdout",
     "output_type": "stream",
     "text": [
      "C_vec     : 0.95\n",
      "C_cs      : 0.78\n",
      "E_n'      : 0.59\n",
      "E_m'      : 0.25\n",
      "eps       : 1.08\n",
      "0.29225707054138184 seconds\n"
     ]
    }
   ],
   "source": [
    "start_time = time()\n",
    "res = evaluate(b[:, :, :64, :], B[:, :, :64, :])\n",
    "print(f\"{time() - start_time} seconds\")"
   ]
  },
  {
   "cell_type": "code",
   "execution_count": 24,
   "id": "5f41e44e",
   "metadata": {},
   "outputs": [
    {
     "name": "stdout",
     "output_type": "stream",
     "text": [
      "C_vec     : 0.94\n",
      "C_cs      : 0.75\n",
      "E_n'      : 0.56\n",
      "E_m'      : 0.15\n",
      "eps       : 1.10\n",
      "0.30597352981567383 seconds\n"
     ]
    }
   ],
   "source": [
    "start_time = time()\n",
    "res = evaluate(b2[:, :, :64, :], B[:, :, :64, :])\n",
    "print(f\"{time() - start_time} seconds\")"
   ]
  },
  {
   "cell_type": "code",
   "execution_count": 25,
   "id": "02b0d255",
   "metadata": {},
   "outputs": [
    {
     "name": "stdout",
     "output_type": "stream",
     "text": [
      "C_vec     : 0.95\n",
      "C_cs      : 0.79\n",
      "E_n'      : 0.62\n",
      "E_m'      : 0.33\n",
      "eps       : 1.07\n",
      "0.2962942123413086 seconds\n"
     ]
    }
   ],
   "source": [
    "start_time = time()\n",
    "res = evaluate(b3[:, :, :64, :], B[:, :, :64, :])\n",
    "print(f\"{time() - start_time} seconds\")"
   ]
  },
  {
   "cell_type": "code",
   "execution_count": 26,
   "id": "2dca8034",
   "metadata": {},
   "outputs": [
    {
     "name": "stdout",
     "output_type": "stream",
     "text": [
      "C_vec     : 0.94\n",
      "C_cs      : 0.67\n",
      "E_n'      : 0.41\n",
      "E_m'      : -0.63\n",
      "eps       : 1.12\n",
      "1.2403695583343506 seconds\n"
     ]
    }
   ],
   "source": [
    "start_time = time()\n",
    "res = evaluate((0.5*(b+b2)), B)\n",
    "print(f\"{time() - start_time} seconds\")"
   ]
  },
  {
   "cell_type": "code",
   "execution_count": 27,
   "id": "6368c58c",
   "metadata": {},
   "outputs": [
    {
     "name": "stdout",
     "output_type": "stream",
     "text": [
      "C_vec     : 0.95\n",
      "C_cs      : 0.72\n",
      "E_n'      : 0.46\n",
      "E_m'      : -0.42\n",
      "eps       : 1.10\n",
      "1.4300146102905273 seconds\n"
     ]
    }
   ],
   "source": [
    "start_time = time()\n",
    "res = evaluate((0.5*(b+b3)), B)\n",
    "print(f\"{time() - start_time} seconds\")"
   ]
  },
  {
   "cell_type": "code",
   "execution_count": 28,
   "id": "87935580",
   "metadata": {},
   "outputs": [
    {
     "name": "stdout",
     "output_type": "stream",
     "text": [
      "C_vec     : 0.94\n",
      "C_cs      : 0.70\n",
      "E_n'      : 0.42\n",
      "E_m'      : -0.53\n",
      "eps       : 1.12\n",
      "1.138474702835083 seconds\n"
     ]
    }
   ],
   "source": [
    "start_time = time()\n",
    "res = evaluate_exclude(b, B)\n",
    "print(f\"{time() - start_time} seconds\")"
   ]
  },
  {
   "cell_type": "code",
   "execution_count": 29,
   "id": "5f60a259",
   "metadata": {},
   "outputs": [
    {
     "name": "stdout",
     "output_type": "stream",
     "text": [
      "C_vec: 0.9410427068730733\n",
      "0.23827719688415527 seconds\n"
     ]
    }
   ],
   "source": [
    "start_time = time()\n",
    "print(\"C_vec:\", C_vec(b, B))\n",
    "print(f\"{time() - start_time} seconds\")"
   ]
  },
  {
   "cell_type": "code",
   "execution_count": 30,
   "id": "ad20f687",
   "metadata": {},
   "outputs": [
    {
     "name": "stdout",
     "output_type": "stream",
     "text": [
      "C_cs: 0.6976907722221578\n",
      "0.2826650142669678 seconds\n"
     ]
    }
   ],
   "source": [
    "start_time = time()\n",
    "print(\"C_cs:\", C_cs(b, B))\n",
    "print(f\"{time() - start_time} seconds\")"
   ]
  },
  {
   "cell_type": "code",
   "execution_count": 31,
   "id": "638629f0",
   "metadata": {},
   "outputs": [
    {
     "name": "stdout",
     "output_type": "stream",
     "text": [
      "En_prime: 0.4237618450386049\n",
      "0.18692898750305176 seconds\n"
     ]
    }
   ],
   "source": [
    "start_time = time()\n",
    "print(\"En_prime:\", En_prime(b, B))\n",
    "print(f\"{time() - start_time} seconds\")"
   ]
  },
  {
   "cell_type": "code",
   "execution_count": 32,
   "id": "de7c9782",
   "metadata": {},
   "outputs": [
    {
     "name": "stdout",
     "output_type": "stream",
     "text": [
      "Em_prime: -0.5293472642153414\n",
      "0.20438218116760254 seconds\n"
     ]
    }
   ],
   "source": [
    "start_time = time()\n",
    "print(\"Em_prime:\", Em_prime(b, B))\n",
    "print(f\"{time() - start_time} seconds\")"
   ]
  },
  {
   "cell_type": "code",
   "execution_count": 33,
   "id": "8ce79987",
   "metadata": {},
   "outputs": [
    {
     "name": "stdout",
     "output_type": "stream",
     "text": [
      "eps: 1.1207460084445755\n",
      "0.15120601654052734 seconds\n"
     ]
    }
   ],
   "source": [
    "start_time = time()\n",
    "print(\"eps:\", eps(b, B))\n",
    "print(f\"{time() - start_time} seconds\")"
   ]
  },
  {
   "cell_type": "code",
   "execution_count": 27,
   "id": "1aef8776",
   "metadata": {},
   "outputs": [
    {
     "name": "stdout",
     "output_type": "stream",
     "text": [
      "0\n",
      "1\n",
      "2\n",
      "3\n",
      "4\n",
      "5\n",
      "6\n",
      "7\n",
      "8\n",
      "9\n",
      "10\n",
      "11\n",
      "12\n",
      "13\n",
      "14\n",
      "15\n",
      "16\n",
      "17\n",
      "18\n",
      "19\n",
      "20\n",
      "21\n",
      "22\n",
      "23\n",
      "24\n",
      "25\n",
      "26\n",
      "27\n",
      "28\n",
      "29\n",
      "30\n",
      "31\n",
      "32\n",
      "33\n",
      "34\n",
      "35\n",
      "36\n",
      "37\n",
      "38\n",
      "39\n",
      "40\n",
      "41\n",
      "42\n",
      "43\n",
      "44\n",
      "45\n",
      "46\n",
      "47\n",
      "48\n",
      "49\n",
      "50\n",
      "51\n",
      "52\n",
      "53\n",
      "54\n",
      "55\n",
      "56\n",
      "57\n",
      "58\n",
      "59\n",
      "60\n",
      "61\n",
      "62\n",
      "63\n",
      "64\n",
      "65\n",
      "66\n",
      "67\n",
      "68\n",
      "69\n",
      "70\n",
      "71\n",
      "72\n",
      "73\n",
      "74\n",
      "75\n",
      "76\n",
      "77\n",
      "78\n",
      "79\n",
      "80\n",
      "81\n",
      "82\n",
      "83\n",
      "84\n",
      "85\n",
      "86\n",
      "87\n",
      "88\n",
      "89\n",
      "90\n",
      "91\n",
      "92\n",
      "93\n",
      "94\n",
      "95\n",
      "96\n",
      "97\n",
      "98\n",
      "99\n",
      "74.41732859611511 seconds\n"
     ]
    }
   ],
   "source": [
    "start_time = time()\n",
    "bf = mm.fine_tuning(dx=dx/1e8, dy=dy/1e8, dz=dz/1e8)\n",
    "print(f\"{time() - start_time} seconds\")"
   ]
  },
  {
   "cell_type": "code",
   "execution_count": 28,
   "id": "f3217715",
   "metadata": {},
   "outputs": [
    {
     "name": "stdout",
     "output_type": "stream",
     "text": [
      "C_vec     : 0.96\n",
      "C_cs      : 0.72\n",
      "E_n'      : 0.55\n",
      "E_m'      : 0.17\n",
      "eps       : 1.05\n",
      "1.0380771160125732 seconds\n"
     ]
    }
   ],
   "source": [
    "start_time = time()\n",
    "res = evaluate(bf, B)\n",
    "print(f\"{time() - start_time} seconds\")"
   ]
  },
  {
   "cell_type": "code",
   "execution_count": null,
   "id": "85ab3f6d",
   "metadata": {},
   "outputs": [],
   "source": []
  }
 ],
 "metadata": {
  "kernelspec": {
   "display_name": "rtmag",
   "language": "python",
   "name": "python3"
  },
  "language_info": {
   "codemirror_mode": {
    "name": "ipython",
    "version": 3
   },
   "file_extension": ".py",
   "mimetype": "text/x-python",
   "name": "python",
   "nbconvert_exporter": "python",
   "pygments_lexer": "ipython3",
   "version": "3.9.18"
  }
 },
 "nbformat": 4,
 "nbformat_minor": 5
}
