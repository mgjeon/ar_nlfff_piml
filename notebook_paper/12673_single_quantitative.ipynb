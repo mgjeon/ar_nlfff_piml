{
 "cells": [
  {
   "cell_type": "markdown",
   "id": "763da9fa",
   "metadata": {},
   "source": [
    "# Input & Label"
   ]
  },
  {
   "cell_type": "code",
   "execution_count": 1,
   "id": "2cb405fc",
   "metadata": {},
   "outputs": [],
   "source": [
    "from rtmag.paper.load import load_input_label, MyModel"
   ]
  },
  {
   "cell_type": "code",
   "execution_count": 2,
   "id": "ca4c1431",
   "metadata": {},
   "outputs": [
    {
     "data": {
      "text/plain": [
       "(389, 389)"
      ]
     },
     "execution_count": 2,
     "metadata": {},
     "output_type": "execute_result"
    }
   ],
   "source": [
    "input_files, label_files = load_input_label(\"/mnt/f/isee_dataset/12673\")\n",
    "len(input_files), len(label_files)"
   ]
  },
  {
   "cell_type": "code",
   "execution_count": 3,
   "id": "53a7210b",
   "metadata": {},
   "outputs": [
    {
     "data": {
      "text/plain": [
       "PosixPath('/mnt/f/isee_dataset/12673/input/input_12673_20170905_000000.npz')"
      ]
     },
     "execution_count": 3,
     "metadata": {},
     "output_type": "execute_result"
    }
   ],
   "source": [
    "idx = 106\n",
    "input_files[idx]"
   ]
  },
  {
   "cell_type": "markdown",
   "id": "51bc8d4e",
   "metadata": {},
   "source": [
    "# Model prediction & Label (NLFFF, Potential)"
   ]
  },
  {
   "cell_type": "code",
   "execution_count": 4,
   "id": "f6d97a61",
   "metadata": {},
   "outputs": [],
   "source": [
    "from time import time"
   ]
  },
  {
   "cell_type": "code",
   "execution_count": 5,
   "id": "932ae7d4",
   "metadata": {},
   "outputs": [
    {
     "name": "stdout",
     "output_type": "stream",
     "text": [
      "Model loaded from epoch 80\n"
     ]
    }
   ],
   "source": [
    "# mm = MyModel(\"/home/mgjeon/space/workspace/base/pino_CC_Hnorm_Unit_2/best_model.pt\")\n",
    "mm = MyModel(\"/home/mgjeon/space/workspace/base_important/uno_pi_cc_hnorm_unit_aug/model_75.pt\")\n",
    "# mm2 = MyModel(\"/home/mgjeon/space/workspace/base/uno_pi_cc_hnorm_unit_aug/model_60.pt\", clip=100000)\n",
    "# mm3 = MyModel(\"/home/mgjeon/space/workspace/base/uno_pi_cc_hnorm_1_unit_aug_ccc_square/model_50.pt\", clip=100000)"
   ]
  },
  {
   "cell_type": "code",
   "execution_count": 6,
   "id": "da554573",
   "metadata": {},
   "outputs": [
    {
     "name": "stdout",
     "output_type": "stream",
     "text": [
      "0.69140625 seconds\n"
     ]
    }
   ],
   "source": [
    "start_time = time()\n",
    "b = mm.get_pred(input_files[idx])\n",
    "print(f\"{time() - start_time} seconds\")"
   ]
  },
  {
   "cell_type": "code",
   "execution_count": 7,
   "id": "b9148831",
   "metadata": {},
   "outputs": [
    {
     "name": "stdout",
     "output_type": "stream",
     "text": [
      "1.7544548511505127 seconds\n"
     ]
    }
   ],
   "source": [
    "start_time = time()\n",
    "B = mm.get_label(label_files[idx])\n",
    "print(f\"{time() - start_time} seconds\")"
   ]
  },
  {
   "cell_type": "code",
   "execution_count": 8,
   "id": "f5959a75",
   "metadata": {},
   "outputs": [
    {
     "name": "stdout",
     "output_type": "stream",
     "text": [
      "1.6958997249603271 seconds\n"
     ]
    }
   ],
   "source": [
    "start_time = time()\n",
    "Bp = mm.get_pot(label_files[idx])\n",
    "print(f\"{time() - start_time} seconds\")"
   ]
  },
  {
   "cell_type": "code",
   "execution_count": 9,
   "id": "29643d52",
   "metadata": {},
   "outputs": [
    {
     "name": "stdout",
     "output_type": "stream",
     "text": [
      "0.00437164306640625 seconds\n"
     ]
    }
   ],
   "source": [
    "start_time = time()\n",
    "dx, dy, dz, dV = mm.get_dV(input_files[idx])\n",
    "print(f\"{time() - start_time} seconds\")"
   ]
  },
  {
   "cell_type": "code",
   "execution_count": 10,
   "id": "f06f12ee",
   "metadata": {},
   "outputs": [
    {
     "data": {
      "text/plain": [
       "1.991674e+23"
      ]
     },
     "execution_count": 10,
     "metadata": {},
     "output_type": "execute_result"
    }
   ],
   "source": [
    "dV"
   ]
  },
  {
   "cell_type": "markdown",
   "id": "2b73e32d",
   "metadata": {},
   "source": [
    "# Quantitative Evaluation"
   ]
  },
  {
   "cell_type": "code",
   "execution_count": 11,
   "id": "da3a9d6c",
   "metadata": {},
   "outputs": [],
   "source": [
    "import rtmag.paper.metric as m"
   ]
  },
  {
   "cell_type": "code",
   "execution_count": 17,
   "id": "3f987a68",
   "metadata": {},
   "outputs": [
    {
     "name": "stdout",
     "output_type": "stream",
     "text": [
      "C_vec     : 0.96\n",
      "C_cs      : 0.81\n",
      "E_n'      : 0.52\n",
      "E_m'      : 0.17\n",
      "eps       : 1.10\n",
      "1.0786705017089844 seconds\n"
     ]
    }
   ],
   "source": [
    "start_time = time()\n",
    "res = m.evaluate(b, B)\n",
    "print(f\"{time() - start_time} seconds\")"
   ]
  },
  {
   "cell_type": "code",
   "execution_count": 18,
   "id": "b913f089",
   "metadata": {},
   "outputs": [
    {
     "name": "stdout",
     "output_type": "stream",
     "text": [
      "pred_E_1e33: 1.86\n",
      "ref_E_1e33: 1.69\n",
      "pot_E_1e33: 1.26\n",
      "dV_1e23   : 1.99\n",
      "pred_E_unit: 235100166934.71\n",
      "ref_E_unit: 213618787255.97\n",
      "pot_E_unit: 159275709872.87\n",
      "C_vec     : 0.96\n",
      "C_cs      : 0.81\n",
      "E_n_prime : 0.52\n",
      "E_m_prime : 0.17\n",
      "eps       : 1.10\n",
      "rel_l2_err: 0.30\n",
      "2.1394150257110596 seconds\n"
     ]
    }
   ],
   "source": [
    "start_time = time()\n",
    "res = m.evaluate_energy(b, B, Bp, dV, isprint=True)\n",
    "print(f\"{time() - start_time} seconds\")"
   ]
  },
  {
   "cell_type": "code",
   "execution_count": 19,
   "id": "795b92ba",
   "metadata": {},
   "outputs": [
    {
     "name": "stdout",
     "output_type": "stream",
     "text": [
      "pred_E_1e33: 1.85\n",
      "ref_E_1e33: 1.69\n",
      "pot_E_1e33: 1.26\n",
      "dV_1e23   : 1.99\n",
      "pred_E_unit: 233215676870.97\n",
      "ref_E_unit: 212784219428.51\n",
      "pot_E_unit: 158608732546.37\n",
      "C_vec     : 0.96\n",
      "C_cs      : 0.84\n",
      "E_n_prime : 0.56\n",
      "E_m_prime : 0.19\n",
      "eps       : 1.10\n",
      "rel_l2_err: 0.30\n",
      "1.189460039138794 seconds\n"
     ]
    }
   ],
   "source": [
    "start_time = time()\n",
    "res = m.evaluate_energy(b[:, :, :128, :], B[:, :, :128, :], Bp[:, :, :128, :], dV, isprint=True)\n",
    "print(f\"{time() - start_time} seconds\")"
   ]
  },
  {
   "cell_type": "code",
   "execution_count": 20,
   "id": "e505d0c2",
   "metadata": {},
   "outputs": [
    {
     "name": "stdout",
     "output_type": "stream",
     "text": [
      "pred_E_1e33: 1.79\n",
      "ref_E_1e33: 1.66\n",
      "pot_E_1e33: 1.24\n",
      "dV_1e23   : 1.99\n",
      "pred_E_unit: 225700509361.66\n",
      "ref_E_unit: 209093575462.76\n",
      "pot_E_unit: 156480883818.08\n",
      "C_vec     : 0.96\n",
      "C_cs      : 0.81\n",
      "E_n_prime : 0.61\n",
      "E_m_prime : 0.26\n",
      "eps       : 1.08\n",
      "rel_l2_err: 0.29\n",
      "0.5880846977233887 seconds\n"
     ]
    }
   ],
   "source": [
    "start_time = time()\n",
    "res = m.evaluate_energy(b[:, :, :64, :], B[:, :, :64, :], Bp[:, :, :64, :], dV, isprint=True)\n",
    "print(f\"{time() - start_time} seconds\")"
   ]
  },
  {
   "cell_type": "code",
   "execution_count": 21,
   "id": "70684ca2",
   "metadata": {},
   "outputs": [
    {
     "data": {
      "text/plain": [
       "40.815574645996094"
      ]
     },
     "execution_count": 21,
     "metadata": {},
     "output_type": "execute_result"
    }
   ],
   "source": [
    "(dz/1e8) * 64"
   ]
  },
  {
   "cell_type": "code",
   "execution_count": 22,
   "id": "39053bd9",
   "metadata": {},
   "outputs": [
    {
     "name": "stdout",
     "output_type": "stream",
     "text": [
      "C_vec     : 0.96\n",
      "C_cs      : 0.81\n",
      "E_n'      : 0.61\n",
      "E_m'      : 0.26\n",
      "eps       : 1.08\n",
      "0.2671339511871338 seconds\n"
     ]
    }
   ],
   "source": [
    "start_time = time()\n",
    "res = m.evaluate(b[:, :, :64, :], B[:, :, :64, :])\n",
    "print(f\"{time() - start_time} seconds\")"
   ]
  },
  {
   "cell_type": "code",
   "execution_count": 23,
   "id": "5f41e44e",
   "metadata": {},
   "outputs": [
    {
     "name": "stdout",
     "output_type": "stream",
     "text": [
      "C_vec     : 0.97\n",
      "C_cs      : 0.94\n",
      "E_n'      : 0.68\n",
      "E_m'      : 0.50\n",
      "eps       : 1.08\n",
      "0.14412808418273926 seconds\n"
     ]
    }
   ],
   "source": [
    "start_time = time()\n",
    "res = m.evaluate(b[128:-128, 64:-64, :128, :], B[128:-128, 64:-64, :128, :])\n",
    "print(f\"{time() - start_time} seconds\")"
   ]
  },
  {
   "cell_type": "code",
   "execution_count": 24,
   "id": "c8950081",
   "metadata": {},
   "outputs": [
    {
     "data": {
      "text/plain": [
       "(0.7895285833926029, 107.23153960080086, 56.121059920603834)"
      ]
     },
     "execution_count": 24,
     "metadata": {},
     "output_type": "execute_result"
    }
   ],
   "source": [
    "m.metrics_j(b)"
   ]
  },
  {
   "cell_type": "code",
   "execution_count": 25,
   "id": "bc532af2",
   "metadata": {},
   "outputs": [
    {
     "data": {
      "text/plain": [
       "(0.6989067050349445, 101.28473408225598, 20.23915785396699)"
      ]
     },
     "execution_count": 25,
     "metadata": {},
     "output_type": "execute_result"
    }
   ],
   "source": [
    "m.metrics_j(B)"
   ]
  },
  {
   "cell_type": "code",
   "execution_count": 26,
   "id": "fa9d73ab",
   "metadata": {},
   "outputs": [
    {
     "data": {
      "text/plain": [
       "(0.8579550409294465, 4.676497951764051, 4.255680868829668)"
      ]
     },
     "execution_count": 26,
     "metadata": {},
     "output_type": "execute_result"
    }
   ],
   "source": [
    "m.metrics_j(Bp)"
   ]
  },
  {
   "cell_type": "code",
   "execution_count": 28,
   "id": "7da78ad9",
   "metadata": {},
   "outputs": [
    {
     "name": "stdout",
     "output_type": "stream",
     "text": [
      "0\n",
      "1\n",
      "2\n",
      "3\n",
      "4\n",
      "5\n",
      "6\n",
      "7\n",
      "8\n",
      "9\n",
      "14.532980918884277 seconds\n"
     ]
    }
   ],
   "source": [
    "start_time = time()\n",
    "bf = mm.fine_tuning(dx=dx/1e8, dy=dy/1e8, dz=dz/1e8, \n",
    "                    w_reg=0.01, w_bc=10, w_ff=1, w_div=1,\n",
    "                    lr=1e-5, n_epoch=10)\n",
    "print(f\"{time() - start_time} seconds\")"
   ]
  },
  {
   "cell_type": "code",
   "execution_count": 29,
   "id": "ab4522a8",
   "metadata": {},
   "outputs": [
    {
     "data": {
      "text/plain": [
       "(0.7857528696793513, 94.6204181077637, 47.43225828168303)"
      ]
     },
     "execution_count": 29,
     "metadata": {},
     "output_type": "execute_result"
    }
   ],
   "source": [
    "m.metrics_j(bf)"
   ]
  },
  {
   "cell_type": "code",
   "execution_count": 30,
   "id": "541dcab2",
   "metadata": {},
   "outputs": [
    {
     "name": "stdout",
     "output_type": "stream",
     "text": [
      "C_vec     : 0.96\n",
      "C_cs      : 0.72\n",
      "E_n'      : 0.51\n",
      "E_m'      : 0.09\n",
      "eps       : 1.10\n",
      "1.1563880443572998 seconds\n"
     ]
    }
   ],
   "source": [
    "start_time = time()\n",
    "res = m.evaluate(bf, B)\n",
    "print(f\"{time() - start_time} seconds\")"
   ]
  },
  {
   "cell_type": "code",
   "execution_count": null,
   "id": "85ab3f6d",
   "metadata": {},
   "outputs": [],
   "source": []
  }
 ],
 "metadata": {
  "kernelspec": {
   "display_name": "rtmag",
   "language": "python",
   "name": "python3"
  },
  "language_info": {
   "codemirror_mode": {
    "name": "ipython",
    "version": 3
   },
   "file_extension": ".py",
   "mimetype": "text/x-python",
   "name": "python",
   "nbconvert_exporter": "python",
   "pygments_lexer": "ipython3",
   "version": "3.9.18"
  }
 },
 "nbformat": 4,
 "nbformat_minor": 5
}
