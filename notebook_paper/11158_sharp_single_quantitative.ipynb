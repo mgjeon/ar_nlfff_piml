{
 "cells": [
  {
   "cell_type": "code",
   "execution_count": 1,
   "metadata": {},
   "outputs": [],
   "source": [
    "import os \n",
    "import glob\n",
    "from pathlib import Path\n",
    "from rtmag.paper.parse import parse_tai_string\n",
    "from sunpy.map import Map\n",
    "import numpy as np\n",
    "from skimage.transform import resize\n",
    "from rtmag.paper.load import load_input_label, MyModel"
   ]
  },
  {
   "cell_type": "code",
   "execution_count": 2,
   "metadata": {},
   "outputs": [],
   "source": [
    "data_path = \"/mnt/f/sdo_AR/NOAA11158_HARP377/hmi\"\n",
    "hmi_p_files = sorted(glob.glob(os.path.join(data_path, '*Bp.fits')))  # x\n",
    "hmi_t_files = sorted(glob.glob(os.path.join(data_path, '*Bt.fits')))  # y\n",
    "hmi_r_files = sorted(glob.glob(os.path.join(data_path, '*Br.fits')))  # z\n",
    "data_paths = list(zip(hmi_p_files, hmi_t_files, hmi_r_files))"
   ]
  },
  {
   "cell_type": "code",
   "execution_count": 3,
   "metadata": {},
   "outputs": [
    {
     "data": {
      "text/plain": [
       "('/mnt/f/sdo_AR/NOAA11158_HARP377/hmi/hmi.sharp_cea_720s.377.20110214_000000_TAI.Bp.fits',\n",
       " '/mnt/f/sdo_AR/NOAA11158_HARP377/hmi/hmi.sharp_cea_720s.377.20110214_000000_TAI.Bt.fits',\n",
       " '/mnt/f/sdo_AR/NOAA11158_HARP377/hmi/hmi.sharp_cea_720s.377.20110214_000000_TAI.Br.fits')"
      ]
     },
     "execution_count": 3,
     "metadata": {},
     "output_type": "execute_result"
    }
   ],
   "source": [
    "ix = 240\n",
    "data_path = data_paths[ix]\n",
    "data_path"
   ]
  },
  {
   "cell_type": "code",
   "execution_count": 4,
   "metadata": {},
   "outputs": [
    {
     "data": {
      "text/plain": [
       "(66, 66)"
      ]
     },
     "execution_count": 4,
     "metadata": {},
     "output_type": "execute_result"
    }
   ],
   "source": [
    "input_files, label_files = load_input_label(\"/mnt/f/isee_dataset/11158\")\n",
    "len(input_files), len(label_files)"
   ]
  },
  {
   "cell_type": "code",
   "execution_count": 5,
   "metadata": {},
   "outputs": [
    {
     "data": {
      "text/plain": [
       "(PosixPath('/mnt/f/isee_dataset/11158/input/input_11158_20110214_000000.npz'),\n",
       " PosixPath('/mnt/f/isee_dataset/11158/label/label_11158_20110214_000000.npz'))"
      ]
     },
     "execution_count": 5,
     "metadata": {},
     "output_type": "execute_result"
    }
   ],
   "source": [
    "idx = 13\n",
    "input_files[idx], label_files[idx]"
   ]
  },
  {
   "cell_type": "code",
   "execution_count": 6,
   "metadata": {},
   "outputs": [],
   "source": [
    "from time import time"
   ]
  },
  {
   "cell_type": "code",
   "execution_count": 7,
   "metadata": {},
   "outputs": [
    {
     "name": "stdout",
     "output_type": "stream",
     "text": [
      "Model loaded from epoch 75\n"
     ]
    }
   ],
   "source": [
    "mm = MyModel(\"/home/mgjeon/space/workspace/base_important/uno_pi_cc_hnorm_unit_aug/model_75.pt\")"
   ]
  },
  {
   "cell_type": "code",
   "execution_count": 8,
   "metadata": {},
   "outputs": [
    {
     "name": "stderr",
     "output_type": "stream",
     "text": [
      "WARNING: SunpyMetadataWarning: Could not parse unit string \"Mx/cm^2\" as a valid FITS unit.\n",
      "See https://docs.sunpy.org/en/stable/code_ref/map.html#fixing-map-metadata for how to fix metadata before loading it with sunpy.map.Map.\n",
      "See https://fits.gsfc.nasa.gov/fits_standard.html for the FITS unit standards. [sunpy.map.mapbase]\n"
     ]
    },
    {
     "data": {
      "text/plain": [
       "(1, 1, 256, 512, 3)"
      ]
     },
     "execution_count": 8,
     "metadata": {},
     "output_type": "execute_result"
    }
   ],
   "source": [
    "# tstr = Path(data_path[0]).name[23:38]\n",
    "# obstime = parse_tai_string(tstr)\n",
    "hmi_p, hmi_t, hmi_r, = data_path\n",
    "p_map, t_map, r_map = Map(hmi_p), Map(hmi_t), Map(hmi_r)\n",
    "maps = [p_map, t_map, r_map]\n",
    "hmi_data = np.stack([maps[0].data, -maps[1].data, maps[2].data]).transpose()\n",
    "hmi_data = np.nan_to_num(hmi_data, nan=0.0)\n",
    "hmi_data = hmi_data.astype(np.float32)\n",
    "\n",
    "# ox, oy, _ = hmi_data.shape\n",
    "nx, ny = 512, 256\n",
    "\n",
    "# l = 0.36 # Mm\n",
    "\n",
    "# dx = (ox * l)/nx\n",
    "# dy = (oy * l)/ny\n",
    "# dz = dy \n",
    "\n",
    "# dx, dy, dz = dx * 1e8, dy * 1e8, dz * 1e8  # cm\n",
    "# dV = dx * dy * dz # cm^3\n",
    "\n",
    "model_input = resize(hmi_data, (nx, ny, 3))\n",
    "model_input = model_input[None, :, :, None, :]\n",
    "model_input = model_input.transpose(0, 3, 2, 1, 4)\n",
    "model_input.shape"
   ]
  },
  {
   "cell_type": "code",
   "execution_count": 9,
   "metadata": {},
   "outputs": [
    {
     "name": "stdout",
     "output_type": "stream",
     "text": [
      "Model loaded from epoch 75\n"
     ]
    }
   ],
   "source": [
    "b = mm.get_pred_from_numpy(model_input)"
   ]
  },
  {
   "cell_type": "code",
   "execution_count": 10,
   "metadata": {},
   "outputs": [],
   "source": [
    "B = mm.get_label(label_files[idx])"
   ]
  },
  {
   "cell_type": "code",
   "execution_count": 11,
   "metadata": {},
   "outputs": [],
   "source": [
    "import rtmag.paper.metric as m"
   ]
  },
  {
   "cell_type": "code",
   "execution_count": 13,
   "metadata": {},
   "outputs": [
    {
     "name": "stdout",
     "output_type": "stream",
     "text": [
      "C_vec     : 0.96\n",
      "C_cs      : 0.95\n",
      "E_n'      : 0.68\n",
      "E_m'      : 0.58\n",
      "eps       : 0.94\n",
      "1.235198736190796 seconds\n"
     ]
    }
   ],
   "source": [
    "start_time = time()\n",
    "res = m.evaluate(b, B)\n",
    "print(f\"{time() - start_time} seconds\")"
   ]
  },
  {
   "cell_type": "code",
   "execution_count": null,
   "metadata": {},
   "outputs": [],
   "source": []
  }
 ],
 "metadata": {
  "kernelspec": {
   "display_name": "rtmag",
   "language": "python",
   "name": "python3"
  },
  "language_info": {
   "codemirror_mode": {
    "name": "ipython",
    "version": 3
   },
   "file_extension": ".py",
   "mimetype": "text/x-python",
   "name": "python",
   "nbconvert_exporter": "python",
   "pygments_lexer": "ipython3",
   "version": "3.9.18"
  }
 },
 "nbformat": 4,
 "nbformat_minor": 2
}
