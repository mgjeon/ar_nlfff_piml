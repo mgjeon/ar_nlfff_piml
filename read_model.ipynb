{
 "cells": [
  {
   "cell_type": "code",
   "execution_count": 8,
   "metadata": {},
   "outputs": [],
   "source": [
    "import torch\n",
    "from pathlib import Path"
   ]
  },
  {
   "cell_type": "code",
   "execution_count": 2,
   "metadata": {},
   "outputs": [],
   "source": [
    "device = torch.device(\"cuda:0\" if torch.cuda.is_available() else \"cpu\")"
   ]
  },
  {
   "cell_type": "code",
   "execution_count": 15,
   "metadata": {},
   "outputs": [],
   "source": [
    "meta_path = \"/home/mgjeon/space/workspace/base/uno_pi_cc_hnorm_unit_aug/best_model.pt\"\n",
    "meta_path = Path(meta_path)"
   ]
  },
  {
   "cell_type": "code",
   "execution_count": 16,
   "metadata": {},
   "outputs": [],
   "source": [
    "checkpoint = torch.load(meta_path, map_location=device)"
   ]
  },
  {
   "cell_type": "code",
   "execution_count": 17,
   "metadata": {},
   "outputs": [],
   "source": [
    "import argparse\n",
    "import numpy as np"
   ]
  },
  {
   "cell_type": "code",
   "execution_count": 18,
   "metadata": {},
   "outputs": [],
   "source": [
    "args = argparse.Namespace()\n",
    "info = np.load(meta_path.parent / 'args.npy', allow_pickle=True).item()\n",
    "for key, value in info.items():\n",
    "    args.__dict__[key] = value"
   ]
  },
  {
   "cell_type": "code",
   "execution_count": 19,
   "metadata": {},
   "outputs": [
    {
     "data": {
      "text/plain": [
       "{'config': 'configs/train/uno_pi_cc_hnorm_unit_aug.json',\n",
       " 'base_path': '/userhome/jeon_mg/workspace/base/uno_pi_cc_hnorm_unit_aug',\n",
       " 'model': {'model_name': 'UNO',\n",
       "  'hidden_channels': 32,\n",
       "  'in_channels': 1,\n",
       "  'out_channels': 256,\n",
       "  'lifting_channels': 256,\n",
       "  'projection_channels': 256,\n",
       "  'n_layers': 6,\n",
       "  'factorization': 'tucker',\n",
       "  'implementation': 'factorized',\n",
       "  'rank': 0.5,\n",
       "  'uno_n_modes': [[16, 16, 16],\n",
       "   [8, 8, 8],\n",
       "   [8, 8, 8],\n",
       "   [8, 8, 8],\n",
       "   [8, 8, 8],\n",
       "   [16, 16, 16]],\n",
       "  'uno_out_channels': [32, 64, 64, 64, 64, 32],\n",
       "  'uno_scalings': [[1.0, 1.0, 1.0],\n",
       "   [0.5, 0.5, 0.5],\n",
       "   [1.0, 1.0, 1.0],\n",
       "   [1.0, 1.0, 1.0],\n",
       "   [2.0, 2.0, 2.0],\n",
       "   [1.0, 1.0, 1.0]]},\n",
       " 'data': {'dataset_name': 'Hnorm_Unit_Aug',\n",
       "  'dataset_path': '/mnt/userdata/jeon_mg/isee_dataset',\n",
       "  'test_noaa': ['11158', '12673'],\n",
       "  'test_path': '/mnt/userdata/jeon_mg/isee_dataset/11158',\n",
       "  'b_norm': 2500,\n",
       "  'batch_size': 1,\n",
       "  'num_workers': 4},\n",
       " 'training': {'learning_late': 1e-05,\n",
       "  'n_epochs': 100,\n",
       "  'save_epoch_every': 1,\n",
       "  'w_mse': 1.0,\n",
       "  'w_ccc': 0.01,\n",
       "  'w_bc': 10.0,\n",
       "  'w_ff': 1.0,\n",
       "  'w_div': 1.0}}"
      ]
     },
     "execution_count": 19,
     "metadata": {},
     "output_type": "execute_result"
    }
   ],
   "source": [
    "args.__dict__"
   ]
  },
  {
   "cell_type": "code",
   "execution_count": 20,
   "metadata": {},
   "outputs": [
    {
     "data": {
      "text/plain": [
       "40"
      ]
     },
     "execution_count": 20,
     "metadata": {},
     "output_type": "execute_result"
    }
   ],
   "source": [
    "checkpoint['epoch']"
   ]
  },
  {
   "cell_type": "code",
   "execution_count": null,
   "metadata": {},
   "outputs": [],
   "source": []
  }
 ],
 "metadata": {
  "kernelspec": {
   "display_name": "rtmag",
   "language": "python",
   "name": "python3"
  },
  "language_info": {
   "codemirror_mode": {
    "name": "ipython",
    "version": 3
   },
   "file_extension": ".py",
   "mimetype": "text/x-python",
   "name": "python",
   "nbconvert_exporter": "python",
   "pygments_lexer": "ipython3",
   "version": "3.9.18"
  }
 },
 "nbformat": 4,
 "nbformat_minor": 2
}
