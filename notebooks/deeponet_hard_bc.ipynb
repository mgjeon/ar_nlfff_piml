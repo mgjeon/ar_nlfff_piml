{
 "cells": [
  {
   "cell_type": "code",
   "execution_count": 1,
   "metadata": {},
   "outputs": [],
   "source": [
    "import numpy as np\n",
    "import torch\n",
    "from torch import nn\n",
    "\n",
    "from neuralop.models import UNO\n",
    "\n",
    "from rtmag.deeponet.model import MLP, Sine\n",
    "\n",
    "from scipy.interpolate import RegularGridInterpolator as rgi\n",
    "\n",
    "from torch.utils.data import DataLoader, RandomSampler\n",
    "from torch.utils.data import Dataset\n",
    "\n",
    "from pathlib import Path\n",
    "\n",
    "from tqdm import tqdm"
   ]
  },
  {
   "cell_type": "code",
   "execution_count": 2,
   "metadata": {},
   "outputs": [],
   "source": [
    "class DeepONetUNO(nn.Module):\n",
    "    def __init__(self, trunk_in_dim, out_dim, hidden_dim, num_layers):\n",
    "        super().__init__()\n",
    "        # self.branch_inc = UNO(\n",
    "        #                         hidden_channels=32,\n",
    "        #                         in_channels=3,\n",
    "        #                         out_channels=3,\n",
    "        #                         lifting_channels=256,\n",
    "        #                         projection_channels=256,\n",
    "        #                         n_layers=6,\n",
    "\n",
    "        #                         factorization=\"tucker\",\n",
    "        #                         implementation=\"factorized\",\n",
    "        #                         rank=0.5,\n",
    "\n",
    "        #                         uno_n_modes=[[16,16],\n",
    "        #                                         [ 8, 8],\n",
    "        #                                         [ 8, 8],\n",
    "        #                                         [ 8, 8],\n",
    "        #                                         [ 8, 8],\n",
    "        #                                         [16,16]],\n",
    "        #                         uno_out_channels=[32,\n",
    "        #                                             64,\n",
    "        #                                             64,\n",
    "        #                                             64,\n",
    "        #                                             64,\n",
    "        #                                             32],\n",
    "        #                         uno_scalings=[[1.0,1.0],\n",
    "        #                                         [0.5,0.5],\n",
    "        #                                         [1.0,1.0],\n",
    "        #                                         [0.5,0.5],\n",
    "        #                                         [1.0,1.0],\n",
    "        #                                         [0.5,0.5]]\n",
    "        #                     )\n",
    "        self.branch_inc = nn.Sequential(\n",
    "            nn.Conv2d(3, 32, kernel_size=3),\n",
    "            nn.SiLU(),\n",
    "            nn.Conv2d(32, 64, kernel_size=3, padding=1, stride=2),\n",
    "            nn.SiLU(),\n",
    "            nn.Conv2d(64, 32, kernel_size=3, padding=1, stride=2),\n",
    "            nn.SiLU(),\n",
    "            nn.Conv2d(32, 3, kernel_size=3, padding=1, stride=2),\n",
    "            nn.SiLU(),\n",
    "        )\n",
    "        self.branch_layer = nn.Linear(3*64*32, hidden_dim)\n",
    "        self.trunk_layer = MLP(trunk_in_dim, hidden_dim, hidden_dim, num_layers)\n",
    "        self.d_out = nn.Linear(hidden_dim, out_dim)\n",
    "        self.activation = Sine()\n",
    "    \n",
    "    def forward(self, bc, x):\n",
    "        \"\"\"\n",
    "        bc     : [batch_size, 3, 512, 256]\n",
    "        x      : [batch_size, batch_coords, trunk_in_dim]\n",
    "\n",
    "        output : [batch_size, batch_coords, out_dim]\n",
    "        \"\"\"\n",
    "        branch_latent = self.branch_inc(bc)\n",
    "        branch_latent = torch.flatten(branch_latent, 1)\n",
    "        branch_latent = self.branch_layer(branch_latent)\n",
    "        trunk_latent = self.trunk_layer(x)\n",
    "        latent = branch_latent[:, None, :] * trunk_latent\n",
    "        output = self.d_out(self.activation(latent))\n",
    "        return output"
   ]
  },
  {
   "cell_type": "code",
   "execution_count": 3,
   "metadata": {},
   "outputs": [],
   "source": [
    "class DeepONetDataset(Dataset):\n",
    "\n",
    "    def __init__(self, file_list, b_norm, spatial_norm, cube_shape, \n",
    "                 bottom_batch_coords=1,\n",
    "                 boundary_batch_coords=1, \n",
    "                 random_batch_coords=1):\n",
    "        super().__init__()\n",
    "        self.cube_shape = np.array([[0, cube_shape[0] - 1], [0, cube_shape[1] - 1], [0, cube_shape[2] - 1]])\n",
    "        self.files = file_list\n",
    "        self.b_norm = b_norm\n",
    "        self.spatial_norm = spatial_norm\n",
    "        self.bottom_batch_coords = int(bottom_batch_coords)\n",
    "        self.boundary_batch_coords = int(boundary_batch_coords)\n",
    "        self.random_batch_coords = int(random_batch_coords)\n",
    "        self.float_tensor = torch.FloatTensor\n",
    "        self.coords_shape = cube_shape\n",
    "\n",
    "    def __len__(self):\n",
    "        return len(self.files)\n",
    "\n",
    "    def __getitem__(self, idx):\n",
    "        input_file = self.files[idx]\n",
    "        input_file = Path(input_file)\n",
    "        label_file = input_file.parent.parent / 'label' / input_file.name.replace('input_', 'label_')\n",
    "\n",
    "        inputs = np.load(input_file)\n",
    "        labels = np.load(label_file)\n",
    "\n",
    "        branch_input = inputs['input'][..., 0].astype(np.float32)\n",
    "        branch_input = branch_input / self.b_norm\n",
    "\n",
    "        b_bottom = inputs['input'].transpose(1, 2, 3, 0)\n",
    "        bottom_values = b_bottom.reshape(-1, 3).astype(np.float32)\n",
    "        bottom_values = bottom_values / self.b_norm        \n",
    "\n",
    "        bottom_coords = np.stack(np.mgrid[:b_bottom.shape[0], :b_bottom.shape[1], :b_bottom.shape[2]], -1).reshape(-1, 3).astype(np.float32)\n",
    "        bottom_coords = bottom_coords / self.spatial_norm\n",
    "\n",
    "        nx, ny, nz = self.coords_shape\n",
    "        top_coords = np.stack(np.mgrid[:nx, :ny, (nz-1):nz], -1).reshape(-1, 3).astype(np.float32)\n",
    "        lateral_1_coords = np.stack(np.mgrid[:nx, :1, :nz], -1).reshape(-1, 3).astype(np.float32)\n",
    "        lateral_2_coords = np.stack(np.mgrid[:nx, (ny-1):ny, :nz], -1).reshape(-1, 3).astype(np.float32)\n",
    "        lateral_3_coords = np.stack(np.mgrid[:1, :ny, :nz], -1).reshape(-1, 3).astype(np.float32)\n",
    "        lateral_4_coords = np.stack(np.mgrid[(nx-1):nx, :ny, :nz], -1).reshape(-1, 3).astype(np.float32)\n",
    "\n",
    "        boundary_coords = np.concatenate([top_coords, \n",
    "                                        lateral_1_coords, \n",
    "                                        lateral_2_coords, \n",
    "                                        lateral_3_coords, \n",
    "                                        lateral_4_coords], axis=0)\n",
    "        \n",
    "        boundary_coords = boundary_coords / self.spatial_norm\n",
    "\n",
    "        random_coords = self.float_tensor(self.random_batch_coords, 3).uniform_()\n",
    "        random_coords[:, 0] = (random_coords[:, 0] * (self.cube_shape[0, 1] - self.cube_shape[0, 0]) + self.cube_shape[0, 0])\n",
    "        random_coords[:, 1] = (random_coords[:, 1] * (self.cube_shape[1, 1] - self.cube_shape[1, 0]) + self.cube_shape[1, 0])\n",
    "        random_coords[:, 2] = (random_coords[:, 2] * (self.cube_shape[2, 1] - self.cube_shape[2, 0]) + self.cube_shape[2, 0])\n",
    "        random_coords = random_coords / self.spatial_norm\n",
    "\n",
    "\n",
    "        slices_values = labels['label'].transpose(1, 2, 3, 0)\n",
    "        b_shape = slices_values.shape\n",
    "        slices_values = slices_values.reshape(-1, 3).astype(np.float32)\n",
    "        slices_values = slices_values / self.b_norm        \n",
    "\n",
    "        slices_coords = np.stack(np.mgrid[:b_shape[0], :b_shape[1], :b_shape[2]], -1).astype(np.float32)\n",
    "        slices_coords = slices_coords.reshape(-1, 3).astype(np.float32)\n",
    "        slices_coords = slices_coords / self.spatial_norm\n",
    "\n",
    "        #--- pick bottom points\n",
    "        r = np.random.choice(bottom_coords.shape[0], self.bottom_batch_coords)\n",
    "        bottom_coords = bottom_coords[r]\n",
    "        bottom_values = bottom_values[r]\n",
    "\n",
    "        #--- pick boundary points\n",
    "        r = np.random.choice(boundary_coords.shape[0], self.boundary_batch_coords)\n",
    "        boundary_coords = boundary_coords[r]\n",
    "\n",
    "        \n",
    "        samples = {'branch_input': branch_input,\n",
    "                   'random_coords': random_coords,\n",
    "                   'slices_coords': slices_coords,\n",
    "                   'slices_values': slices_values,\n",
    "                   'bottom_coords': bottom_coords,\n",
    "                   'bottom_values': bottom_values,\n",
    "                   'boundary_coords': boundary_coords}\n",
    "\n",
    "        return samples"
   ]
  },
  {
   "cell_type": "code",
   "execution_count": 4,
   "metadata": {},
   "outputs": [],
   "source": [
    "def jacobian(output, coords):\n",
    "    jac_matrix = [torch.autograd.grad(output[..., i], coords,\n",
    "                                      grad_outputs=torch.ones_like(output[..., i]).to(output),\n",
    "                                      retain_graph=True, create_graph=True, allow_unused=True)[0]\n",
    "                  for i in range(output.shape[-1])]\n",
    "    jac_matrix = torch.stack(jac_matrix, dim=-1)\n",
    "    return jac_matrix\n",
    "\n",
    "\n",
    "def calculate_pde_loss(b, coords):\n",
    "    jac_matrix = jacobian(b, coords)\n",
    "    dBx_dx = jac_matrix[..., 0, 0]\n",
    "    dBy_dx = jac_matrix[..., 1, 0]\n",
    "    dBz_dx = jac_matrix[..., 2, 0]\n",
    "    dBx_dy = jac_matrix[..., 0, 1]\n",
    "    dBy_dy = jac_matrix[..., 1, 1]\n",
    "    dBz_dy = jac_matrix[..., 2, 1]\n",
    "    dBx_dz = jac_matrix[..., 0, 2]\n",
    "    dBy_dz = jac_matrix[..., 1, 2]\n",
    "    dBz_dz = jac_matrix[..., 2, 2]\n",
    "    #\n",
    "    curl_x = dBz_dy - dBy_dz\n",
    "    curl_y = dBx_dz - dBz_dx\n",
    "    curl_z = dBy_dx - dBx_dy\n",
    "    #\n",
    "    j = torch.stack([curl_x, curl_y, curl_z], -1)\n",
    "    #\n",
    "    jxb = torch.cross(j, b, -1)\n",
    "    loss_ff = torch.sum(jxb ** 2, dim=-1) / (torch.sum(b ** 2, dim=-1) + 1e-7)\n",
    "    loss_ff = loss_ff.mean()\n",
    "\n",
    "    loss_div = (dBx_dx + dBy_dy + dBz_dz) ** 2\n",
    "    loss_div = loss_div.mean()\n",
    "    return loss_div, loss_ff"
   ]
  },
  {
   "cell_type": "code",
   "execution_count": 5,
   "metadata": {},
   "outputs": [],
   "source": [
    "branch_inc = nn.Sequential(\n",
    "            nn.Conv2d(3, 32, kernel_size=3),\n",
    "            nn.SiLU(),\n",
    "            nn.Conv2d(32, 64, kernel_size=3, padding=1, stride=2),\n",
    "            nn.SiLU(),\n",
    "            nn.Conv2d(64, 32, kernel_size=3, padding=1, stride=2),\n",
    "            nn.SiLU(),\n",
    "            nn.Conv2d(32, 3, kernel_size=3, padding=1, stride=2),\n",
    "            nn.SiLU(),\n",
    "        )"
   ]
  },
  {
   "cell_type": "code",
   "execution_count": 6,
   "metadata": {},
   "outputs": [],
   "source": [
    "test = torch.rand(1, 3, 512, 256)"
   ]
  },
  {
   "cell_type": "code",
   "execution_count": 7,
   "metadata": {},
   "outputs": [
    {
     "data": {
      "text/plain": [
       "torch.Size([1, 3, 64, 32])"
      ]
     },
     "execution_count": 7,
     "metadata": {},
     "output_type": "execute_result"
    }
   ],
   "source": [
    "branch_inc(test).shape"
   ]
  },
  {
   "cell_type": "code",
   "execution_count": 8,
   "metadata": {},
   "outputs": [],
   "source": [
    "data_path = [\n",
    "    '/mnt/f/isee_dataset/11158/input/input_11158_20110213_120000.npz',\n",
    "]\n",
    "\n",
    "label_path = [\n",
    "    '/mnt/f/isee_dataset/11158/label/label_11158_20110213_120000.npz',\n",
    "]"
   ]
  },
  {
   "cell_type": "code",
   "execution_count": 9,
   "metadata": {},
   "outputs": [],
   "source": [
    "b_bottom = np.load(data_path[0])['input'].astype(np.float32)[:, :-1, :-1, :]\n",
    "\n",
    "bx1 = b_bottom[0]\n",
    "by1 = b_bottom[1]\n",
    "bz1 = b_bottom[2]\n",
    "\n",
    "nx, ny, nz = bx1.shape\n",
    "spatial_norm = 256\n",
    "b_norm = 2500\n",
    "\n",
    "b_bottom = b_bottom / b_norm\n",
    "\n",
    "x1 = np.linspace(0, (nx-1), nx).astype(np.float32) / spatial_norm\n",
    "y1 = np.linspace(0, (ny-1), ny).astype(np.float32) / spatial_norm\n",
    "z1 = np.linspace(0, (nz-1), nz).astype(np.float32) / spatial_norm\n",
    "\n",
    "bxs = rgi((x1,y1,z1), bx1, bounds_error=False, fill_value=0)\n",
    "bys = rgi((x1,y1,z1), by1, bounds_error=False, fill_value=0)\n",
    "bzs = rgi((x1,y1,z1), bz1, bounds_error=False, fill_value=0)\n",
    "\n",
    "\n",
    "def bx(x, y, z):\n",
    "    \"\"\"\n",
    "        Evaluate Bx at given point(s).\n",
    "    \"\"\"\n",
    "    xx = np.stack((x, y, z), axis=len(np.shape(x)))\n",
    "    return bxs(xx)\n",
    "\n",
    "def by(x, y, z):\n",
    "    \"\"\"\n",
    "        Evaluate By at given point(s).\n",
    "    \"\"\"\n",
    "    xx = np.stack((x, y, z), axis=len(np.shape(x)))\n",
    "    return bys(xx)\n",
    "\n",
    "\n",
    "def bz(x, y, z):\n",
    "    \"\"\"\n",
    "        Evaluate Bz at given point(s).\n",
    "    \"\"\"\n",
    "    xx = np.stack((x, y, z), axis=len(np.shape(x)))\n",
    "    return bzs(xx)\n",
    "\n",
    "def get_bottom(x, y, z):\n",
    "    \"\"\"\n",
    "        Evaluate Bx, By, Bz at given point(s).\n",
    "    \"\"\"\n",
    "    return np.stack([bx(x, y, z), \n",
    "                     by(x, y, z), \n",
    "                     bz(x, y, z)], -1).astype(np.float32)\n",
    "\n",
    "def is_bottom(coord, tol=1e-4):\n",
    "    bools = torch.logical_not(coord < tol)\n",
    "    return torch.tensor(bools, dtype=torch.float32)\n",
    "\n",
    "def output_transform(model, bc, coord, b_norm):\n",
    "    return is_bottom(coord[..., 2].detach().cpu())[..., None] * model(bc, coord).detach().cpu() \\\n",
    "        + get_bottom(coord[..., 0].detach().cpu(), coord[..., 1].detach().cpu(), coord[..., 2].detach().cpu()) / b_norm"
   ]
  },
  {
   "cell_type": "code",
   "execution_count": 10,
   "metadata": {},
   "outputs": [],
   "source": [
    "device = torch.device('cuda' if torch.cuda.is_available() else 'cpu')"
   ]
  },
  {
   "cell_type": "code",
   "execution_count": 11,
   "metadata": {},
   "outputs": [],
   "source": [
    "model = DeepONetUNO(3, 3, 256, 8).to(device)"
   ]
  },
  {
   "cell_type": "code",
   "execution_count": 12,
   "metadata": {},
   "outputs": [
    {
     "data": {
      "text/plain": [
       "(3, 512, 256, 1)"
      ]
     },
     "execution_count": 12,
     "metadata": {},
     "output_type": "execute_result"
    }
   ],
   "source": [
    "b_bottom.shape"
   ]
  },
  {
   "cell_type": "code",
   "execution_count": 13,
   "metadata": {},
   "outputs": [
    {
     "data": {
      "text/plain": [
       "torch.Size([1, 3, 512, 256])"
      ]
     },
     "execution_count": 13,
     "metadata": {},
     "output_type": "execute_result"
    }
   ],
   "source": [
    "bc = b_bottom[..., 0]\n",
    "bc = bc[None, :]\n",
    "bc = torch.tensor(bc, dtype=torch.float32)\n",
    "bc.shape"
   ]
  },
  {
   "cell_type": "code",
   "execution_count": 14,
   "metadata": {},
   "outputs": [
    {
     "data": {
      "text/plain": [
       "torch.Size([33554432, 3])"
      ]
     },
     "execution_count": 14,
     "metadata": {},
     "output_type": "execute_result"
    }
   ],
   "source": [
    "nnz = 256\n",
    "coords = np.stack(np.mgrid[:nx, :ny, :nnz], -1).astype(np.float32)\n",
    "coords_shape = coords.shape\n",
    "coords = coords.reshape(-1, 3)\n",
    "coords = torch.tensor(coords, dtype=torch.float32)\n",
    "coords = coords / spatial_norm\n",
    "coords.shape"
   ]
  },
  {
   "cell_type": "code",
   "execution_count": 15,
   "metadata": {},
   "outputs": [
    {
     "data": {
      "text/plain": [
       "tensor([[0.0000, 0.0000, 0.0000],\n",
       "        [0.0000, 0.0000, 0.0039],\n",
       "        [0.0000, 0.0000, 0.0078],\n",
       "        ...,\n",
       "        [1.9961, 0.9961, 0.9883],\n",
       "        [1.9961, 0.9961, 0.9922],\n",
       "        [1.9961, 0.9961, 0.9961]])"
      ]
     },
     "execution_count": 15,
     "metadata": {},
     "output_type": "execute_result"
    }
   ],
   "source": [
    "coords"
   ]
  },
  {
   "cell_type": "code",
   "execution_count": 21,
   "metadata": {},
   "outputs": [],
   "source": [
    "cube_shape = (512, 256, 256)\n",
    "b_norm = 2500\n",
    "spatial_norm = 256\n",
    "\n",
    "bottom_batch_coords = 2e4\n",
    "boundary_batch_coords = 2e4\n",
    "random_batch_coords = 1e4\n",
    "\n",
    "don_dataset = DeepONetDataset(data_path, b_norm, spatial_norm, cube_shape,\n",
    "                                 bottom_batch_coords,\n",
    "                                 boundary_batch_coords, \n",
    "                                 random_batch_coords)\n",
    "\n",
    "batch_size = 1\n",
    "num_workers = 4\n",
    "num_samples = int(2e3)\n",
    "don_loader = DataLoader(don_dataset, batch_size=batch_size, num_workers=num_workers, pin_memory=True,\n",
    "                        sampler=RandomSampler(don_dataset, replacement=True, num_samples=num_samples))"
   ]
  },
  {
   "cell_type": "code",
   "execution_count": 22,
   "metadata": {},
   "outputs": [
    {
     "data": {
      "text/plain": [
       "2000"
      ]
     },
     "execution_count": 22,
     "metadata": {},
     "output_type": "execute_result"
    }
   ],
   "source": [
    "total_iterations = num_samples // batch_size\n",
    "total_iterations"
   ]
  },
  {
   "cell_type": "code",
   "execution_count": 23,
   "metadata": {},
   "outputs": [],
   "source": [
    "base_path = Path(\"TL\")\n",
    "base_path.mkdir(parents=True, exist_ok=True)"
   ]
  },
  {
   "cell_type": "code",
   "execution_count": 24,
   "metadata": {},
   "outputs": [],
   "source": [
    "lr_start = 1e-5\n",
    "\n",
    "optimizer = torch.optim.Adam(model.parameters(), lr=lr_start)\n",
    "\n",
    "lambda_slices = 1\n",
    "lambda_random = 1\n",
    "lambda_div = 1\n",
    "lambda_ff = 1"
   ]
  },
  {
   "cell_type": "code",
   "execution_count": 25,
   "metadata": {},
   "outputs": [
    {
     "name": "stderr",
     "output_type": "stream",
     "text": [
      "Train:   0%|          | 0/2000 [00:00<?, ?it/s]/tmp/ipykernel_1339922/2355101533.py:54: UserWarning: To copy construct from a tensor, it is recommended to use sourceTensor.clone().detach() or sourceTensor.clone().detach().requires_grad_(True), rather than torch.tensor(sourceTensor).\n",
      "  return torch.tensor(bools, dtype=torch.float32)\n",
      "Train:   0%|          | 0/2000 [00:45<?, ?it/s]\n"
     ]
    },
    {
     "ename": "OutOfMemoryError",
     "evalue": "CUDA out of memory. Tried to allocate 32.31 GiB. GPU 0 has a total capacity of 11.99 GiB of which 9.84 GiB is free. Including non-PyTorch memory, this process has 17179869184.00 GiB memory in use. Of the allocated memory 843.91 MiB is allocated by PyTorch, and 88.09 MiB is reserved by PyTorch but unallocated. If reserved but unallocated memory is large try setting PYTORCH_CUDA_ALLOC_CONF=expandable_segments:True to avoid fragmentation.  See documentation for Memory Management  (https://pytorch.org/docs/stable/notes/cuda.html#environment-variables)",
     "output_type": "error",
     "traceback": [
      "\u001b[0;31m---------------------------------------------------------------------------\u001b[0m",
      "\u001b[0;31mOutOfMemoryError\u001b[0m                          Traceback (most recent call last)",
      "Cell \u001b[0;32mIn[25], line 12\u001b[0m\n\u001b[1;32m     10\u001b[0m slices_coords \u001b[38;5;241m=\u001b[39m batch[\u001b[38;5;124m'\u001b[39m\u001b[38;5;124mslices_coords\u001b[39m\u001b[38;5;124m'\u001b[39m]\u001b[38;5;241m.\u001b[39mto(device)\n\u001b[1;32m     11\u001b[0m b_slices \u001b[38;5;241m=\u001b[39m batch[\u001b[38;5;124m'\u001b[39m\u001b[38;5;124mslices_values\u001b[39m\u001b[38;5;124m'\u001b[39m]\u001b[38;5;241m.\u001b[39mto(device)\n\u001b[0;32m---> 12\u001b[0m b_slices_pred \u001b[38;5;241m=\u001b[39m \u001b[43moutput_transform\u001b[49m\u001b[43m(\u001b[49m\u001b[43mmodel\u001b[49m\u001b[43m,\u001b[49m\u001b[43m \u001b[49m\u001b[43mbranch_input\u001b[49m\u001b[43m,\u001b[49m\u001b[43m \u001b[49m\u001b[43mslices_coords\u001b[49m\u001b[43m,\u001b[49m\u001b[43m \u001b[49m\u001b[43mb_norm\u001b[49m\u001b[43m)\u001b[49m\n\u001b[1;32m     13\u001b[0m loss_slices \u001b[38;5;241m=\u001b[39m (b_slices \u001b[38;5;241m-\u001b[39m b_slices_pred)\u001b[38;5;241m.\u001b[39mpow(\u001b[38;5;241m2\u001b[39m)\u001b[38;5;241m.\u001b[39mmean()\n\u001b[1;32m     15\u001b[0m random_coords \u001b[38;5;241m=\u001b[39m batch[\u001b[38;5;124m'\u001b[39m\u001b[38;5;124mrandom_coords\u001b[39m\u001b[38;5;124m'\u001b[39m]\u001b[38;5;241m.\u001b[39mto(device)\n",
      "Cell \u001b[0;32mIn[9], line 57\u001b[0m, in \u001b[0;36moutput_transform\u001b[0;34m(model, bc, coord, b_norm)\u001b[0m\n\u001b[1;32m     56\u001b[0m \u001b[38;5;28;01mdef\u001b[39;00m \u001b[38;5;21moutput_transform\u001b[39m(model, bc, coord, b_norm):\n\u001b[0;32m---> 57\u001b[0m     \u001b[38;5;28;01mreturn\u001b[39;00m is_bottom(coord[\u001b[38;5;241m.\u001b[39m\u001b[38;5;241m.\u001b[39m\u001b[38;5;241m.\u001b[39m, \u001b[38;5;241m2\u001b[39m]\u001b[38;5;241m.\u001b[39mdetach()\u001b[38;5;241m.\u001b[39mcpu())[\u001b[38;5;241m.\u001b[39m\u001b[38;5;241m.\u001b[39m\u001b[38;5;241m.\u001b[39m, \u001b[38;5;28;01mNone\u001b[39;00m] \u001b[38;5;241m*\u001b[39m \u001b[43mmodel\u001b[49m\u001b[43m(\u001b[49m\u001b[43mbc\u001b[49m\u001b[43m,\u001b[49m\u001b[43m \u001b[49m\u001b[43mcoord\u001b[49m\u001b[43m)\u001b[49m\u001b[38;5;241m.\u001b[39mdetach()\u001b[38;5;241m.\u001b[39mcpu() \\\n\u001b[1;32m     58\u001b[0m         \u001b[38;5;241m+\u001b[39m get_bottom(coord[\u001b[38;5;241m.\u001b[39m\u001b[38;5;241m.\u001b[39m\u001b[38;5;241m.\u001b[39m, \u001b[38;5;241m0\u001b[39m]\u001b[38;5;241m.\u001b[39mdetach()\u001b[38;5;241m.\u001b[39mcpu(), coord[\u001b[38;5;241m.\u001b[39m\u001b[38;5;241m.\u001b[39m\u001b[38;5;241m.\u001b[39m, \u001b[38;5;241m1\u001b[39m]\u001b[38;5;241m.\u001b[39mdetach()\u001b[38;5;241m.\u001b[39mcpu(), coord[\u001b[38;5;241m.\u001b[39m\u001b[38;5;241m.\u001b[39m\u001b[38;5;241m.\u001b[39m, \u001b[38;5;241m2\u001b[39m]\u001b[38;5;241m.\u001b[39mdetach()\u001b[38;5;241m.\u001b[39mcpu()) \u001b[38;5;241m/\u001b[39m b_norm\n",
      "File \u001b[0;32m~/miniforge3/envs/rtmag/lib/python3.11/site-packages/torch/nn/modules/module.py:1511\u001b[0m, in \u001b[0;36mModule._wrapped_call_impl\u001b[0;34m(self, *args, **kwargs)\u001b[0m\n\u001b[1;32m   1509\u001b[0m     \u001b[38;5;28;01mreturn\u001b[39;00m \u001b[38;5;28mself\u001b[39m\u001b[38;5;241m.\u001b[39m_compiled_call_impl(\u001b[38;5;241m*\u001b[39margs, \u001b[38;5;241m*\u001b[39m\u001b[38;5;241m*\u001b[39mkwargs)  \u001b[38;5;66;03m# type: ignore[misc]\u001b[39;00m\n\u001b[1;32m   1510\u001b[0m \u001b[38;5;28;01melse\u001b[39;00m:\n\u001b[0;32m-> 1511\u001b[0m     \u001b[38;5;28;01mreturn\u001b[39;00m \u001b[38;5;28;43mself\u001b[39;49m\u001b[38;5;241;43m.\u001b[39;49m\u001b[43m_call_impl\u001b[49m\u001b[43m(\u001b[49m\u001b[38;5;241;43m*\u001b[39;49m\u001b[43margs\u001b[49m\u001b[43m,\u001b[49m\u001b[43m \u001b[49m\u001b[38;5;241;43m*\u001b[39;49m\u001b[38;5;241;43m*\u001b[39;49m\u001b[43mkwargs\u001b[49m\u001b[43m)\u001b[49m\n",
      "File \u001b[0;32m~/miniforge3/envs/rtmag/lib/python3.11/site-packages/torch/nn/modules/module.py:1520\u001b[0m, in \u001b[0;36mModule._call_impl\u001b[0;34m(self, *args, **kwargs)\u001b[0m\n\u001b[1;32m   1515\u001b[0m \u001b[38;5;66;03m# If we don't have any hooks, we want to skip the rest of the logic in\u001b[39;00m\n\u001b[1;32m   1516\u001b[0m \u001b[38;5;66;03m# this function, and just call forward.\u001b[39;00m\n\u001b[1;32m   1517\u001b[0m \u001b[38;5;28;01mif\u001b[39;00m \u001b[38;5;129;01mnot\u001b[39;00m (\u001b[38;5;28mself\u001b[39m\u001b[38;5;241m.\u001b[39m_backward_hooks \u001b[38;5;129;01mor\u001b[39;00m \u001b[38;5;28mself\u001b[39m\u001b[38;5;241m.\u001b[39m_backward_pre_hooks \u001b[38;5;129;01mor\u001b[39;00m \u001b[38;5;28mself\u001b[39m\u001b[38;5;241m.\u001b[39m_forward_hooks \u001b[38;5;129;01mor\u001b[39;00m \u001b[38;5;28mself\u001b[39m\u001b[38;5;241m.\u001b[39m_forward_pre_hooks\n\u001b[1;32m   1518\u001b[0m         \u001b[38;5;129;01mor\u001b[39;00m _global_backward_pre_hooks \u001b[38;5;129;01mor\u001b[39;00m _global_backward_hooks\n\u001b[1;32m   1519\u001b[0m         \u001b[38;5;129;01mor\u001b[39;00m _global_forward_hooks \u001b[38;5;129;01mor\u001b[39;00m _global_forward_pre_hooks):\n\u001b[0;32m-> 1520\u001b[0m     \u001b[38;5;28;01mreturn\u001b[39;00m \u001b[43mforward_call\u001b[49m\u001b[43m(\u001b[49m\u001b[38;5;241;43m*\u001b[39;49m\u001b[43margs\u001b[49m\u001b[43m,\u001b[49m\u001b[43m \u001b[49m\u001b[38;5;241;43m*\u001b[39;49m\u001b[38;5;241;43m*\u001b[39;49m\u001b[43mkwargs\u001b[49m\u001b[43m)\u001b[49m\n\u001b[1;32m   1522\u001b[0m \u001b[38;5;28;01mtry\u001b[39;00m:\n\u001b[1;32m   1523\u001b[0m     result \u001b[38;5;241m=\u001b[39m \u001b[38;5;28;01mNone\u001b[39;00m\n",
      "Cell \u001b[0;32mIn[2], line 60\u001b[0m, in \u001b[0;36mDeepONetUNO.forward\u001b[0;34m(self, bc, x)\u001b[0m\n\u001b[1;32m     58\u001b[0m branch_latent \u001b[38;5;241m=\u001b[39m torch\u001b[38;5;241m.\u001b[39mflatten(branch_latent, \u001b[38;5;241m1\u001b[39m)\n\u001b[1;32m     59\u001b[0m branch_latent \u001b[38;5;241m=\u001b[39m \u001b[38;5;28mself\u001b[39m\u001b[38;5;241m.\u001b[39mbranch_layer(branch_latent)\n\u001b[0;32m---> 60\u001b[0m trunk_latent \u001b[38;5;241m=\u001b[39m \u001b[38;5;28;43mself\u001b[39;49m\u001b[38;5;241;43m.\u001b[39;49m\u001b[43mtrunk_layer\u001b[49m\u001b[43m(\u001b[49m\u001b[43mx\u001b[49m\u001b[43m)\u001b[49m\n\u001b[1;32m     61\u001b[0m latent \u001b[38;5;241m=\u001b[39m branch_latent[:, \u001b[38;5;28;01mNone\u001b[39;00m, :] \u001b[38;5;241m*\u001b[39m trunk_latent\n\u001b[1;32m     62\u001b[0m output \u001b[38;5;241m=\u001b[39m \u001b[38;5;28mself\u001b[39m\u001b[38;5;241m.\u001b[39md_out(\u001b[38;5;28mself\u001b[39m\u001b[38;5;241m.\u001b[39mactivation(latent))\n",
      "File \u001b[0;32m~/miniforge3/envs/rtmag/lib/python3.11/site-packages/torch/nn/modules/module.py:1511\u001b[0m, in \u001b[0;36mModule._wrapped_call_impl\u001b[0;34m(self, *args, **kwargs)\u001b[0m\n\u001b[1;32m   1509\u001b[0m     \u001b[38;5;28;01mreturn\u001b[39;00m \u001b[38;5;28mself\u001b[39m\u001b[38;5;241m.\u001b[39m_compiled_call_impl(\u001b[38;5;241m*\u001b[39margs, \u001b[38;5;241m*\u001b[39m\u001b[38;5;241m*\u001b[39mkwargs)  \u001b[38;5;66;03m# type: ignore[misc]\u001b[39;00m\n\u001b[1;32m   1510\u001b[0m \u001b[38;5;28;01melse\u001b[39;00m:\n\u001b[0;32m-> 1511\u001b[0m     \u001b[38;5;28;01mreturn\u001b[39;00m \u001b[38;5;28;43mself\u001b[39;49m\u001b[38;5;241;43m.\u001b[39;49m\u001b[43m_call_impl\u001b[49m\u001b[43m(\u001b[49m\u001b[38;5;241;43m*\u001b[39;49m\u001b[43margs\u001b[49m\u001b[43m,\u001b[49m\u001b[43m \u001b[49m\u001b[38;5;241;43m*\u001b[39;49m\u001b[38;5;241;43m*\u001b[39;49m\u001b[43mkwargs\u001b[49m\u001b[43m)\u001b[49m\n",
      "File \u001b[0;32m~/miniforge3/envs/rtmag/lib/python3.11/site-packages/torch/nn/modules/module.py:1520\u001b[0m, in \u001b[0;36mModule._call_impl\u001b[0;34m(self, *args, **kwargs)\u001b[0m\n\u001b[1;32m   1515\u001b[0m \u001b[38;5;66;03m# If we don't have any hooks, we want to skip the rest of the logic in\u001b[39;00m\n\u001b[1;32m   1516\u001b[0m \u001b[38;5;66;03m# this function, and just call forward.\u001b[39;00m\n\u001b[1;32m   1517\u001b[0m \u001b[38;5;28;01mif\u001b[39;00m \u001b[38;5;129;01mnot\u001b[39;00m (\u001b[38;5;28mself\u001b[39m\u001b[38;5;241m.\u001b[39m_backward_hooks \u001b[38;5;129;01mor\u001b[39;00m \u001b[38;5;28mself\u001b[39m\u001b[38;5;241m.\u001b[39m_backward_pre_hooks \u001b[38;5;129;01mor\u001b[39;00m \u001b[38;5;28mself\u001b[39m\u001b[38;5;241m.\u001b[39m_forward_hooks \u001b[38;5;129;01mor\u001b[39;00m \u001b[38;5;28mself\u001b[39m\u001b[38;5;241m.\u001b[39m_forward_pre_hooks\n\u001b[1;32m   1518\u001b[0m         \u001b[38;5;129;01mor\u001b[39;00m _global_backward_pre_hooks \u001b[38;5;129;01mor\u001b[39;00m _global_backward_hooks\n\u001b[1;32m   1519\u001b[0m         \u001b[38;5;129;01mor\u001b[39;00m _global_forward_hooks \u001b[38;5;129;01mor\u001b[39;00m _global_forward_pre_hooks):\n\u001b[0;32m-> 1520\u001b[0m     \u001b[38;5;28;01mreturn\u001b[39;00m \u001b[43mforward_call\u001b[49m\u001b[43m(\u001b[49m\u001b[38;5;241;43m*\u001b[39;49m\u001b[43margs\u001b[49m\u001b[43m,\u001b[49m\u001b[43m \u001b[49m\u001b[38;5;241;43m*\u001b[39;49m\u001b[38;5;241;43m*\u001b[39;49m\u001b[43mkwargs\u001b[49m\u001b[43m)\u001b[49m\n\u001b[1;32m   1522\u001b[0m \u001b[38;5;28;01mtry\u001b[39;00m:\n\u001b[1;32m   1523\u001b[0m     result \u001b[38;5;241m=\u001b[39m \u001b[38;5;28;01mNone\u001b[39;00m\n",
      "File \u001b[0;32m~/workspace/ar_nlfff_piml/rtmag/deeponet/model.py:30\u001b[0m, in \u001b[0;36mMLP.forward\u001b[0;34m(self, x)\u001b[0m\n\u001b[1;32m     23\u001b[0m \u001b[38;5;28;01mdef\u001b[39;00m \u001b[38;5;21mforward\u001b[39m(\u001b[38;5;28mself\u001b[39m, x):\n\u001b[1;32m     24\u001b[0m \u001b[38;5;250m    \u001b[39m\u001b[38;5;124;03m\"\"\"\u001b[39;00m\n\u001b[1;32m     25\u001b[0m \u001b[38;5;124;03m    x      : [batch_size, in_dim]\u001b[39;00m\n\u001b[1;32m     26\u001b[0m \u001b[38;5;124;03m    \u001b[39;00m\n\u001b[1;32m     27\u001b[0m \u001b[38;5;124;03m    output : [batch_size, out_dim]\u001b[39;00m\n\u001b[1;32m     28\u001b[0m \u001b[38;5;124;03m    \"\"\"\u001b[39;00m\n\u001b[0;32m---> 30\u001b[0m     x \u001b[38;5;241m=\u001b[39m \u001b[38;5;28mself\u001b[39m\u001b[38;5;241m.\u001b[39mactivation(\u001b[38;5;28;43mself\u001b[39;49m\u001b[38;5;241;43m.\u001b[39;49m\u001b[43md_in\u001b[49m\u001b[43m(\u001b[49m\u001b[43mx\u001b[49m\u001b[43m)\u001b[49m)\n\u001b[1;32m     31\u001b[0m     \u001b[38;5;28;01mfor\u001b[39;00m l \u001b[38;5;129;01min\u001b[39;00m \u001b[38;5;28mself\u001b[39m\u001b[38;5;241m.\u001b[39mlinear_layers:\n\u001b[1;32m     32\u001b[0m         x \u001b[38;5;241m=\u001b[39m \u001b[38;5;28mself\u001b[39m\u001b[38;5;241m.\u001b[39mactivation(l(x))\n",
      "File \u001b[0;32m~/miniforge3/envs/rtmag/lib/python3.11/site-packages/torch/nn/modules/module.py:1511\u001b[0m, in \u001b[0;36mModule._wrapped_call_impl\u001b[0;34m(self, *args, **kwargs)\u001b[0m\n\u001b[1;32m   1509\u001b[0m     \u001b[38;5;28;01mreturn\u001b[39;00m \u001b[38;5;28mself\u001b[39m\u001b[38;5;241m.\u001b[39m_compiled_call_impl(\u001b[38;5;241m*\u001b[39margs, \u001b[38;5;241m*\u001b[39m\u001b[38;5;241m*\u001b[39mkwargs)  \u001b[38;5;66;03m# type: ignore[misc]\u001b[39;00m\n\u001b[1;32m   1510\u001b[0m \u001b[38;5;28;01melse\u001b[39;00m:\n\u001b[0;32m-> 1511\u001b[0m     \u001b[38;5;28;01mreturn\u001b[39;00m \u001b[38;5;28;43mself\u001b[39;49m\u001b[38;5;241;43m.\u001b[39;49m\u001b[43m_call_impl\u001b[49m\u001b[43m(\u001b[49m\u001b[38;5;241;43m*\u001b[39;49m\u001b[43margs\u001b[49m\u001b[43m,\u001b[49m\u001b[43m \u001b[49m\u001b[38;5;241;43m*\u001b[39;49m\u001b[38;5;241;43m*\u001b[39;49m\u001b[43mkwargs\u001b[49m\u001b[43m)\u001b[49m\n",
      "File \u001b[0;32m~/miniforge3/envs/rtmag/lib/python3.11/site-packages/torch/nn/modules/module.py:1520\u001b[0m, in \u001b[0;36mModule._call_impl\u001b[0;34m(self, *args, **kwargs)\u001b[0m\n\u001b[1;32m   1515\u001b[0m \u001b[38;5;66;03m# If we don't have any hooks, we want to skip the rest of the logic in\u001b[39;00m\n\u001b[1;32m   1516\u001b[0m \u001b[38;5;66;03m# this function, and just call forward.\u001b[39;00m\n\u001b[1;32m   1517\u001b[0m \u001b[38;5;28;01mif\u001b[39;00m \u001b[38;5;129;01mnot\u001b[39;00m (\u001b[38;5;28mself\u001b[39m\u001b[38;5;241m.\u001b[39m_backward_hooks \u001b[38;5;129;01mor\u001b[39;00m \u001b[38;5;28mself\u001b[39m\u001b[38;5;241m.\u001b[39m_backward_pre_hooks \u001b[38;5;129;01mor\u001b[39;00m \u001b[38;5;28mself\u001b[39m\u001b[38;5;241m.\u001b[39m_forward_hooks \u001b[38;5;129;01mor\u001b[39;00m \u001b[38;5;28mself\u001b[39m\u001b[38;5;241m.\u001b[39m_forward_pre_hooks\n\u001b[1;32m   1518\u001b[0m         \u001b[38;5;129;01mor\u001b[39;00m _global_backward_pre_hooks \u001b[38;5;129;01mor\u001b[39;00m _global_backward_hooks\n\u001b[1;32m   1519\u001b[0m         \u001b[38;5;129;01mor\u001b[39;00m _global_forward_hooks \u001b[38;5;129;01mor\u001b[39;00m _global_forward_pre_hooks):\n\u001b[0;32m-> 1520\u001b[0m     \u001b[38;5;28;01mreturn\u001b[39;00m \u001b[43mforward_call\u001b[49m\u001b[43m(\u001b[49m\u001b[38;5;241;43m*\u001b[39;49m\u001b[43margs\u001b[49m\u001b[43m,\u001b[49m\u001b[43m \u001b[49m\u001b[38;5;241;43m*\u001b[39;49m\u001b[38;5;241;43m*\u001b[39;49m\u001b[43mkwargs\u001b[49m\u001b[43m)\u001b[49m\n\u001b[1;32m   1522\u001b[0m \u001b[38;5;28;01mtry\u001b[39;00m:\n\u001b[1;32m   1523\u001b[0m     result \u001b[38;5;241m=\u001b[39m \u001b[38;5;28;01mNone\u001b[39;00m\n",
      "File \u001b[0;32m~/miniforge3/envs/rtmag/lib/python3.11/site-packages/torch/nn/modules/linear.py:116\u001b[0m, in \u001b[0;36mLinear.forward\u001b[0;34m(self, input)\u001b[0m\n\u001b[1;32m    115\u001b[0m \u001b[38;5;28;01mdef\u001b[39;00m \u001b[38;5;21mforward\u001b[39m(\u001b[38;5;28mself\u001b[39m, \u001b[38;5;28minput\u001b[39m: Tensor) \u001b[38;5;241m-\u001b[39m\u001b[38;5;241m>\u001b[39m Tensor:\n\u001b[0;32m--> 116\u001b[0m     \u001b[38;5;28;01mreturn\u001b[39;00m \u001b[43mF\u001b[49m\u001b[38;5;241;43m.\u001b[39;49m\u001b[43mlinear\u001b[49m\u001b[43m(\u001b[49m\u001b[38;5;28;43minput\u001b[39;49m\u001b[43m,\u001b[49m\u001b[43m \u001b[49m\u001b[38;5;28;43mself\u001b[39;49m\u001b[38;5;241;43m.\u001b[39;49m\u001b[43mweight\u001b[49m\u001b[43m,\u001b[49m\u001b[43m \u001b[49m\u001b[38;5;28;43mself\u001b[39;49m\u001b[38;5;241;43m.\u001b[39;49m\u001b[43mbias\u001b[49m\u001b[43m)\u001b[49m\n",
      "\u001b[0;31mOutOfMemoryError\u001b[0m: CUDA out of memory. Tried to allocate 32.31 GiB. GPU 0 has a total capacity of 11.99 GiB of which 9.84 GiB is free. Including non-PyTorch memory, this process has 17179869184.00 GiB memory in use. Of the allocated memory 843.91 MiB is allocated by PyTorch, and 88.09 MiB is reserved by PyTorch but unallocated. If reserved but unallocated memory is large try setting PYTORCH_CUDA_ALLOC_CONF=expandable_segments:True to avoid fragmentation.  See documentation for Memory Management  (https://pytorch.org/docs/stable/notes/cuda.html#environment-variables)"
     ]
    }
   ],
   "source": [
    "tqdm_loader = tqdm(don_loader, desc='Train')\n",
    "\n",
    "best_loss = np.inf\n",
    "\n",
    "for idx, batch in enumerate(tqdm_loader):\n",
    "    model = model.train()\n",
    "\n",
    "    branch_input = batch['branch_input'].to(device)\n",
    "\n",
    "    slices_coords = batch['slices_coords'].to(device)\n",
    "    b_slices = batch['slices_values'].to(device)\n",
    "    b_slices_pred = output_transform(model, branch_input, slices_coords, b_norm)\n",
    "    loss_slices = (b_slices - b_slices_pred).pow(2).mean()\n",
    "\n",
    "    random_coords = batch['random_coords'].to(device)\n",
    "    random_coords.requires_grad = True\n",
    "    b_random = model(branch_input, random_coords).to(device)\n",
    "    b_random_pred = output_transform(model, branch_input, random_coords, b_norm)\n",
    "    loss_random = (b_random - b_random_pred).pow(2).mean()\n",
    "\n",
    "    loss_div, loss_ff = calculate_pde_loss(b_random_pred, random_coords)\n",
    "\n",
    "    loss = lambda_slices * loss_slices + \\\n",
    "           lambda_random * loss_random + \\\n",
    "           lambda_div * loss_div + \\\n",
    "           lambda_ff * loss_ff\n",
    "\n",
    "    optimizer.zero_grad()\n",
    "    loss.backward()\n",
    "    optimizer.step()\n",
    "\n",
    "    tqdm_loader.set_description(f\"Loss {loss.item():.4g} sli {loss_slices.item():.4g} ran {loss_random.item():.4g} div {loss_div.item():.4g} ff {loss_ff.item():.4g}\")\n",
    "\n",
    "    torch.save({'idx': idx, \n",
    "                'model_state_dict': model.state_dict(), \n",
    "                'optimizer_state_dict': optimizer.state_dict()}, \n",
    "                base_path / \"last.pt\")\n",
    "\n",
    "    torch.save({'model_state_dict': model.state_dict(),\n",
    "                'spatial_norm':spatial_norm,\n",
    "                'b_norm':b_norm,\n",
    "                'cube_shape':cube_shape}, base_path / \"model_last.pt\")\n",
    "\n",
    "    if loss.item() < best_loss:\n",
    "        torch.save({'idx': idx, \n",
    "                    'model_state_dict': model.state_dict(), \n",
    "                    'optimizer_state_dict': optimizer.state_dict()}, \n",
    "                    base_path / \"best.pt\")\n",
    "        torch.save({'model_state_dict': model.state_dict(),\n",
    "                    'spatial_norm':spatial_norm,\n",
    "                    'b_norm':b_norm,\n",
    "                    'cube_shape':cube_shape}, base_path / \"model_best.pt\")\n",
    "        best_loss = loss.item()"
   ]
  },
  {
   "cell_type": "code",
   "execution_count": null,
   "metadata": {},
   "outputs": [],
   "source": []
  }
 ],
 "metadata": {
  "kernelspec": {
   "display_name": "rtmag",
   "language": "python",
   "name": "python3"
  },
  "language_info": {
   "codemirror_mode": {
    "name": "ipython",
    "version": 3
   },
   "file_extension": ".py",
   "mimetype": "text/x-python",
   "name": "python",
   "nbconvert_exporter": "python",
   "pygments_lexer": "ipython3",
   "version": "3.11.8"
  }
 },
 "nbformat": 4,
 "nbformat_minor": 2
}
