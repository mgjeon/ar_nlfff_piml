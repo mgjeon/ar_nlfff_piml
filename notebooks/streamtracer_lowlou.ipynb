{
 "cells": [
  {
   "cell_type": "code",
   "execution_count": 1,
   "metadata": {},
   "outputs": [],
   "source": [
    "import torch\n",
    "import numpy as np\n",
    "from pathlib import Path\n",
    "import argparse\n",
    "from neuralop.models import UNO\n",
    "from magplot.base import create_mesh, mag_plotter\n",
    "import pyvista as pv\n",
    "# pv.start_xvfb()\n",
    "pv.set_jupyter_backend('static')\n",
    "\n",
    "import matplotlib.pyplot as plt\n",
    "\n",
    "device = torch.device('cuda' if torch.cuda.is_available() else 'cpu')\n",
    "\n",
    "from rtmag.test.analytical_field import get_analytic_b_field\n",
    "from skimage.transform import resize\n",
    "\n",
    "from rtmag.test.eval_plot import plot_sample\n",
    "\n",
    "from rtmag.test.eval import evaluate"
   ]
  },
  {
   "cell_type": "code",
   "execution_count": 28,
   "metadata": {},
   "outputs": [
    {
     "data": {
      "text/plain": [
       "(64, 64, 64, 3)"
      ]
     },
     "execution_count": 28,
     "metadata": {},
     "output_type": "execute_result"
    }
   ],
   "source": [
    "b_true = np.load('/mnt/d/low_lou/test/case1.npz')['b'].astype(np.float32)\n",
    "b_true.shape"
   ]
  },
  {
   "cell_type": "code",
   "execution_count": 29,
   "metadata": {},
   "outputs": [
    {
     "data": {
      "text/plain": [
       "<All keys matched successfully>"
      ]
     },
     "execution_count": 29,
     "metadata": {},
     "output_type": "execute_result"
    }
   ],
   "source": [
    "meta_path = Path(\"/home/usr/workspace/uno_pi_cc_hnorm_unit_aug_ccc_square_energy_lowlou2\")\n",
    "checkpoint = torch.load(meta_path / \"best_model.pt\", map_location=device)\n",
    "\n",
    "args = argparse.Namespace()\n",
    "info = np.load(meta_path / 'args.npy', allow_pickle=True).item()\n",
    "for key, value in info.items():\n",
    "        args.__dict__[key] = value\n",
    "\n",
    "b_norm = args.data[\"b_norm\"]\n",
    "\n",
    "model = UNO(\n",
    "        hidden_channels = args.model[\"hidden_channels\"],\n",
    "        in_channels = args.model[\"in_channels\"],\n",
    "        out_channels = args.model[\"out_channels\"],\n",
    "        lifting_channels = args.model[\"lifting_channels\"],\n",
    "        projection_channels = args.model[\"projection_channels\"],\n",
    "        n_layers = args.model[\"n_layers\"],\n",
    "\n",
    "        factorization = args.model[\"factorization\"],\n",
    "        implementation = args.model[\"implementation\"],\n",
    "        rank = args.model[\"rank\"],\n",
    "\n",
    "        uno_n_modes = args.model[\"uno_n_modes\"], \n",
    "        uno_out_channels = args.model[\"uno_out_channels\"],\n",
    "        uno_scalings = args.model[\"uno_scalings\"],\n",
    "    ).to(device)\n",
    "\n",
    "checkpoint = torch.load(meta_path / 'best_model.pt')\n",
    "\n",
    "model.load_state_dict(checkpoint['model_state_dict'])"
   ]
  },
  {
   "cell_type": "code",
   "execution_count": 30,
   "metadata": {},
   "outputs": [
    {
     "data": {
      "text/plain": [
       "(64, 64, 3)"
      ]
     },
     "execution_count": 30,
     "metadata": {},
     "output_type": "execute_result"
    }
   ],
   "source": [
    "b_bottom = b_true[:, :, 0, :]\n",
    "b_bottom.shape"
   ]
  },
  {
   "cell_type": "code",
   "execution_count": 31,
   "metadata": {},
   "outputs": [
    {
     "data": {
      "text/plain": [
       "torch.Size([1, 1, 64, 64, 3])"
      ]
     },
     "execution_count": 31,
     "metadata": {},
     "output_type": "execute_result"
    }
   ],
   "source": [
    "model_input = b_bottom\n",
    "model_input = model_input[None, :, :, None, :]\n",
    "model_input = model_input.transpose(0, 3, 2, 1, 4) / b_norm\n",
    "model_input = torch.from_numpy(model_input).to(device) \n",
    "model_input.shape"
   ]
  },
  {
   "cell_type": "code",
   "execution_count": 32,
   "metadata": {},
   "outputs": [
    {
     "data": {
      "text/plain": [
       "torch.Size([1, 64, 64, 64, 3])"
      ]
     },
     "execution_count": 32,
     "metadata": {},
     "output_type": "execute_result"
    }
   ],
   "source": [
    "model_output = model(model_input)\n",
    "model_output.shape"
   ]
  },
  {
   "cell_type": "code",
   "execution_count": 33,
   "metadata": {},
   "outputs": [
    {
     "data": {
      "text/plain": [
       "(64, 64, 64, 3)"
      ]
     },
     "execution_count": 33,
     "metadata": {},
     "output_type": "execute_result"
    }
   ],
   "source": [
    "b = model_output.detach().cpu().numpy().transpose(0, 3, 2, 1, 4)[0]\n",
    "divi = (b_norm / np.arange(1, b.shape[2] + 1)).reshape(1, 1, -1, 1)\n",
    "b = b * divi\n",
    "# b = b[8:-8, 8:-8, :, :]\n",
    "b.shape"
   ]
  },
  {
   "cell_type": "code",
   "execution_count": 35,
   "metadata": {},
   "outputs": [
    {
     "name": "stdout",
     "output_type": "stream",
     "text": [
      "C_vec     : 0.9981\n",
      "C_cs      : 0.9751\n",
      "E_n'      : 0.9048\n",
      "E_m'      : 0.8340\n",
      "eps       : 0.9982\n",
      "CW_sin    : 0.3123\n",
      "L_f       : 0.1240\n",
      "L_d       : 0.1006\n",
      "l2_err    : 0.0615\n"
     ]
    },
    {
     "data": {
      "text/plain": [
       "{'C_vec': 0.9981094018838822,\n",
       " 'C_cs': 0.9750930628427174,\n",
       " \"E_n'\": 0.9047551746330212,\n",
       " \"E_m'\": 0.8340436591152522,\n",
       " 'eps': 0.99821068563295,\n",
       " 'CW_sin': 0.3123187328865913,\n",
       " 'L_f': 0.12402395475678948,\n",
       " 'L_d': 0.10059799215715001,\n",
       " 'l2_err': 0.061472072208964064}"
      ]
     },
     "execution_count": 35,
     "metadata": {},
     "output_type": "execute_result"
    }
   ],
   "source": [
    "evaluate(b, b_true)"
   ]
  },
  {
   "cell_type": "code",
   "execution_count": null,
   "metadata": {},
   "outputs": [],
   "source": []
  }
 ],
 "metadata": {
  "kernelspec": {
   "display_name": "rtmag",
   "language": "python",
   "name": "python3"
  },
  "language_info": {
   "codemirror_mode": {
    "name": "ipython",
    "version": 3
   },
   "file_extension": ".py",
   "mimetype": "text/x-python",
   "name": "python",
   "nbconvert_exporter": "python",
   "pygments_lexer": "ipython3",
   "version": "3.11.8"
  }
 },
 "nbformat": 4,
 "nbformat_minor": 2
}
