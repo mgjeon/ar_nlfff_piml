{
 "cells": [
  {
   "cell_type": "code",
   "execution_count": 1,
   "metadata": {},
   "outputs": [
    {
     "name": "stdout",
     "output_type": "stream",
     "text": [
      "torch.Size([625])\n"
     ]
    }
   ],
   "source": [
    "import torch\n",
    "from torch.utils.data import Dataset\n",
    "import numpy as np\n",
    "\n",
    "class CustomDataset(Dataset):\n",
    "    def __init__(self, numpy_arrays):\n",
    "        self.data = self.extract_2d_slices(numpy_arrays)\n",
    "\n",
    "    def __len__(self):\n",
    "        return len(self.data)\n",
    "\n",
    "    def __getitem__(self, index):\n",
    "        return self.data[index]\n",
    "\n",
    "    @staticmethod\n",
    "    def extract_2d_slices(numpy_arrays):\n",
    "        slices = []\n",
    "        for cube in numpy_arrays:\n",
    "            for depth_slice in range(cube.shape[2]):\n",
    "                # Extract 2D slice along the third dimension\n",
    "                slice_2d = cube[:, :, depth_slice].reshape(-1)\n",
    "                slices.append(slice_2d)\n",
    "        return torch.Tensor(np.array(slices))\n",
    "\n",
    "# Assuming 'cubes' is a list containing your 100 NumPy arrays\n",
    "# with shape (25, 25, 20)\n",
    "cubes = [np.random.rand(25, 25, 20) for _ in range(100)]\n",
    "\n",
    "# Create an instance of the custom dataset\n",
    "dataset = CustomDataset(cubes)\n",
    "\n",
    "# Example: Accessing the first 2D sample in the dataset\n",
    "sample = dataset[0]\n",
    "print(sample.shape)\n"
   ]
  },
  {
   "cell_type": "code",
   "execution_count": 2,
   "metadata": {},
   "outputs": [
    {
     "data": {
      "text/plain": [
       "2000"
      ]
     },
     "execution_count": 2,
     "metadata": {},
     "output_type": "execute_result"
    }
   ],
   "source": [
    "len(dataset)"
   ]
  },
  {
   "cell_type": "code",
   "execution_count": null,
   "metadata": {},
   "outputs": [],
   "source": []
  }
 ],
 "metadata": {
  "kernelspec": {
   "display_name": "rtmag",
   "language": "python",
   "name": "python3"
  },
  "language_info": {
   "codemirror_mode": {
    "name": "ipython",
    "version": 3
   },
   "file_extension": ".py",
   "mimetype": "text/x-python",
   "name": "python",
   "nbconvert_exporter": "python",
   "pygments_lexer": "ipython3",
   "version": "3.11.8"
  }
 },
 "nbformat": 4,
 "nbformat_minor": 2
}
