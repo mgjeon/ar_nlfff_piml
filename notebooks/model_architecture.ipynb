{
 "cells": [
  {
   "cell_type": "code",
   "execution_count": 2,
   "metadata": {},
   "outputs": [],
   "source": [
    "import torch\n",
    "from torch import nn"
   ]
  },
  {
   "cell_type": "code",
   "execution_count": 3,
   "metadata": {},
   "outputs": [],
   "source": [
    "class Sine(nn.Module):\n",
    "    def __init__(self, w0=1.):\n",
    "        super().__init__()\n",
    "        self.w0 = w0\n",
    "\n",
    "    def forward(self, x):\n",
    "        return torch.sin(self.w0 * x)\n",
    "\n",
    "\n",
    "class MLP(nn.Module):\n",
    "    def __init__(self, in_dim, out_dim, hidden_dim, num_layers):\n",
    "        super().__init__()\n",
    "        self.d_in = nn.Linear(in_dim, hidden_dim)\n",
    "        lin = [nn.Linear(hidden_dim, hidden_dim) for _ in range(num_layers)]\n",
    "        self.linear_layers = nn.ModuleList(lin)\n",
    "        self.d_out = nn.Linear(hidden_dim, out_dim)\n",
    "        self.activation = Sine()\n",
    "\n",
    "    def forward(self, x):\n",
    "        \"\"\"\n",
    "        x      : [batch_size, in_dim]\n",
    "        \n",
    "        output : [batch_size, out_dim]\n",
    "        \"\"\"\n",
    "\n",
    "        x = self.activation(self.d_in(x))\n",
    "        for l in self.linear_layers:\n",
    "            x = self.activation(l(x))\n",
    "        x = self.d_out(x)\n",
    "        return x"
   ]
  },
  {
   "cell_type": "code",
   "execution_count": 4,
   "metadata": {},
   "outputs": [],
   "source": [
    "import torch\n",
    "from torchinfo import summary\n",
    "from neuralop.models import UNO\n",
    "\n",
    "device = torch.device('cuda' if torch.cuda.is_available() else 'cpu')"
   ]
  },
  {
   "cell_type": "code",
   "execution_count": 34,
   "metadata": {},
   "outputs": [],
   "source": [
    "model = UNO(\n",
    "            in_channels=3,\n",
    "            out_channels=64,\n",
    "            hidden_channels=64,\n",
    "            lifting_channels=64,\n",
    "            projection_channels=64,\n",
    "            n_layers = 4,\n",
    "            uno_n_modes = [[8,8],\n",
    "                           [8,8],\n",
    "                           [8,8],\n",
    "                           [8,8]],\n",
    "            uno_out_channels = [64,\n",
    "                                64,\n",
    "                                64,\n",
    "                                64],\n",
    "            uno_scalings =  [[0.5,0.5],\n",
    "                            [0.5,0.5],\n",
    "                            [0.5,0.5],\n",
    "                            [0.5,0.5]]\n",
    "        ).to(device)"
   ]
  },
  {
   "cell_type": "code",
   "execution_count": 35,
   "metadata": {},
   "outputs": [
    {
     "data": {
      "text/plain": [
       "==========================================================================================\n",
       "Layer (type:depth-idx)                   Output Shape              Param #\n",
       "==========================================================================================\n",
       "UNO                                      [1, 64, 32, 16]           --\n",
       "├─MLP: 1-1                               [1, 64, 512, 256]         --\n",
       "│    └─ModuleList: 2-1                   --                        --\n",
       "│    │    └─Conv2d: 3-1                  [1, 64, 512, 256]         256\n",
       "│    │    └─Conv2d: 3-2                  [1, 64, 512, 256]         4,160\n",
       "├─ModuleList: 1-6                        --                        (recursive)\n",
       "│    └─FNOBlocks: 2-2                    [1, 64, 256, 128]         --\n",
       "│    │    └─ModuleList: 3-3              --                        4,096\n",
       "│    │    └─SpectralConv: 3-4            [1, 64, 256, 128]         327,744\n",
       "├─ModuleDict: 1-5                        --                        (recursive)\n",
       "│    └─Conv2d: 2-3                       [1, 64, 256, 128]         4,096\n",
       "├─ModuleList: 1-6                        --                        (recursive)\n",
       "│    └─FNOBlocks: 2-4                    [1, 64, 128, 64]          --\n",
       "│    │    └─ModuleList: 3-5              --                        4,096\n",
       "│    │    └─SpectralConv: 3-6            [1, 64, 128, 64]          327,744\n",
       "├─ModuleDict: 1-5                        --                        (recursive)\n",
       "│    └─Conv2d: 2-5                       [1, 64, 128, 64]          4,096\n",
       "├─ModuleList: 1-6                        --                        (recursive)\n",
       "│    └─FNOBlocks: 2-6                    [1, 64, 64, 32]           --\n",
       "│    │    └─ModuleList: 3-7              --                        8,192\n",
       "│    │    └─SpectralConv: 3-8            [1, 64, 64, 32]           655,424\n",
       "│    └─FNOBlocks: 2-7                    [1, 64, 32, 16]           --\n",
       "│    │    └─ModuleList: 3-9              --                        8,192\n",
       "│    │    └─SpectralConv: 3-10           [1, 64, 32, 16]           655,424\n",
       "├─MLP: 1-7                               [1, 64, 32, 16]           --\n",
       "│    └─ModuleList: 2-8                   --                        --\n",
       "│    │    └─Conv2d: 3-11                 [1, 64, 32, 16]           4,160\n",
       "│    │    └─Conv2d: 3-12                 [1, 64, 32, 16]           4,160\n",
       "==========================================================================================\n",
       "Total params: 2,011,840\n",
       "Trainable params: 2,011,840\n",
       "Non-trainable params: 0\n",
       "Total mult-adds (G): 1.51\n",
       "==========================================================================================\n",
       "Input size (MB): 1.57\n",
       "Forward/backward pass size (MB): 244.84\n",
       "Params size (MB): 0.18\n",
       "Estimated Total Size (MB): 246.60\n",
       "=========================================================================================="
      ]
     },
     "execution_count": 35,
     "metadata": {},
     "output_type": "execute_result"
    }
   ],
   "source": [
    "bs = 1\n",
    "summary(model, input_size=(bs, 3, 512, 256))"
   ]
  },
  {
   "cell_type": "code",
   "execution_count": 36,
   "metadata": {},
   "outputs": [
    {
     "data": {
      "text/plain": [
       "torch.Size([1, 64, 32, 16])"
      ]
     },
     "execution_count": 36,
     "metadata": {},
     "output_type": "execute_result"
    }
   ],
   "source": [
    "outputs = model(torch.randn(bs, 3, 512, 256).to(device))\n",
    "outputs.shape"
   ]
  },
  {
   "cell_type": "code",
   "execution_count": 38,
   "metadata": {},
   "outputs": [
    {
     "data": {
      "text/plain": [
       "393216"
      ]
     },
     "execution_count": 38,
     "metadata": {},
     "output_type": "execute_result"
    }
   ],
   "source": [
    "3 * 512 * 256"
   ]
  },
  {
   "cell_type": "code",
   "execution_count": 37,
   "metadata": {},
   "outputs": [
    {
     "data": {
      "text/plain": [
       "32768"
      ]
     },
     "execution_count": 37,
     "metadata": {},
     "output_type": "execute_result"
    }
   ],
   "source": [
    "64 * 32 * 16"
   ]
  },
  {
   "cell_type": "code",
   "execution_count": 40,
   "metadata": {},
   "outputs": [
    {
     "data": {
      "text/plain": [
       "12.0"
      ]
     },
     "execution_count": 40,
     "metadata": {},
     "output_type": "execute_result"
    }
   ],
   "source": [
    "(3 * 512 * 256) / (64 * 32 * 16)"
   ]
  },
  {
   "cell_type": "code",
   "execution_count": 28,
   "metadata": {},
   "outputs": [],
   "source": [
    "class DeepONet(nn.Module):\n",
    "    def __init__(self, trunk_in_dim, out_dim, latent_dim, hidden_dim, num_layers):\n",
    "        super().__init__()\n",
    "        self.branch_inc = UNO(\n",
    "            in_channels=3,\n",
    "            out_channels=64,\n",
    "            hidden_channels=64,\n",
    "            lifting_channels=64,\n",
    "            projection_channels=64,\n",
    "            n_layers = 4,\n",
    "            uno_n_modes = [[8,8],\n",
    "                           [8,8],\n",
    "                           [8,8],\n",
    "                           [8,8]],\n",
    "            uno_out_channels = [64,\n",
    "                                64,\n",
    "                                64,\n",
    "                                64],\n",
    "            uno_scalings =  [[0.5,0.5],\n",
    "                            [0.5,0.5],\n",
    "                            [0.5,0.5],\n",
    "                            [0.5,0.5],]\n",
    "        )\n",
    "        self.branch_layer = nn.Linear(64*32*16, latent_dim)\n",
    "        self.trunk_layer = MLP(trunk_in_dim, latent_dim, hidden_dim, num_layers)\n",
    "        self.d_out = nn.Linear(latent_dim, out_dim)\n",
    "        self.activation = Sine()\n",
    "    \n",
    "    def forward(self, bc, x):\n",
    "        \"\"\"\n",
    "        bc     : [batch_size, 3, 512, 256]\n",
    "        x      : [batch_size, batch_coords, trunk_in_dim]\n",
    "\n",
    "        output : [batch_size, batch_coords, out_dim]\n",
    "        \"\"\"\n",
    "        branch_latent = self.branch_inc(bc)\n",
    "        branch_latent = torch.flatten(branch_latent, 1)\n",
    "        branch_latent = self.branch_layer(branch_latent)\n",
    "        trunk_latent = self.trunk_layer(x)\n",
    "        latent = branch_latent[:, None, :] * trunk_latent\n",
    "        output = self.d_out(self.activation(latent))\n",
    "        return output"
   ]
  },
  {
   "cell_type": "code",
   "execution_count": 50,
   "metadata": {},
   "outputs": [
    {
     "data": {
      "text/plain": [
       "================================================================================\n",
       "Layer (type:depth-idx)                                  Param #\n",
       "================================================================================\n",
       "DeepONet                                                --\n",
       "├─UNO: 1-1                                              --\n",
       "│    └─MLP: 2-1                                         --\n",
       "│    │    └─ModuleList: 3-1                             4,416\n",
       "│    └─ModuleList: 2-2                                  --\n",
       "│    │    └─FNOBlocks: 3-2                              331,840\n",
       "│    │    └─FNOBlocks: 3-3                              331,840\n",
       "│    │    └─FNOBlocks: 3-4                              331,840\n",
       "│    │    └─FNOBlocks: 3-5                              663,616\n",
       "│    │    └─FNOBlocks: 3-6                              663,616\n",
       "│    └─ModuleDict: 2-3                                  --\n",
       "│    │    └─Conv2d: 3-7                                 4,096\n",
       "│    │    └─Conv2d: 3-8                                 4,096\n",
       "│    └─MLP: 2-4                                         --\n",
       "│    │    └─ModuleList: 3-9                             6,240\n",
       "├─Linear: 1-2                                           33,562,624\n",
       "├─MLP: 1-3                                              --\n",
       "│    └─Linear: 2-5                                      1,024\n",
       "│    └─ModuleList: 2-6                                  --\n",
       "│    │    └─Linear: 3-10                                65,792\n",
       "│    │    └─Linear: 3-11                                65,792\n",
       "│    │    └─Linear: 3-12                                65,792\n",
       "│    │    └─Linear: 3-13                                65,792\n",
       "│    └─Linear: 2-7                                      2,105,344\n",
       "│    └─Sine: 2-8                                        --\n",
       "├─Linear: 1-4                                           24,579\n",
       "├─Sine: 1-5                                             --\n",
       "================================================================================\n",
       "Total params: 38,298,339\n",
       "Trainable params: 38,298,339\n",
       "Non-trainable params: 0\n",
       "================================================================================"
      ]
     },
     "execution_count": 50,
     "metadata": {},
     "output_type": "execute_result"
    }
   ],
   "source": [
    "don = DeepONet(3, 3, 8192, 256, 4).to(device)\n",
    "summary(don, input_type=[(bs, 3, 512, 256), (bs, 1000, 3)])"
   ]
  },
  {
   "cell_type": "code",
   "execution_count": 51,
   "metadata": {},
   "outputs": [
    {
     "data": {
      "text/plain": [
       "torch.Size([1, 1000, 3])"
      ]
     },
     "execution_count": 51,
     "metadata": {},
     "output_type": "execute_result"
    }
   ],
   "source": [
    "don(torch.randn(bs, 3, 512, 256).to(device), torch.randn(bs, 1000, 3).to(device)).shape"
   ]
  },
  {
   "cell_type": "code",
   "execution_count": null,
   "metadata": {},
   "outputs": [],
   "source": []
  }
 ],
 "metadata": {
  "kernelspec": {
   "display_name": "rtmag",
   "language": "python",
   "name": "python3"
  },
  "language_info": {
   "codemirror_mode": {
    "name": "ipython",
    "version": 3
   },
   "file_extension": ".py",
   "mimetype": "text/x-python",
   "name": "python",
   "nbconvert_exporter": "python",
   "pygments_lexer": "ipython3",
   "version": "3.9.18"
  }
 },
 "nbformat": 4,
 "nbformat_minor": 2
}
